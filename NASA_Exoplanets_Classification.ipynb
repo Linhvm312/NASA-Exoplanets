{
  "nbformat": 4,
  "nbformat_minor": 0,
  "metadata": {
    "colab": {
      "provenance": []
    },
    "kernelspec": {
      "name": "python3",
      "display_name": "Python 3"
    },
    "language_info": {
      "name": "python"
    }
  },
  "cells": [
    {
      "cell_type": "code",
      "execution_count": null,
      "metadata": {
        "id": "gyupMwHV-xGf"
      },
      "outputs": [],
      "source": [
        "import matplotlib.pyplot as plt\n",
        "from sklearn import datasets\n",
        "from sklearn import svm\n",
        "from sklearn.model_selection import train_test_split\n",
        "import numpy as np\n",
        "import pandas as pd"
      ]
    },
    {
      "cell_type": "code",
      "source": [
        "link = 'https://drive.google.com/file/d/1eoNt2W-lBdsTq5gbUtLtGIVyrgTLUmvU/view?usp=share_link'"
      ],
      "metadata": {
        "id": "iqwKC5SLA2pD"
      },
      "execution_count": null,
      "outputs": []
    },
    {
      "cell_type": "code",
      "source": [
        "path = 'https://drive.google.com/uc?export=download&id='+link.split('/')[-2]\n",
        "df = pd.read_csv(path)"
      ],
      "metadata": {
        "id": "aSk7xtCW2HZq"
      },
      "execution_count": null,
      "outputs": []
    },
    {
      "cell_type": "code",
      "source": [
        "df.head(10)"
      ],
      "metadata": {
        "colab": {
          "base_uri": "https://localhost:8080/",
          "height": 583
        },
        "id": "C-YZ1GpFA2mg",
        "outputId": "fbacf775-34f3-438c-abf0-ff7ba698a2b5"
      },
      "execution_count": null,
      "outputs": [
        {
          "output_type": "execute_result",
          "data": {
            "text/plain": [
              "                      name  distance  stellar_magnitude planet_type  \\\n",
              "0     11 Comae Berenices b     304.0            4.72307   Gas Giant   \n",
              "1       11 Ursae Minoris b     409.0            5.01300   Gas Giant   \n",
              "2          14 Andromedae b     246.0            5.23133   Gas Giant   \n",
              "3            14 Herculis b      58.0            6.61935   Gas Giant   \n",
              "4             16 Cygni B b      69.0            6.21500   Gas Giant   \n",
              "5             17 Scorpii b     408.0            5.22606   Gas Giant   \n",
              "6            18 Delphini b     249.0            5.51048   Gas Giant   \n",
              "7  1RXS J160929.1-210524 b     454.0           12.61800   Gas Giant   \n",
              "8              24 Bootis b     313.0            5.59000   Gas Giant   \n",
              "9           24 Sextantis b     235.0            6.45350   Gas Giant   \n",
              "\n",
              "   discovery_year  mass_multiplier mass_wrt  radius_multiplier radius_wrt  \\\n",
              "0            2007         19.40000  Jupiter              1.080    Jupiter   \n",
              "1            2009         14.74000  Jupiter              1.090    Jupiter   \n",
              "2            2008          4.80000  Jupiter              1.150    Jupiter   \n",
              "3            2002          8.13881  Jupiter              1.120    Jupiter   \n",
              "4            1996          1.78000  Jupiter              1.200    Jupiter   \n",
              "5            2020          4.32000  Jupiter              1.150    Jupiter   \n",
              "6            2008         10.30000  Jupiter              1.110    Jupiter   \n",
              "7            2008          8.00000  Jupiter              1.664    Jupiter   \n",
              "8            2018          0.91000  Jupiter              1.240    Jupiter   \n",
              "9            2010          1.99000  Jupiter              1.190    Jupiter   \n",
              "\n",
              "   orbital_radius  orbital_period  eccentricity detection_method  \n",
              "0        1.290000        0.892539          0.23  Radial Velocity  \n",
              "1        1.530000        1.400000          0.08  Radial Velocity  \n",
              "2        0.830000        0.508693          0.00  Radial Velocity  \n",
              "3        2.773069        4.800000          0.37  Radial Velocity  \n",
              "4        1.660000        2.200000          0.68  Radial Velocity  \n",
              "5        1.450000        1.600000          0.06  Radial Velocity  \n",
              "6        2.600000        2.700000          0.08  Radial Velocity  \n",
              "7      330.000000     6505.900000          0.00   Direct Imaging  \n",
              "8        0.190000        0.083231          0.04  Radial Velocity  \n",
              "9        1.333000        1.239699          0.09  Radial Velocity  "
            ],
            "text/html": [
              "\n",
              "  <div id=\"df-1615b13a-5fdd-46bc-b632-793ca223165f\">\n",
              "    <div class=\"colab-df-container\">\n",
              "      <div>\n",
              "<style scoped>\n",
              "    .dataframe tbody tr th:only-of-type {\n",
              "        vertical-align: middle;\n",
              "    }\n",
              "\n",
              "    .dataframe tbody tr th {\n",
              "        vertical-align: top;\n",
              "    }\n",
              "\n",
              "    .dataframe thead th {\n",
              "        text-align: right;\n",
              "    }\n",
              "</style>\n",
              "<table border=\"1\" class=\"dataframe\">\n",
              "  <thead>\n",
              "    <tr style=\"text-align: right;\">\n",
              "      <th></th>\n",
              "      <th>name</th>\n",
              "      <th>distance</th>\n",
              "      <th>stellar_magnitude</th>\n",
              "      <th>planet_type</th>\n",
              "      <th>discovery_year</th>\n",
              "      <th>mass_multiplier</th>\n",
              "      <th>mass_wrt</th>\n",
              "      <th>radius_multiplier</th>\n",
              "      <th>radius_wrt</th>\n",
              "      <th>orbital_radius</th>\n",
              "      <th>orbital_period</th>\n",
              "      <th>eccentricity</th>\n",
              "      <th>detection_method</th>\n",
              "    </tr>\n",
              "  </thead>\n",
              "  <tbody>\n",
              "    <tr>\n",
              "      <th>0</th>\n",
              "      <td>11 Comae Berenices b</td>\n",
              "      <td>304.0</td>\n",
              "      <td>4.72307</td>\n",
              "      <td>Gas Giant</td>\n",
              "      <td>2007</td>\n",
              "      <td>19.40000</td>\n",
              "      <td>Jupiter</td>\n",
              "      <td>1.080</td>\n",
              "      <td>Jupiter</td>\n",
              "      <td>1.290000</td>\n",
              "      <td>0.892539</td>\n",
              "      <td>0.23</td>\n",
              "      <td>Radial Velocity</td>\n",
              "    </tr>\n",
              "    <tr>\n",
              "      <th>1</th>\n",
              "      <td>11 Ursae Minoris b</td>\n",
              "      <td>409.0</td>\n",
              "      <td>5.01300</td>\n",
              "      <td>Gas Giant</td>\n",
              "      <td>2009</td>\n",
              "      <td>14.74000</td>\n",
              "      <td>Jupiter</td>\n",
              "      <td>1.090</td>\n",
              "      <td>Jupiter</td>\n",
              "      <td>1.530000</td>\n",
              "      <td>1.400000</td>\n",
              "      <td>0.08</td>\n",
              "      <td>Radial Velocity</td>\n",
              "    </tr>\n",
              "    <tr>\n",
              "      <th>2</th>\n",
              "      <td>14 Andromedae b</td>\n",
              "      <td>246.0</td>\n",
              "      <td>5.23133</td>\n",
              "      <td>Gas Giant</td>\n",
              "      <td>2008</td>\n",
              "      <td>4.80000</td>\n",
              "      <td>Jupiter</td>\n",
              "      <td>1.150</td>\n",
              "      <td>Jupiter</td>\n",
              "      <td>0.830000</td>\n",
              "      <td>0.508693</td>\n",
              "      <td>0.00</td>\n",
              "      <td>Radial Velocity</td>\n",
              "    </tr>\n",
              "    <tr>\n",
              "      <th>3</th>\n",
              "      <td>14 Herculis b</td>\n",
              "      <td>58.0</td>\n",
              "      <td>6.61935</td>\n",
              "      <td>Gas Giant</td>\n",
              "      <td>2002</td>\n",
              "      <td>8.13881</td>\n",
              "      <td>Jupiter</td>\n",
              "      <td>1.120</td>\n",
              "      <td>Jupiter</td>\n",
              "      <td>2.773069</td>\n",
              "      <td>4.800000</td>\n",
              "      <td>0.37</td>\n",
              "      <td>Radial Velocity</td>\n",
              "    </tr>\n",
              "    <tr>\n",
              "      <th>4</th>\n",
              "      <td>16 Cygni B b</td>\n",
              "      <td>69.0</td>\n",
              "      <td>6.21500</td>\n",
              "      <td>Gas Giant</td>\n",
              "      <td>1996</td>\n",
              "      <td>1.78000</td>\n",
              "      <td>Jupiter</td>\n",
              "      <td>1.200</td>\n",
              "      <td>Jupiter</td>\n",
              "      <td>1.660000</td>\n",
              "      <td>2.200000</td>\n",
              "      <td>0.68</td>\n",
              "      <td>Radial Velocity</td>\n",
              "    </tr>\n",
              "    <tr>\n",
              "      <th>5</th>\n",
              "      <td>17 Scorpii b</td>\n",
              "      <td>408.0</td>\n",
              "      <td>5.22606</td>\n",
              "      <td>Gas Giant</td>\n",
              "      <td>2020</td>\n",
              "      <td>4.32000</td>\n",
              "      <td>Jupiter</td>\n",
              "      <td>1.150</td>\n",
              "      <td>Jupiter</td>\n",
              "      <td>1.450000</td>\n",
              "      <td>1.600000</td>\n",
              "      <td>0.06</td>\n",
              "      <td>Radial Velocity</td>\n",
              "    </tr>\n",
              "    <tr>\n",
              "      <th>6</th>\n",
              "      <td>18 Delphini b</td>\n",
              "      <td>249.0</td>\n",
              "      <td>5.51048</td>\n",
              "      <td>Gas Giant</td>\n",
              "      <td>2008</td>\n",
              "      <td>10.30000</td>\n",
              "      <td>Jupiter</td>\n",
              "      <td>1.110</td>\n",
              "      <td>Jupiter</td>\n",
              "      <td>2.600000</td>\n",
              "      <td>2.700000</td>\n",
              "      <td>0.08</td>\n",
              "      <td>Radial Velocity</td>\n",
              "    </tr>\n",
              "    <tr>\n",
              "      <th>7</th>\n",
              "      <td>1RXS J160929.1-210524 b</td>\n",
              "      <td>454.0</td>\n",
              "      <td>12.61800</td>\n",
              "      <td>Gas Giant</td>\n",
              "      <td>2008</td>\n",
              "      <td>8.00000</td>\n",
              "      <td>Jupiter</td>\n",
              "      <td>1.664</td>\n",
              "      <td>Jupiter</td>\n",
              "      <td>330.000000</td>\n",
              "      <td>6505.900000</td>\n",
              "      <td>0.00</td>\n",
              "      <td>Direct Imaging</td>\n",
              "    </tr>\n",
              "    <tr>\n",
              "      <th>8</th>\n",
              "      <td>24 Bootis b</td>\n",
              "      <td>313.0</td>\n",
              "      <td>5.59000</td>\n",
              "      <td>Gas Giant</td>\n",
              "      <td>2018</td>\n",
              "      <td>0.91000</td>\n",
              "      <td>Jupiter</td>\n",
              "      <td>1.240</td>\n",
              "      <td>Jupiter</td>\n",
              "      <td>0.190000</td>\n",
              "      <td>0.083231</td>\n",
              "      <td>0.04</td>\n",
              "      <td>Radial Velocity</td>\n",
              "    </tr>\n",
              "    <tr>\n",
              "      <th>9</th>\n",
              "      <td>24 Sextantis b</td>\n",
              "      <td>235.0</td>\n",
              "      <td>6.45350</td>\n",
              "      <td>Gas Giant</td>\n",
              "      <td>2010</td>\n",
              "      <td>1.99000</td>\n",
              "      <td>Jupiter</td>\n",
              "      <td>1.190</td>\n",
              "      <td>Jupiter</td>\n",
              "      <td>1.333000</td>\n",
              "      <td>1.239699</td>\n",
              "      <td>0.09</td>\n",
              "      <td>Radial Velocity</td>\n",
              "    </tr>\n",
              "  </tbody>\n",
              "</table>\n",
              "</div>\n",
              "      <button class=\"colab-df-convert\" onclick=\"convertToInteractive('df-1615b13a-5fdd-46bc-b632-793ca223165f')\"\n",
              "              title=\"Convert this dataframe to an interactive table.\"\n",
              "              style=\"display:none;\">\n",
              "        \n",
              "  <svg xmlns=\"http://www.w3.org/2000/svg\" height=\"24px\"viewBox=\"0 0 24 24\"\n",
              "       width=\"24px\">\n",
              "    <path d=\"M0 0h24v24H0V0z\" fill=\"none\"/>\n",
              "    <path d=\"M18.56 5.44l.94 2.06.94-2.06 2.06-.94-2.06-.94-.94-2.06-.94 2.06-2.06.94zm-11 1L8.5 8.5l.94-2.06 2.06-.94-2.06-.94L8.5 2.5l-.94 2.06-2.06.94zm10 10l.94 2.06.94-2.06 2.06-.94-2.06-.94-.94-2.06-.94 2.06-2.06.94z\"/><path d=\"M17.41 7.96l-1.37-1.37c-.4-.4-.92-.59-1.43-.59-.52 0-1.04.2-1.43.59L10.3 9.45l-7.72 7.72c-.78.78-.78 2.05 0 2.83L4 21.41c.39.39.9.59 1.41.59.51 0 1.02-.2 1.41-.59l7.78-7.78 2.81-2.81c.8-.78.8-2.07 0-2.86zM5.41 20L4 18.59l7.72-7.72 1.47 1.35L5.41 20z\"/>\n",
              "  </svg>\n",
              "      </button>\n",
              "      \n",
              "  <style>\n",
              "    .colab-df-container {\n",
              "      display:flex;\n",
              "      flex-wrap:wrap;\n",
              "      gap: 12px;\n",
              "    }\n",
              "\n",
              "    .colab-df-convert {\n",
              "      background-color: #E8F0FE;\n",
              "      border: none;\n",
              "      border-radius: 50%;\n",
              "      cursor: pointer;\n",
              "      display: none;\n",
              "      fill: #1967D2;\n",
              "      height: 32px;\n",
              "      padding: 0 0 0 0;\n",
              "      width: 32px;\n",
              "    }\n",
              "\n",
              "    .colab-df-convert:hover {\n",
              "      background-color: #E2EBFA;\n",
              "      box-shadow: 0px 1px 2px rgba(60, 64, 67, 0.3), 0px 1px 3px 1px rgba(60, 64, 67, 0.15);\n",
              "      fill: #174EA6;\n",
              "    }\n",
              "\n",
              "    [theme=dark] .colab-df-convert {\n",
              "      background-color: #3B4455;\n",
              "      fill: #D2E3FC;\n",
              "    }\n",
              "\n",
              "    [theme=dark] .colab-df-convert:hover {\n",
              "      background-color: #434B5C;\n",
              "      box-shadow: 0px 1px 3px 1px rgba(0, 0, 0, 0.15);\n",
              "      filter: drop-shadow(0px 1px 2px rgba(0, 0, 0, 0.3));\n",
              "      fill: #FFFFFF;\n",
              "    }\n",
              "  </style>\n",
              "\n",
              "      <script>\n",
              "        const buttonEl =\n",
              "          document.querySelector('#df-1615b13a-5fdd-46bc-b632-793ca223165f button.colab-df-convert');\n",
              "        buttonEl.style.display =\n",
              "          google.colab.kernel.accessAllowed ? 'block' : 'none';\n",
              "\n",
              "        async function convertToInteractive(key) {\n",
              "          const element = document.querySelector('#df-1615b13a-5fdd-46bc-b632-793ca223165f');\n",
              "          const dataTable =\n",
              "            await google.colab.kernel.invokeFunction('convertToInteractive',\n",
              "                                                     [key], {});\n",
              "          if (!dataTable) return;\n",
              "\n",
              "          const docLinkHtml = 'Like what you see? Visit the ' +\n",
              "            '<a target=\"_blank\" href=https://colab.research.google.com/notebooks/data_table.ipynb>data table notebook</a>'\n",
              "            + ' to learn more about interactive tables.';\n",
              "          element.innerHTML = '';\n",
              "          dataTable['output_type'] = 'display_data';\n",
              "          await google.colab.output.renderOutput(dataTable, element);\n",
              "          const docLink = document.createElement('div');\n",
              "          docLink.innerHTML = docLinkHtml;\n",
              "          element.appendChild(docLink);\n",
              "        }\n",
              "      </script>\n",
              "    </div>\n",
              "  </div>\n",
              "  "
            ]
          },
          "metadata": {},
          "execution_count": 4
        }
      ]
    },
    {
      "cell_type": "code",
      "source": [
        "# name:               Tên của hành tinh theo được cung cấp bởi NASA\n",
        "# distance:           khoảng cách của hành tinh từ trái đất (light years)\n",
        "# stellar_magnitude:  Độ sáng của hành tinh, hành tinh càng sáng thì số càng thấp được gán cho hành tinh\n",
        "# planet_type:        Loại hành tinh, những loại này có nguồn gốc từ các hành tinh trong hệ mặt trời của chúng ta\n",
        "# discovery_year:     Năm mà hành tinh được phát hiện\n",
        "# mass_multiplier:    hệ số nhân khối lượng của hành tinh với hành tinh mass_wrt tương ứng\n",
        "# mass_wrt:           khối lượng của hành tinh so với khối lượng của các hành tinh trong hệ mặt trời của chúng ta\n",
        "# radius_multiplier:  hệ số nhân bán kính của hành tinh với hành tinh radius_wrt tương ứng\n",
        "# radius_wrt:         bán kính của hành tinh so với bán kính của các hành tinh trong hệ mặt trời của chúng ta\n",
        "# orbital_radius:     Bán kính quỹ đạo của các hành tinh quay quanh mặt trời của chúng (in AU)\n",
        "# orbital_period:     Thời gian tính bằng năm để các hành tinh đó hoàn thành 1 quỹ đạo quanh ngôi sao của chúng (years)\n",
        "# eccentricity:       độ lệch tâm về cơ bản cho biết đường quỹ đạo là hình tròn như thế nào, độ lệch tâm gần bằng 0 có nghĩa là đường quỹ đạo là một quỹ đạo tròn\n",
        "# detection_method:   Phương pháp được NASA sử dụng để tìm ngoại hành tinh đó"
      ],
      "metadata": {
        "id": "nVPTLYt7IANQ"
      },
      "execution_count": null,
      "outputs": []
    },
    {
      "cell_type": "markdown",
      "source": [
        "Data Preprocessing & EDA"
      ],
      "metadata": {
        "id": "-rAgQ9XA4RFX"
      }
    },
    {
      "cell_type": "code",
      "source": [
        "df.info()"
      ],
      "metadata": {
        "colab": {
          "base_uri": "https://localhost:8080/"
        },
        "id": "kkSs_-KSA2kV",
        "outputId": "03cba9e4-0b5d-4159-b095-e61136f2bd05"
      },
      "execution_count": null,
      "outputs": [
        {
          "output_type": "stream",
          "name": "stdout",
          "text": [
            "<class 'pandas.core.frame.DataFrame'>\n",
            "RangeIndex: 5250 entries, 0 to 5249\n",
            "Data columns (total 13 columns):\n",
            " #   Column             Non-Null Count  Dtype  \n",
            "---  ------             --------------  -----  \n",
            " 0   name               5250 non-null   object \n",
            " 1   distance           5233 non-null   float64\n",
            " 2   stellar_magnitude  5089 non-null   float64\n",
            " 3   planet_type        5250 non-null   object \n",
            " 4   discovery_year     5250 non-null   int64  \n",
            " 5   mass_multiplier    5227 non-null   float64\n",
            " 6   mass_wrt           5227 non-null   object \n",
            " 7   radius_multiplier  5233 non-null   float64\n",
            " 8   radius_wrt         5233 non-null   object \n",
            " 9   orbital_radius     4961 non-null   float64\n",
            " 10  orbital_period     5250 non-null   float64\n",
            " 11  eccentricity       5250 non-null   float64\n",
            " 12  detection_method   5250 non-null   object \n",
            "dtypes: float64(7), int64(1), object(5)\n",
            "memory usage: 533.3+ KB\n"
          ]
        }
      ]
    },
    {
      "cell_type": "code",
      "source": [
        "# name"
      ],
      "metadata": {
        "id": "sHShP19_QVS0"
      },
      "execution_count": null,
      "outputs": []
    },
    {
      "cell_type": "code",
      "source": [
        "df['name'].value_counts()"
      ],
      "metadata": {
        "id": "h0-rKhtKA2YV",
        "colab": {
          "base_uri": "https://localhost:8080/"
        },
        "outputId": "ae1debbc-8480-4265-971b-7d36041c3e3a"
      },
      "execution_count": null,
      "outputs": [
        {
          "output_type": "execute_result",
          "data": {
            "text/plain": [
              "11 Comae Berenices b    1\n",
              "Kepler-342 c            1\n",
              "Kepler-341 e            1\n",
              "Kepler-341 d            1\n",
              "Kepler-341 c            1\n",
              "                       ..\n",
              "K2-85 b                 1\n",
              "K2-84 c                 1\n",
              "K2-84 b                 1\n",
              "K2-83 c                 1\n",
              "YZ Ceti d               1\n",
              "Name: name, Length: 5250, dtype: int64"
            ]
          },
          "metadata": {},
          "execution_count": 8
        }
      ]
    },
    {
      "cell_type": "code",
      "source": [
        "# distance"
      ],
      "metadata": {
        "id": "8f8DmqOmPuK1"
      },
      "execution_count": null,
      "outputs": []
    },
    {
      "cell_type": "code",
      "source": [
        "df['distance'].isnull().sum()"
      ],
      "metadata": {
        "colab": {
          "base_uri": "https://localhost:8080/"
        },
        "id": "Y9y_3CA4PuGc",
        "outputId": "380a68d4-04b9-4005-efe6-140b89d79a7b"
      },
      "execution_count": null,
      "outputs": [
        {
          "output_type": "execute_result",
          "data": {
            "text/plain": [
              "17"
            ]
          },
          "metadata": {},
          "execution_count": 10
        }
      ]
    },
    {
      "cell_type": "code",
      "source": [
        "df['distance'].plot(kind='box')"
      ],
      "metadata": {
        "colab": {
          "base_uri": "https://localhost:8080/",
          "height": 282
        },
        "id": "wqFUZwrFPuBn",
        "outputId": "04997e46-ea3a-457a-d09a-12f4205891ba"
      },
      "execution_count": null,
      "outputs": [
        {
          "output_type": "execute_result",
          "data": {
            "text/plain": [
              "<AxesSubplot:>"
            ]
          },
          "metadata": {},
          "execution_count": 11
        },
        {
          "output_type": "display_data",
          "data": {
            "text/plain": [
              "<Figure size 432x288 with 1 Axes>"
            ],
            "image/png": "[encoded data removed]"
          },
          "metadata": {
            "needs_background": "light"
          }
        }
      ]
    },
    {
      "cell_type": "markdown",
      "source": [
        "* 17 dữ liệu bị mất\n",
        "* cột này có rất nhiều ngoại lệ outliers, nhưng không quá quan trọng vì đó là khoảng cách chính xác của các hành tinh đó so với hệ mặt trời của chúng ta"
      ],
      "metadata": {
        "id": "3CWyEfp4P_LY"
      }
    },
    {
      "cell_type": "code",
      "source": [
        "# stellar_magnitude"
      ],
      "metadata": {
        "id": "8oXltcEi7I00"
      },
      "execution_count": null,
      "outputs": []
    },
    {
      "cell_type": "code",
      "source": [
        "df['stellar_magnitude'].isnull().sum()"
      ],
      "metadata": {
        "colab": {
          "base_uri": "https://localhost:8080/"
        },
        "id": "7dGK2Ave7OLI",
        "outputId": "744e422e-6b57-4024-9c4f-d086af62ac73"
      },
      "execution_count": null,
      "outputs": [
        {
          "output_type": "execute_result",
          "data": {
            "text/plain": [
              "161"
            ]
          },
          "metadata": {},
          "execution_count": 13
        }
      ]
    },
    {
      "cell_type": "code",
      "source": [
        "df['stellar_magnitude'].plot(kind='box')"
      ],
      "metadata": {
        "colab": {
          "base_uri": "https://localhost:8080/",
          "height": 283
        },
        "id": "IrW7flS-7XXj",
        "outputId": "fc7922be-161e-4959-b3f0-5ebbfea2f05c"
      },
      "execution_count": null,
      "outputs": [
        {
          "output_type": "execute_result",
          "data": {
            "text/plain": [
              "<AxesSubplot:>"
            ]
          },
          "metadata": {},
          "execution_count": 14
        },
        {
          "output_type": "display_data",
          "data": {
            "text/plain": [
              "<Figure size 432x288 with 1 Axes>"
            ],
            "image/png": "[encoded data removed]"
          },
          "metadata": {
            "needs_background": "light"
          }
        }
      ]
    },
    {
      "cell_type": "markdown",
      "source": [
        "* 161 dữ liệu bị mất\n",
        "\n",
        "* Số lượng các hành tinh được NASA tìm thấy hầu hết có stellar_magnitude cao (các hành tinh mờ)"
      ],
      "metadata": {
        "id": "4c-Xrfqs8GyB"
      }
    },
    {
      "cell_type": "code",
      "source": [
        "# planet_type"
      ],
      "metadata": {
        "id": "WrPYncR07XRp"
      },
      "execution_count": null,
      "outputs": []
    },
    {
      "cell_type": "code",
      "source": [
        "df['planet_type'].value_counts()"
      ],
      "metadata": {
        "id": "k_57psX4A2V_",
        "colab": {
          "base_uri": "https://localhost:8080/"
        },
        "outputId": "ab09c2b4-3a29-4b3e-ca44-5277e4bc91ed"
      },
      "execution_count": null,
      "outputs": [
        {
          "output_type": "execute_result",
          "data": {
            "text/plain": [
              "Neptune-like    1825\n",
              "Gas Giant       1630\n",
              "Super Earth     1595\n",
              "Terrestrial      195\n",
              "Unknown            5\n",
              "Name: planet_type, dtype: int64"
            ]
          },
          "metadata": {},
          "execution_count": 16
        }
      ]
    },
    {
      "cell_type": "code",
      "source": [
        "df['planet_type'].value_counts().plot.barh()"
      ],
      "metadata": {
        "colab": {
          "base_uri": "https://localhost:8080/",
          "height": 282
        },
        "id": "fF8MeSLk4hVY",
        "outputId": "7551dd2d-994c-462d-dd15-357db6821621"
      },
      "execution_count": null,
      "outputs": [
        {
          "output_type": "execute_result",
          "data": {
            "text/plain": [
              "<AxesSubplot:>"
            ]
          },
          "metadata": {},
          "execution_count": 17
        },
        {
          "output_type": "display_data",
          "data": {
            "text/plain": [
              "<Figure size 432x288 with 1 Axes>"
            ],
            "image/png": "[encoded data removed]"
          },
          "metadata": {
            "needs_background": "light"
          }
        }
      ]
    },
    {
      "cell_type": "code",
      "source": [
        "df['planet_type'].value_counts().plot(kind='pie',autopct='%.1f%%',explode=[0.1,0,0,0.1,0])"
      ],
      "metadata": {
        "colab": {
          "base_uri": "https://localhost:8080/",
          "height": 265
        },
        "id": "CEVSxsFG87zQ",
        "outputId": "833350a7-cfc0-4c04-8467-72df8474b16f"
      },
      "execution_count": null,
      "outputs": [
        {
          "output_type": "execute_result",
          "data": {
            "text/plain": [
              "<AxesSubplot:ylabel='planet_type'>"
            ]
          },
          "metadata": {},
          "execution_count": 18
        },
        {
          "output_type": "display_data",
          "data": {
            "text/plain": [
              "<Figure size 432x288 with 1 Axes>"
            ],
            "image/png": "[encoded data removed]"
          },
          "metadata": {}
        }
      ]
    },
    {
      "cell_type": "markdown",
      "source": [
        "* không có giá trị null, nhưng có 5 hành tinh vẫn chưa xác định được là loại hành tinh gì\n",
        "\n",
        "* số lượng hành tinh có thể ở được là 1595 (Super Earth)"
      ],
      "metadata": {
        "id": "bqd9d_J_9_kV"
      }
    },
    {
      "cell_type": "code",
      "source": [
        "# discovery_year"
      ],
      "metadata": {
        "id": "tUBfP0Ug_AmD"
      },
      "execution_count": null,
      "outputs": []
    },
    {
      "cell_type": "code",
      "source": [
        "df['discovery_year'].value_counts()"
      ],
      "metadata": {
        "colab": {
          "base_uri": "https://localhost:8080/"
        },
        "id": "0dCdYbZY_Aiy",
        "outputId": "79b0600e-801d-4870-875f-1aff6fc86bed"
      },
      "execution_count": null,
      "outputs": [
        {
          "output_type": "execute_result",
          "data": {
            "text/plain": [
              "2016    1517\n",
              "2014     875\n",
              "2021     525\n",
              "2022     338\n",
              "2018     326\n",
              "2020     234\n",
              "2019     203\n",
              "2015     157\n",
              "2017     153\n",
              "2012     138\n",
              "2011     138\n",
              "2013     126\n",
              "2010      97\n",
              "2009      94\n",
              "2008      65\n",
              "2007      52\n",
              "2005      36\n",
              "2006      31\n",
              "2002      29\n",
              "2004      27\n",
              "2003      22\n",
              "2000      16\n",
              "1999      13\n",
              "2001      12\n",
              "2023       9\n",
              "1996       6\n",
              "1998       6\n",
              "1992       2\n",
              "1995       1\n",
              "1994       1\n",
              "1997       1\n",
              "Name: discovery_year, dtype: int64"
            ]
          },
          "metadata": {},
          "execution_count": 20
        }
      ]
    },
    {
      "cell_type": "code",
      "source": [
        "df['discovery_year'].isnull().sum()"
      ],
      "metadata": {
        "colab": {
          "base_uri": "https://localhost:8080/"
        },
        "id": "dTzb8mxo_Adx",
        "outputId": "23466237-3b98-4252-ad9c-d8afa41600d4"
      },
      "execution_count": null,
      "outputs": [
        {
          "output_type": "execute_result",
          "data": {
            "text/plain": [
              "0"
            ]
          },
          "metadata": {},
          "execution_count": 21
        }
      ]
    },
    {
      "cell_type": "code",
      "source": [
        "df['discovery_year'].value_counts().plot(kind='barh', figsize=(8, 6))"
      ],
      "metadata": {
        "colab": {
          "base_uri": "https://localhost:8080/",
          "height": 391
        },
        "id": "Qq1SoW5F_AgX",
        "outputId": "a0bceb96-d4f4-46b9-aad5-6f0e1b5279a2"
      },
      "execution_count": null,
      "outputs": [
        {
          "output_type": "execute_result",
          "data": {
            "text/plain": [
              "<AxesSubplot:>"
            ]
          },
          "metadata": {},
          "execution_count": 22
        },
        {
          "output_type": "display_data",
          "data": {
            "text/plain": [
              "<Figure size 576x432 with 1 Axes>"
            ],
            "image/png": "[encoded data removed]"
          },
          "metadata": {
            "needs_background": "light"
          }
        }
      ]
    },
    {
      "cell_type": "markdown",
      "source": [
        "* vào năm 2016 số lượng của các hành tinh được phát hiện nhiều nhất (1517)\n",
        "\n",
        "* không có giá trị null"
      ],
      "metadata": {
        "id": "dm6Zv1pOAHmu"
      }
    },
    {
      "cell_type": "code",
      "source": [
        "# mass_multiplier & mass_wrt"
      ],
      "metadata": {
        "id": "J3Wfd5hd_Abd"
      },
      "execution_count": null,
      "outputs": []
    },
    {
      "cell_type": "code",
      "source": [
        "df['mass_multiplier'].isnull().sum()"
      ],
      "metadata": {
        "colab": {
          "base_uri": "https://localhost:8080/"
        },
        "id": "1oHC3dWoBmnD",
        "outputId": "7c0a9894-60f1-4101-ac33-ffdc5db5006d"
      },
      "execution_count": null,
      "outputs": [
        {
          "output_type": "execute_result",
          "data": {
            "text/plain": [
              "23"
            ]
          },
          "metadata": {},
          "execution_count": 24
        }
      ]
    },
    {
      "cell_type": "code",
      "source": [
        "df['mass_wrt'].isnull().sum()"
      ],
      "metadata": {
        "colab": {
          "base_uri": "https://localhost:8080/"
        },
        "id": "17ozhjdqBmfT",
        "outputId": "2d89838a-e6a6-4c7e-9911-d6884245a6ae"
      },
      "execution_count": null,
      "outputs": [
        {
          "output_type": "execute_result",
          "data": {
            "text/plain": [
              "23"
            ]
          },
          "metadata": {},
          "execution_count": 25
        }
      ]
    },
    {
      "cell_type": "code",
      "source": [
        "df['mass_wrt'].value_counts().plot.barh()"
      ],
      "metadata": {
        "colab": {
          "base_uri": "https://localhost:8080/",
          "height": 282
        },
        "id": "vM6Yqjc0_AZA",
        "outputId": "42ede2bc-b516-4fc9-87a3-0253ed9487ea"
      },
      "execution_count": null,
      "outputs": [
        {
          "output_type": "execute_result",
          "data": {
            "text/plain": [
              "<AxesSubplot:>"
            ]
          },
          "metadata": {},
          "execution_count": 26
        },
        {
          "output_type": "display_data",
          "data": {
            "text/plain": [
              "<Figure size 432x288 with 1 Axes>"
            ],
            "image/png": "[encoded data removed]"
          },
          "metadata": {
            "needs_background": "light"
          }
        }
      ]
    },
    {
      "cell_type": "code",
      "source": [
        "# so với Earth:\n",
        "df[df['mass_wrt'] == 'Earth']['mass_multiplier'].plot(kind='box')"
      ],
      "metadata": {
        "colab": {
          "base_uri": "https://localhost:8080/",
          "height": 283
        },
        "id": "prGjumKP_AW2",
        "outputId": "0264a32a-b30c-447b-cefa-6e5528265531"
      },
      "execution_count": null,
      "outputs": [
        {
          "output_type": "execute_result",
          "data": {
            "text/plain": [
              "<AxesSubplot:>"
            ]
          },
          "metadata": {},
          "execution_count": 27
        },
        {
          "output_type": "display_data",
          "data": {
            "text/plain": [
              "<Figure size 432x288 with 1 Axes>"
            ],
            "image/png": "[encoded data removed]"
          },
          "metadata": {
            "needs_background": "light"
          }
        }
      ]
    },
    {
      "cell_type": "code",
      "source": [
        "# so với Jupiter\n",
        "df[df['mass_wrt'] == 'Jupiter']['mass_multiplier'].plot(kind='box')"
      ],
      "metadata": {
        "colab": {
          "base_uri": "https://localhost:8080/",
          "height": 283
        },
        "id": "xLm0gbJt_AUV",
        "outputId": "f5393331-b8c7-47ef-a12d-4c5a4bddb495"
      },
      "execution_count": null,
      "outputs": [
        {
          "output_type": "execute_result",
          "data": {
            "text/plain": [
              "<AxesSubplot:>"
            ]
          },
          "metadata": {},
          "execution_count": 28
        },
        {
          "output_type": "display_data",
          "data": {
            "text/plain": [
              "<Figure size 432x288 with 1 Axes>"
            ],
            "image/png": "[encoded data removed]"
          },
          "metadata": {
            "needs_background": "light"
          }
        }
      ]
    },
    {
      "cell_type": "markdown",
      "source": [
        "=> Có 23 hành tinh ko có số liệu về mass (khối lượng)\n",
        "\n",
        "Earth\n",
        "\n",
        "* có nhiều outliers\n",
        "\n",
        "Jupiter\n",
        "\n",
        "* có nhiều outliers\n",
        "* có 1 hành tinh có khối lượng gấp 700 lần Jupiter"
      ],
      "metadata": {
        "id": "eLhEUE7xCg13"
      }
    },
    {
      "cell_type": "code",
      "source": [
        "# radius_multiplier & radius_wrt"
      ],
      "metadata": {
        "id": "R5dBfyPu_ARt"
      },
      "execution_count": null,
      "outputs": []
    },
    {
      "cell_type": "code",
      "source": [
        "df['radius_wrt'].isnull().sum()"
      ],
      "metadata": {
        "colab": {
          "base_uri": "https://localhost:8080/"
        },
        "id": "FCHDfjoX_APL",
        "outputId": "2eb813b3-6792-49c7-c3c1-887bbd4ec80d"
      },
      "execution_count": null,
      "outputs": [
        {
          "output_type": "execute_result",
          "data": {
            "text/plain": [
              "17"
            ]
          },
          "metadata": {},
          "execution_count": 30
        }
      ]
    },
    {
      "cell_type": "code",
      "source": [
        "df['radius_multiplier'].isnull().sum()"
      ],
      "metadata": {
        "colab": {
          "base_uri": "https://localhost:8080/"
        },
        "id": "-PpTrIoTD1Go",
        "outputId": "030d24da-2c0f-40f8-9dac-9447f8a54f7c"
      },
      "execution_count": null,
      "outputs": [
        {
          "output_type": "execute_result",
          "data": {
            "text/plain": [
              "17"
            ]
          },
          "metadata": {},
          "execution_count": 31
        }
      ]
    },
    {
      "cell_type": "code",
      "source": [
        "df['radius_wrt'].value_counts().plot.barh()"
      ],
      "metadata": {
        "colab": {
          "base_uri": "https://localhost:8080/",
          "height": 282
        },
        "id": "1HHn5_H4CPSQ",
        "outputId": "02ef85ec-280e-4ce3-aaee-1ef0686634da"
      },
      "execution_count": null,
      "outputs": [
        {
          "output_type": "execute_result",
          "data": {
            "text/plain": [
              "<AxesSubplot:>"
            ]
          },
          "metadata": {},
          "execution_count": 32
        },
        {
          "output_type": "display_data",
          "data": {
            "text/plain": [
              "<Figure size 432x288 with 1 Axes>"
            ],
            "image/png": "[encoded data removed]"
          },
          "metadata": {
            "needs_background": "light"
          }
        }
      ]
    },
    {
      "cell_type": "code",
      "source": [
        "# so với Earth:\n",
        "df[df['radius_wrt'] == 'Earth']['radius_multiplier'].plot(kind='box')"
      ],
      "metadata": {
        "colab": {
          "base_uri": "https://localhost:8080/",
          "height": 283
        },
        "id": "JZP0Qe6ECPO2",
        "outputId": "4e7e130d-162f-4864-c8bc-1d7ae40c1c27"
      },
      "execution_count": null,
      "outputs": [
        {
          "output_type": "execute_result",
          "data": {
            "text/plain": [
              "<AxesSubplot:>"
            ]
          },
          "metadata": {},
          "execution_count": 33
        },
        {
          "output_type": "display_data",
          "data": {
            "text/plain": [
              "<Figure size 432x288 with 1 Axes>"
            ],
            "image/png": "[encoded data removed]"
          },
          "metadata": {
            "needs_background": "light"
          }
        }
      ]
    },
    {
      "cell_type": "code",
      "source": [
        "# so với Jupiter\n",
        "df[df['radius_wrt'] == 'Jupiter']['radius_multiplier'].plot(kind='box')"
      ],
      "metadata": {
        "colab": {
          "base_uri": "https://localhost:8080/",
          "height": 283
        },
        "id": "cDNYa1-6Ds9h",
        "outputId": "414f3853-0855-4e1d-bb8c-4801dbab6edb"
      },
      "execution_count": null,
      "outputs": [
        {
          "output_type": "execute_result",
          "data": {
            "text/plain": [
              "<AxesSubplot:>"
            ]
          },
          "metadata": {},
          "execution_count": 34
        },
        {
          "output_type": "display_data",
          "data": {
            "text/plain": [
              "<Figure size 432x288 with 1 Axes>"
            ],
            "image/png": "[encoded data removed]"
          },
          "metadata": {
            "needs_background": "light"
          }
        }
      ]
    },
    {
      "cell_type": "markdown",
      "source": [
        "=> bán kính của 17 hành tinh bị thiếu\n",
        "\n",
        "Earth\n",
        "\n",
        "* không có outliers\n",
        "\n",
        "Jupiter\n",
        "\n",
        "* có một vài hành tinh có bán kính outliers\n",
        "* có 1 hành tinh có kích thước gấp 7 lần Jupiter"
      ],
      "metadata": {
        "id": "LFHDPlkeEOpf"
      }
    },
    {
      "cell_type": "code",
      "source": [
        "# orbital_radius"
      ],
      "metadata": {
        "id": "j8s-6NEeDs6G"
      },
      "execution_count": null,
      "outputs": []
    },
    {
      "cell_type": "code",
      "source": [
        "df['orbital_radius'].isnull().sum()"
      ],
      "metadata": {
        "colab": {
          "base_uri": "https://localhost:8080/"
        },
        "id": "zsniNefrF7Dd",
        "outputId": "7cddcad9-07f7-40f0-d587-6f1dc953f61a"
      },
      "execution_count": null,
      "outputs": [
        {
          "output_type": "execute_result",
          "data": {
            "text/plain": [
              "289"
            ]
          },
          "metadata": {},
          "execution_count": 36
        }
      ]
    },
    {
      "cell_type": "code",
      "source": [
        "df['orbital_radius'].plot(kind='box')"
      ],
      "metadata": {
        "colab": {
          "base_uri": "https://localhost:8080/",
          "height": 283
        },
        "id": "MrFxDcAGDs3f",
        "outputId": "2d621c00-8352-4d82-f1c7-fc06bd3209dc"
      },
      "execution_count": null,
      "outputs": [
        {
          "output_type": "execute_result",
          "data": {
            "text/plain": [
              "<AxesSubplot:>"
            ]
          },
          "metadata": {},
          "execution_count": 37
        },
        {
          "output_type": "display_data",
          "data": {
            "text/plain": [
              "<Figure size 432x288 with 1 Axes>"
            ],
            "image/png": "[encoded data removed]"
          },
          "metadata": {
            "needs_background": "light"
          }
        }
      ]
    },
    {
      "cell_type": "markdown",
      "source": [
        "* có 289 hành tinh không có dữ liệu quỹ đạo bay\n",
        "\n",
        "* có một số hành tinh có quỹ đạo bay outliers\n",
        "\n",
        "* có hành tinh có quỹ đạo bay quanh ngôi sao của nó là lớn hơn 7000 AU"
      ],
      "metadata": {
        "id": "AM8BjLEFFOjH"
      }
    },
    {
      "cell_type": "code",
      "source": [
        "# orbital_period"
      ],
      "metadata": {
        "id": "B0NA-82uCPM1"
      },
      "execution_count": null,
      "outputs": []
    },
    {
      "cell_type": "code",
      "source": [
        "df['orbital_period'].isnull().sum()"
      ],
      "metadata": {
        "colab": {
          "base_uri": "https://localhost:8080/"
        },
        "id": "qf7a3Yf-GdXc",
        "outputId": "78cabc9d-53a3-4f0c-c29d-672c1ddf8d83"
      },
      "execution_count": null,
      "outputs": [
        {
          "output_type": "execute_result",
          "data": {
            "text/plain": [
              "0"
            ]
          },
          "metadata": {},
          "execution_count": 39
        }
      ]
    },
    {
      "cell_type": "code",
      "source": [
        "df['orbital_period'].plot(kind='box')"
      ],
      "metadata": {
        "colab": {
          "base_uri": "https://localhost:8080/",
          "height": 294
        },
        "id": "xEL3CgkKCPKc",
        "outputId": "51bfb800-a337-41b5-c107-16188cb467ab"
      },
      "execution_count": null,
      "outputs": [
        {
          "output_type": "execute_result",
          "data": {
            "text/plain": [
              "<AxesSubplot:>"
            ]
          },
          "metadata": {},
          "execution_count": 40
        },
        {
          "output_type": "display_data",
          "data": {
            "text/plain": [
              "<Figure size 432x288 with 1 Axes>"
            ],
            "image/png": "[encoded data removed]"
          },
          "metadata": {
            "needs_background": "light"
          }
        }
      ]
    },
    {
      "cell_type": "markdown",
      "source": [
        "* không có giá trị null\n",
        "\n",
        "* có một số hành tinh có thời gian bay hết 1 vòng quỹ đạo outliers\n",
        "\n",
        "* có một hành tinh mất ~1 triệu năm để hoàn thành một vòng quay xung quanh ngôi sao của nó"
      ],
      "metadata": {
        "id": "f7oC_-fNGjMm"
      }
    },
    {
      "cell_type": "code",
      "source": [
        "# eccentricity"
      ],
      "metadata": {
        "id": "W6jpN69YCPIC"
      },
      "execution_count": null,
      "outputs": []
    },
    {
      "cell_type": "code",
      "source": [
        "df['eccentricity'].isnull().sum()"
      ],
      "metadata": {
        "colab": {
          "base_uri": "https://localhost:8080/"
        },
        "id": "IRztKQt9FBBW",
        "outputId": "204a6c1b-95bd-4768-adfd-37aeff29a527"
      },
      "execution_count": null,
      "outputs": [
        {
          "output_type": "execute_result",
          "data": {
            "text/plain": [
              "0"
            ]
          },
          "metadata": {},
          "execution_count": 42
        }
      ]
    },
    {
      "cell_type": "code",
      "source": [
        "df['eccentricity'].plot(kind='box')"
      ],
      "metadata": {
        "colab": {
          "base_uri": "https://localhost:8080/",
          "height": 283
        },
        "id": "UkrBBm3aFA9k",
        "outputId": "d1e91c62-6d3b-4200-ca94-65cc0467dcfd"
      },
      "execution_count": null,
      "outputs": [
        {
          "output_type": "execute_result",
          "data": {
            "text/plain": [
              "<AxesSubplot:>"
            ]
          },
          "metadata": {},
          "execution_count": 43
        },
        {
          "output_type": "display_data",
          "data": {
            "text/plain": [
              "<Figure size 432x288 with 1 Axes>"
            ],
            "image/png": "[encoded data removed]"
          },
          "metadata": {
            "needs_background": "light"
          }
        }
      ]
    },
    {
      "cell_type": "markdown",
      "source": [
        "* các hành tinh có 3 loại quỹ đạo theo độ lệch tâm (eccentricity) đường quỹ đạo của chúng:\n",
        "\n",
        "  1. Hình tròn: e = 0 or ~0\n",
        "  2. Hình Parabola: e = 1 or ~1\n",
        "  3. Hình ellipse: 0 < e < 1\n",
        "* hầu hết các hành tinh đều có quỹ đạo hình elip\n",
        "* có 3 hành tinh có độ lệch tâm âm (<0), theo như tìm hiểu thì dấu âm không ảnh hưởng tới hình dạng quỹ đạo của hành tinh đó. Đã so sánh với dữ liệu trên trang chính thống của NASA, dữ liệu của 3 hành tinh không sai."
      ],
      "metadata": {
        "id": "F8obOmQ_HTOr"
      }
    },
    {
      "cell_type": "code",
      "source": [
        "# detection_method"
      ],
      "metadata": {
        "id": "dWpbqE7eFA7X"
      },
      "execution_count": null,
      "outputs": []
    },
    {
      "cell_type": "code",
      "source": [
        "df['detection_method'].isnull().sum()"
      ],
      "metadata": {
        "colab": {
          "base_uri": "https://localhost:8080/"
        },
        "id": "0hNXKbBfPSq1",
        "outputId": "f8bccefb-b35c-4614-b92a-4890ae6ea0cd"
      },
      "execution_count": null,
      "outputs": [
        {
          "output_type": "execute_result",
          "data": {
            "text/plain": [
              "0"
            ]
          },
          "metadata": {},
          "execution_count": 45
        }
      ]
    },
    {
      "cell_type": "code",
      "source": [
        "df['detection_method'].value_counts()"
      ],
      "metadata": {
        "colab": {
          "base_uri": "https://localhost:8080/"
        },
        "id": "X4_HioHjFA4t",
        "outputId": "9a7e7d0e-1b1b-4587-e2f5-513b4496dcbd"
      },
      "execution_count": null,
      "outputs": [
        {
          "output_type": "execute_result",
          "data": {
            "text/plain": [
              "Transit                          3945\n",
              "Radial Velocity                  1027\n",
              "Gravitational Microlensing        154\n",
              "Direct Imaging                     62\n",
              "Transit Timing Variations          24\n",
              "Eclipse Timing Variations          17\n",
              "Orbital Brightness Modulation       9\n",
              "Pulsar Timing                       7\n",
              "Astrometry                          2\n",
              "Pulsation Timing Variations         2\n",
              "Disk Kinematics                     1\n",
              "Name: detection_method, dtype: int64"
            ]
          },
          "metadata": {},
          "execution_count": 46
        }
      ]
    },
    {
      "cell_type": "code",
      "source": [
        "df['detection_method'].value_counts().plot.barh()"
      ],
      "metadata": {
        "colab": {
          "base_uri": "https://localhost:8080/",
          "height": 282
        },
        "id": "72E7LtOHO98x",
        "outputId": "df6febc8-5c26-42a9-884c-dbaf0f5d35b4"
      },
      "execution_count": null,
      "outputs": [
        {
          "output_type": "execute_result",
          "data": {
            "text/plain": [
              "<AxesSubplot:>"
            ]
          },
          "metadata": {},
          "execution_count": 47
        },
        {
          "output_type": "display_data",
          "data": {
            "text/plain": [
              "<Figure size 432x288 with 1 Axes>"
            ],
            "image/png": "[encoded data removed]"
          },
          "metadata": {
            "needs_background": "light"
          }
        }
      ]
    },
    {
      "cell_type": "markdown",
      "source": [
        "* phương pháp được sử dụng nhiều nhất để tìm ngoại hành tinh là Transit\n",
        "* không có dữ liệu bị mất"
      ],
      "metadata": {
        "id": "Vf7h0Ji4PVAC"
      }
    },
    {
      "cell_type": "code",
      "source": [
        "import seaborn as sns\n",
        "sns.scatterplot(x = \"distance\", y = \"discovery_year\", hue = \"planet_type\", style = \"planet_type\",data = df)"
      ],
      "metadata": {
        "colab": {
          "base_uri": "https://localhost:8080/",
          "height": 296
        },
        "id": "m_e0Am6jRJR1",
        "outputId": "e266c6d8-cc63-41f3-a3c5-ee26637bd82a"
      },
      "execution_count": null,
      "outputs": [
        {
          "output_type": "execute_result",
          "data": {
            "text/plain": [
              "<AxesSubplot:xlabel='distance', ylabel='discovery_year'>"
            ]
          },
          "metadata": {},
          "execution_count": 48
        },
        {
          "output_type": "display_data",
          "data": {
            "text/plain": [
              "<Figure size 432x288 with 1 Axes>"
            ],
            "image/png": "[encoded data removed]"
          },
          "metadata": {
            "needs_background": "light"
          }
        }
      ]
    },
    {
      "cell_type": "code",
      "source": [],
      "metadata": {
        "id": "bDVHTqSk8a_S"
      },
      "execution_count": null,
      "outputs": []
    },
    {
      "cell_type": "markdown",
      "source": [
        "**Xứ lý data null**"
      ],
      "metadata": {
        "id": "2d7UFm67RN1i"
      }
    },
    {
      "cell_type": "code",
      "source": [
        "df=df.replace(\"?\", np.nan)"
      ],
      "metadata": {
        "id": "cl40AzIZA2fY"
      },
      "execution_count": null,
      "outputs": []
    },
    {
      "cell_type": "code",
      "source": [
        "df.isnull().sum()"
      ],
      "metadata": {
        "id": "QL82vxtFA2dG",
        "colab": {
          "base_uri": "https://localhost:8080/"
        },
        "outputId": "62932ae2-c6f4-4d9e-b35e-b03ed71f4f69"
      },
      "execution_count": null,
      "outputs": [
        {
          "output_type": "execute_result",
          "data": {
            "text/plain": [
              "name                   0\n",
              "distance              17\n",
              "stellar_magnitude    161\n",
              "planet_type            0\n",
              "discovery_year         0\n",
              "mass_multiplier       23\n",
              "mass_wrt              23\n",
              "radius_multiplier     17\n",
              "radius_wrt            17\n",
              "orbital_radius       289\n",
              "orbital_period         0\n",
              "eccentricity           0\n",
              "detection_method       0\n",
              "dtype: int64"
            ]
          },
          "metadata": {},
          "execution_count": 50
        }
      ]
    },
    {
      "cell_type": "code",
      "source": [
        "# drop các biến na vì những dữ liệu này ko thể tự thay thế hoặc dự đoán mà phải có dữ liệu thực tế của các ngoại hành tinh\n",
        "df.dropna(axis=0,inplace=True)\n",
        "df.info()"
      ],
      "metadata": {
        "id": "7fFzqggQA2ao",
        "colab": {
          "base_uri": "https://localhost:8080/"
        },
        "outputId": "e6eb761d-f5a9-47fd-e184-7d816ccbd976"
      },
      "execution_count": null,
      "outputs": [
        {
          "output_type": "stream",
          "name": "stdout",
          "text": [
            "<class 'pandas.core.frame.DataFrame'>\n",
            "Int64Index: 4765 entries, 0 to 5249\n",
            "Data columns (total 13 columns):\n",
            " #   Column             Non-Null Count  Dtype  \n",
            "---  ------             --------------  -----  \n",
            " 0   name               4765 non-null   object \n",
            " 1   distance           4765 non-null   float64\n",
            " 2   stellar_magnitude  4765 non-null   float64\n",
            " 3   planet_type        4765 non-null   object \n",
            " 4   discovery_year     4765 non-null   int64  \n",
            " 5   mass_multiplier    4765 non-null   float64\n",
            " 6   mass_wrt           4765 non-null   object \n",
            " 7   radius_multiplier  4765 non-null   float64\n",
            " 8   radius_wrt         4765 non-null   object \n",
            " 9   orbital_radius     4765 non-null   float64\n",
            " 10  orbital_period     4765 non-null   float64\n",
            " 11  eccentricity       4765 non-null   float64\n",
            " 12  detection_method   4765 non-null   object \n",
            "dtypes: float64(7), int64(1), object(5)\n",
            "memory usage: 521.2+ KB\n"
          ]
        }
      ]
    },
    {
      "cell_type": "markdown",
      "source": [
        "**Target: planet_type**"
      ],
      "metadata": {
        "id": "NFsj9RGJR-1v"
      }
    },
    {
      "cell_type": "code",
      "source": [
        "x = df.drop(['name','discovery_year', 'planet_type','mass_wrt','radius_wrt','detection_method'],axis=1)\n",
        "data = df[['mass_wrt','radius_wrt','detection_method']]\n",
        "# mã hóa LabelEncoder\n",
        "from sklearn import preprocessing\n",
        "from sklearn.preprocessing import LabelEncoder\n",
        "X_dum = data.apply(LabelEncoder().fit_transform)\n",
        "\n",
        "X = pd.concat([x,X_dum],axis=1)\n",
        "y = df['planet_type']"
      ],
      "metadata": {
        "id": "QO8-ALITR7wZ"
      },
      "execution_count": null,
      "outputs": []
    },
    {
      "cell_type": "code",
      "source": [
        "X"
      ],
      "metadata": {
        "colab": {
          "base_uri": "https://localhost:8080/",
          "height": 423
        },
        "id": "SLRsSWHGR7tv",
        "outputId": "942e2ae1-4518-4ea4-ffc9-08489342350c"
      },
      "execution_count": null,
      "outputs": [
        {
          "output_type": "execute_result",
          "data": {
            "text/plain": [
              "      distance  stellar_magnitude  mass_multiplier  radius_multiplier  \\\n",
              "0        304.0            4.72307         19.40000              1.080   \n",
              "1        409.0            5.01300         14.74000              1.090   \n",
              "2        246.0            5.23133          4.80000              1.150   \n",
              "3         58.0            6.61935          8.13881              1.120   \n",
              "4         69.0            6.21500          1.78000              1.200   \n",
              "...        ...                ...              ...                ...   \n",
              "5245     764.0           10.52100          0.70900              1.373   \n",
              "5246     357.0           10.88500          6.30000              1.140   \n",
              "5247      12.0           12.07400          0.70000              0.913   \n",
              "5248      12.0           12.07400          1.14000              1.050   \n",
              "5249      12.0           12.07400          1.09000              1.030   \n",
              "\n",
              "      orbital_radius  orbital_period  eccentricity  mass_wrt  radius_wrt  \\\n",
              "0           1.290000        0.892539          0.23         1           1   \n",
              "1           1.530000        1.400000          0.08         1           1   \n",
              "2           0.830000        0.508693          0.00         1           1   \n",
              "3           2.773069        4.800000          0.37         1           1   \n",
              "4           1.660000        2.200000          0.68         1           1   \n",
              "...              ...             ...           ...       ...         ...   \n",
              "5245        0.044210        0.007940          0.04         1           1   \n",
              "5246      115.000000     1176.500000          0.00         1           1   \n",
              "5247        0.016340        0.005476          0.06         0           0   \n",
              "5248        0.021560        0.008487          0.00         0           0   \n",
              "5249        0.028510        0.012868          0.07         0           0   \n",
              "\n",
              "      detection_method  \n",
              "0                    8  \n",
              "1                    8  \n",
              "2                    8  \n",
              "3                    8  \n",
              "4                    8  \n",
              "...                ...  \n",
              "5245                 9  \n",
              "5246                 1  \n",
              "5247                 8  \n",
              "5248                 8  \n",
              "5249                 8  \n",
              "\n",
              "[4765 rows x 10 columns]"
            ],
            "text/html": [
              "\n",
              "  <div id=\"df-fff6e60f-0029-4448-b08d-79eec7303183\">\n",
              "    <div class=\"colab-df-container\">\n",
              "      <div>\n",
              "<style scoped>\n",
              "    .dataframe tbody tr th:only-of-type {\n",
              "        vertical-align: middle;\n",
              "    }\n",
              "\n",
              "    .dataframe tbody tr th {\n",
              "        vertical-align: top;\n",
              "    }\n",
              "\n",
              "    .dataframe thead th {\n",
              "        text-align: right;\n",
              "    }\n",
              "</style>\n",
              "<table border=\"1\" class=\"dataframe\">\n",
              "  <thead>\n",
              "    <tr style=\"text-align: right;\">\n",
              "      <th></th>\n",
              "      <th>distance</th>\n",
              "      <th>stellar_magnitude</th>\n",
              "      <th>mass_multiplier</th>\n",
              "      <th>radius_multiplier</th>\n",
              "      <th>orbital_radius</th>\n",
              "      <th>orbital_period</th>\n",
              "      <th>eccentricity</th>\n",
              "      <th>mass_wrt</th>\n",
              "      <th>radius_wrt</th>\n",
              "      <th>detection_method</th>\n",
              "    </tr>\n",
              "  </thead>\n",
              "  <tbody>\n",
              "    <tr>\n",
              "      <th>0</th>\n",
              "      <td>304.0</td>\n",
              "      <td>4.72307</td>\n",
              "      <td>19.40000</td>\n",
              "      <td>1.080</td>\n",
              "      <td>1.290000</td>\n",
              "      <td>0.892539</td>\n",
              "      <td>0.23</td>\n",
              "      <td>1</td>\n",
              "      <td>1</td>\n",
              "      <td>8</td>\n",
              "    </tr>\n",
              "    <tr>\n",
              "      <th>1</th>\n",
              "      <td>409.0</td>\n",
              "      <td>5.01300</td>\n",
              "      <td>14.74000</td>\n",
              "      <td>1.090</td>\n",
              "      <td>1.530000</td>\n",
              "      <td>1.400000</td>\n",
              "      <td>0.08</td>\n",
              "      <td>1</td>\n",
              "      <td>1</td>\n",
              "      <td>8</td>\n",
              "    </tr>\n",
              "    <tr>\n",
              "      <th>2</th>\n",
              "      <td>246.0</td>\n",
              "      <td>5.23133</td>\n",
              "      <td>4.80000</td>\n",
              "      <td>1.150</td>\n",
              "      <td>0.830000</td>\n",
              "      <td>0.508693</td>\n",
              "      <td>0.00</td>\n",
              "      <td>1</td>\n",
              "      <td>1</td>\n",
              "      <td>8</td>\n",
              "    </tr>\n",
              "    <tr>\n",
              "      <th>3</th>\n",
              "      <td>58.0</td>\n",
              "      <td>6.61935</td>\n",
              "      <td>8.13881</td>\n",
              "      <td>1.120</td>\n",
              "      <td>2.773069</td>\n",
              "      <td>4.800000</td>\n",
              "      <td>0.37</td>\n",
              "      <td>1</td>\n",
              "      <td>1</td>\n",
              "      <td>8</td>\n",
              "    </tr>\n",
              "    <tr>\n",
              "      <th>4</th>\n",
              "      <td>69.0</td>\n",
              "      <td>6.21500</td>\n",
              "      <td>1.78000</td>\n",
              "      <td>1.200</td>\n",
              "      <td>1.660000</td>\n",
              "      <td>2.200000</td>\n",
              "      <td>0.68</td>\n",
              "      <td>1</td>\n",
              "      <td>1</td>\n",
              "      <td>8</td>\n",
              "    </tr>\n",
              "    <tr>\n",
              "      <th>...</th>\n",
              "      <td>...</td>\n",
              "      <td>...</td>\n",
              "      <td>...</td>\n",
              "      <td>...</td>\n",
              "      <td>...</td>\n",
              "      <td>...</td>\n",
              "      <td>...</td>\n",
              "      <td>...</td>\n",
              "      <td>...</td>\n",
              "      <td>...</td>\n",
              "    </tr>\n",
              "    <tr>\n",
              "      <th>5245</th>\n",
              "      <td>764.0</td>\n",
              "      <td>10.52100</td>\n",
              "      <td>0.70900</td>\n",
              "      <td>1.373</td>\n",
              "      <td>0.044210</td>\n",
              "      <td>0.007940</td>\n",
              "      <td>0.04</td>\n",
              "      <td>1</td>\n",
              "      <td>1</td>\n",
              "      <td>9</td>\n",
              "    </tr>\n",
              "    <tr>\n",
              "      <th>5246</th>\n",
              "      <td>357.0</td>\n",
              "      <td>10.88500</td>\n",
              "      <td>6.30000</td>\n",
              "      <td>1.140</td>\n",
              "      <td>115.000000</td>\n",
              "      <td>1176.500000</td>\n",
              "      <td>0.00</td>\n",
              "      <td>1</td>\n",
              "      <td>1</td>\n",
              "      <td>1</td>\n",
              "    </tr>\n",
              "    <tr>\n",
              "      <th>5247</th>\n",
              "      <td>12.0</td>\n",
              "      <td>12.07400</td>\n",
              "      <td>0.70000</td>\n",
              "      <td>0.913</td>\n",
              "      <td>0.016340</td>\n",
              "      <td>0.005476</td>\n",
              "      <td>0.06</td>\n",
              "      <td>0</td>\n",
              "      <td>0</td>\n",
              "      <td>8</td>\n",
              "    </tr>\n",
              "    <tr>\n",
              "      <th>5248</th>\n",
              "      <td>12.0</td>\n",
              "      <td>12.07400</td>\n",
              "      <td>1.14000</td>\n",
              "      <td>1.050</td>\n",
              "      <td>0.021560</td>\n",
              "      <td>0.008487</td>\n",
              "      <td>0.00</td>\n",
              "      <td>0</td>\n",
              "      <td>0</td>\n",
              "      <td>8</td>\n",
              "    </tr>\n",
              "    <tr>\n",
              "      <th>5249</th>\n",
              "      <td>12.0</td>\n",
              "      <td>12.07400</td>\n",
              "      <td>1.09000</td>\n",
              "      <td>1.030</td>\n",
              "      <td>0.028510</td>\n",
              "      <td>0.012868</td>\n",
              "      <td>0.07</td>\n",
              "      <td>0</td>\n",
              "      <td>0</td>\n",
              "      <td>8</td>\n",
              "    </tr>\n",
              "  </tbody>\n",
              "</table>\n",
              "<p>4765 rows × 10 columns</p>\n",
              "</div>\n",
              "      <button class=\"colab-df-convert\" onclick=\"convertToInteractive('df-fff6e60f-0029-4448-b08d-79eec7303183')\"\n",
              "              title=\"Convert this dataframe to an interactive table.\"\n",
              "              style=\"display:none;\">\n",
              "        \n",
              "  <svg xmlns=\"http://www.w3.org/2000/svg\" height=\"24px\"viewBox=\"0 0 24 24\"\n",
              "       width=\"24px\">\n",
              "    <path d=\"M0 0h24v24H0V0z\" fill=\"none\"/>\n",
              "    <path d=\"M18.56 5.44l.94 2.06.94-2.06 2.06-.94-2.06-.94-.94-2.06-.94 2.06-2.06.94zm-11 1L8.5 8.5l.94-2.06 2.06-.94-2.06-.94L8.5 2.5l-.94 2.06-2.06.94zm10 10l.94 2.06.94-2.06 2.06-.94-2.06-.94-.94-2.06-.94 2.06-2.06.94z\"/><path d=\"M17.41 7.96l-1.37-1.37c-.4-.4-.92-.59-1.43-.59-.52 0-1.04.2-1.43.59L10.3 9.45l-7.72 7.72c-.78.78-.78 2.05 0 2.83L4 21.41c.39.39.9.59 1.41.59.51 0 1.02-.2 1.41-.59l7.78-7.78 2.81-2.81c.8-.78.8-2.07 0-2.86zM5.41 20L4 18.59l7.72-7.72 1.47 1.35L5.41 20z\"/>\n",
              "  </svg>\n",
              "      </button>\n",
              "      \n",
              "  <style>\n",
              "    .colab-df-container {\n",
              "      display:flex;\n",
              "      flex-wrap:wrap;\n",
              "      gap: 12px;\n",
              "    }\n",
              "\n",
              "    .colab-df-convert {\n",
              "      background-color: #E8F0FE;\n",
              "      border: none;\n",
              "      border-radius: 50%;\n",
              "      cursor: pointer;\n",
              "      display: none;\n",
              "      fill: #1967D2;\n",
              "      height: 32px;\n",
              "      padding: 0 0 0 0;\n",
              "      width: 32px;\n",
              "    }\n",
              "\n",
              "    .colab-df-convert:hover {\n",
              "      background-color: #E2EBFA;\n",
              "      box-shadow: 0px 1px 2px rgba(60, 64, 67, 0.3), 0px 1px 3px 1px rgba(60, 64, 67, 0.15);\n",
              "      fill: #174EA6;\n",
              "    }\n",
              "\n",
              "    [theme=dark] .colab-df-convert {\n",
              "      background-color: #3B4455;\n",
              "      fill: #D2E3FC;\n",
              "    }\n",
              "\n",
              "    [theme=dark] .colab-df-convert:hover {\n",
              "      background-color: #434B5C;\n",
              "      box-shadow: 0px 1px 3px 1px rgba(0, 0, 0, 0.15);\n",
              "      filter: drop-shadow(0px 1px 2px rgba(0, 0, 0, 0.3));\n",
              "      fill: #FFFFFF;\n",
              "    }\n",
              "  </style>\n",
              "\n",
              "      <script>\n",
              "        const buttonEl =\n",
              "          document.querySelector('#df-fff6e60f-0029-4448-b08d-79eec7303183 button.colab-df-convert');\n",
              "        buttonEl.style.display =\n",
              "          google.colab.kernel.accessAllowed ? 'block' : 'none';\n",
              "\n",
              "        async function convertToInteractive(key) {\n",
              "          const element = document.querySelector('#df-fff6e60f-0029-4448-b08d-79eec7303183');\n",
              "          const dataTable =\n",
              "            await google.colab.kernel.invokeFunction('convertToInteractive',\n",
              "                                                     [key], {});\n",
              "          if (!dataTable) return;\n",
              "\n",
              "          const docLinkHtml = 'Like what you see? Visit the ' +\n",
              "            '<a target=\"_blank\" href=https://colab.research.google.com/notebooks/data_table.ipynb>data table notebook</a>'\n",
              "            + ' to learn more about interactive tables.';\n",
              "          element.innerHTML = '';\n",
              "          dataTable['output_type'] = 'display_data';\n",
              "          await google.colab.output.renderOutput(dataTable, element);\n",
              "          const docLink = document.createElement('div');\n",
              "          docLink.innerHTML = docLinkHtml;\n",
              "          element.appendChild(docLink);\n",
              "        }\n",
              "      </script>\n",
              "    </div>\n",
              "  </div>\n",
              "  "
            ]
          },
          "metadata": {},
          "execution_count": 53
        }
      ]
    },
    {
      "cell_type": "code",
      "source": [
        "y"
      ],
      "metadata": {
        "colab": {
          "base_uri": "https://localhost:8080/"
        },
        "id": "XAZp1H1fQYbA",
        "outputId": "b07166d2-6233-42af-cc6e-585a0aa0eaf8"
      },
      "execution_count": null,
      "outputs": [
        {
          "output_type": "execute_result",
          "data": {
            "text/plain": [
              "0         Gas Giant\n",
              "1         Gas Giant\n",
              "2         Gas Giant\n",
              "3         Gas Giant\n",
              "4         Gas Giant\n",
              "           ...     \n",
              "5245      Gas Giant\n",
              "5246      Gas Giant\n",
              "5247    Terrestrial\n",
              "5248    Super Earth\n",
              "5249    Super Earth\n",
              "Name: planet_type, Length: 4765, dtype: object"
            ]
          },
          "metadata": {},
          "execution_count": 54
        }
      ]
    },
    {
      "cell_type": "code",
      "source": [
        "y.value_counts()"
      ],
      "metadata": {
        "colab": {
          "base_uri": "https://localhost:8080/"
        },
        "id": "JnUYmLPWehmc",
        "outputId": "fda3ca78-7514-4cfd-d2b4-651ae4707112"
      },
      "execution_count": null,
      "outputs": [
        {
          "output_type": "execute_result",
          "data": {
            "text/plain": [
              "Neptune-like    1670\n",
              "Super Earth     1477\n",
              "Gas Giant       1435\n",
              "Terrestrial      183\n",
              "Name: planet_type, dtype: int64"
            ]
          },
          "metadata": {},
          "execution_count": 55
        }
      ]
    },
    {
      "cell_type": "markdown",
      "source": [
        "**Standardisation**\n",
        "\n",
        "Dùng Standardisation vì data có nhiều outliers nhưng những outliers này lại là thông tin thực tế, không thể thay đổi và cũng không thể giảm bớt những thông tin này khỏi việc classify các loại hành tinh (như khi dùng Min Max)."
      ],
      "metadata": {
        "id": "qGAao0j-WEjy"
      }
    },
    {
      "cell_type": "code",
      "source": [
        "from sklearn.preprocessing import StandardScaler\n",
        "sc = StandardScaler()\n",
        "X_std = sc.fit_transform(X)"
      ],
      "metadata": {
        "id": "gw-WCMqIR7iL"
      },
      "execution_count": null,
      "outputs": []
    },
    {
      "cell_type": "code",
      "source": [
        "from sklearn.metrics import accuracy_score"
      ],
      "metadata": {
        "id": "90YzVK0BR7fv"
      },
      "execution_count": null,
      "outputs": []
    },
    {
      "cell_type": "code",
      "source": [
        "X_std = pd.DataFrame(X_std, columns = [\"distance\",\t\"stellar_magnitude\",\t\"mass_multiplier\",\t\"radius_multiplier\",\t\"orbital_radius\",\t\"orbital_period\",\t\"eccentricity\",\n",
        "                                \"mass_wrt\",\t\"radius_wrt\",\t\"detection_method\"])\n",
        "X_std"
      ],
      "metadata": {
        "colab": {
          "base_uri": "https://localhost:8080/",
          "height": 423
        },
        "id": "LacKJ0zvI4Vy",
        "outputId": "6421acaa-fc09-4b59-f9fb-35d4f4dd9d86"
      },
      "execution_count": null,
      "outputs": [
        {
          "output_type": "execute_result",
          "data": {
            "text/plain": [
              "      distance  stellar_magnitude  mass_multiplier  radius_multiplier  \\\n",
              "0    -0.823214          -2.529758         0.968934           0.108443   \n",
              "1    -0.765295          -2.437727         0.620950           0.124875   \n",
              "2    -0.855207          -2.368424        -0.121316           0.223470   \n",
              "3    -0.958910          -1.927832         0.128008           0.174172   \n",
              "4    -0.952842          -2.056182        -0.346834           0.305631   \n",
              "...        ...                ...              ...                ...   \n",
              "4760 -0.569474          -0.689350        -0.426810           0.589911   \n",
              "4761 -0.793979          -0.573807        -0.009304           0.207037   \n",
              "4762 -0.984284          -0.196389        -0.427482          -0.165977   \n",
              "4763 -0.984284          -0.196389        -0.394625           0.059146   \n",
              "4764 -0.984284          -0.196389        -0.398359           0.026281   \n",
              "\n",
              "      orbital_radius  orbital_period  eccentricity  mass_wrt  radius_wrt  \\\n",
              "0          -0.037950       -0.027315      1.118030  1.501593    0.770830   \n",
              "1          -0.036242       -0.027286      0.085147  1.501593    0.770830   \n",
              "2          -0.041224       -0.027337     -0.465724  1.501593    0.770830   \n",
              "3          -0.027396       -0.027092      2.082054  1.501593    0.770830   \n",
              "4          -0.035317       -0.027240      4.216679  1.501593    0.770830   \n",
              "...              ...             ...           ...       ...         ...   \n",
              "4760       -0.046815       -0.027365     -0.190288  1.501593    0.770830   \n",
              "4761        0.771228        0.039705     -0.465724  1.501593    0.770830   \n",
              "4762       -0.047014       -0.027365     -0.052570 -0.665959   -1.297303   \n",
              "4763       -0.046977       -0.027365     -0.465724 -0.665959   -1.297303   \n",
              "4764       -0.046927       -0.027365      0.016288 -0.665959   -1.297303   \n",
              "\n",
              "      detection_method  \n",
              "0            -0.698920  \n",
              "1            -0.698920  \n",
              "2            -0.698920  \n",
              "3            -0.698920  \n",
              "4            -0.698920  \n",
              "...                ...  \n",
              "4760          0.324859  \n",
              "4761         -7.865372  \n",
              "4762         -0.698920  \n",
              "4763         -0.698920  \n",
              "4764         -0.698920  \n",
              "\n",
              "[4765 rows x 10 columns]"
            ],
            "text/html": [
              "\n",
              "  <div id=\"df-1c8899db-6ebe-411b-92d7-c1627da7e0d0\">\n",
              "    <div class=\"colab-df-container\">\n",
              "      <div>\n",
              "<style scoped>\n",
              "    .dataframe tbody tr th:only-of-type {\n",
              "        vertical-align: middle;\n",
              "    }\n",
              "\n",
              "    .dataframe tbody tr th {\n",
              "        vertical-align: top;\n",
              "    }\n",
              "\n",
              "    .dataframe thead th {\n",
              "        text-align: right;\n",
              "    }\n",
              "</style>\n",
              "<table border=\"1\" class=\"dataframe\">\n",
              "  <thead>\n",
              "    <tr style=\"text-align: right;\">\n",
              "      <th></th>\n",
              "      <th>distance</th>\n",
              "      <th>stellar_magnitude</th>\n",
              "      <th>mass_multiplier</th>\n",
              "      <th>radius_multiplier</th>\n",
              "      <th>orbital_radius</th>\n",
              "      <th>orbital_period</th>\n",
              "      <th>eccentricity</th>\n",
              "      <th>mass_wrt</th>\n",
              "      <th>radius_wrt</th>\n",
              "      <th>detection_method</th>\n",
              "    </tr>\n",
              "  </thead>\n",
              "  <tbody>\n",
              "    <tr>\n",
              "      <th>0</th>\n",
              "      <td>-0.823214</td>\n",
              "      <td>-2.529758</td>\n",
              "      <td>0.968934</td>\n",
              "      <td>0.108443</td>\n",
              "      <td>-0.037950</td>\n",
              "      <td>-0.027315</td>\n",
              "      <td>1.118030</td>\n",
              "      <td>1.501593</td>\n",
              "      <td>0.770830</td>\n",
              "      <td>-0.698920</td>\n",
              "    </tr>\n",
              "    <tr>\n",
              "      <th>1</th>\n",
              "      <td>-0.765295</td>\n",
              "      <td>-2.437727</td>\n",
              "      <td>0.620950</td>\n",
              "      <td>0.124875</td>\n",
              "      <td>-0.036242</td>\n",
              "      <td>-0.027286</td>\n",
              "      <td>0.085147</td>\n",
              "      <td>1.501593</td>\n",
              "      <td>0.770830</td>\n",
              "      <td>-0.698920</td>\n",
              "    </tr>\n",
              "    <tr>\n",
              "      <th>2</th>\n",
              "      <td>-0.855207</td>\n",
              "      <td>-2.368424</td>\n",
              "      <td>-0.121316</td>\n",
              "      <td>0.223470</td>\n",
              "      <td>-0.041224</td>\n",
              "      <td>-0.027337</td>\n",
              "      <td>-0.465724</td>\n",
              "      <td>1.501593</td>\n",
              "      <td>0.770830</td>\n",
              "      <td>-0.698920</td>\n",
              "    </tr>\n",
              "    <tr>\n",
              "      <th>3</th>\n",
              "      <td>-0.958910</td>\n",
              "      <td>-1.927832</td>\n",
              "      <td>0.128008</td>\n",
              "      <td>0.174172</td>\n",
              "      <td>-0.027396</td>\n",
              "      <td>-0.027092</td>\n",
              "      <td>2.082054</td>\n",
              "      <td>1.501593</td>\n",
              "      <td>0.770830</td>\n",
              "      <td>-0.698920</td>\n",
              "    </tr>\n",
              "    <tr>\n",
              "      <th>4</th>\n",
              "      <td>-0.952842</td>\n",
              "      <td>-2.056182</td>\n",
              "      <td>-0.346834</td>\n",
              "      <td>0.305631</td>\n",
              "      <td>-0.035317</td>\n",
              "      <td>-0.027240</td>\n",
              "      <td>4.216679</td>\n",
              "      <td>1.501593</td>\n",
              "      <td>0.770830</td>\n",
              "      <td>-0.698920</td>\n",
              "    </tr>\n",
              "    <tr>\n",
              "      <th>...</th>\n",
              "      <td>...</td>\n",
              "      <td>...</td>\n",
              "      <td>...</td>\n",
              "      <td>...</td>\n",
              "      <td>...</td>\n",
              "      <td>...</td>\n",
              "      <td>...</td>\n",
              "      <td>...</td>\n",
              "      <td>...</td>\n",
              "      <td>...</td>\n",
              "    </tr>\n",
              "    <tr>\n",
              "      <th>4760</th>\n",
              "      <td>-0.569474</td>\n",
              "      <td>-0.689350</td>\n",
              "      <td>-0.426810</td>\n",
              "      <td>0.589911</td>\n",
              "      <td>-0.046815</td>\n",
              "      <td>-0.027365</td>\n",
              "      <td>-0.190288</td>\n",
              "      <td>1.501593</td>\n",
              "      <td>0.770830</td>\n",
              "      <td>0.324859</td>\n",
              "    </tr>\n",
              "    <tr>\n",
              "      <th>4761</th>\n",
              "      <td>-0.793979</td>\n",
              "      <td>-0.573807</td>\n",
              "      <td>-0.009304</td>\n",
              "      <td>0.207037</td>\n",
              "      <td>0.771228</td>\n",
              "      <td>0.039705</td>\n",
              "      <td>-0.465724</td>\n",
              "      <td>1.501593</td>\n",
              "      <td>0.770830</td>\n",
              "      <td>-7.865372</td>\n",
              "    </tr>\n",
              "    <tr>\n",
              "      <th>4762</th>\n",
              "      <td>-0.984284</td>\n",
              "      <td>-0.196389</td>\n",
              "      <td>-0.427482</td>\n",
              "      <td>-0.165977</td>\n",
              "      <td>-0.047014</td>\n",
              "      <td>-0.027365</td>\n",
              "      <td>-0.052570</td>\n",
              "      <td>-0.665959</td>\n",
              "      <td>-1.297303</td>\n",
              "      <td>-0.698920</td>\n",
              "    </tr>\n",
              "    <tr>\n",
              "      <th>4763</th>\n",
              "      <td>-0.984284</td>\n",
              "      <td>-0.196389</td>\n",
              "      <td>-0.394625</td>\n",
              "      <td>0.059146</td>\n",
              "      <td>-0.046977</td>\n",
              "      <td>-0.027365</td>\n",
              "      <td>-0.465724</td>\n",
              "      <td>-0.665959</td>\n",
              "      <td>-1.297303</td>\n",
              "      <td>-0.698920</td>\n",
              "    </tr>\n",
              "    <tr>\n",
              "      <th>4764</th>\n",
              "      <td>-0.984284</td>\n",
              "      <td>-0.196389</td>\n",
              "      <td>-0.398359</td>\n",
              "      <td>0.026281</td>\n",
              "      <td>-0.046927</td>\n",
              "      <td>-0.027365</td>\n",
              "      <td>0.016288</td>\n",
              "      <td>-0.665959</td>\n",
              "      <td>-1.297303</td>\n",
              "      <td>-0.698920</td>\n",
              "    </tr>\n",
              "  </tbody>\n",
              "</table>\n",
              "<p>4765 rows × 10 columns</p>\n",
              "</div>\n",
              "      <button class=\"colab-df-convert\" onclick=\"convertToInteractive('df-1c8899db-6ebe-411b-92d7-c1627da7e0d0')\"\n",
              "              title=\"Convert this dataframe to an interactive table.\"\n",
              "              style=\"display:none;\">\n",
              "        \n",
              "  <svg xmlns=\"http://www.w3.org/2000/svg\" height=\"24px\"viewBox=\"0 0 24 24\"\n",
              "       width=\"24px\">\n",
              "    <path d=\"M0 0h24v24H0V0z\" fill=\"none\"/>\n",
              "    <path d=\"M18.56 5.44l.94 2.06.94-2.06 2.06-.94-2.06-.94-.94-2.06-.94 2.06-2.06.94zm-11 1L8.5 8.5l.94-2.06 2.06-.94-2.06-.94L8.5 2.5l-.94 2.06-2.06.94zm10 10l.94 2.06.94-2.06 2.06-.94-2.06-.94-.94-2.06-.94 2.06-2.06.94z\"/><path d=\"M17.41 7.96l-1.37-1.37c-.4-.4-.92-.59-1.43-.59-.52 0-1.04.2-1.43.59L10.3 9.45l-7.72 7.72c-.78.78-.78 2.05 0 2.83L4 21.41c.39.39.9.59 1.41.59.51 0 1.02-.2 1.41-.59l7.78-7.78 2.81-2.81c.8-.78.8-2.07 0-2.86zM5.41 20L4 18.59l7.72-7.72 1.47 1.35L5.41 20z\"/>\n",
              "  </svg>\n",
              "      </button>\n",
              "      \n",
              "  <style>\n",
              "    .colab-df-container {\n",
              "      display:flex;\n",
              "      flex-wrap:wrap;\n",
              "      gap: 12px;\n",
              "    }\n",
              "\n",
              "    .colab-df-convert {\n",
              "      background-color: #E8F0FE;\n",
              "      border: none;\n",
              "      border-radius: 50%;\n",
              "      cursor: pointer;\n",
              "      display: none;\n",
              "      fill: #1967D2;\n",
              "      height: 32px;\n",
              "      padding: 0 0 0 0;\n",
              "      width: 32px;\n",
              "    }\n",
              "\n",
              "    .colab-df-convert:hover {\n",
              "      background-color: #E2EBFA;\n",
              "      box-shadow: 0px 1px 2px rgba(60, 64, 67, 0.3), 0px 1px 3px 1px rgba(60, 64, 67, 0.15);\n",
              "      fill: #174EA6;\n",
              "    }\n",
              "\n",
              "    [theme=dark] .colab-df-convert {\n",
              "      background-color: #3B4455;\n",
              "      fill: #D2E3FC;\n",
              "    }\n",
              "\n",
              "    [theme=dark] .colab-df-convert:hover {\n",
              "      background-color: #434B5C;\n",
              "      box-shadow: 0px 1px 3px 1px rgba(0, 0, 0, 0.15);\n",
              "      filter: drop-shadow(0px 1px 2px rgba(0, 0, 0, 0.3));\n",
              "      fill: #FFFFFF;\n",
              "    }\n",
              "  </style>\n",
              "\n",
              "      <script>\n",
              "        const buttonEl =\n",
              "          document.querySelector('#df-1c8899db-6ebe-411b-92d7-c1627da7e0d0 button.colab-df-convert');\n",
              "        buttonEl.style.display =\n",
              "          google.colab.kernel.accessAllowed ? 'block' : 'none';\n",
              "\n",
              "        async function convertToInteractive(key) {\n",
              "          const element = document.querySelector('#df-1c8899db-6ebe-411b-92d7-c1627da7e0d0');\n",
              "          const dataTable =\n",
              "            await google.colab.kernel.invokeFunction('convertToInteractive',\n",
              "                                                     [key], {});\n",
              "          if (!dataTable) return;\n",
              "\n",
              "          const docLinkHtml = 'Like what you see? Visit the ' +\n",
              "            '<a target=\"_blank\" href=https://colab.research.google.com/notebooks/data_table.ipynb>data table notebook</a>'\n",
              "            + ' to learn more about interactive tables.';\n",
              "          element.innerHTML = '';\n",
              "          dataTable['output_type'] = 'display_data';\n",
              "          await google.colab.output.renderOutput(dataTable, element);\n",
              "          const docLink = document.createElement('div');\n",
              "          docLink.innerHTML = docLinkHtml;\n",
              "          element.appendChild(docLink);\n",
              "        }\n",
              "      </script>\n",
              "    </div>\n",
              "  </div>\n",
              "  "
            ]
          },
          "metadata": {},
          "execution_count": 58
        }
      ]
    },
    {
      "cell_type": "markdown",
      "source": [
        "**Train size, test size**"
      ],
      "metadata": {
        "id": "Qzuqdm3cs4jR"
      }
    },
    {
      "cell_type": "code",
      "source": [
        "from sklearn.model_selection import train_test_split\n",
        "X_train, X_test, y_train, y_test = train_test_split(X_std, y, test_size=0.3)"
      ],
      "metadata": {
        "id": "w_Gr62QmR7qX"
      },
      "execution_count": null,
      "outputs": []
    },
    {
      "cell_type": "code",
      "source": [
        "pd.DataFrame(X_train, columns = [\"distance\",\t\"stellar_magnitude\",\t\"mass_multiplier\",\t\"radius_multiplier\",\t\"orbital_radius\",\t\"orbital_period\",\t\"eccentricity\",\n",
        "                                \"mass_wrt\",\t\"radius_wrt\",\t\"detection_method\"])"
      ],
      "metadata": {
        "colab": {
          "base_uri": "https://localhost:8080/",
          "height": 423
        },
        "id": "wBfMKYzzR7n0",
        "outputId": "c09a15bb-e032-4848-f3ae-2b93af844cf1"
      },
      "execution_count": null,
      "outputs": [
        {
          "output_type": "execute_result",
          "data": {
            "text/plain": [
              "      distance  stellar_magnitude  mass_multiplier  radius_multiplier  \\\n",
              "398   0.063222           0.397196        -0.435323           0.535684   \n",
              "1355 -0.510451          -0.546509        -0.080245           1.899569   \n",
              "4063  2.089836           0.806992        -0.466014          -0.363165   \n",
              "4689 -0.628496          -0.032280        -0.320548           0.098584   \n",
              "1971  0.407427           0.053425        -0.296802           0.584981   \n",
              "...        ...                ...              ...                ...   \n",
              "403  -0.264434          -0.355736        -0.402840           0.133092   \n",
              "2332  0.657857           0.458777        -0.312483           0.469955   \n",
              "2024  1.036261           0.498772        -0.213166           1.143681   \n",
              "2754 -0.503280           1.166317        -0.292321           0.617846   \n",
              "2490  0.376537           0.687005        -0.314724           0.451879   \n",
              "\n",
              "      orbital_radius  orbital_period  eccentricity  mass_wrt  radius_wrt  \\\n",
              "398        -0.046792       -0.027365      1.806619  1.501593    0.770830   \n",
              "1355       -0.046356       -0.027364     -0.465724 -0.665959   -1.297303   \n",
              "4063       -0.045035       -0.027357     -0.465724  1.501593    0.770830   \n",
              "4689       -0.046838       -0.027365     -0.259147  1.501593    0.770830   \n",
              "1971       -0.045952       -0.027362     -0.465724 -0.665959   -1.297303   \n",
              "...              ...             ...           ...       ...         ...   \n",
              "403        -0.046717       -0.027365      0.691105  1.501593    0.770830   \n",
              "2332       -0.046063       -0.027362     -0.465724 -0.665959   -1.297303   \n",
              "2024       -0.046681       -0.027365     -0.465724 -0.665959   -1.297303   \n",
              "2754       -0.046820       -0.027365     -0.465724 -0.665959   -1.297303   \n",
              "2490       -0.046411       -0.027364     -0.465724 -0.665959   -1.297303   \n",
              "\n",
              "      detection_method  \n",
              "398           0.324859  \n",
              "1355          0.324859  \n",
              "4063          0.324859  \n",
              "4689          0.324859  \n",
              "1971          0.324859  \n",
              "...                ...  \n",
              "403           0.324859  \n",
              "2332          0.324859  \n",
              "2024          0.324859  \n",
              "2754          0.324859  \n",
              "2490          0.324859  \n",
              "\n",
              "[3335 rows x 10 columns]"
            ],
            "text/html": [
              "\n",
              "  <div id=\"df-1ceb971d-1808-4787-b31e-ece0a6668dda\">\n",
              "    <div class=\"colab-df-container\">\n",
              "      <div>\n",
              "<style scoped>\n",
              "    .dataframe tbody tr th:only-of-type {\n",
              "        vertical-align: middle;\n",
              "    }\n",
              "\n",
              "    .dataframe tbody tr th {\n",
              "        vertical-align: top;\n",
              "    }\n",
              "\n",
              "    .dataframe thead th {\n",
              "        text-align: right;\n",
              "    }\n",
              "</style>\n",
              "<table border=\"1\" class=\"dataframe\">\n",
              "  <thead>\n",
              "    <tr style=\"text-align: right;\">\n",
              "      <th></th>\n",
              "      <th>distance</th>\n",
              "      <th>stellar_magnitude</th>\n",
              "      <th>mass_multiplier</th>\n",
              "      <th>radius_multiplier</th>\n",
              "      <th>orbital_radius</th>\n",
              "      <th>orbital_period</th>\n",
              "      <th>eccentricity</th>\n",
              "      <th>mass_wrt</th>\n",
              "      <th>radius_wrt</th>\n",
              "      <th>detection_method</th>\n",
              "    </tr>\n",
              "  </thead>\n",
              "  <tbody>\n",
              "    <tr>\n",
              "      <th>398</th>\n",
              "      <td>0.063222</td>\n",
              "      <td>0.397196</td>\n",
              "      <td>-0.435323</td>\n",
              "      <td>0.535684</td>\n",
              "      <td>-0.046792</td>\n",
              "      <td>-0.027365</td>\n",
              "      <td>1.806619</td>\n",
              "      <td>1.501593</td>\n",
              "      <td>0.770830</td>\n",
              "      <td>0.324859</td>\n",
              "    </tr>\n",
              "    <tr>\n",
              "      <th>1355</th>\n",
              "      <td>-0.510451</td>\n",
              "      <td>-0.546509</td>\n",
              "      <td>-0.080245</td>\n",
              "      <td>1.899569</td>\n",
              "      <td>-0.046356</td>\n",
              "      <td>-0.027364</td>\n",
              "      <td>-0.465724</td>\n",
              "      <td>-0.665959</td>\n",
              "      <td>-1.297303</td>\n",
              "      <td>0.324859</td>\n",
              "    </tr>\n",
              "    <tr>\n",
              "      <th>4063</th>\n",
              "      <td>2.089836</td>\n",
              "      <td>0.806992</td>\n",
              "      <td>-0.466014</td>\n",
              "      <td>-0.363165</td>\n",
              "      <td>-0.045035</td>\n",
              "      <td>-0.027357</td>\n",
              "      <td>-0.465724</td>\n",
              "      <td>1.501593</td>\n",
              "      <td>0.770830</td>\n",
              "      <td>0.324859</td>\n",
              "    </tr>\n",
              "    <tr>\n",
              "      <th>4689</th>\n",
              "      <td>-0.628496</td>\n",
              "      <td>-0.032280</td>\n",
              "      <td>-0.320548</td>\n",
              "      <td>0.098584</td>\n",
              "      <td>-0.046838</td>\n",
              "      <td>-0.027365</td>\n",
              "      <td>-0.259147</td>\n",
              "      <td>1.501593</td>\n",
              "      <td>0.770830</td>\n",
              "      <td>0.324859</td>\n",
              "    </tr>\n",
              "    <tr>\n",
              "      <th>1971</th>\n",
              "      <td>0.407427</td>\n",
              "      <td>0.053425</td>\n",
              "      <td>-0.296802</td>\n",
              "      <td>0.584981</td>\n",
              "      <td>-0.045952</td>\n",
              "      <td>-0.027362</td>\n",
              "      <td>-0.465724</td>\n",
              "      <td>-0.665959</td>\n",
              "      <td>-1.297303</td>\n",
              "      <td>0.324859</td>\n",
              "    </tr>\n",
              "    <tr>\n",
              "      <th>...</th>\n",
              "      <td>...</td>\n",
              "      <td>...</td>\n",
              "      <td>...</td>\n",
              "      <td>...</td>\n",
              "      <td>...</td>\n",
              "      <td>...</td>\n",
              "      <td>...</td>\n",
              "      <td>...</td>\n",
              "      <td>...</td>\n",
              "      <td>...</td>\n",
              "    </tr>\n",
              "    <tr>\n",
              "      <th>403</th>\n",
              "      <td>-0.264434</td>\n",
              "      <td>-0.355736</td>\n",
              "      <td>-0.402840</td>\n",
              "      <td>0.133092</td>\n",
              "      <td>-0.046717</td>\n",
              "      <td>-0.027365</td>\n",
              "      <td>0.691105</td>\n",
              "      <td>1.501593</td>\n",
              "      <td>0.770830</td>\n",
              "      <td>0.324859</td>\n",
              "    </tr>\n",
              "    <tr>\n",
              "      <th>2332</th>\n",
              "      <td>0.657857</td>\n",
              "      <td>0.458777</td>\n",
              "      <td>-0.312483</td>\n",
              "      <td>0.469955</td>\n",
              "      <td>-0.046063</td>\n",
              "      <td>-0.027362</td>\n",
              "      <td>-0.465724</td>\n",
              "      <td>-0.665959</td>\n",
              "      <td>-1.297303</td>\n",
              "      <td>0.324859</td>\n",
              "    </tr>\n",
              "    <tr>\n",
              "      <th>2024</th>\n",
              "      <td>1.036261</td>\n",
              "      <td>0.498772</td>\n",
              "      <td>-0.213166</td>\n",
              "      <td>1.143681</td>\n",
              "      <td>-0.046681</td>\n",
              "      <td>-0.027365</td>\n",
              "      <td>-0.465724</td>\n",
              "      <td>-0.665959</td>\n",
              "      <td>-1.297303</td>\n",
              "      <td>0.324859</td>\n",
              "    </tr>\n",
              "    <tr>\n",
              "      <th>2754</th>\n",
              "      <td>-0.503280</td>\n",
              "      <td>1.166317</td>\n",
              "      <td>-0.292321</td>\n",
              "      <td>0.617846</td>\n",
              "      <td>-0.046820</td>\n",
              "      <td>-0.027365</td>\n",
              "      <td>-0.465724</td>\n",
              "      <td>-0.665959</td>\n",
              "      <td>-1.297303</td>\n",
              "      <td>0.324859</td>\n",
              "    </tr>\n",
              "    <tr>\n",
              "      <th>2490</th>\n",
              "      <td>0.376537</td>\n",
              "      <td>0.687005</td>\n",
              "      <td>-0.314724</td>\n",
              "      <td>0.451879</td>\n",
              "      <td>-0.046411</td>\n",
              "      <td>-0.027364</td>\n",
              "      <td>-0.465724</td>\n",
              "      <td>-0.665959</td>\n",
              "      <td>-1.297303</td>\n",
              "      <td>0.324859</td>\n",
              "    </tr>\n",
              "  </tbody>\n",
              "</table>\n",
              "<p>3335 rows × 10 columns</p>\n",
              "</div>\n",
              "      <button class=\"colab-df-convert\" onclick=\"convertToInteractive('df-1ceb971d-1808-4787-b31e-ece0a6668dda')\"\n",
              "              title=\"Convert this dataframe to an interactive table.\"\n",
              "              style=\"display:none;\">\n",
              "        \n",
              "  <svg xmlns=\"http://www.w3.org/2000/svg\" height=\"24px\"viewBox=\"0 0 24 24\"\n",
              "       width=\"24px\">\n",
              "    <path d=\"M0 0h24v24H0V0z\" fill=\"none\"/>\n",
              "    <path d=\"M18.56 5.44l.94 2.06.94-2.06 2.06-.94-2.06-.94-.94-2.06-.94 2.06-2.06.94zm-11 1L8.5 8.5l.94-2.06 2.06-.94-2.06-.94L8.5 2.5l-.94 2.06-2.06.94zm10 10l.94 2.06.94-2.06 2.06-.94-2.06-.94-.94-2.06-.94 2.06-2.06.94z\"/><path d=\"M17.41 7.96l-1.37-1.37c-.4-.4-.92-.59-1.43-.59-.52 0-1.04.2-1.43.59L10.3 9.45l-7.72 7.72c-.78.78-.78 2.05 0 2.83L4 21.41c.39.39.9.59 1.41.59.51 0 1.02-.2 1.41-.59l7.78-7.78 2.81-2.81c.8-.78.8-2.07 0-2.86zM5.41 20L4 18.59l7.72-7.72 1.47 1.35L5.41 20z\"/>\n",
              "  </svg>\n",
              "      </button>\n",
              "      \n",
              "  <style>\n",
              "    .colab-df-container {\n",
              "      display:flex;\n",
              "      flex-wrap:wrap;\n",
              "      gap: 12px;\n",
              "    }\n",
              "\n",
              "    .colab-df-convert {\n",
              "      background-color: #E8F0FE;\n",
              "      border: none;\n",
              "      border-radius: 50%;\n",
              "      cursor: pointer;\n",
              "      display: none;\n",
              "      fill: #1967D2;\n",
              "      height: 32px;\n",
              "      padding: 0 0 0 0;\n",
              "      width: 32px;\n",
              "    }\n",
              "\n",
              "    .colab-df-convert:hover {\n",
              "      background-color: #E2EBFA;\n",
              "      box-shadow: 0px 1px 2px rgba(60, 64, 67, 0.3), 0px 1px 3px 1px rgba(60, 64, 67, 0.15);\n",
              "      fill: #174EA6;\n",
              "    }\n",
              "\n",
              "    [theme=dark] .colab-df-convert {\n",
              "      background-color: #3B4455;\n",
              "      fill: #D2E3FC;\n",
              "    }\n",
              "\n",
              "    [theme=dark] .colab-df-convert:hover {\n",
              "      background-color: #434B5C;\n",
              "      box-shadow: 0px 1px 3px 1px rgba(0, 0, 0, 0.15);\n",
              "      filter: drop-shadow(0px 1px 2px rgba(0, 0, 0, 0.3));\n",
              "      fill: #FFFFFF;\n",
              "    }\n",
              "  </style>\n",
              "\n",
              "      <script>\n",
              "        const buttonEl =\n",
              "          document.querySelector('#df-1ceb971d-1808-4787-b31e-ece0a6668dda button.colab-df-convert');\n",
              "        buttonEl.style.display =\n",
              "          google.colab.kernel.accessAllowed ? 'block' : 'none';\n",
              "\n",
              "        async function convertToInteractive(key) {\n",
              "          const element = document.querySelector('#df-1ceb971d-1808-4787-b31e-ece0a6668dda');\n",
              "          const dataTable =\n",
              "            await google.colab.kernel.invokeFunction('convertToInteractive',\n",
              "                                                     [key], {});\n",
              "          if (!dataTable) return;\n",
              "\n",
              "          const docLinkHtml = 'Like what you see? Visit the ' +\n",
              "            '<a target=\"_blank\" href=https://colab.research.google.com/notebooks/data_table.ipynb>data table notebook</a>'\n",
              "            + ' to learn more about interactive tables.';\n",
              "          element.innerHTML = '';\n",
              "          dataTable['output_type'] = 'display_data';\n",
              "          await google.colab.output.renderOutput(dataTable, element);\n",
              "          const docLink = document.createElement('div');\n",
              "          docLink.innerHTML = docLinkHtml;\n",
              "          element.appendChild(docLink);\n",
              "        }\n",
              "      </script>\n",
              "    </div>\n",
              "  </div>\n",
              "  "
            ]
          },
          "metadata": {},
          "execution_count": 60
        }
      ]
    },
    {
      "cell_type": "code",
      "source": [
        "y_train"
      ],
      "metadata": {
        "colab": {
          "base_uri": "https://localhost:8080/"
        },
        "id": "vwng1_DmR7k8",
        "outputId": "90290ac3-2d6c-44de-80f0-6bae1a156886"
      },
      "execution_count": null,
      "outputs": [
        {
          "output_type": "execute_result",
          "data": {
            "text/plain": [
              "436        Gas Giant\n",
              "1482    Neptune-like\n",
              "4329       Gas Giant\n",
              "5172       Gas Giant\n",
              "2198     Super Earth\n",
              "            ...     \n",
              "441        Gas Giant\n",
              "2559     Super Earth\n",
              "2251     Super Earth\n",
              "2990     Super Earth\n",
              "2719     Super Earth\n",
              "Name: planet_type, Length: 3335, dtype: object"
            ]
          },
          "metadata": {},
          "execution_count": 61
        }
      ]
    },
    {
      "cell_type": "markdown",
      "source": [
        "**ML Models**"
      ],
      "metadata": {
        "id": "OCevtP7YYo8l"
      }
    },
    {
      "cell_type": "code",
      "source": [
        "### Logistic Regression"
      ],
      "metadata": {
        "id": "KRhklef4R7c6"
      },
      "execution_count": null,
      "outputs": []
    },
    {
      "cell_type": "code",
      "source": [
        "from sklearn.linear_model import LogisticRegression\n",
        "ModelLR = LogisticRegression(max_iter=200).fit(X_train,y_train)\n",
        "y_pred_logis = ModelLR.predict(X_test)\n",
        "print(\"Accuracy of LR:\",accuracy_score(y_test,y_pred_logis))"
      ],
      "metadata": {
        "colab": {
          "base_uri": "https://localhost:8080/"
        },
        "id": "IVKcDJuMR7aT",
        "outputId": "bc5f8d54-2213-461f-866e-039353ae98b4"
      },
      "execution_count": null,
      "outputs": [
        {
          "output_type": "stream",
          "name": "stdout",
          "text": [
            "Accuracy of LR: 0.9552447552447553\n"
          ]
        }
      ]
    },
    {
      "cell_type": "code",
      "source": [
        "import seaborn as sns\n",
        "from sklearn import metrics\n",
        "cnf_matrix = metrics.confusion_matrix(y_test, y_pred_logis)\n",
        "cnf_matrix\n",
        "class_names=[0,1] # name  of classes\n",
        "fig, ax = plt.subplots()\n",
        "tick_marks = np.arange(len(class_names))\n",
        "plt.xticks(tick_marks, class_names)\n",
        "plt.yticks(tick_marks, class_names)\n",
        "# create heatmap\n",
        "sns.heatmap(pd.DataFrame(cnf_matrix), annot=True, cmap=\"YlGnBu\" ,fmt='g')\n",
        "plt.tight_layout()\n",
        "plt.title('Confusion matrix', y=1.1)\n",
        "plt.ylabel('Actual label')\n",
        "plt.xlabel('Predicted label')"
      ],
      "metadata": {
        "colab": {
          "base_uri": "https://localhost:8080/",
          "height": 369
        },
        "id": "v5U0cbDt_gS6",
        "outputId": "100bf1de-0ea3-47d3-82a0-2f6e1f756c50"
      },
      "execution_count": null,
      "outputs": [
        {
          "output_type": "execute_result",
          "data": {
            "text/plain": [
              "Text(0.5, 15.0, 'Predicted label')"
            ]
          },
          "metadata": {},
          "execution_count": 64
        },
        {
          "output_type": "display_data",
          "data": {
            "text/plain": [
              "<Figure size 432x288 with 2 Axes>"
            ],
            "image/png": "[encoded data removed]"
          },
          "metadata": {
            "needs_background": "light"
          }
        }
      ]
    },
    {
      "cell_type": "code",
      "source": [
        "### KNN"
      ],
      "metadata": {
        "id": "5gZ8UDiXB3DU"
      },
      "execution_count": null,
      "outputs": []
    },
    {
      "cell_type": "code",
      "source": [
        "from sklearn.neighbors import KNeighborsClassifier\n",
        "knn = KNeighborsClassifier().fit(X_train,y_train)\n",
        "y_pred_knn = knn.predict(X_test)\n",
        "print(\"Accuracy of KNN:\",accuracy_score(y_test,y_pred_knn))"
      ],
      "metadata": {
        "colab": {
          "base_uri": "https://localhost:8080/"
        },
        "id": "xn8z4DH3B2vt",
        "outputId": "b178c7e5-fd84-4101-ee0f-828d20ffddbd"
      },
      "execution_count": null,
      "outputs": [
        {
          "output_type": "stream",
          "name": "stdout",
          "text": [
            "Accuracy of KNN: 0.9447552447552447\n"
          ]
        }
      ]
    },
    {
      "cell_type": "code",
      "source": [
        "import seaborn as sns\n",
        "from sklearn import metrics\n",
        "cnf_matrix = metrics.confusion_matrix(y_test, y_pred_knn)\n",
        "cnf_matrix\n",
        "class_names=[0,1] # name  of classes\n",
        "fig, ax = plt.subplots()\n",
        "tick_marks = np.arange(len(class_names))\n",
        "plt.xticks(tick_marks, class_names)\n",
        "plt.yticks(tick_marks, class_names)\n",
        "# create heatmap\n",
        "sns.heatmap(pd.DataFrame(cnf_matrix), annot=True, cmap=\"YlGnBu\" ,fmt='g')\n",
        "plt.tight_layout()\n",
        "plt.title('Confusion matrix', y=1.1)\n",
        "plt.ylabel('Actual label')\n",
        "plt.xlabel('Predicted label')"
      ],
      "metadata": {
        "colab": {
          "base_uri": "https://localhost:8080/",
          "height": 369
        },
        "id": "7UVmlrFFB2nu",
        "outputId": "463d688d-0ddd-4558-b214-f1c7d081e222"
      },
      "execution_count": null,
      "outputs": [
        {
          "output_type": "execute_result",
          "data": {
            "text/plain": [
              "Text(0.5, 15.0, 'Predicted label')"
            ]
          },
          "metadata": {},
          "execution_count": 67
        },
        {
          "output_type": "display_data",
          "data": {
            "text/plain": [
              "<Figure size 432x288 with 2 Axes>"
            ],
            "image/png": "[encoded data removed]"
          },
          "metadata": {
            "needs_background": "light"
          }
        }
      ]
    },
    {
      "cell_type": "code",
      "source": [
        "### GaussianNB"
      ],
      "metadata": {
        "id": "6OMCsVLs_uGI"
      },
      "execution_count": null,
      "outputs": []
    },
    {
      "cell_type": "code",
      "source": [
        "from sklearn.naive_bayes import GaussianNB\n",
        "GNB = GaussianNB().fit(X_train, y_train) # Training mô hình\n",
        "y_pred_gnb=GNB.predict(X_test)\n",
        "print(\"Accuracy of GNB:\",accuracy_score(y_test,y_pred_gnb))"
      ],
      "metadata": {
        "colab": {
          "base_uri": "https://localhost:8080/"
        },
        "id": "yt6nYg8O_t3Z",
        "outputId": "03adcb84-85f8-4ee4-a548-2e259bc02624"
      },
      "execution_count": null,
      "outputs": [
        {
          "output_type": "stream",
          "name": "stdout",
          "text": [
            "Accuracy of GNB: 0.8902097902097902\n"
          ]
        }
      ]
    },
    {
      "cell_type": "code",
      "source": [
        "import seaborn as sns\n",
        "from sklearn import metrics\n",
        "cnf_matrix = metrics.confusion_matrix(y_test, y_pred_gnb)\n",
        "cnf_matrix\n",
        "class_names=[0,1] # name  of classes\n",
        "fig, ax = plt.subplots()\n",
        "tick_marks = np.arange(len(class_names))\n",
        "plt.xticks(tick_marks, class_names)\n",
        "plt.yticks(tick_marks, class_names)\n",
        "# create heatmap\n",
        "sns.heatmap(pd.DataFrame(cnf_matrix), annot=True, cmap=\"YlGnBu\" ,fmt='g')\n",
        "plt.tight_layout()\n",
        "plt.title('Confusion matrix', y=1.1)\n",
        "plt.ylabel('Actual label')\n",
        "plt.xlabel('Predicted label')"
      ],
      "metadata": {
        "colab": {
          "base_uri": "https://localhost:8080/",
          "height": 369
        },
        "id": "jYntqVry_tyj",
        "outputId": "b8a1dd39-8b31-4180-c89d-317a6fd0cfea"
      },
      "execution_count": null,
      "outputs": [
        {
          "output_type": "execute_result",
          "data": {
            "text/plain": [
              "Text(0.5, 15.0, 'Predicted label')"
            ]
          },
          "metadata": {},
          "execution_count": 70
        },
        {
          "output_type": "display_data",
          "data": {
            "text/plain": [
              "<Figure size 432x288 with 2 Axes>"
            ],
            "image/png": "[encoded data removed]"
          },
          "metadata": {
            "needs_background": "light"
          }
        }
      ]
    },
    {
      "cell_type": "code",
      "source": [
        "### Decision Tree"
      ],
      "metadata": {
        "id": "CN1v1CqqR7SJ"
      },
      "execution_count": null,
      "outputs": []
    },
    {
      "cell_type": "code",
      "source": [
        "from sklearn.tree import DecisionTreeClassifier\n",
        "dt = DecisionTreeClassifier().fit(X_train,y_train)\n",
        "y_pred_dt = dt.predict(X_test)\n",
        "print(\"Accuracy of Decision Tree:\",accuracy_score(y_test,y_pred_dt))"
      ],
      "metadata": {
        "colab": {
          "base_uri": "https://localhost:8080/"
        },
        "id": "ceSsS-o3R7Ps",
        "outputId": "8eeb3c55-ce89-4d32-8868-b5d2793b5fc7"
      },
      "execution_count": null,
      "outputs": [
        {
          "output_type": "stream",
          "name": "stdout",
          "text": [
            "Accuracy of Decision Tree: 0.9748251748251748\n"
          ]
        }
      ]
    },
    {
      "cell_type": "code",
      "source": [
        "import seaborn as sns\n",
        "from sklearn import metrics\n",
        "cnf_matrix = metrics.confusion_matrix(y_test, y_pred_dt)\n",
        "cnf_matrix\n",
        "class_names=[0,1] # name  of classes\n",
        "fig, ax = plt.subplots()\n",
        "tick_marks = np.arange(len(class_names))\n",
        "plt.xticks(tick_marks, class_names)\n",
        "plt.yticks(tick_marks, class_names)\n",
        "# create heatmap\n",
        "sns.heatmap(pd.DataFrame(cnf_matrix), annot=True, cmap=\"YlGnBu\" ,fmt='g')\n",
        "plt.tight_layout()\n",
        "plt.title('Confusion matrix', y=1.1)\n",
        "plt.ylabel('Actual label')\n",
        "plt.xlabel('Predicted label')"
      ],
      "metadata": {
        "colab": {
          "base_uri": "https://localhost:8080/",
          "height": 369
        },
        "id": "3tQRH0Ta_Wrp",
        "outputId": "dbe7cf62-becb-4ba5-e202-181133d0fc90"
      },
      "execution_count": null,
      "outputs": [
        {
          "output_type": "execute_result",
          "data": {
            "text/plain": [
              "Text(0.5, 15.0, 'Predicted label')"
            ]
          },
          "metadata": {},
          "execution_count": 73
        },
        {
          "output_type": "display_data",
          "data": {
            "text/plain": [
              "<Figure size 432x288 with 2 Axes>"
            ],
            "image/png": "[encoded data removed]"
          },
          "metadata": {
            "needs_background": "light"
          }
        }
      ]
    },
    {
      "cell_type": "markdown",
      "source": [
        "**Confusion Matrix:**\n",
        "- Chạy 4 mô hình: LogisticRegression, K-Near Neighbors, Gaussian Naive Bayes và Decision Tree để phân loại các ngoại hành tinh.\n",
        "- Trong cả 4 thì Decision Tree có độ chính xác là cao nhất, và có tổng số dự đoán sai là ít nhất so với 3 mô hình còn lại.\n",
        "- LR và KNN đều có dự đoán sai khá nhiều cho loại hành tinh Neptune-like và Super Earth.\n",
        "- GNB cũng mắc nhiều sai lầm khi dự đoán 2 hành tinh này nhưng nhiều nhất là Super-Earth.\n",
        "\n",
        "=> Ta sử dụng mô hình Decision Tree để phân loại các ngoại hành tinh sẽ có độ chính xác cao nhất.\n"
      ],
      "metadata": {
        "id": "dHp10JH6Ph02"
      }
    },
    {
      "cell_type": "code",
      "source": [
        "from sklearn import tree\n",
        "X, y = X_std, y\n",
        "model = tree.DecisionTreeClassifier()\n",
        "model = model.fit(X, y)\n",
        "import graphviz\n",
        "dot_data = tree.export_graphviz(model, out_file=None,feature_names=[\"distance\",\t\"stellar_magnitude\",\t\"mass_multiplier\",\t\"radius_multiplier\",\t\"orbital_radius\",\t\"orbital_period\",\t\"eccentricity\",\n",
        "                                                                    \"mass_wrt\",\t\"radius_wrt\",\t\"detection_method\"], class_names=[\"Neptune-like\", \"Gas Giant\", \"Super Earth\", \"Terrestrial\"],\n",
        "                                filled=True, rounded=True, special_characters=True)\n",
        "graph = graphviz.Source(dot_data)\n",
        "graph"
      ],
      "metadata": {
        "colab": {
          "base_uri": "https://localhost:8080/",
          "height": 1000
        },
        "id": "Sb3TdcoTbUQO",
        "outputId": "a95d893c-8800-4cf8-f0ba-53c60b8da600"
      },
      "execution_count": null,
      "outputs": [
        {
          "output_type": "execute_result",
          "data": {
            "text/plain": [
              "<graphviz.files.Source at 0x7efc20fda400>"
            ],
            "image/svg+xml": "<?xml version=\"1.0\" encoding=\"UTF-8\" standalone=\"no\"?>\n<!DOCTYPE svg PUBLIC \"-//W3C//DTD SVG 1.1//EN\"\n \"http://www.w3.org/Graphics/SVG/1.1/DTD/svg11.dtd\">\n<!-- Generated by graphviz version 2.43.0 (0)\n -->\n<!-- Title: Tree Pages: 1 -->\n<svg width=\"5683pt\" height=\"1623pt\"\n viewBox=\"0.00 0.00 5682.50 1623.00\" xmlns=\"http://www.w3.org/2000/svg\" xmlns:xlink=\"http://www.w3.org/1999/xlink\">\n<g id=\"graph0\" class=\"graph\" transform=\"scale(1 1) rotate(0) translate(4 1619)\">\n<title>Tree</title>\n<polygon fill=\"white\" stroke=\"transparent\" points=\"-4,4 -4,-1619 5678.5,-1619 5678.5,4 -4,4\"/>\n<!-- 0 -->\n<g id=\"node1\" class=\"node\">\n<title>0</title>\n<path fill=\"#f4fdf3\" stroke=\"black\" d=\"M3291.5,-1615C3291.5,-1615 3108.5,-1615 3108.5,-1615 3102.5,-1615 3096.5,-1609 3096.5,-1603 3096.5,-1603 3096.5,-1544 3096.5,-1544 3096.5,-1538 3102.5,-1532 3108.5,-1532 3108.5,-1532 3291.5,-1532 3291.5,-1532 3297.5,-1532 3303.5,-1538 3303.5,-1544 3303.5,-1544 3303.5,-1603 3303.5,-1603 3303.5,-1609 3297.5,-1615 3291.5,-1615\"/>\n<text text-anchor=\"start\" x=\"3146\" y=\"-1599.8\" font-family=\"Helvetica,sans-Serif\" font-size=\"14.00\">mass_wrt ≤ 0.418</text>\n<text text-anchor=\"start\" x=\"3164.5\" y=\"-1584.8\" font-family=\"Helvetica,sans-Serif\" font-size=\"14.00\">gini = 0.689</text>\n<text text-anchor=\"start\" x=\"3151.5\" y=\"-1569.8\" font-family=\"Helvetica,sans-Serif\" font-size=\"14.00\">samples = 4765</text>\n<text text-anchor=\"start\" x=\"3104.5\" y=\"-1554.8\" font-family=\"Helvetica,sans-Serif\" font-size=\"14.00\">value = [1435, 1670, 1477, 183]</text>\n<text text-anchor=\"start\" x=\"3145.5\" y=\"-1539.8\" font-family=\"Helvetica,sans-Serif\" font-size=\"14.00\">class = Gas Giant</text>\n</g>\n<!-- 1 -->\n<g id=\"node2\" class=\"node\">\n<title>1</title>\n<path fill=\"#ecfcea\" stroke=\"black\" d=\"M2631.5,-1496C2631.5,-1496 2470.5,-1496 2470.5,-1496 2464.5,-1496 2458.5,-1490 2458.5,-1484 2458.5,-1484 2458.5,-1425 2458.5,-1425 2458.5,-1419 2464.5,-1413 2470.5,-1413 2470.5,-1413 2631.5,-1413 2631.5,-1413 2637.5,-1413 2643.5,-1419 2643.5,-1425 2643.5,-1425 2643.5,-1484 2643.5,-1484 2643.5,-1490 2637.5,-1496 2631.5,-1496\"/>\n<text text-anchor=\"start\" x=\"2476.5\" y=\"-1480.8\" font-family=\"Helvetica,sans-Serif\" font-size=\"14.00\">mass_multiplier ≤ &#45;0.103</text>\n<text text-anchor=\"start\" x=\"2515.5\" y=\"-1465.8\" font-family=\"Helvetica,sans-Serif\" font-size=\"14.00\">gini = 0.551</text>\n<text text-anchor=\"start\" x=\"2502.5\" y=\"-1450.8\" font-family=\"Helvetica,sans-Serif\" font-size=\"14.00\">samples = 3301</text>\n<text text-anchor=\"start\" x=\"2466.5\" y=\"-1435.8\" font-family=\"Helvetica,sans-Serif\" font-size=\"14.00\">value = [8, 1653, 1458, 182]</text>\n<text text-anchor=\"start\" x=\"2496.5\" y=\"-1420.8\" font-family=\"Helvetica,sans-Serif\" font-size=\"14.00\">class = Gas Giant</text>\n</g>\n<!-- 0&#45;&gt;1 -->\n<g id=\"edge1\" class=\"edge\">\n<title>0&#45;&gt;1</title>\n<path fill=\"none\" stroke=\"black\" d=\"M3096.45,-1553.83C2974.96,-1531.93 2774.81,-1495.85 2653.7,-1474.01\"/>\n<polygon fill=\"black\" stroke=\"black\" points=\"2654.13,-1470.54 2643.67,-1472.21 2652.89,-1477.43 2654.13,-1470.54\"/>\n<text text-anchor=\"middle\" x=\"2657.93\" y=\"-1489.04\" font-family=\"Helvetica,sans-Serif\" font-size=\"14.00\">True</text>\n</g>\n<!-- 134 -->\n<g id=\"node135\" class=\"node\">\n<title>134</title>\n<path fill=\"#e6843e\" stroke=\"black\" d=\"M4415,-1496C4415,-1496 4277,-1496 4277,-1496 4271,-1496 4265,-1490 4265,-1484 4265,-1484 4265,-1425 4265,-1425 4265,-1419 4271,-1413 4277,-1413 4277,-1413 4415,-1413 4415,-1413 4421,-1413 4427,-1419 4427,-1425 4427,-1425 4427,-1484 4427,-1484 4427,-1490 4421,-1496 4415,-1496\"/>\n<text text-anchor=\"start\" x=\"4288\" y=\"-1480.8\" font-family=\"Helvetica,sans-Serif\" font-size=\"14.00\">radius_wrt ≤ &#45;0.263</text>\n<text text-anchor=\"start\" x=\"4314\" y=\"-1465.8\" font-family=\"Helvetica,sans-Serif\" font-size=\"14.00\">gini = 0.05</text>\n<text text-anchor=\"start\" x=\"4297.5\" y=\"-1450.8\" font-family=\"Helvetica,sans-Serif\" font-size=\"14.00\">samples = 1464</text>\n<text text-anchor=\"start\" x=\"4273\" y=\"-1435.8\" font-family=\"Helvetica,sans-Serif\" font-size=\"14.00\">value = [1427, 17, 19, 1]</text>\n<text text-anchor=\"start\" x=\"4284.5\" y=\"-1420.8\" font-family=\"Helvetica,sans-Serif\" font-size=\"14.00\">class = Neptune&#45;like</text>\n</g>\n<!-- 0&#45;&gt;134 -->\n<g id=\"edge134\" class=\"edge\">\n<title>0&#45;&gt;134</title>\n<path fill=\"none\" stroke=\"black\" d=\"M3303.72,-1561.91C3525.84,-1539.23 4044.38,-1486.29 4254.82,-1464.81\"/>\n<polygon fill=\"black\" stroke=\"black\" points=\"4255.32,-1468.28 4264.91,-1463.78 4254.6,-1461.31 4255.32,-1468.28\"/>\n<text text-anchor=\"middle\" x=\"4249.12\" y=\"-1479.46\" font-family=\"Helvetica,sans-Serif\" font-size=\"14.00\">False</text>\n</g>\n<!-- 2 -->\n<g id=\"node3\" class=\"node\">\n<title>2</title>\n<path fill=\"#59ade9\" stroke=\"black\" d=\"M1410,-1377C1410,-1377 1264,-1377 1264,-1377 1258,-1377 1252,-1371 1252,-1365 1252,-1365 1252,-1306 1252,-1306 1252,-1300 1258,-1294 1264,-1294 1264,-1294 1410,-1294 1410,-1294 1416,-1294 1422,-1300 1422,-1306 1422,-1306 1422,-1365 1422,-1365 1422,-1371 1416,-1377 1410,-1377\"/>\n<text text-anchor=\"start\" x=\"1260.5\" y=\"-1361.8\" font-family=\"Helvetica,sans-Serif\" font-size=\"14.00\">radius_multiplier ≤ &#45;0.016</text>\n<text text-anchor=\"start\" x=\"1305\" y=\"-1346.8\" font-family=\"Helvetica,sans-Serif\" font-size=\"14.00\">gini = 0.25</text>\n<text text-anchor=\"start\" x=\"1288.5\" y=\"-1331.8\" font-family=\"Helvetica,sans-Serif\" font-size=\"14.00\">samples = 1521</text>\n<text text-anchor=\"start\" x=\"1260\" y=\"-1316.8\" font-family=\"Helvetica,sans-Serif\" font-size=\"14.00\">value = [0, 38, 1305, 178]</text>\n<text text-anchor=\"start\" x=\"1277.5\" y=\"-1301.8\" font-family=\"Helvetica,sans-Serif\" font-size=\"14.00\">class = Super Earth</text>\n</g>\n<!-- 1&#45;&gt;2 -->\n<g id=\"edge2\" class=\"edge\">\n<title>1&#45;&gt;2</title>\n<path fill=\"none\" stroke=\"black\" d=\"M2458.26,-1444.56C2233.21,-1422.87 1660,-1367.63 1432.32,-1345.69\"/>\n<polygon fill=\"black\" stroke=\"black\" points=\"1432.36,-1342.17 1422.07,-1344.7 1431.69,-1349.14 1432.36,-1342.17\"/>\n</g>\n<!-- 45 -->\n<g id=\"node46\" class=\"node\">\n<title>45</title>\n<path fill=\"#5ae84d\" stroke=\"black\" d=\"M2620,-1377C2620,-1377 2482,-1377 2482,-1377 2476,-1377 2470,-1371 2470,-1365 2470,-1365 2470,-1306 2470,-1306 2470,-1300 2476,-1294 2482,-1294 2482,-1294 2620,-1294 2620,-1294 2626,-1294 2632,-1300 2632,-1306 2632,-1306 2632,-1365 2632,-1365 2632,-1371 2626,-1377 2620,-1377\"/>\n<text text-anchor=\"start\" x=\"2493\" y=\"-1361.8\" font-family=\"Helvetica,sans-Serif\" font-size=\"14.00\">radius_wrt ≤ &#45;0.263</text>\n<text text-anchor=\"start\" x=\"2515.5\" y=\"-1346.8\" font-family=\"Helvetica,sans-Serif\" font-size=\"14.00\">gini = 0.169</text>\n<text text-anchor=\"start\" x=\"2502.5\" y=\"-1331.8\" font-family=\"Helvetica,sans-Serif\" font-size=\"14.00\">samples = 1780</text>\n<text text-anchor=\"start\" x=\"2478\" y=\"-1316.8\" font-family=\"Helvetica,sans-Serif\" font-size=\"14.00\">value = [8, 1615, 153, 4]</text>\n<text text-anchor=\"start\" x=\"2496.5\" y=\"-1301.8\" font-family=\"Helvetica,sans-Serif\" font-size=\"14.00\">class = Gas Giant</text>\n</g>\n<!-- 1&#45;&gt;45 -->\n<g id=\"edge45\" class=\"edge\">\n<title>1&#45;&gt;45</title>\n<path fill=\"none\" stroke=\"black\" d=\"M2551,-1412.91C2551,-1404.65 2551,-1395.86 2551,-1387.3\"/>\n<polygon fill=\"black\" stroke=\"black\" points=\"2554.5,-1387.02 2551,-1377.02 2547.5,-1387.02 2554.5,-1387.02\"/>\n</g>\n<!-- 3 -->\n<g id=\"node4\" class=\"node\">\n<title>3</title>\n<path fill=\"#de5cea\" stroke=\"black\" d=\"M708.5,-1258C708.5,-1258 567.5,-1258 567.5,-1258 561.5,-1258 555.5,-1252 555.5,-1246 555.5,-1246 555.5,-1187 555.5,-1187 555.5,-1181 561.5,-1175 567.5,-1175 567.5,-1175 708.5,-1175 708.5,-1175 714.5,-1175 720.5,-1181 720.5,-1187 720.5,-1187 720.5,-1246 720.5,-1246 720.5,-1252 714.5,-1258 708.5,-1258\"/>\n<text text-anchor=\"start\" x=\"563.5\" y=\"-1242.8\" font-family=\"Helvetica,sans-Serif\" font-size=\"14.00\">mass_multiplier ≤ &#45;0.344</text>\n<text text-anchor=\"start\" x=\"602.5\" y=\"-1227.8\" font-family=\"Helvetica,sans-Serif\" font-size=\"14.00\">gini = 0.275</text>\n<text text-anchor=\"start\" x=\"593\" y=\"-1212.8\" font-family=\"Helvetica,sans-Serif\" font-size=\"14.00\">samples = 210</text>\n<text text-anchor=\"start\" x=\"568.5\" y=\"-1197.8\" font-family=\"Helvetica,sans-Serif\" font-size=\"14.00\">value = [0, 23, 10, 177]</text>\n<text text-anchor=\"start\" x=\"585\" y=\"-1182.8\" font-family=\"Helvetica,sans-Serif\" font-size=\"14.00\">class = Terrestrial</text>\n</g>\n<!-- 2&#45;&gt;3 -->\n<g id=\"edge3\" class=\"edge\">\n<title>2&#45;&gt;3</title>\n<path fill=\"none\" stroke=\"black\" d=\"M1251.99,-1320.27C1120.03,-1298.18 866.95,-1255.82 730.54,-1232.99\"/>\n<polygon fill=\"black\" stroke=\"black\" points=\"730.97,-1229.51 720.53,-1231.31 729.81,-1236.42 730.97,-1229.51\"/>\n</g>\n<!-- 22 -->\n<g id=\"node23\" class=\"node\">\n<title>22</title>\n<path fill=\"#3b9ee5\" stroke=\"black\" d=\"M1407,-1258C1407,-1258 1267,-1258 1267,-1258 1261,-1258 1255,-1252 1255,-1246 1255,-1246 1255,-1187 1255,-1187 1255,-1181 1261,-1175 1267,-1175 1267,-1175 1407,-1175 1407,-1175 1413,-1175 1419,-1181 1419,-1187 1419,-1187 1419,-1246 1419,-1246 1419,-1252 1413,-1258 1407,-1258\"/>\n<text text-anchor=\"start\" x=\"1263\" y=\"-1242.8\" font-family=\"Helvetica,sans-Serif\" font-size=\"14.00\">radius_multiplier ≤ 1.801</text>\n<text text-anchor=\"start\" x=\"1301.5\" y=\"-1227.8\" font-family=\"Helvetica,sans-Serif\" font-size=\"14.00\">gini = 0.024</text>\n<text text-anchor=\"start\" x=\"1288.5\" y=\"-1212.8\" font-family=\"Helvetica,sans-Serif\" font-size=\"14.00\">samples = 1311</text>\n<text text-anchor=\"start\" x=\"1267.5\" y=\"-1197.8\" font-family=\"Helvetica,sans-Serif\" font-size=\"14.00\">value = [0, 15, 1295, 1]</text>\n<text text-anchor=\"start\" x=\"1277.5\" y=\"-1182.8\" font-family=\"Helvetica,sans-Serif\" font-size=\"14.00\">class = Super Earth</text>\n</g>\n<!-- 2&#45;&gt;22 -->\n<g id=\"edge22\" class=\"edge\">\n<title>2&#45;&gt;22</title>\n<path fill=\"none\" stroke=\"black\" d=\"M1337,-1293.91C1337,-1285.65 1337,-1276.86 1337,-1268.3\"/>\n<polygon fill=\"black\" stroke=\"black\" points=\"1340.5,-1268.02 1337,-1258.02 1333.5,-1268.02 1340.5,-1268.02\"/>\n</g>\n<!-- 4 -->\n<g id=\"node5\" class=\"node\">\n<title>4</title>\n<path fill=\"#d73ae5\" stroke=\"black\" d=\"M296.5,-1139C296.5,-1139 155.5,-1139 155.5,-1139 149.5,-1139 143.5,-1133 143.5,-1127 143.5,-1127 143.5,-1068 143.5,-1068 143.5,-1062 149.5,-1056 155.5,-1056 155.5,-1056 296.5,-1056 296.5,-1056 302.5,-1056 308.5,-1062 308.5,-1068 308.5,-1068 308.5,-1127 308.5,-1127 308.5,-1133 302.5,-1139 296.5,-1139\"/>\n<text text-anchor=\"start\" x=\"151.5\" y=\"-1123.8\" font-family=\"Helvetica,sans-Serif\" font-size=\"14.00\">mass_multiplier ≤ &#45;0.391</text>\n<text text-anchor=\"start\" x=\"190.5\" y=\"-1108.8\" font-family=\"Helvetica,sans-Serif\" font-size=\"14.00\">gini = 0.011</text>\n<text text-anchor=\"start\" x=\"181\" y=\"-1093.8\" font-family=\"Helvetica,sans-Serif\" font-size=\"14.00\">samples = 173</text>\n<text text-anchor=\"start\" x=\"164\" y=\"-1078.8\" font-family=\"Helvetica,sans-Serif\" font-size=\"14.00\">value = [0, 0, 1, 172]</text>\n<text text-anchor=\"start\" x=\"173\" y=\"-1063.8\" font-family=\"Helvetica,sans-Serif\" font-size=\"14.00\">class = Terrestrial</text>\n</g>\n<!-- 3&#45;&gt;4 -->\n<g id=\"edge4\" class=\"edge\">\n<title>3&#45;&gt;4</title>\n<path fill=\"none\" stroke=\"black\" d=\"M555.12,-1191.96C486.67,-1172.53 389.57,-1144.95 318.58,-1124.79\"/>\n<polygon fill=\"black\" stroke=\"black\" points=\"319.32,-1121.36 308.75,-1122 317.41,-1128.1 319.32,-1121.36\"/>\n</g>\n<!-- 9 -->\n<g id=\"node10\" class=\"node\">\n<title>9</title>\n<path fill=\"#a3f29c\" stroke=\"black\" d=\"M692,-1139C692,-1139 584,-1139 584,-1139 578,-1139 572,-1133 572,-1127 572,-1127 572,-1068 572,-1068 572,-1062 578,-1056 584,-1056 584,-1056 692,-1056 692,-1056 698,-1056 704,-1062 704,-1068 704,-1068 704,-1127 704,-1127 704,-1133 698,-1139 692,-1139\"/>\n<text text-anchor=\"start\" x=\"580\" y=\"-1123.8\" font-family=\"Helvetica,sans-Serif\" font-size=\"14.00\">radius_wrt ≤ &#45;0.263</text>\n<text text-anchor=\"start\" x=\"602.5\" y=\"-1108.8\" font-family=\"Helvetica,sans-Serif\" font-size=\"14.00\">gini = 0.536</text>\n<text text-anchor=\"start\" x=\"597\" y=\"-1093.8\" font-family=\"Helvetica,sans-Serif\" font-size=\"14.00\">samples = 37</text>\n<text text-anchor=\"start\" x=\"580\" y=\"-1078.8\" font-family=\"Helvetica,sans-Serif\" font-size=\"14.00\">value = [0, 23, 9, 5]</text>\n<text text-anchor=\"start\" x=\"583.5\" y=\"-1063.8\" font-family=\"Helvetica,sans-Serif\" font-size=\"14.00\">class = Gas Giant</text>\n</g>\n<!-- 3&#45;&gt;9 -->\n<g id=\"edge9\" class=\"edge\">\n<title>3&#45;&gt;9</title>\n<path fill=\"none\" stroke=\"black\" d=\"M638,-1174.91C638,-1166.65 638,-1157.86 638,-1149.3\"/>\n<polygon fill=\"black\" stroke=\"black\" points=\"641.5,-1149.02 638,-1139.02 634.5,-1149.02 641.5,-1149.02\"/>\n</g>\n<!-- 5 -->\n<g id=\"node6\" class=\"node\">\n<title>5</title>\n<path fill=\"#d739e5\" stroke=\"black\" d=\"M128,-1012.5C128,-1012.5 12,-1012.5 12,-1012.5 6,-1012.5 0,-1006.5 0,-1000.5 0,-1000.5 0,-956.5 0,-956.5 0,-950.5 6,-944.5 12,-944.5 12,-944.5 128,-944.5 128,-944.5 134,-944.5 140,-950.5 140,-956.5 140,-956.5 140,-1000.5 140,-1000.5 140,-1006.5 134,-1012.5 128,-1012.5\"/>\n<text text-anchor=\"start\" x=\"42\" y=\"-997.3\" font-family=\"Helvetica,sans-Serif\" font-size=\"14.00\">gini = 0.0</text>\n<text text-anchor=\"start\" x=\"25\" y=\"-982.3\" font-family=\"Helvetica,sans-Serif\" font-size=\"14.00\">samples = 171</text>\n<text text-anchor=\"start\" x=\"8\" y=\"-967.3\" font-family=\"Helvetica,sans-Serif\" font-size=\"14.00\">value = [0, 0, 0, 171]</text>\n<text text-anchor=\"start\" x=\"17\" y=\"-952.3\" font-family=\"Helvetica,sans-Serif\" font-size=\"14.00\">class = Terrestrial</text>\n</g>\n<!-- 4&#45;&gt;5 -->\n<g id=\"edge5\" class=\"edge\">\n<title>4&#45;&gt;5</title>\n<path fill=\"none\" stroke=\"black\" d=\"M171.88,-1055.91C155.84,-1043.88 138.31,-1030.73 122.39,-1018.79\"/>\n<polygon fill=\"black\" stroke=\"black\" points=\"124.32,-1015.87 114.22,-1012.67 120.12,-1021.47 124.32,-1015.87\"/>\n</g>\n<!-- 6 -->\n<g id=\"node7\" class=\"node\">\n<title>6</title>\n<path fill=\"#ffffff\" stroke=\"black\" d=\"M281.5,-1020C281.5,-1020 170.5,-1020 170.5,-1020 164.5,-1020 158.5,-1014 158.5,-1008 158.5,-1008 158.5,-949 158.5,-949 158.5,-943 164.5,-937 170.5,-937 170.5,-937 281.5,-937 281.5,-937 287.5,-937 293.5,-943 293.5,-949 293.5,-949 293.5,-1008 293.5,-1008 293.5,-1014 287.5,-1020 281.5,-1020\"/>\n<text text-anchor=\"start\" x=\"168\" y=\"-1004.8\" font-family=\"Helvetica,sans-Serif\" font-size=\"14.00\">radius_wrt ≤ &#45;0.263</text>\n<text text-anchor=\"start\" x=\"198\" y=\"-989.8\" font-family=\"Helvetica,sans-Serif\" font-size=\"14.00\">gini = 0.5</text>\n<text text-anchor=\"start\" x=\"188.5\" y=\"-974.8\" font-family=\"Helvetica,sans-Serif\" font-size=\"14.00\">samples = 2</text>\n<text text-anchor=\"start\" x=\"171.5\" y=\"-959.8\" font-family=\"Helvetica,sans-Serif\" font-size=\"14.00\">value = [0, 0, 1, 1]</text>\n<text text-anchor=\"start\" x=\"166.5\" y=\"-944.8\" font-family=\"Helvetica,sans-Serif\" font-size=\"14.00\">class = Super Earth</text>\n</g>\n<!-- 4&#45;&gt;6 -->\n<g id=\"edge6\" class=\"edge\">\n<title>4&#45;&gt;6</title>\n<path fill=\"none\" stroke=\"black\" d=\"M226,-1055.91C226,-1047.65 226,-1038.86 226,-1030.3\"/>\n<polygon fill=\"black\" stroke=\"black\" points=\"229.5,-1030.02 226,-1020.02 222.5,-1030.02 229.5,-1030.02\"/>\n</g>\n<!-- 7 -->\n<g id=\"node8\" class=\"node\">\n<title>7</title>\n<path fill=\"#399de5\" stroke=\"black\" d=\"M133.5,-893.5C133.5,-893.5 22.5,-893.5 22.5,-893.5 16.5,-893.5 10.5,-887.5 10.5,-881.5 10.5,-881.5 10.5,-837.5 10.5,-837.5 10.5,-831.5 16.5,-825.5 22.5,-825.5 22.5,-825.5 133.5,-825.5 133.5,-825.5 139.5,-825.5 145.5,-831.5 145.5,-837.5 145.5,-837.5 145.5,-881.5 145.5,-881.5 145.5,-887.5 139.5,-893.5 133.5,-893.5\"/>\n<text text-anchor=\"start\" x=\"50\" y=\"-878.3\" font-family=\"Helvetica,sans-Serif\" font-size=\"14.00\">gini = 0.0</text>\n<text text-anchor=\"start\" x=\"40.5\" y=\"-863.3\" font-family=\"Helvetica,sans-Serif\" font-size=\"14.00\">samples = 1</text>\n<text text-anchor=\"start\" x=\"23.5\" y=\"-848.3\" font-family=\"Helvetica,sans-Serif\" font-size=\"14.00\">value = [0, 0, 1, 0]</text>\n<text text-anchor=\"start\" x=\"18.5\" y=\"-833.3\" font-family=\"Helvetica,sans-Serif\" font-size=\"14.00\">class = Super Earth</text>\n</g>\n<!-- 6&#45;&gt;7 -->\n<g id=\"edge7\" class=\"edge\">\n<title>6&#45;&gt;7</title>\n<path fill=\"none\" stroke=\"black\" d=\"M174.65,-936.91C159.58,-924.99 143.11,-911.98 128.12,-900.12\"/>\n<polygon fill=\"black\" stroke=\"black\" points=\"129.97,-897.12 119.95,-893.67 125.63,-902.61 129.97,-897.12\"/>\n</g>\n<!-- 8 -->\n<g id=\"node9\" class=\"node\">\n<title>8</title>\n<path fill=\"#d739e5\" stroke=\"black\" d=\"M276.5,-893.5C276.5,-893.5 175.5,-893.5 175.5,-893.5 169.5,-893.5 163.5,-887.5 163.5,-881.5 163.5,-881.5 163.5,-837.5 163.5,-837.5 163.5,-831.5 169.5,-825.5 175.5,-825.5 175.5,-825.5 276.5,-825.5 276.5,-825.5 282.5,-825.5 288.5,-831.5 288.5,-837.5 288.5,-837.5 288.5,-881.5 288.5,-881.5 288.5,-887.5 282.5,-893.5 276.5,-893.5\"/>\n<text text-anchor=\"start\" x=\"198\" y=\"-878.3\" font-family=\"Helvetica,sans-Serif\" font-size=\"14.00\">gini = 0.0</text>\n<text text-anchor=\"start\" x=\"188.5\" y=\"-863.3\" font-family=\"Helvetica,sans-Serif\" font-size=\"14.00\">samples = 1</text>\n<text text-anchor=\"start\" x=\"171.5\" y=\"-848.3\" font-family=\"Helvetica,sans-Serif\" font-size=\"14.00\">value = [0, 0, 0, 1]</text>\n<text text-anchor=\"start\" x=\"173\" y=\"-833.3\" font-family=\"Helvetica,sans-Serif\" font-size=\"14.00\">class = Terrestrial</text>\n</g>\n<!-- 6&#45;&gt;8 -->\n<g id=\"edge8\" class=\"edge\">\n<title>6&#45;&gt;8</title>\n<path fill=\"none\" stroke=\"black\" d=\"M226,-936.91C226,-926.2 226,-914.62 226,-903.78\"/>\n<polygon fill=\"black\" stroke=\"black\" points=\"229.5,-903.67 226,-893.67 222.5,-903.67 229.5,-903.67\"/>\n</g>\n<!-- 10 -->\n<g id=\"node11\" class=\"node\">\n<title>10</title>\n<path fill=\"#b5daf5\" stroke=\"black\" d=\"M616.5,-1020C616.5,-1020 475.5,-1020 475.5,-1020 469.5,-1020 463.5,-1014 463.5,-1008 463.5,-1008 463.5,-949 463.5,-949 463.5,-943 469.5,-937 475.5,-937 475.5,-937 616.5,-937 616.5,-937 622.5,-937 628.5,-943 628.5,-949 628.5,-949 628.5,-1008 628.5,-1008 628.5,-1014 622.5,-1020 616.5,-1020\"/>\n<text text-anchor=\"start\" x=\"471.5\" y=\"-1004.8\" font-family=\"Helvetica,sans-Serif\" font-size=\"14.00\">mass_multiplier ≤ &#45;0.189</text>\n<text text-anchor=\"start\" x=\"510.5\" y=\"-989.8\" font-family=\"Helvetica,sans-Serif\" font-size=\"14.00\">gini = 0.473</text>\n<text text-anchor=\"start\" x=\"505\" y=\"-974.8\" font-family=\"Helvetica,sans-Serif\" font-size=\"14.00\">samples = 13</text>\n<text text-anchor=\"start\" x=\"491.5\" y=\"-959.8\" font-family=\"Helvetica,sans-Serif\" font-size=\"14.00\">value = [0, 0, 8, 5]</text>\n<text text-anchor=\"start\" x=\"486.5\" y=\"-944.8\" font-family=\"Helvetica,sans-Serif\" font-size=\"14.00\">class = Super Earth</text>\n</g>\n<!-- 9&#45;&gt;10 -->\n<g id=\"edge10\" class=\"edge\">\n<title>9&#45;&gt;10</title>\n<path fill=\"none\" stroke=\"black\" d=\"M606.08,-1055.91C599.02,-1046.92 591.46,-1037.32 584.18,-1028.05\"/>\n<polygon fill=\"black\" stroke=\"black\" points=\"586.8,-1025.72 577.86,-1020.02 581.29,-1030.05 586.8,-1025.72\"/>\n</g>\n<!-- 19 -->\n<g id=\"node20\" class=\"node\">\n<title>19</title>\n<path fill=\"#4fe642\" stroke=\"black\" d=\"M803.5,-1020C803.5,-1020 658.5,-1020 658.5,-1020 652.5,-1020 646.5,-1014 646.5,-1008 646.5,-1008 646.5,-949 646.5,-949 646.5,-943 652.5,-937 658.5,-937 658.5,-937 803.5,-937 803.5,-937 809.5,-937 815.5,-943 815.5,-949 815.5,-949 815.5,-1008 815.5,-1008 815.5,-1014 809.5,-1020 803.5,-1020\"/>\n<text text-anchor=\"start\" x=\"654.5\" y=\"-1004.8\" font-family=\"Helvetica,sans-Serif\" font-size=\"14.00\">radius_multiplier ≤ &#45;1.331</text>\n<text text-anchor=\"start\" x=\"699\" y=\"-989.8\" font-family=\"Helvetica,sans-Serif\" font-size=\"14.00\">gini = 0.08</text>\n<text text-anchor=\"start\" x=\"690\" y=\"-974.8\" font-family=\"Helvetica,sans-Serif\" font-size=\"14.00\">samples = 24</text>\n<text text-anchor=\"start\" x=\"673\" y=\"-959.8\" font-family=\"Helvetica,sans-Serif\" font-size=\"14.00\">value = [0, 23, 1, 0]</text>\n<text text-anchor=\"start\" x=\"676.5\" y=\"-944.8\" font-family=\"Helvetica,sans-Serif\" font-size=\"14.00\">class = Gas Giant</text>\n</g>\n<!-- 9&#45;&gt;19 -->\n<g id=\"edge19\" class=\"edge\">\n<title>9&#45;&gt;19</title>\n<path fill=\"none\" stroke=\"black\" d=\"M670.27,-1055.91C677.41,-1046.92 685.04,-1037.32 692.41,-1028.05\"/>\n<polygon fill=\"black\" stroke=\"black\" points=\"695.31,-1030.03 698.79,-1020.02 689.83,-1025.67 695.31,-1030.03\"/>\n</g>\n<!-- 11 -->\n<g id=\"node12\" class=\"node\">\n<title>11</title>\n<path fill=\"#6ab6ec\" stroke=\"black\" d=\"M471.5,-901C471.5,-901 318.5,-901 318.5,-901 312.5,-901 306.5,-895 306.5,-889 306.5,-889 306.5,-830 306.5,-830 306.5,-824 312.5,-818 318.5,-818 318.5,-818 471.5,-818 471.5,-818 477.5,-818 483.5,-824 483.5,-830 483.5,-830 483.5,-889 483.5,-889 483.5,-895 477.5,-901 471.5,-901\"/>\n<text text-anchor=\"start\" x=\"314.5\" y=\"-885.8\" font-family=\"Helvetica,sans-Serif\" font-size=\"14.00\">stellar_magnitude ≤ &#45;0.027</text>\n<text text-anchor=\"start\" x=\"363\" y=\"-870.8\" font-family=\"Helvetica,sans-Serif\" font-size=\"14.00\">gini = 0.32</text>\n<text text-anchor=\"start\" x=\"354\" y=\"-855.8\" font-family=\"Helvetica,sans-Serif\" font-size=\"14.00\">samples = 10</text>\n<text text-anchor=\"start\" x=\"340.5\" y=\"-840.8\" font-family=\"Helvetica,sans-Serif\" font-size=\"14.00\">value = [0, 0, 8, 2]</text>\n<text text-anchor=\"start\" x=\"335.5\" y=\"-825.8\" font-family=\"Helvetica,sans-Serif\" font-size=\"14.00\">class = Super Earth</text>\n</g>\n<!-- 10&#45;&gt;11 -->\n<g id=\"edge11\" class=\"edge\">\n<title>10&#45;&gt;11</title>\n<path fill=\"none\" stroke=\"black\" d=\"M493.61,-936.91C481.31,-927.38 468.11,-917.15 455.49,-907.37\"/>\n<polygon fill=\"black\" stroke=\"black\" points=\"457.34,-904.38 447.3,-901.02 453.06,-909.91 457.34,-904.38\"/>\n</g>\n<!-- 18 -->\n<g id=\"node19\" class=\"node\">\n<title>18</title>\n<path fill=\"#d739e5\" stroke=\"black\" d=\"M614.5,-893.5C614.5,-893.5 513.5,-893.5 513.5,-893.5 507.5,-893.5 501.5,-887.5 501.5,-881.5 501.5,-881.5 501.5,-837.5 501.5,-837.5 501.5,-831.5 507.5,-825.5 513.5,-825.5 513.5,-825.5 614.5,-825.5 614.5,-825.5 620.5,-825.5 626.5,-831.5 626.5,-837.5 626.5,-837.5 626.5,-881.5 626.5,-881.5 626.5,-887.5 620.5,-893.5 614.5,-893.5\"/>\n<text text-anchor=\"start\" x=\"536\" y=\"-878.3\" font-family=\"Helvetica,sans-Serif\" font-size=\"14.00\">gini = 0.0</text>\n<text text-anchor=\"start\" x=\"526.5\" y=\"-863.3\" font-family=\"Helvetica,sans-Serif\" font-size=\"14.00\">samples = 3</text>\n<text text-anchor=\"start\" x=\"509.5\" y=\"-848.3\" font-family=\"Helvetica,sans-Serif\" font-size=\"14.00\">value = [0, 0, 0, 3]</text>\n<text text-anchor=\"start\" x=\"511\" y=\"-833.3\" font-family=\"Helvetica,sans-Serif\" font-size=\"14.00\">class = Terrestrial</text>\n</g>\n<!-- 10&#45;&gt;18 -->\n<g id=\"edge18\" class=\"edge\">\n<title>10&#45;&gt;18</title>\n<path fill=\"none\" stroke=\"black\" d=\"M552.25,-936.91C553.89,-926.2 555.67,-914.62 557.34,-903.78\"/>\n<polygon fill=\"black\" stroke=\"black\" points=\"560.84,-904.08 558.9,-893.67 553.92,-903.02 560.84,-904.08\"/>\n</g>\n<!-- 12 -->\n<g id=\"node13\" class=\"node\">\n<title>12</title>\n<path fill=\"#52a9e8\" stroke=\"black\" d=\"M384.5,-782C384.5,-782 239.5,-782 239.5,-782 233.5,-782 227.5,-776 227.5,-770 227.5,-770 227.5,-711 227.5,-711 227.5,-705 233.5,-699 239.5,-699 239.5,-699 384.5,-699 384.5,-699 390.5,-699 396.5,-705 396.5,-711 396.5,-711 396.5,-770 396.5,-770 396.5,-776 390.5,-782 384.5,-782\"/>\n<text text-anchor=\"start\" x=\"235.5\" y=\"-766.8\" font-family=\"Helvetica,sans-Serif\" font-size=\"14.00\">radius_multiplier ≤ &#45;0.531</text>\n<text text-anchor=\"start\" x=\"276.5\" y=\"-751.8\" font-family=\"Helvetica,sans-Serif\" font-size=\"14.00\">gini = 0.198</text>\n<text text-anchor=\"start\" x=\"274.5\" y=\"-736.8\" font-family=\"Helvetica,sans-Serif\" font-size=\"14.00\">samples = 9</text>\n<text text-anchor=\"start\" x=\"257.5\" y=\"-721.8\" font-family=\"Helvetica,sans-Serif\" font-size=\"14.00\">value = [0, 0, 8, 1]</text>\n<text text-anchor=\"start\" x=\"252.5\" y=\"-706.8\" font-family=\"Helvetica,sans-Serif\" font-size=\"14.00\">class = Super Earth</text>\n</g>\n<!-- 11&#45;&gt;12 -->\n<g id=\"edge12\" class=\"edge\">\n<title>11&#45;&gt;12</title>\n<path fill=\"none\" stroke=\"black\" d=\"M366.2,-817.91C359.89,-809.01 353.15,-799.51 346.64,-790.33\"/>\n<polygon fill=\"black\" stroke=\"black\" points=\"349.39,-788.15 340.75,-782.02 343.68,-792.2 349.39,-788.15\"/>\n</g>\n<!-- 17 -->\n<g id=\"node18\" class=\"node\">\n<title>17</title>\n<path fill=\"#d739e5\" stroke=\"black\" d=\"M527.5,-774.5C527.5,-774.5 426.5,-774.5 426.5,-774.5 420.5,-774.5 414.5,-768.5 414.5,-762.5 414.5,-762.5 414.5,-718.5 414.5,-718.5 414.5,-712.5 420.5,-706.5 426.5,-706.5 426.5,-706.5 527.5,-706.5 527.5,-706.5 533.5,-706.5 539.5,-712.5 539.5,-718.5 539.5,-718.5 539.5,-762.5 539.5,-762.5 539.5,-768.5 533.5,-774.5 527.5,-774.5\"/>\n<text text-anchor=\"start\" x=\"449\" y=\"-759.3\" font-family=\"Helvetica,sans-Serif\" font-size=\"14.00\">gini = 0.0</text>\n<text text-anchor=\"start\" x=\"439.5\" y=\"-744.3\" font-family=\"Helvetica,sans-Serif\" font-size=\"14.00\">samples = 1</text>\n<text text-anchor=\"start\" x=\"422.5\" y=\"-729.3\" font-family=\"Helvetica,sans-Serif\" font-size=\"14.00\">value = [0, 0, 0, 1]</text>\n<text text-anchor=\"start\" x=\"424\" y=\"-714.3\" font-family=\"Helvetica,sans-Serif\" font-size=\"14.00\">class = Terrestrial</text>\n</g>\n<!-- 11&#45;&gt;17 -->\n<g id=\"edge17\" class=\"edge\">\n<title>11&#45;&gt;17</title>\n<path fill=\"none\" stroke=\"black\" d=\"M423.45,-817.91C431.34,-806.65 439.91,-794.42 447.84,-783.11\"/>\n<polygon fill=\"black\" stroke=\"black\" points=\"450.88,-784.86 453.75,-774.67 445.15,-780.85 450.88,-784.86\"/>\n</g>\n<!-- 13 -->\n<g id=\"node14\" class=\"node\">\n<title>13</title>\n<path fill=\"#ffffff\" stroke=\"black\" d=\"M298.5,-663C298.5,-663 157.5,-663 157.5,-663 151.5,-663 145.5,-657 145.5,-651 145.5,-651 145.5,-592 145.5,-592 145.5,-586 151.5,-580 157.5,-580 157.5,-580 298.5,-580 298.5,-580 304.5,-580 310.5,-586 310.5,-592 310.5,-592 310.5,-651 310.5,-651 310.5,-657 304.5,-663 298.5,-663\"/>\n<text text-anchor=\"start\" x=\"153.5\" y=\"-647.8\" font-family=\"Helvetica,sans-Serif\" font-size=\"14.00\">mass_multiplier ≤ &#45;0.249</text>\n<text text-anchor=\"start\" x=\"200\" y=\"-632.8\" font-family=\"Helvetica,sans-Serif\" font-size=\"14.00\">gini = 0.5</text>\n<text text-anchor=\"start\" x=\"190.5\" y=\"-617.8\" font-family=\"Helvetica,sans-Serif\" font-size=\"14.00\">samples = 2</text>\n<text text-anchor=\"start\" x=\"173.5\" y=\"-602.8\" font-family=\"Helvetica,sans-Serif\" font-size=\"14.00\">value = [0, 0, 1, 1]</text>\n<text text-anchor=\"start\" x=\"168.5\" y=\"-587.8\" font-family=\"Helvetica,sans-Serif\" font-size=\"14.00\">class = Super Earth</text>\n</g>\n<!-- 12&#45;&gt;13 -->\n<g id=\"edge13\" class=\"edge\">\n<title>12&#45;&gt;13</title>\n<path fill=\"none\" stroke=\"black\" d=\"M282.86,-698.91C276.47,-690.01 269.65,-680.51 263.06,-671.33\"/>\n<polygon fill=\"black\" stroke=\"black\" points=\"265.77,-669.1 257.09,-663.02 260.08,-673.19 265.77,-669.1\"/>\n</g>\n<!-- 16 -->\n<g id=\"node17\" class=\"node\">\n<title>16</title>\n<path fill=\"#399de5\" stroke=\"black\" d=\"M451.5,-655.5C451.5,-655.5 340.5,-655.5 340.5,-655.5 334.5,-655.5 328.5,-649.5 328.5,-643.5 328.5,-643.5 328.5,-599.5 328.5,-599.5 328.5,-593.5 334.5,-587.5 340.5,-587.5 340.5,-587.5 451.5,-587.5 451.5,-587.5 457.5,-587.5 463.5,-593.5 463.5,-599.5 463.5,-599.5 463.5,-643.5 463.5,-643.5 463.5,-649.5 457.5,-655.5 451.5,-655.5\"/>\n<text text-anchor=\"start\" x=\"368\" y=\"-640.3\" font-family=\"Helvetica,sans-Serif\" font-size=\"14.00\">gini = 0.0</text>\n<text text-anchor=\"start\" x=\"358.5\" y=\"-625.3\" font-family=\"Helvetica,sans-Serif\" font-size=\"14.00\">samples = 7</text>\n<text text-anchor=\"start\" x=\"341.5\" y=\"-610.3\" font-family=\"Helvetica,sans-Serif\" font-size=\"14.00\">value = [0, 0, 7, 0]</text>\n<text text-anchor=\"start\" x=\"336.5\" y=\"-595.3\" font-family=\"Helvetica,sans-Serif\" font-size=\"14.00\">class = Super Earth</text>\n</g>\n<!-- 12&#45;&gt;16 -->\n<g id=\"edge16\" class=\"edge\">\n<title>12&#45;&gt;16</title>\n<path fill=\"none\" stroke=\"black\" d=\"M341.14,-698.91C349.22,-687.65 358.01,-675.42 366.13,-664.11\"/>\n<polygon fill=\"black\" stroke=\"black\" points=\"369.2,-665.83 372.19,-655.67 363.51,-661.75 369.2,-665.83\"/>\n</g>\n<!-- 14 -->\n<g id=\"node15\" class=\"node\">\n<title>14</title>\n<path fill=\"#d739e5\" stroke=\"black\" d=\"M204.5,-536.5C204.5,-536.5 103.5,-536.5 103.5,-536.5 97.5,-536.5 91.5,-530.5 91.5,-524.5 91.5,-524.5 91.5,-480.5 91.5,-480.5 91.5,-474.5 97.5,-468.5 103.5,-468.5 103.5,-468.5 204.5,-468.5 204.5,-468.5 210.5,-468.5 216.5,-474.5 216.5,-480.5 216.5,-480.5 216.5,-524.5 216.5,-524.5 216.5,-530.5 210.5,-536.5 204.5,-536.5\"/>\n<text text-anchor=\"start\" x=\"126\" y=\"-521.3\" font-family=\"Helvetica,sans-Serif\" font-size=\"14.00\">gini = 0.0</text>\n<text text-anchor=\"start\" x=\"116.5\" y=\"-506.3\" font-family=\"Helvetica,sans-Serif\" font-size=\"14.00\">samples = 1</text>\n<text text-anchor=\"start\" x=\"99.5\" y=\"-491.3\" font-family=\"Helvetica,sans-Serif\" font-size=\"14.00\">value = [0, 0, 0, 1]</text>\n<text text-anchor=\"start\" x=\"101\" y=\"-476.3\" font-family=\"Helvetica,sans-Serif\" font-size=\"14.00\">class = Terrestrial</text>\n</g>\n<!-- 13&#45;&gt;14 -->\n<g id=\"edge14\" class=\"edge\">\n<title>13&#45;&gt;14</title>\n<path fill=\"none\" stroke=\"black\" d=\"M202.33,-579.91C195.28,-568.76 187.62,-556.66 180.53,-545.44\"/>\n<polygon fill=\"black\" stroke=\"black\" points=\"183.28,-543.25 174.98,-536.67 177.36,-546.99 183.28,-543.25\"/>\n</g>\n<!-- 15 -->\n<g id=\"node16\" class=\"node\">\n<title>15</title>\n<path fill=\"#399de5\" stroke=\"black\" d=\"M357.5,-536.5C357.5,-536.5 246.5,-536.5 246.5,-536.5 240.5,-536.5 234.5,-530.5 234.5,-524.5 234.5,-524.5 234.5,-480.5 234.5,-480.5 234.5,-474.5 240.5,-468.5 246.5,-468.5 246.5,-468.5 357.5,-468.5 357.5,-468.5 363.5,-468.5 369.5,-474.5 369.5,-480.5 369.5,-480.5 369.5,-524.5 369.5,-524.5 369.5,-530.5 363.5,-536.5 357.5,-536.5\"/>\n<text text-anchor=\"start\" x=\"274\" y=\"-521.3\" font-family=\"Helvetica,sans-Serif\" font-size=\"14.00\">gini = 0.0</text>\n<text text-anchor=\"start\" x=\"264.5\" y=\"-506.3\" font-family=\"Helvetica,sans-Serif\" font-size=\"14.00\">samples = 1</text>\n<text text-anchor=\"start\" x=\"247.5\" y=\"-491.3\" font-family=\"Helvetica,sans-Serif\" font-size=\"14.00\">value = [0, 0, 1, 0]</text>\n<text text-anchor=\"start\" x=\"242.5\" y=\"-476.3\" font-family=\"Helvetica,sans-Serif\" font-size=\"14.00\">class = Super Earth</text>\n</g>\n<!-- 13&#45;&gt;15 -->\n<g id=\"edge15\" class=\"edge\">\n<title>13&#45;&gt;15</title>\n<path fill=\"none\" stroke=\"black\" d=\"M253.67,-579.91C260.72,-568.76 268.38,-556.66 275.47,-545.44\"/>\n<polygon fill=\"black\" stroke=\"black\" points=\"278.64,-546.99 281.02,-536.67 272.72,-543.25 278.64,-546.99\"/>\n</g>\n<!-- 20 -->\n<g id=\"node21\" class=\"node\">\n<title>20</title>\n<path fill=\"#399de5\" stroke=\"black\" d=\"M767.5,-893.5C767.5,-893.5 656.5,-893.5 656.5,-893.5 650.5,-893.5 644.5,-887.5 644.5,-881.5 644.5,-881.5 644.5,-837.5 644.5,-837.5 644.5,-831.5 650.5,-825.5 656.5,-825.5 656.5,-825.5 767.5,-825.5 767.5,-825.5 773.5,-825.5 779.5,-831.5 779.5,-837.5 779.5,-837.5 779.5,-881.5 779.5,-881.5 779.5,-887.5 773.5,-893.5 767.5,-893.5\"/>\n<text text-anchor=\"start\" x=\"684\" y=\"-878.3\" font-family=\"Helvetica,sans-Serif\" font-size=\"14.00\">gini = 0.0</text>\n<text text-anchor=\"start\" x=\"674.5\" y=\"-863.3\" font-family=\"Helvetica,sans-Serif\" font-size=\"14.00\">samples = 1</text>\n<text text-anchor=\"start\" x=\"657.5\" y=\"-848.3\" font-family=\"Helvetica,sans-Serif\" font-size=\"14.00\">value = [0, 0, 1, 0]</text>\n<text text-anchor=\"start\" x=\"652.5\" y=\"-833.3\" font-family=\"Helvetica,sans-Serif\" font-size=\"14.00\">class = Super Earth</text>\n</g>\n<!-- 19&#45;&gt;20 -->\n<g id=\"edge20\" class=\"edge\">\n<title>19&#45;&gt;20</title>\n<path fill=\"none\" stroke=\"black\" d=\"M724.41,-936.91C722.67,-926.2 720.79,-914.62 719.03,-903.78\"/>\n<polygon fill=\"black\" stroke=\"black\" points=\"722.44,-902.98 717.39,-893.67 715.53,-904.1 722.44,-902.98\"/>\n</g>\n<!-- 21 -->\n<g id=\"node22\" class=\"node\">\n<title>21</title>\n<path fill=\"#47e539\" stroke=\"black\" d=\"M918,-893.5C918,-893.5 810,-893.5 810,-893.5 804,-893.5 798,-887.5 798,-881.5 798,-881.5 798,-837.5 798,-837.5 798,-831.5 804,-825.5 810,-825.5 810,-825.5 918,-825.5 918,-825.5 924,-825.5 930,-831.5 930,-837.5 930,-837.5 930,-881.5 930,-881.5 930,-887.5 924,-893.5 918,-893.5\"/>\n<text text-anchor=\"start\" x=\"836\" y=\"-878.3\" font-family=\"Helvetica,sans-Serif\" font-size=\"14.00\">gini = 0.0</text>\n<text text-anchor=\"start\" x=\"823\" y=\"-863.3\" font-family=\"Helvetica,sans-Serif\" font-size=\"14.00\">samples = 23</text>\n<text text-anchor=\"start\" x=\"806\" y=\"-848.3\" font-family=\"Helvetica,sans-Serif\" font-size=\"14.00\">value = [0, 23, 0, 0]</text>\n<text text-anchor=\"start\" x=\"809.5\" y=\"-833.3\" font-family=\"Helvetica,sans-Serif\" font-size=\"14.00\">class = Gas Giant</text>\n</g>\n<!-- 19&#45;&gt;21 -->\n<g id=\"edge21\" class=\"edge\">\n<title>19&#45;&gt;21</title>\n<path fill=\"none\" stroke=\"black\" d=\"M777.14,-936.91C790.57,-925.1 805.21,-912.22 818.59,-900.45\"/>\n<polygon fill=\"black\" stroke=\"black\" points=\"821.1,-902.9 826.3,-893.67 816.48,-897.64 821.1,-902.9\"/>\n</g>\n<!-- 23 -->\n<g id=\"node24\" class=\"node\">\n<title>23</title>\n<path fill=\"#3b9ee5\" stroke=\"black\" d=\"M1325,-1139C1325,-1139 1185,-1139 1185,-1139 1179,-1139 1173,-1133 1173,-1127 1173,-1127 1173,-1068 1173,-1068 1173,-1062 1179,-1056 1185,-1056 1185,-1056 1325,-1056 1325,-1056 1331,-1056 1337,-1062 1337,-1068 1337,-1068 1337,-1127 1337,-1127 1337,-1133 1331,-1139 1325,-1139\"/>\n<text text-anchor=\"start\" x=\"1181\" y=\"-1123.8\" font-family=\"Helvetica,sans-Serif\" font-size=\"14.00\">radius_multiplier ≤ 1.596</text>\n<text text-anchor=\"start\" x=\"1219.5\" y=\"-1108.8\" font-family=\"Helvetica,sans-Serif\" font-size=\"14.00\">gini = 0.015</text>\n<text text-anchor=\"start\" x=\"1206.5\" y=\"-1093.8\" font-family=\"Helvetica,sans-Serif\" font-size=\"14.00\">samples = 1305</text>\n<text text-anchor=\"start\" x=\"1189.5\" y=\"-1078.8\" font-family=\"Helvetica,sans-Serif\" font-size=\"14.00\">value = [0, 9, 1295, 1]</text>\n<text text-anchor=\"start\" x=\"1195.5\" y=\"-1063.8\" font-family=\"Helvetica,sans-Serif\" font-size=\"14.00\">class = Super Earth</text>\n</g>\n<!-- 22&#45;&gt;23 -->\n<g id=\"edge23\" class=\"edge\">\n<title>22&#45;&gt;23</title>\n<path fill=\"none\" stroke=\"black\" d=\"M1308.55,-1174.91C1302.32,-1166.01 1295.66,-1156.51 1289.22,-1147.33\"/>\n<polygon fill=\"black\" stroke=\"black\" points=\"1292,-1145.2 1283.4,-1139.02 1286.27,-1149.22 1292,-1145.2\"/>\n</g>\n<!-- 44 -->\n<g id=\"node45\" class=\"node\">\n<title>44</title>\n<path fill=\"#47e539\" stroke=\"black\" d=\"M1468.5,-1131.5C1468.5,-1131.5 1367.5,-1131.5 1367.5,-1131.5 1361.5,-1131.5 1355.5,-1125.5 1355.5,-1119.5 1355.5,-1119.5 1355.5,-1075.5 1355.5,-1075.5 1355.5,-1069.5 1361.5,-1063.5 1367.5,-1063.5 1367.5,-1063.5 1468.5,-1063.5 1468.5,-1063.5 1474.5,-1063.5 1480.5,-1069.5 1480.5,-1075.5 1480.5,-1075.5 1480.5,-1119.5 1480.5,-1119.5 1480.5,-1125.5 1474.5,-1131.5 1468.5,-1131.5\"/>\n<text text-anchor=\"start\" x=\"1390\" y=\"-1116.3\" font-family=\"Helvetica,sans-Serif\" font-size=\"14.00\">gini = 0.0</text>\n<text text-anchor=\"start\" x=\"1380.5\" y=\"-1101.3\" font-family=\"Helvetica,sans-Serif\" font-size=\"14.00\">samples = 6</text>\n<text text-anchor=\"start\" x=\"1363.5\" y=\"-1086.3\" font-family=\"Helvetica,sans-Serif\" font-size=\"14.00\">value = [0, 6, 0, 0]</text>\n<text text-anchor=\"start\" x=\"1363.5\" y=\"-1071.3\" font-family=\"Helvetica,sans-Serif\" font-size=\"14.00\">class = Gas Giant</text>\n</g>\n<!-- 22&#45;&gt;44 -->\n<g id=\"edge44\" class=\"edge\">\n<title>22&#45;&gt;44</title>\n<path fill=\"none\" stroke=\"black\" d=\"M1365.1,-1174.91C1372.89,-1163.65 1381.36,-1151.42 1389.2,-1140.11\"/>\n<polygon fill=\"black\" stroke=\"black\" points=\"1392.22,-1141.88 1395.04,-1131.67 1386.47,-1137.9 1392.22,-1141.88\"/>\n</g>\n<!-- 24 -->\n<g id=\"node25\" class=\"node\">\n<title>24</title>\n<path fill=\"#399de5\" stroke=\"black\" d=\"M1229.5,-1020C1229.5,-1020 1106.5,-1020 1106.5,-1020 1100.5,-1020 1094.5,-1014 1094.5,-1008 1094.5,-1008 1094.5,-949 1094.5,-949 1094.5,-943 1100.5,-937 1106.5,-937 1106.5,-937 1229.5,-937 1229.5,-937 1235.5,-937 1241.5,-943 1241.5,-949 1241.5,-949 1241.5,-1008 1241.5,-1008 1241.5,-1014 1235.5,-1020 1229.5,-1020\"/>\n<text text-anchor=\"start\" x=\"1107.5\" y=\"-1004.8\" font-family=\"Helvetica,sans-Serif\" font-size=\"14.00\">eccentricity ≤ &#45;0.156</text>\n<text text-anchor=\"start\" x=\"1132.5\" y=\"-989.8\" font-family=\"Helvetica,sans-Serif\" font-size=\"14.00\">gini = 0.003</text>\n<text text-anchor=\"start\" x=\"1119.5\" y=\"-974.8\" font-family=\"Helvetica,sans-Serif\" font-size=\"14.00\">samples = 1178</text>\n<text text-anchor=\"start\" x=\"1102.5\" y=\"-959.8\" font-family=\"Helvetica,sans-Serif\" font-size=\"14.00\">value = [0, 1, 1176, 1]</text>\n<text text-anchor=\"start\" x=\"1108.5\" y=\"-944.8\" font-family=\"Helvetica,sans-Serif\" font-size=\"14.00\">class = Super Earth</text>\n</g>\n<!-- 23&#45;&gt;24 -->\n<g id=\"edge24\" class=\"edge\">\n<title>23&#45;&gt;24</title>\n<path fill=\"none\" stroke=\"black\" d=\"M1224.82,-1055.91C1218.14,-1046.92 1210.99,-1037.32 1204.1,-1028.05\"/>\n<polygon fill=\"black\" stroke=\"black\" points=\"1206.91,-1025.96 1198.13,-1020.02 1201.29,-1030.13 1206.91,-1025.96\"/>\n</g>\n<!-- 37 -->\n<g id=\"node38\" class=\"node\">\n<title>37</title>\n<path fill=\"#46a4e7\" stroke=\"black\" d=\"M1412.5,-1020C1412.5,-1020 1271.5,-1020 1271.5,-1020 1265.5,-1020 1259.5,-1014 1259.5,-1008 1259.5,-1008 1259.5,-949 1259.5,-949 1259.5,-943 1265.5,-937 1271.5,-937 1271.5,-937 1412.5,-937 1412.5,-937 1418.5,-937 1424.5,-943 1424.5,-949 1424.5,-949 1424.5,-1008 1424.5,-1008 1424.5,-1014 1418.5,-1020 1412.5,-1020\"/>\n<text text-anchor=\"start\" x=\"1267.5\" y=\"-1004.8\" font-family=\"Helvetica,sans-Serif\" font-size=\"14.00\">mass_multiplier ≤ &#45;0.138</text>\n<text text-anchor=\"start\" x=\"1306.5\" y=\"-989.8\" font-family=\"Helvetica,sans-Serif\" font-size=\"14.00\">gini = 0.118</text>\n<text text-anchor=\"start\" x=\"1297\" y=\"-974.8\" font-family=\"Helvetica,sans-Serif\" font-size=\"14.00\">samples = 127</text>\n<text text-anchor=\"start\" x=\"1280\" y=\"-959.8\" font-family=\"Helvetica,sans-Serif\" font-size=\"14.00\">value = [0, 8, 119, 0]</text>\n<text text-anchor=\"start\" x=\"1282.5\" y=\"-944.8\" font-family=\"Helvetica,sans-Serif\" font-size=\"14.00\">class = Super Earth</text>\n</g>\n<!-- 23&#45;&gt;37 -->\n<g id=\"edge37\" class=\"edge\">\n<title>23&#45;&gt;37</title>\n<path fill=\"none\" stroke=\"black\" d=\"M1285.18,-1055.91C1291.86,-1046.92 1299.01,-1037.32 1305.9,-1028.05\"/>\n<polygon fill=\"black\" stroke=\"black\" points=\"1308.71,-1030.13 1311.87,-1020.02 1303.09,-1025.96 1308.71,-1030.13\"/>\n</g>\n<!-- 25 -->\n<g id=\"node26\" class=\"node\">\n<title>25</title>\n<path fill=\"#399de5\" stroke=\"black\" d=\"M1083.5,-893.5C1083.5,-893.5 960.5,-893.5 960.5,-893.5 954.5,-893.5 948.5,-887.5 948.5,-881.5 948.5,-881.5 948.5,-837.5 948.5,-837.5 948.5,-831.5 954.5,-825.5 960.5,-825.5 960.5,-825.5 1083.5,-825.5 1083.5,-825.5 1089.5,-825.5 1095.5,-831.5 1095.5,-837.5 1095.5,-837.5 1095.5,-881.5 1095.5,-881.5 1095.5,-887.5 1089.5,-893.5 1083.5,-893.5\"/>\n<text text-anchor=\"start\" x=\"994\" y=\"-878.3\" font-family=\"Helvetica,sans-Serif\" font-size=\"14.00\">gini = 0.0</text>\n<text text-anchor=\"start\" x=\"973.5\" y=\"-863.3\" font-family=\"Helvetica,sans-Serif\" font-size=\"14.00\">samples = 1079</text>\n<text text-anchor=\"start\" x=\"956.5\" y=\"-848.3\" font-family=\"Helvetica,sans-Serif\" font-size=\"14.00\">value = [0, 0, 1079, 0]</text>\n<text text-anchor=\"start\" x=\"962.5\" y=\"-833.3\" font-family=\"Helvetica,sans-Serif\" font-size=\"14.00\">class = Super Earth</text>\n</g>\n<!-- 24&#45;&gt;25 -->\n<g id=\"edge25\" class=\"edge\">\n<title>24&#45;&gt;25</title>\n<path fill=\"none\" stroke=\"black\" d=\"M1117.35,-936.91C1102.47,-924.99 1086.23,-911.98 1071.44,-900.12\"/>\n<polygon fill=\"black\" stroke=\"black\" points=\"1073.38,-897.19 1063.39,-893.67 1069,-902.65 1073.38,-897.19\"/>\n</g>\n<!-- 26 -->\n<g id=\"node27\" class=\"node\">\n<title>26</title>\n<path fill=\"#3d9fe6\" stroke=\"black\" d=\"M1236.5,-901C1236.5,-901 1125.5,-901 1125.5,-901 1119.5,-901 1113.5,-895 1113.5,-889 1113.5,-889 1113.5,-830 1113.5,-830 1113.5,-824 1119.5,-818 1125.5,-818 1125.5,-818 1236.5,-818 1236.5,-818 1242.5,-818 1248.5,-824 1248.5,-830 1248.5,-830 1248.5,-889 1248.5,-889 1248.5,-895 1242.5,-901 1236.5,-901\"/>\n<text text-anchor=\"start\" x=\"1131\" y=\"-885.8\" font-family=\"Helvetica,sans-Serif\" font-size=\"14.00\">distance ≤ 0.045</text>\n<text text-anchor=\"start\" x=\"1149\" y=\"-870.8\" font-family=\"Helvetica,sans-Serif\" font-size=\"14.00\">gini = 0.04</text>\n<text text-anchor=\"start\" x=\"1140\" y=\"-855.8\" font-family=\"Helvetica,sans-Serif\" font-size=\"14.00\">samples = 99</text>\n<text text-anchor=\"start\" x=\"1123\" y=\"-840.8\" font-family=\"Helvetica,sans-Serif\" font-size=\"14.00\">value = [0, 1, 97, 1]</text>\n<text text-anchor=\"start\" x=\"1121.5\" y=\"-825.8\" font-family=\"Helvetica,sans-Serif\" font-size=\"14.00\">class = Super Earth</text>\n</g>\n<!-- 24&#45;&gt;26 -->\n<g id=\"edge26\" class=\"edge\">\n<title>24&#45;&gt;26</title>\n<path fill=\"none\" stroke=\"black\" d=\"M1172.51,-936.91C1173.44,-928.56 1174.43,-919.67 1175.39,-911.02\"/>\n<polygon fill=\"black\" stroke=\"black\" points=\"1178.87,-911.35 1176.5,-901.02 1171.91,-910.57 1178.87,-911.35\"/>\n</g>\n<!-- 27 -->\n<g id=\"node28\" class=\"node\">\n<title>27</title>\n<path fill=\"#3b9ee5\" stroke=\"black\" d=\"M1093,-782C1093,-782 953,-782 953,-782 947,-782 941,-776 941,-770 941,-770 941,-711 941,-711 941,-705 947,-699 953,-699 953,-699 1093,-699 1093,-699 1099,-699 1105,-705 1105,-711 1105,-711 1105,-770 1105,-770 1105,-776 1099,-782 1093,-782\"/>\n<text text-anchor=\"start\" x=\"949\" y=\"-766.8\" font-family=\"Helvetica,sans-Serif\" font-size=\"14.00\">radius_multiplier ≤ 1.349</text>\n<text text-anchor=\"start\" x=\"991\" y=\"-751.8\" font-family=\"Helvetica,sans-Serif\" font-size=\"14.00\">gini = 0.02</text>\n<text text-anchor=\"start\" x=\"982\" y=\"-736.8\" font-family=\"Helvetica,sans-Serif\" font-size=\"14.00\">samples = 97</text>\n<text text-anchor=\"start\" x=\"965\" y=\"-721.8\" font-family=\"Helvetica,sans-Serif\" font-size=\"14.00\">value = [0, 1, 96, 0]</text>\n<text text-anchor=\"start\" x=\"963.5\" y=\"-706.8\" font-family=\"Helvetica,sans-Serif\" font-size=\"14.00\">class = Super Earth</text>\n</g>\n<!-- 26&#45;&gt;27 -->\n<g id=\"edge27\" class=\"edge\">\n<title>26&#45;&gt;27</title>\n<path fill=\"none\" stroke=\"black\" d=\"M1126.18,-817.91C1113.19,-808.29 1099.24,-797.95 1085.92,-788.09\"/>\n<polygon fill=\"black\" stroke=\"black\" points=\"1087.84,-785.16 1077.72,-782.02 1083.67,-790.78 1087.84,-785.16\"/>\n</g>\n<!-- 34 -->\n<g id=\"node35\" class=\"node\">\n<title>34</title>\n<path fill=\"#ffffff\" stroke=\"black\" d=\"M1246.5,-782C1246.5,-782 1135.5,-782 1135.5,-782 1129.5,-782 1123.5,-776 1123.5,-770 1123.5,-770 1123.5,-711 1123.5,-711 1123.5,-705 1129.5,-699 1135.5,-699 1135.5,-699 1246.5,-699 1246.5,-699 1252.5,-699 1258.5,-705 1258.5,-711 1258.5,-711 1258.5,-770 1258.5,-770 1258.5,-776 1252.5,-782 1246.5,-782\"/>\n<text text-anchor=\"start\" x=\"1132.5\" y=\"-766.8\" font-family=\"Helvetica,sans-Serif\" font-size=\"14.00\">eccentricity ≤ 0.188</text>\n<text text-anchor=\"start\" x=\"1163\" y=\"-751.8\" font-family=\"Helvetica,sans-Serif\" font-size=\"14.00\">gini = 0.5</text>\n<text text-anchor=\"start\" x=\"1153.5\" y=\"-736.8\" font-family=\"Helvetica,sans-Serif\" font-size=\"14.00\">samples = 2</text>\n<text text-anchor=\"start\" x=\"1136.5\" y=\"-721.8\" font-family=\"Helvetica,sans-Serif\" font-size=\"14.00\">value = [0, 0, 1, 1]</text>\n<text text-anchor=\"start\" x=\"1131.5\" y=\"-706.8\" font-family=\"Helvetica,sans-Serif\" font-size=\"14.00\">class = Super Earth</text>\n</g>\n<!-- 26&#45;&gt;34 -->\n<g id=\"edge34\" class=\"edge\">\n<title>26&#45;&gt;34</title>\n<path fill=\"none\" stroke=\"black\" d=\"M1184.47,-817.91C1185.18,-809.56 1185.94,-800.67 1186.68,-792.02\"/>\n<polygon fill=\"black\" stroke=\"black\" points=\"1190.17,-792.28 1187.54,-782.02 1183.2,-791.69 1190.17,-792.28\"/>\n</g>\n<!-- 28 -->\n<g id=\"node29\" class=\"node\">\n<title>28</title>\n<path fill=\"#399de5\" stroke=\"black\" d=\"M911.5,-655.5C911.5,-655.5 800.5,-655.5 800.5,-655.5 794.5,-655.5 788.5,-649.5 788.5,-643.5 788.5,-643.5 788.5,-599.5 788.5,-599.5 788.5,-593.5 794.5,-587.5 800.5,-587.5 800.5,-587.5 911.5,-587.5 911.5,-587.5 917.5,-587.5 923.5,-593.5 923.5,-599.5 923.5,-599.5 923.5,-643.5 923.5,-643.5 923.5,-649.5 917.5,-655.5 911.5,-655.5\"/>\n<text text-anchor=\"start\" x=\"828\" y=\"-640.3\" font-family=\"Helvetica,sans-Serif\" font-size=\"14.00\">gini = 0.0</text>\n<text text-anchor=\"start\" x=\"815\" y=\"-625.3\" font-family=\"Helvetica,sans-Serif\" font-size=\"14.00\">samples = 82</text>\n<text text-anchor=\"start\" x=\"798\" y=\"-610.3\" font-family=\"Helvetica,sans-Serif\" font-size=\"14.00\">value = [0, 0, 82, 0]</text>\n<text text-anchor=\"start\" x=\"796.5\" y=\"-595.3\" font-family=\"Helvetica,sans-Serif\" font-size=\"14.00\">class = Super Earth</text>\n</g>\n<!-- 27&#45;&gt;28 -->\n<g id=\"edge28\" class=\"edge\">\n<title>27&#45;&gt;28</title>\n<path fill=\"none\" stroke=\"black\" d=\"M965.06,-698.91C947.74,-686.77 928.79,-673.49 911.61,-661.46\"/>\n<polygon fill=\"black\" stroke=\"black\" points=\"913.54,-658.54 903.34,-655.67 909.52,-664.27 913.54,-658.54\"/>\n</g>\n<!-- 29 -->\n<g id=\"node30\" class=\"node\">\n<title>29</title>\n<path fill=\"#47a4e7\" stroke=\"black\" d=\"M1094,-663C1094,-663 954,-663 954,-663 948,-663 942,-657 942,-651 942,-651 942,-592 942,-592 942,-586 948,-580 954,-580 954,-580 1094,-580 1094,-580 1100,-580 1106,-586 1106,-592 1106,-592 1106,-651 1106,-651 1106,-657 1100,-663 1094,-663\"/>\n<text text-anchor=\"start\" x=\"950\" y=\"-647.8\" font-family=\"Helvetica,sans-Serif\" font-size=\"14.00\">radius_multiplier ≤ 1.366</text>\n<text text-anchor=\"start\" x=\"988.5\" y=\"-632.8\" font-family=\"Helvetica,sans-Serif\" font-size=\"14.00\">gini = 0.124</text>\n<text text-anchor=\"start\" x=\"983\" y=\"-617.8\" font-family=\"Helvetica,sans-Serif\" font-size=\"14.00\">samples = 15</text>\n<text text-anchor=\"start\" x=\"966\" y=\"-602.8\" font-family=\"Helvetica,sans-Serif\" font-size=\"14.00\">value = [0, 1, 14, 0]</text>\n<text text-anchor=\"start\" x=\"964.5\" y=\"-587.8\" font-family=\"Helvetica,sans-Serif\" font-size=\"14.00\">class = Super Earth</text>\n</g>\n<!-- 27&#45;&gt;29 -->\n<g id=\"edge29\" class=\"edge\">\n<title>27&#45;&gt;29</title>\n<path fill=\"none\" stroke=\"black\" d=\"M1023.35,-698.91C1023.42,-690.65 1023.49,-681.86 1023.57,-673.3\"/>\n<polygon fill=\"black\" stroke=\"black\" points=\"1027.07,-673.05 1023.65,-663.02 1020.07,-672.99 1027.07,-673.05\"/>\n</g>\n<!-- 30 -->\n<g id=\"node31\" class=\"node\">\n<title>30</title>\n<path fill=\"#ffffff\" stroke=\"black\" d=\"M1010.5,-544C1010.5,-544 869.5,-544 869.5,-544 863.5,-544 857.5,-538 857.5,-532 857.5,-532 857.5,-473 857.5,-473 857.5,-467 863.5,-461 869.5,-461 869.5,-461 1010.5,-461 1010.5,-461 1016.5,-461 1022.5,-467 1022.5,-473 1022.5,-473 1022.5,-532 1022.5,-532 1022.5,-538 1016.5,-544 1010.5,-544\"/>\n<text text-anchor=\"start\" x=\"865.5\" y=\"-528.8\" font-family=\"Helvetica,sans-Serif\" font-size=\"14.00\">stellar_magnitude ≤ 0.21</text>\n<text text-anchor=\"start\" x=\"912\" y=\"-513.8\" font-family=\"Helvetica,sans-Serif\" font-size=\"14.00\">gini = 0.5</text>\n<text text-anchor=\"start\" x=\"902.5\" y=\"-498.8\" font-family=\"Helvetica,sans-Serif\" font-size=\"14.00\">samples = 2</text>\n<text text-anchor=\"start\" x=\"885.5\" y=\"-483.8\" font-family=\"Helvetica,sans-Serif\" font-size=\"14.00\">value = [0, 1, 1, 0]</text>\n<text text-anchor=\"start\" x=\"885.5\" y=\"-468.8\" font-family=\"Helvetica,sans-Serif\" font-size=\"14.00\">class = Gas Giant</text>\n</g>\n<!-- 29&#45;&gt;30 -->\n<g id=\"edge30\" class=\"edge\">\n<title>29&#45;&gt;30</title>\n<path fill=\"none\" stroke=\"black\" d=\"M994.86,-579.91C988.47,-571.01 981.65,-561.51 975.06,-552.33\"/>\n<polygon fill=\"black\" stroke=\"black\" points=\"977.77,-550.1 969.09,-544.02 972.08,-554.19 977.77,-550.1\"/>\n</g>\n<!-- 33 -->\n<g id=\"node34\" class=\"node\">\n<title>33</title>\n<path fill=\"#399de5\" stroke=\"black\" d=\"M1163.5,-536.5C1163.5,-536.5 1052.5,-536.5 1052.5,-536.5 1046.5,-536.5 1040.5,-530.5 1040.5,-524.5 1040.5,-524.5 1040.5,-480.5 1040.5,-480.5 1040.5,-474.5 1046.5,-468.5 1052.5,-468.5 1052.5,-468.5 1163.5,-468.5 1163.5,-468.5 1169.5,-468.5 1175.5,-474.5 1175.5,-480.5 1175.5,-480.5 1175.5,-524.5 1175.5,-524.5 1175.5,-530.5 1169.5,-536.5 1163.5,-536.5\"/>\n<text text-anchor=\"start\" x=\"1080\" y=\"-521.3\" font-family=\"Helvetica,sans-Serif\" font-size=\"14.00\">gini = 0.0</text>\n<text text-anchor=\"start\" x=\"1067\" y=\"-506.3\" font-family=\"Helvetica,sans-Serif\" font-size=\"14.00\">samples = 13</text>\n<text text-anchor=\"start\" x=\"1050\" y=\"-491.3\" font-family=\"Helvetica,sans-Serif\" font-size=\"14.00\">value = [0, 0, 13, 0]</text>\n<text text-anchor=\"start\" x=\"1048.5\" y=\"-476.3\" font-family=\"Helvetica,sans-Serif\" font-size=\"14.00\">class = Super Earth</text>\n</g>\n<!-- 29&#45;&gt;33 -->\n<g id=\"edge33\" class=\"edge\">\n<title>29&#45;&gt;33</title>\n<path fill=\"none\" stroke=\"black\" d=\"M1053.14,-579.91C1061.22,-568.65 1070.01,-556.42 1078.13,-545.11\"/>\n<polygon fill=\"black\" stroke=\"black\" points=\"1081.2,-546.83 1084.19,-536.67 1075.51,-542.75 1081.2,-546.83\"/>\n</g>\n<!-- 31 -->\n<g id=\"node32\" class=\"node\">\n<title>31</title>\n<path fill=\"#47e539\" stroke=\"black\" d=\"M916.5,-417.5C916.5,-417.5 815.5,-417.5 815.5,-417.5 809.5,-417.5 803.5,-411.5 803.5,-405.5 803.5,-405.5 803.5,-361.5 803.5,-361.5 803.5,-355.5 809.5,-349.5 815.5,-349.5 815.5,-349.5 916.5,-349.5 916.5,-349.5 922.5,-349.5 928.5,-355.5 928.5,-361.5 928.5,-361.5 928.5,-405.5 928.5,-405.5 928.5,-411.5 922.5,-417.5 916.5,-417.5\"/>\n<text text-anchor=\"start\" x=\"838\" y=\"-402.3\" font-family=\"Helvetica,sans-Serif\" font-size=\"14.00\">gini = 0.0</text>\n<text text-anchor=\"start\" x=\"828.5\" y=\"-387.3\" font-family=\"Helvetica,sans-Serif\" font-size=\"14.00\">samples = 1</text>\n<text text-anchor=\"start\" x=\"811.5\" y=\"-372.3\" font-family=\"Helvetica,sans-Serif\" font-size=\"14.00\">value = [0, 1, 0, 0]</text>\n<text text-anchor=\"start\" x=\"811.5\" y=\"-357.3\" font-family=\"Helvetica,sans-Serif\" font-size=\"14.00\">class = Gas Giant</text>\n</g>\n<!-- 30&#45;&gt;31 -->\n<g id=\"edge31\" class=\"edge\">\n<title>30&#45;&gt;31</title>\n<path fill=\"none\" stroke=\"black\" d=\"M914.33,-460.91C907.28,-449.76 899.62,-437.66 892.53,-426.44\"/>\n<polygon fill=\"black\" stroke=\"black\" points=\"895.28,-424.25 886.98,-417.67 889.36,-427.99 895.28,-424.25\"/>\n</g>\n<!-- 32 -->\n<g id=\"node33\" class=\"node\">\n<title>32</title>\n<path fill=\"#399de5\" stroke=\"black\" d=\"M1069.5,-417.5C1069.5,-417.5 958.5,-417.5 958.5,-417.5 952.5,-417.5 946.5,-411.5 946.5,-405.5 946.5,-405.5 946.5,-361.5 946.5,-361.5 946.5,-355.5 952.5,-349.5 958.5,-349.5 958.5,-349.5 1069.5,-349.5 1069.5,-349.5 1075.5,-349.5 1081.5,-355.5 1081.5,-361.5 1081.5,-361.5 1081.5,-405.5 1081.5,-405.5 1081.5,-411.5 1075.5,-417.5 1069.5,-417.5\"/>\n<text text-anchor=\"start\" x=\"986\" y=\"-402.3\" font-family=\"Helvetica,sans-Serif\" font-size=\"14.00\">gini = 0.0</text>\n<text text-anchor=\"start\" x=\"976.5\" y=\"-387.3\" font-family=\"Helvetica,sans-Serif\" font-size=\"14.00\">samples = 1</text>\n<text text-anchor=\"start\" x=\"959.5\" y=\"-372.3\" font-family=\"Helvetica,sans-Serif\" font-size=\"14.00\">value = [0, 0, 1, 0]</text>\n<text text-anchor=\"start\" x=\"954.5\" y=\"-357.3\" font-family=\"Helvetica,sans-Serif\" font-size=\"14.00\">class = Super Earth</text>\n</g>\n<!-- 30&#45;&gt;32 -->\n<g id=\"edge32\" class=\"edge\">\n<title>30&#45;&gt;32</title>\n<path fill=\"none\" stroke=\"black\" d=\"M965.67,-460.91C972.72,-449.76 980.38,-437.66 987.47,-426.44\"/>\n<polygon fill=\"black\" stroke=\"black\" points=\"990.64,-427.99 993.02,-417.67 984.72,-424.25 990.64,-427.99\"/>\n</g>\n<!-- 35 -->\n<g id=\"node36\" class=\"node\">\n<title>35</title>\n<path fill=\"#d739e5\" stroke=\"black\" d=\"M1239.5,-655.5C1239.5,-655.5 1138.5,-655.5 1138.5,-655.5 1132.5,-655.5 1126.5,-649.5 1126.5,-643.5 1126.5,-643.5 1126.5,-599.5 1126.5,-599.5 1126.5,-593.5 1132.5,-587.5 1138.5,-587.5 1138.5,-587.5 1239.5,-587.5 1239.5,-587.5 1245.5,-587.5 1251.5,-593.5 1251.5,-599.5 1251.5,-599.5 1251.5,-643.5 1251.5,-643.5 1251.5,-649.5 1245.5,-655.5 1239.5,-655.5\"/>\n<text text-anchor=\"start\" x=\"1161\" y=\"-640.3\" font-family=\"Helvetica,sans-Serif\" font-size=\"14.00\">gini = 0.0</text>\n<text text-anchor=\"start\" x=\"1151.5\" y=\"-625.3\" font-family=\"Helvetica,sans-Serif\" font-size=\"14.00\">samples = 1</text>\n<text text-anchor=\"start\" x=\"1134.5\" y=\"-610.3\" font-family=\"Helvetica,sans-Serif\" font-size=\"14.00\">value = [0, 0, 0, 1]</text>\n<text text-anchor=\"start\" x=\"1136\" y=\"-595.3\" font-family=\"Helvetica,sans-Serif\" font-size=\"14.00\">class = Terrestrial</text>\n</g>\n<!-- 34&#45;&gt;35 -->\n<g id=\"edge35\" class=\"edge\">\n<title>34&#45;&gt;35</title>\n<path fill=\"none\" stroke=\"black\" d=\"M1190.31,-698.91C1190.12,-688.2 1189.93,-676.62 1189.74,-665.78\"/>\n<polygon fill=\"black\" stroke=\"black\" points=\"1193.24,-665.61 1189.57,-655.67 1186.24,-665.73 1193.24,-665.61\"/>\n</g>\n<!-- 36 -->\n<g id=\"node37\" class=\"node\">\n<title>36</title>\n<path fill=\"#399de5\" stroke=\"black\" d=\"M1392.5,-655.5C1392.5,-655.5 1281.5,-655.5 1281.5,-655.5 1275.5,-655.5 1269.5,-649.5 1269.5,-643.5 1269.5,-643.5 1269.5,-599.5 1269.5,-599.5 1269.5,-593.5 1275.5,-587.5 1281.5,-587.5 1281.5,-587.5 1392.5,-587.5 1392.5,-587.5 1398.5,-587.5 1404.5,-593.5 1404.5,-599.5 1404.5,-599.5 1404.5,-643.5 1404.5,-643.5 1404.5,-649.5 1398.5,-655.5 1392.5,-655.5\"/>\n<text text-anchor=\"start\" x=\"1309\" y=\"-640.3\" font-family=\"Helvetica,sans-Serif\" font-size=\"14.00\">gini = 0.0</text>\n<text text-anchor=\"start\" x=\"1299.5\" y=\"-625.3\" font-family=\"Helvetica,sans-Serif\" font-size=\"14.00\">samples = 1</text>\n<text text-anchor=\"start\" x=\"1282.5\" y=\"-610.3\" font-family=\"Helvetica,sans-Serif\" font-size=\"14.00\">value = [0, 0, 1, 0]</text>\n<text text-anchor=\"start\" x=\"1277.5\" y=\"-595.3\" font-family=\"Helvetica,sans-Serif\" font-size=\"14.00\">class = Super Earth</text>\n</g>\n<!-- 34&#45;&gt;36 -->\n<g id=\"edge36\" class=\"edge\">\n<title>34&#45;&gt;36</title>\n<path fill=\"none\" stroke=\"black\" d=\"M1241.65,-698.91C1256.53,-686.99 1272.77,-673.98 1287.56,-662.12\"/>\n<polygon fill=\"black\" stroke=\"black\" points=\"1290,-664.65 1295.61,-655.67 1285.62,-659.19 1290,-664.65\"/>\n</g>\n<!-- 38 -->\n<g id=\"node39\" class=\"node\">\n<title>38</title>\n<path fill=\"#47e539\" stroke=\"black\" d=\"M1379.5,-893.5C1379.5,-893.5 1278.5,-893.5 1278.5,-893.5 1272.5,-893.5 1266.5,-887.5 1266.5,-881.5 1266.5,-881.5 1266.5,-837.5 1266.5,-837.5 1266.5,-831.5 1272.5,-825.5 1278.5,-825.5 1278.5,-825.5 1379.5,-825.5 1379.5,-825.5 1385.5,-825.5 1391.5,-831.5 1391.5,-837.5 1391.5,-837.5 1391.5,-881.5 1391.5,-881.5 1391.5,-887.5 1385.5,-893.5 1379.5,-893.5\"/>\n<text text-anchor=\"start\" x=\"1301\" y=\"-878.3\" font-family=\"Helvetica,sans-Serif\" font-size=\"14.00\">gini = 0.0</text>\n<text text-anchor=\"start\" x=\"1291.5\" y=\"-863.3\" font-family=\"Helvetica,sans-Serif\" font-size=\"14.00\">samples = 6</text>\n<text text-anchor=\"start\" x=\"1274.5\" y=\"-848.3\" font-family=\"Helvetica,sans-Serif\" font-size=\"14.00\">value = [0, 6, 0, 0]</text>\n<text text-anchor=\"start\" x=\"1274.5\" y=\"-833.3\" font-family=\"Helvetica,sans-Serif\" font-size=\"14.00\">class = Gas Giant</text>\n</g>\n<!-- 37&#45;&gt;38 -->\n<g id=\"edge38\" class=\"edge\">\n<title>37&#45;&gt;38</title>\n<path fill=\"none\" stroke=\"black\" d=\"M1337.49,-936.91C1336.3,-926.2 1335.01,-914.62 1333.81,-903.78\"/>\n<polygon fill=\"black\" stroke=\"black\" points=\"1337.27,-903.22 1332.69,-893.67 1330.31,-903.99 1337.27,-903.22\"/>\n</g>\n<!-- 39 -->\n<g id=\"node40\" class=\"node\">\n<title>39</title>\n<path fill=\"#3c9fe5\" stroke=\"black\" d=\"M1570.5,-901C1570.5,-901 1421.5,-901 1421.5,-901 1415.5,-901 1409.5,-895 1409.5,-889 1409.5,-889 1409.5,-830 1409.5,-830 1409.5,-824 1415.5,-818 1421.5,-818 1421.5,-818 1570.5,-818 1570.5,-818 1576.5,-818 1582.5,-824 1582.5,-830 1582.5,-830 1582.5,-889 1582.5,-889 1582.5,-895 1576.5,-901 1570.5,-901\"/>\n<text text-anchor=\"start\" x=\"1417.5\" y=\"-885.8\" font-family=\"Helvetica,sans-Serif\" font-size=\"14.00\">stellar_magnitude ≤ 1.141</text>\n<text text-anchor=\"start\" x=\"1460.5\" y=\"-870.8\" font-family=\"Helvetica,sans-Serif\" font-size=\"14.00\">gini = 0.033</text>\n<text text-anchor=\"start\" x=\"1451\" y=\"-855.8\" font-family=\"Helvetica,sans-Serif\" font-size=\"14.00\">samples = 121</text>\n<text text-anchor=\"start\" x=\"1434\" y=\"-840.8\" font-family=\"Helvetica,sans-Serif\" font-size=\"14.00\">value = [0, 2, 119, 0]</text>\n<text text-anchor=\"start\" x=\"1436.5\" y=\"-825.8\" font-family=\"Helvetica,sans-Serif\" font-size=\"14.00\">class = Super Earth</text>\n</g>\n<!-- 37&#45;&gt;39 -->\n<g id=\"edge39\" class=\"edge\">\n<title>37&#45;&gt;39</title>\n<path fill=\"none\" stroke=\"black\" d=\"M1395.43,-936.91C1408.09,-927.29 1421.69,-916.95 1434.68,-907.09\"/>\n<polygon fill=\"black\" stroke=\"black\" points=\"1436.82,-909.86 1442.66,-901.02 1432.58,-904.28 1436.82,-909.86\"/>\n</g>\n<!-- 40 -->\n<g id=\"node41\" class=\"node\">\n<title>40</title>\n<path fill=\"#399de5\" stroke=\"black\" d=\"M1477,-774.5C1477,-774.5 1361,-774.5 1361,-774.5 1355,-774.5 1349,-768.5 1349,-762.5 1349,-762.5 1349,-718.5 1349,-718.5 1349,-712.5 1355,-706.5 1361,-706.5 1361,-706.5 1477,-706.5 1477,-706.5 1483,-706.5 1489,-712.5 1489,-718.5 1489,-718.5 1489,-762.5 1489,-762.5 1489,-768.5 1483,-774.5 1477,-774.5\"/>\n<text text-anchor=\"start\" x=\"1391\" y=\"-759.3\" font-family=\"Helvetica,sans-Serif\" font-size=\"14.00\">gini = 0.0</text>\n<text text-anchor=\"start\" x=\"1374\" y=\"-744.3\" font-family=\"Helvetica,sans-Serif\" font-size=\"14.00\">samples = 117</text>\n<text text-anchor=\"start\" x=\"1357\" y=\"-729.3\" font-family=\"Helvetica,sans-Serif\" font-size=\"14.00\">value = [0, 0, 117, 0]</text>\n<text text-anchor=\"start\" x=\"1359.5\" y=\"-714.3\" font-family=\"Helvetica,sans-Serif\" font-size=\"14.00\">class = Super Earth</text>\n</g>\n<!-- 39&#45;&gt;40 -->\n<g id=\"edge40\" class=\"edge\">\n<title>39&#45;&gt;40</title>\n<path fill=\"none\" stroke=\"black\" d=\"M1469.29,-817.91C1461.88,-806.65 1453.83,-794.42 1446.38,-783.11\"/>\n<polygon fill=\"black\" stroke=\"black\" points=\"1449.25,-781.1 1440.83,-774.67 1443.4,-784.94 1449.25,-781.1\"/>\n</g>\n<!-- 41 -->\n<g id=\"node42\" class=\"node\">\n<title>41</title>\n<path fill=\"#ffffff\" stroke=\"black\" d=\"M1620.5,-782C1620.5,-782 1519.5,-782 1519.5,-782 1513.5,-782 1507.5,-776 1507.5,-770 1507.5,-770 1507.5,-711 1507.5,-711 1507.5,-705 1513.5,-699 1519.5,-699 1519.5,-699 1620.5,-699 1620.5,-699 1626.5,-699 1632.5,-705 1632.5,-711 1632.5,-711 1632.5,-770 1632.5,-770 1632.5,-776 1626.5,-782 1620.5,-782\"/>\n<text text-anchor=\"start\" x=\"1515.5\" y=\"-766.8\" font-family=\"Helvetica,sans-Serif\" font-size=\"14.00\">eccentricity ≤ 0.67</text>\n<text text-anchor=\"start\" x=\"1542\" y=\"-751.8\" font-family=\"Helvetica,sans-Serif\" font-size=\"14.00\">gini = 0.5</text>\n<text text-anchor=\"start\" x=\"1532.5\" y=\"-736.8\" font-family=\"Helvetica,sans-Serif\" font-size=\"14.00\">samples = 4</text>\n<text text-anchor=\"start\" x=\"1515.5\" y=\"-721.8\" font-family=\"Helvetica,sans-Serif\" font-size=\"14.00\">value = [0, 2, 2, 0]</text>\n<text text-anchor=\"start\" x=\"1515.5\" y=\"-706.8\" font-family=\"Helvetica,sans-Serif\" font-size=\"14.00\">class = Gas Giant</text>\n</g>\n<!-- 39&#45;&gt;41 -->\n<g id=\"edge41\" class=\"edge\">\n<title>39&#45;&gt;41</title>\n<path fill=\"none\" stroke=\"black\" d=\"M1521.67,-817.91C1527.24,-809.1 1533.19,-799.7 1538.94,-790.61\"/>\n<polygon fill=\"black\" stroke=\"black\" points=\"1541.98,-792.34 1544.37,-782.02 1536.07,-788.6 1541.98,-792.34\"/>\n</g>\n<!-- 42 -->\n<g id=\"node43\" class=\"node\">\n<title>42</title>\n<path fill=\"#399de5\" stroke=\"black\" d=\"M1549.5,-655.5C1549.5,-655.5 1438.5,-655.5 1438.5,-655.5 1432.5,-655.5 1426.5,-649.5 1426.5,-643.5 1426.5,-643.5 1426.5,-599.5 1426.5,-599.5 1426.5,-593.5 1432.5,-587.5 1438.5,-587.5 1438.5,-587.5 1549.5,-587.5 1549.5,-587.5 1555.5,-587.5 1561.5,-593.5 1561.5,-599.5 1561.5,-599.5 1561.5,-643.5 1561.5,-643.5 1561.5,-649.5 1555.5,-655.5 1549.5,-655.5\"/>\n<text text-anchor=\"start\" x=\"1466\" y=\"-640.3\" font-family=\"Helvetica,sans-Serif\" font-size=\"14.00\">gini = 0.0</text>\n<text text-anchor=\"start\" x=\"1456.5\" y=\"-625.3\" font-family=\"Helvetica,sans-Serif\" font-size=\"14.00\">samples = 2</text>\n<text text-anchor=\"start\" x=\"1439.5\" y=\"-610.3\" font-family=\"Helvetica,sans-Serif\" font-size=\"14.00\">value = [0, 0, 2, 0]</text>\n<text text-anchor=\"start\" x=\"1434.5\" y=\"-595.3\" font-family=\"Helvetica,sans-Serif\" font-size=\"14.00\">class = Super Earth</text>\n</g>\n<!-- 41&#45;&gt;42 -->\n<g id=\"edge42\" class=\"edge\">\n<title>41&#45;&gt;42</title>\n<path fill=\"none\" stroke=\"black\" d=\"M1543.63,-698.91C1536.32,-687.65 1528.37,-675.42 1521.03,-664.11\"/>\n<polygon fill=\"black\" stroke=\"black\" points=\"1523.93,-662.15 1515.54,-655.67 1518.06,-665.96 1523.93,-662.15\"/>\n</g>\n<!-- 43 -->\n<g id=\"node44\" class=\"node\">\n<title>43</title>\n<path fill=\"#47e539\" stroke=\"black\" d=\"M1692.5,-655.5C1692.5,-655.5 1591.5,-655.5 1591.5,-655.5 1585.5,-655.5 1579.5,-649.5 1579.5,-643.5 1579.5,-643.5 1579.5,-599.5 1579.5,-599.5 1579.5,-593.5 1585.5,-587.5 1591.5,-587.5 1591.5,-587.5 1692.5,-587.5 1692.5,-587.5 1698.5,-587.5 1704.5,-593.5 1704.5,-599.5 1704.5,-599.5 1704.5,-643.5 1704.5,-643.5 1704.5,-649.5 1698.5,-655.5 1692.5,-655.5\"/>\n<text text-anchor=\"start\" x=\"1614\" y=\"-640.3\" font-family=\"Helvetica,sans-Serif\" font-size=\"14.00\">gini = 0.0</text>\n<text text-anchor=\"start\" x=\"1604.5\" y=\"-625.3\" font-family=\"Helvetica,sans-Serif\" font-size=\"14.00\">samples = 2</text>\n<text text-anchor=\"start\" x=\"1587.5\" y=\"-610.3\" font-family=\"Helvetica,sans-Serif\" font-size=\"14.00\">value = [0, 2, 0, 0]</text>\n<text text-anchor=\"start\" x=\"1587.5\" y=\"-595.3\" font-family=\"Helvetica,sans-Serif\" font-size=\"14.00\">class = Gas Giant</text>\n</g>\n<!-- 41&#45;&gt;43 -->\n<g id=\"edge43\" class=\"edge\">\n<title>41&#45;&gt;43</title>\n<path fill=\"none\" stroke=\"black\" d=\"M1594.98,-698.91C1601.84,-687.76 1609.29,-675.66 1616.19,-664.44\"/>\n<polygon fill=\"black\" stroke=\"black\" points=\"1619.33,-666.02 1621.59,-655.67 1613.37,-662.35 1619.33,-666.02\"/>\n</g>\n<!-- 46 -->\n<g id=\"node47\" class=\"node\">\n<title>46</title>\n<path fill=\"#b4f4af\" stroke=\"black\" d=\"M2285.5,-1258C2285.5,-1258 2144.5,-1258 2144.5,-1258 2138.5,-1258 2132.5,-1252 2132.5,-1246 2132.5,-1246 2132.5,-1187 2132.5,-1187 2132.5,-1181 2138.5,-1175 2144.5,-1175 2144.5,-1175 2285.5,-1175 2285.5,-1175 2291.5,-1175 2297.5,-1181 2297.5,-1187 2297.5,-1187 2297.5,-1246 2297.5,-1246 2297.5,-1252 2291.5,-1258 2285.5,-1258\"/>\n<text text-anchor=\"start\" x=\"2140.5\" y=\"-1242.8\" font-family=\"Helvetica,sans-Serif\" font-size=\"14.00\">mass_multiplier ≤ &#45;0.054</text>\n<text text-anchor=\"start\" x=\"2179.5\" y=\"-1227.8\" font-family=\"Helvetica,sans-Serif\" font-size=\"14.00\">gini = 0.482</text>\n<text text-anchor=\"start\" x=\"2170\" y=\"-1212.8\" font-family=\"Helvetica,sans-Serif\" font-size=\"14.00\">samples = 259</text>\n<text text-anchor=\"start\" x=\"2149.5\" y=\"-1197.8\" font-family=\"Helvetica,sans-Serif\" font-size=\"14.00\">value = [0, 161, 94, 4]</text>\n<text text-anchor=\"start\" x=\"2160.5\" y=\"-1182.8\" font-family=\"Helvetica,sans-Serif\" font-size=\"14.00\">class = Gas Giant</text>\n</g>\n<!-- 45&#45;&gt;46 -->\n<g id=\"edge46\" class=\"edge\">\n<title>45&#45;&gt;46</title>\n<path fill=\"none\" stroke=\"black\" d=\"M2469.66,-1306.18C2420.67,-1289.12 2358.14,-1267.34 2307.31,-1249.64\"/>\n<polygon fill=\"black\" stroke=\"black\" points=\"2308.22,-1246.26 2297.63,-1246.27 2305.92,-1252.87 2308.22,-1246.26\"/>\n</g>\n<!-- 77 -->\n<g id=\"node78\" class=\"node\">\n<title>77</title>\n<path fill=\"#4fe642\" stroke=\"black\" d=\"M2960.5,-1258C2960.5,-1258 2823.5,-1258 2823.5,-1258 2817.5,-1258 2811.5,-1252 2811.5,-1246 2811.5,-1246 2811.5,-1187 2811.5,-1187 2811.5,-1181 2817.5,-1175 2823.5,-1175 2823.5,-1175 2960.5,-1175 2960.5,-1175 2966.5,-1175 2972.5,-1181 2972.5,-1187 2972.5,-1187 2972.5,-1246 2972.5,-1246 2972.5,-1252 2966.5,-1258 2960.5,-1258\"/>\n<text text-anchor=\"start\" x=\"2819.5\" y=\"-1242.8\" font-family=\"Helvetica,sans-Serif\" font-size=\"14.00\">mass_multiplier ≤ 2.364</text>\n<text text-anchor=\"start\" x=\"2856.5\" y=\"-1227.8\" font-family=\"Helvetica,sans-Serif\" font-size=\"14.00\">gini = 0.085</text>\n<text text-anchor=\"start\" x=\"2843.5\" y=\"-1212.8\" font-family=\"Helvetica,sans-Serif\" font-size=\"14.00\">samples = 1521</text>\n<text text-anchor=\"start\" x=\"2822.5\" y=\"-1197.8\" font-family=\"Helvetica,sans-Serif\" font-size=\"14.00\">value = [8, 1454, 59, 0]</text>\n<text text-anchor=\"start\" x=\"2837.5\" y=\"-1182.8\" font-family=\"Helvetica,sans-Serif\" font-size=\"14.00\">class = Gas Giant</text>\n</g>\n<!-- 45&#45;&gt;77 -->\n<g id=\"edge77\" class=\"edge\">\n<title>45&#45;&gt;77</title>\n<path fill=\"none\" stroke=\"black\" d=\"M2632.24,-1306.62C2683.24,-1289.13 2749.08,-1266.54 2801.71,-1248.48\"/>\n<polygon fill=\"black\" stroke=\"black\" points=\"2803.05,-1251.72 2811.38,-1245.16 2800.78,-1245.1 2803.05,-1251.72\"/>\n</g>\n<!-- 47 -->\n<g id=\"node48\" class=\"node\">\n<title>47</title>\n<path fill=\"#51e643\" stroke=\"black\" d=\"M2021,-1139C2021,-1139 1881,-1139 1881,-1139 1875,-1139 1869,-1133 1869,-1127 1869,-1127 1869,-1068 1869,-1068 1869,-1062 1875,-1056 1881,-1056 1881,-1056 2021,-1056 2021,-1056 2027,-1056 2033,-1062 2033,-1068 2033,-1068 2033,-1127 2033,-1127 2033,-1133 2027,-1139 2021,-1139\"/>\n<text text-anchor=\"start\" x=\"1877\" y=\"-1123.8\" font-family=\"Helvetica,sans-Serif\" font-size=\"14.00\">radius_multiplier ≤ 1.719</text>\n<text text-anchor=\"start\" x=\"1915.5\" y=\"-1108.8\" font-family=\"Helvetica,sans-Serif\" font-size=\"14.00\">gini = 0.097</text>\n<text text-anchor=\"start\" x=\"1906\" y=\"-1093.8\" font-family=\"Helvetica,sans-Serif\" font-size=\"14.00\">samples = 159</text>\n<text text-anchor=\"start\" x=\"1889\" y=\"-1078.8\" font-family=\"Helvetica,sans-Serif\" font-size=\"14.00\">value = [0, 151, 6, 2]</text>\n<text text-anchor=\"start\" x=\"1896.5\" y=\"-1063.8\" font-family=\"Helvetica,sans-Serif\" font-size=\"14.00\">class = Gas Giant</text>\n</g>\n<!-- 46&#45;&gt;47 -->\n<g id=\"edge47\" class=\"edge\">\n<title>46&#45;&gt;47</title>\n<path fill=\"none\" stroke=\"black\" d=\"M2132.19,-1178.8C2103.68,-1166.16 2071.58,-1151.94 2042.42,-1139.01\"/>\n<polygon fill=\"black\" stroke=\"black\" points=\"2043.62,-1135.72 2033.06,-1134.87 2040.78,-1142.12 2043.62,-1135.72\"/>\n</g>\n<!-- 52 -->\n<g id=\"node53\" class=\"node\">\n<title>52</title>\n<path fill=\"#53aae8\" stroke=\"black\" d=\"M2285,-1139C2285,-1139 2145,-1139 2145,-1139 2139,-1139 2133,-1133 2133,-1127 2133,-1127 2133,-1068 2133,-1068 2133,-1062 2139,-1056 2145,-1056 2145,-1056 2285,-1056 2285,-1056 2291,-1056 2297,-1062 2297,-1068 2297,-1068 2297,-1127 2297,-1127 2297,-1133 2291,-1139 2285,-1139\"/>\n<text text-anchor=\"start\" x=\"2141\" y=\"-1123.8\" font-family=\"Helvetica,sans-Serif\" font-size=\"14.00\">radius_multiplier ≤ 1.349</text>\n<text text-anchor=\"start\" x=\"2179.5\" y=\"-1108.8\" font-family=\"Helvetica,sans-Serif\" font-size=\"14.00\">gini = 0.215</text>\n<text text-anchor=\"start\" x=\"2170\" y=\"-1093.8\" font-family=\"Helvetica,sans-Serif\" font-size=\"14.00\">samples = 100</text>\n<text text-anchor=\"start\" x=\"2153\" y=\"-1078.8\" font-family=\"Helvetica,sans-Serif\" font-size=\"14.00\">value = [0, 10, 88, 2]</text>\n<text text-anchor=\"start\" x=\"2155.5\" y=\"-1063.8\" font-family=\"Helvetica,sans-Serif\" font-size=\"14.00\">class = Super Earth</text>\n</g>\n<!-- 46&#45;&gt;52 -->\n<g id=\"edge52\" class=\"edge\">\n<title>46&#45;&gt;52</title>\n<path fill=\"none\" stroke=\"black\" d=\"M2215,-1174.91C2215,-1166.65 2215,-1157.86 2215,-1149.3\"/>\n<polygon fill=\"black\" stroke=\"black\" points=\"2218.5,-1149.02 2215,-1139.02 2211.5,-1149.02 2218.5,-1149.02\"/>\n</g>\n<!-- 48 -->\n<g id=\"node49\" class=\"node\">\n<title>48</title>\n<path fill=\"#7bbeee\" stroke=\"black\" d=\"M1851,-1020C1851,-1020 1711,-1020 1711,-1020 1705,-1020 1699,-1014 1699,-1008 1699,-1008 1699,-949 1699,-949 1699,-943 1705,-937 1711,-937 1711,-937 1851,-937 1851,-937 1857,-937 1863,-943 1863,-949 1863,-949 1863,-1008 1863,-1008 1863,-1014 1857,-1020 1851,-1020\"/>\n<text text-anchor=\"start\" x=\"1707\" y=\"-1004.8\" font-family=\"Helvetica,sans-Serif\" font-size=\"14.00\">radius_multiplier ≤ 0.067</text>\n<text text-anchor=\"start\" x=\"1745.5\" y=\"-989.8\" font-family=\"Helvetica,sans-Serif\" font-size=\"14.00\">gini = 0.375</text>\n<text text-anchor=\"start\" x=\"1743.5\" y=\"-974.8\" font-family=\"Helvetica,sans-Serif\" font-size=\"14.00\">samples = 8</text>\n<text text-anchor=\"start\" x=\"1726.5\" y=\"-959.8\" font-family=\"Helvetica,sans-Serif\" font-size=\"14.00\">value = [0, 0, 6, 2]</text>\n<text text-anchor=\"start\" x=\"1721.5\" y=\"-944.8\" font-family=\"Helvetica,sans-Serif\" font-size=\"14.00\">class = Super Earth</text>\n</g>\n<!-- 47&#45;&gt;48 -->\n<g id=\"edge48\" class=\"edge\">\n<title>47&#45;&gt;48</title>\n<path fill=\"none\" stroke=\"black\" d=\"M1892.02,-1055.91C1877.91,-1046.2 1862.74,-1035.76 1848.29,-1025.81\"/>\n<polygon fill=\"black\" stroke=\"black\" points=\"1850.1,-1022.81 1839.88,-1020.02 1846.13,-1028.57 1850.1,-1022.81\"/>\n</g>\n<!-- 51 -->\n<g id=\"node52\" class=\"node\">\n<title>51</title>\n<path fill=\"#47e539\" stroke=\"black\" d=\"M2009,-1012.5C2009,-1012.5 1893,-1012.5 1893,-1012.5 1887,-1012.5 1881,-1006.5 1881,-1000.5 1881,-1000.5 1881,-956.5 1881,-956.5 1881,-950.5 1887,-944.5 1893,-944.5 1893,-944.5 2009,-944.5 2009,-944.5 2015,-944.5 2021,-950.5 2021,-956.5 2021,-956.5 2021,-1000.5 2021,-1000.5 2021,-1006.5 2015,-1012.5 2009,-1012.5\"/>\n<text text-anchor=\"start\" x=\"1923\" y=\"-997.3\" font-family=\"Helvetica,sans-Serif\" font-size=\"14.00\">gini = 0.0</text>\n<text text-anchor=\"start\" x=\"1906\" y=\"-982.3\" font-family=\"Helvetica,sans-Serif\" font-size=\"14.00\">samples = 151</text>\n<text text-anchor=\"start\" x=\"1889\" y=\"-967.3\" font-family=\"Helvetica,sans-Serif\" font-size=\"14.00\">value = [0, 151, 0, 0]</text>\n<text text-anchor=\"start\" x=\"1896.5\" y=\"-952.3\" font-family=\"Helvetica,sans-Serif\" font-size=\"14.00\">class = Gas Giant</text>\n</g>\n<!-- 47&#45;&gt;51 -->\n<g id=\"edge51\" class=\"edge\">\n<title>47&#45;&gt;51</title>\n<path fill=\"none\" stroke=\"black\" d=\"M1951,-1055.91C1951,-1045.2 1951,-1033.62 1951,-1022.78\"/>\n<polygon fill=\"black\" stroke=\"black\" points=\"1954.5,-1022.67 1951,-1012.67 1947.5,-1022.67 1954.5,-1022.67\"/>\n</g>\n<!-- 49 -->\n<g id=\"node50\" class=\"node\">\n<title>49</title>\n<path fill=\"#d739e5\" stroke=\"black\" d=\"M1713.5,-893.5C1713.5,-893.5 1612.5,-893.5 1612.5,-893.5 1606.5,-893.5 1600.5,-887.5 1600.5,-881.5 1600.5,-881.5 1600.5,-837.5 1600.5,-837.5 1600.5,-831.5 1606.5,-825.5 1612.5,-825.5 1612.5,-825.5 1713.5,-825.5 1713.5,-825.5 1719.5,-825.5 1725.5,-831.5 1725.5,-837.5 1725.5,-837.5 1725.5,-881.5 1725.5,-881.5 1725.5,-887.5 1719.5,-893.5 1713.5,-893.5\"/>\n<text text-anchor=\"start\" x=\"1635\" y=\"-878.3\" font-family=\"Helvetica,sans-Serif\" font-size=\"14.00\">gini = 0.0</text>\n<text text-anchor=\"start\" x=\"1625.5\" y=\"-863.3\" font-family=\"Helvetica,sans-Serif\" font-size=\"14.00\">samples = 2</text>\n<text text-anchor=\"start\" x=\"1608.5\" y=\"-848.3\" font-family=\"Helvetica,sans-Serif\" font-size=\"14.00\">value = [0, 0, 0, 2]</text>\n<text text-anchor=\"start\" x=\"1610\" y=\"-833.3\" font-family=\"Helvetica,sans-Serif\" font-size=\"14.00\">class = Terrestrial</text>\n</g>\n<!-- 48&#45;&gt;49 -->\n<g id=\"edge49\" class=\"edge\">\n<title>48&#45;&gt;49</title>\n<path fill=\"none\" stroke=\"black\" d=\"M1740.06,-936.91C1728.26,-925.21 1715.4,-912.46 1703.62,-900.78\"/>\n<polygon fill=\"black\" stroke=\"black\" points=\"1706.02,-898.22 1696.45,-893.67 1701.09,-903.19 1706.02,-898.22\"/>\n</g>\n<!-- 50 -->\n<g id=\"node51\" class=\"node\">\n<title>50</title>\n<path fill=\"#399de5\" stroke=\"black\" d=\"M1866.5,-893.5C1866.5,-893.5 1755.5,-893.5 1755.5,-893.5 1749.5,-893.5 1743.5,-887.5 1743.5,-881.5 1743.5,-881.5 1743.5,-837.5 1743.5,-837.5 1743.5,-831.5 1749.5,-825.5 1755.5,-825.5 1755.5,-825.5 1866.5,-825.5 1866.5,-825.5 1872.5,-825.5 1878.5,-831.5 1878.5,-837.5 1878.5,-837.5 1878.5,-881.5 1878.5,-881.5 1878.5,-887.5 1872.5,-893.5 1866.5,-893.5\"/>\n<text text-anchor=\"start\" x=\"1783\" y=\"-878.3\" font-family=\"Helvetica,sans-Serif\" font-size=\"14.00\">gini = 0.0</text>\n<text text-anchor=\"start\" x=\"1773.5\" y=\"-863.3\" font-family=\"Helvetica,sans-Serif\" font-size=\"14.00\">samples = 6</text>\n<text text-anchor=\"start\" x=\"1756.5\" y=\"-848.3\" font-family=\"Helvetica,sans-Serif\" font-size=\"14.00\">value = [0, 0, 6, 0]</text>\n<text text-anchor=\"start\" x=\"1751.5\" y=\"-833.3\" font-family=\"Helvetica,sans-Serif\" font-size=\"14.00\">class = Super Earth</text>\n</g>\n<!-- 48&#45;&gt;50 -->\n<g id=\"edge50\" class=\"edge\">\n<title>48&#45;&gt;50</title>\n<path fill=\"none\" stroke=\"black\" d=\"M1791.41,-936.91C1794.18,-926.09 1797.19,-914.38 1799.99,-903.44\"/>\n<polygon fill=\"black\" stroke=\"black\" points=\"1803.4,-904.22 1802.5,-893.67 1796.62,-902.48 1803.4,-904.22\"/>\n</g>\n<!-- 53 -->\n<g id=\"node54\" class=\"node\">\n<title>53</title>\n<path fill=\"#40a0e6\" stroke=\"black\" d=\"M2196.5,-1020C2196.5,-1020 2051.5,-1020 2051.5,-1020 2045.5,-1020 2039.5,-1014 2039.5,-1008 2039.5,-1008 2039.5,-949 2039.5,-949 2039.5,-943 2045.5,-937 2051.5,-937 2051.5,-937 2196.5,-937 2196.5,-937 2202.5,-937 2208.5,-943 2208.5,-949 2208.5,-949 2208.5,-1008 2208.5,-1008 2208.5,-1014 2202.5,-1020 2196.5,-1020\"/>\n<text text-anchor=\"start\" x=\"2047.5\" y=\"-1004.8\" font-family=\"Helvetica,sans-Serif\" font-size=\"14.00\">radius_multiplier ≤ &#45;0.362</text>\n<text text-anchor=\"start\" x=\"2088.5\" y=\"-989.8\" font-family=\"Helvetica,sans-Serif\" font-size=\"14.00\">gini = 0.067</text>\n<text text-anchor=\"start\" x=\"2083\" y=\"-974.8\" font-family=\"Helvetica,sans-Serif\" font-size=\"14.00\">samples = 58</text>\n<text text-anchor=\"start\" x=\"2066\" y=\"-959.8\" font-family=\"Helvetica,sans-Serif\" font-size=\"14.00\">value = [0, 0, 56, 2]</text>\n<text text-anchor=\"start\" x=\"2064.5\" y=\"-944.8\" font-family=\"Helvetica,sans-Serif\" font-size=\"14.00\">class = Super Earth</text>\n</g>\n<!-- 52&#45;&gt;53 -->\n<g id=\"edge53\" class=\"edge\">\n<title>52&#45;&gt;53</title>\n<path fill=\"none\" stroke=\"black\" d=\"M2183.43,-1055.91C2176.44,-1046.92 2168.97,-1037.32 2161.76,-1028.05\"/>\n<polygon fill=\"black\" stroke=\"black\" points=\"2164.42,-1025.77 2155.52,-1020.02 2158.89,-1030.06 2164.42,-1025.77\"/>\n</g>\n<!-- 60 -->\n<g id=\"node61\" class=\"node\">\n<title>60</title>\n<path fill=\"#77bced\" stroke=\"black\" d=\"M2355,-1020C2355,-1020 2239,-1020 2239,-1020 2233,-1020 2227,-1014 2227,-1008 2227,-1008 2227,-949 2227,-949 2227,-943 2233,-937 2239,-937 2239,-937 2355,-937 2355,-937 2361,-937 2367,-943 2367,-949 2367,-949 2367,-1008 2367,-1008 2367,-1014 2361,-1020 2355,-1020\"/>\n<text text-anchor=\"start\" x=\"2245\" y=\"-1004.8\" font-family=\"Helvetica,sans-Serif\" font-size=\"14.00\">distance ≤ &#45;0.441</text>\n<text text-anchor=\"start\" x=\"2261.5\" y=\"-989.8\" font-family=\"Helvetica,sans-Serif\" font-size=\"14.00\">gini = 0.363</text>\n<text text-anchor=\"start\" x=\"2256\" y=\"-974.8\" font-family=\"Helvetica,sans-Serif\" font-size=\"14.00\">samples = 42</text>\n<text text-anchor=\"start\" x=\"2235\" y=\"-959.8\" font-family=\"Helvetica,sans-Serif\" font-size=\"14.00\">value = [0, 10, 32, 0]</text>\n<text text-anchor=\"start\" x=\"2237.5\" y=\"-944.8\" font-family=\"Helvetica,sans-Serif\" font-size=\"14.00\">class = Super Earth</text>\n</g>\n<!-- 52&#45;&gt;60 -->\n<g id=\"edge60\" class=\"edge\">\n<title>52&#45;&gt;60</title>\n<path fill=\"none\" stroke=\"black\" d=\"M2243.45,-1055.91C2249.68,-1047.01 2256.34,-1037.51 2262.78,-1028.33\"/>\n<polygon fill=\"black\" stroke=\"black\" points=\"2265.73,-1030.22 2268.6,-1020.02 2260,-1026.2 2265.73,-1030.22\"/>\n</g>\n<!-- 54 -->\n<g id=\"node55\" class=\"node\">\n<title>54</title>\n<path fill=\"#d739e5\" stroke=\"black\" d=\"M2009.5,-893.5C2009.5,-893.5 1908.5,-893.5 1908.5,-893.5 1902.5,-893.5 1896.5,-887.5 1896.5,-881.5 1896.5,-881.5 1896.5,-837.5 1896.5,-837.5 1896.5,-831.5 1902.5,-825.5 1908.5,-825.5 1908.5,-825.5 2009.5,-825.5 2009.5,-825.5 2015.5,-825.5 2021.5,-831.5 2021.5,-837.5 2021.5,-837.5 2021.5,-881.5 2021.5,-881.5 2021.5,-887.5 2015.5,-893.5 2009.5,-893.5\"/>\n<text text-anchor=\"start\" x=\"1931\" y=\"-878.3\" font-family=\"Helvetica,sans-Serif\" font-size=\"14.00\">gini = 0.0</text>\n<text text-anchor=\"start\" x=\"1921.5\" y=\"-863.3\" font-family=\"Helvetica,sans-Serif\" font-size=\"14.00\">samples = 1</text>\n<text text-anchor=\"start\" x=\"1904.5\" y=\"-848.3\" font-family=\"Helvetica,sans-Serif\" font-size=\"14.00\">value = [0, 0, 0, 1]</text>\n<text text-anchor=\"start\" x=\"1906\" y=\"-833.3\" font-family=\"Helvetica,sans-Serif\" font-size=\"14.00\">class = Terrestrial</text>\n</g>\n<!-- 53&#45;&gt;54 -->\n<g id=\"edge54\" class=\"edge\">\n<title>53&#45;&gt;54</title>\n<path fill=\"none\" stroke=\"black\" d=\"M2066.75,-936.91C2049.64,-924.77 2030.91,-911.49 2013.95,-899.46\"/>\n<polygon fill=\"black\" stroke=\"black\" points=\"2015.96,-896.6 2005.77,-893.67 2011.91,-902.31 2015.96,-896.6\"/>\n</g>\n<!-- 55 -->\n<g id=\"node56\" class=\"node\">\n<title>55</title>\n<path fill=\"#3d9fe5\" stroke=\"black\" d=\"M2196.5,-901C2196.5,-901 2051.5,-901 2051.5,-901 2045.5,-901 2039.5,-895 2039.5,-889 2039.5,-889 2039.5,-830 2039.5,-830 2039.5,-824 2045.5,-818 2051.5,-818 2051.5,-818 2196.5,-818 2196.5,-818 2202.5,-818 2208.5,-824 2208.5,-830 2208.5,-830 2208.5,-889 2208.5,-889 2208.5,-895 2202.5,-901 2196.5,-901\"/>\n<text text-anchor=\"start\" x=\"2047.5\" y=\"-885.8\" font-family=\"Helvetica,sans-Serif\" font-size=\"14.00\">radius_multiplier ≤ &#45;0.062</text>\n<text text-anchor=\"start\" x=\"2088.5\" y=\"-870.8\" font-family=\"Helvetica,sans-Serif\" font-size=\"14.00\">gini = 0.034</text>\n<text text-anchor=\"start\" x=\"2083\" y=\"-855.8\" font-family=\"Helvetica,sans-Serif\" font-size=\"14.00\">samples = 57</text>\n<text text-anchor=\"start\" x=\"2066\" y=\"-840.8\" font-family=\"Helvetica,sans-Serif\" font-size=\"14.00\">value = [0, 0, 56, 1]</text>\n<text text-anchor=\"start\" x=\"2064.5\" y=\"-825.8\" font-family=\"Helvetica,sans-Serif\" font-size=\"14.00\">class = Super Earth</text>\n</g>\n<!-- 53&#45;&gt;55 -->\n<g id=\"edge55\" class=\"edge\">\n<title>53&#45;&gt;55</title>\n<path fill=\"none\" stroke=\"black\" d=\"M2124,-936.91C2124,-928.65 2124,-919.86 2124,-911.3\"/>\n<polygon fill=\"black\" stroke=\"black\" points=\"2127.5,-911.02 2124,-901.02 2120.5,-911.02 2127.5,-911.02\"/>\n</g>\n<!-- 56 -->\n<g id=\"node57\" class=\"node\">\n<title>56</title>\n<path fill=\"#9ccef2\" stroke=\"black\" d=\"M1943.5,-782C1943.5,-782 1806.5,-782 1806.5,-782 1800.5,-782 1794.5,-776 1794.5,-770 1794.5,-770 1794.5,-711 1794.5,-711 1794.5,-705 1800.5,-699 1806.5,-699 1806.5,-699 1943.5,-699 1943.5,-699 1949.5,-699 1955.5,-705 1955.5,-711 1955.5,-711 1955.5,-770 1955.5,-770 1955.5,-776 1949.5,-782 1943.5,-782\"/>\n<text text-anchor=\"start\" x=\"1802.5\" y=\"-766.8\" font-family=\"Helvetica,sans-Serif\" font-size=\"14.00\">mass_multiplier ≤ 0.131</text>\n<text text-anchor=\"start\" x=\"1839.5\" y=\"-751.8\" font-family=\"Helvetica,sans-Serif\" font-size=\"14.00\">gini = 0.444</text>\n<text text-anchor=\"start\" x=\"1837.5\" y=\"-736.8\" font-family=\"Helvetica,sans-Serif\" font-size=\"14.00\">samples = 3</text>\n<text text-anchor=\"start\" x=\"1820.5\" y=\"-721.8\" font-family=\"Helvetica,sans-Serif\" font-size=\"14.00\">value = [0, 0, 2, 1]</text>\n<text text-anchor=\"start\" x=\"1815.5\" y=\"-706.8\" font-family=\"Helvetica,sans-Serif\" font-size=\"14.00\">class = Super Earth</text>\n</g>\n<!-- 55&#45;&gt;56 -->\n<g id=\"edge56\" class=\"edge\">\n<title>55&#45;&gt;56</title>\n<path fill=\"none\" stroke=\"black\" d=\"M2039.35,-818.73C2015.35,-807.45 1989.14,-795.13 1964.84,-783.71\"/>\n<polygon fill=\"black\" stroke=\"black\" points=\"1966.17,-780.47 1955.63,-779.39 1963.19,-786.81 1966.17,-780.47\"/>\n</g>\n<!-- 59 -->\n<g id=\"node60\" class=\"node\">\n<title>59</title>\n<path fill=\"#399de5\" stroke=\"black\" d=\"M2096.5,-774.5C2096.5,-774.5 1985.5,-774.5 1985.5,-774.5 1979.5,-774.5 1973.5,-768.5 1973.5,-762.5 1973.5,-762.5 1973.5,-718.5 1973.5,-718.5 1973.5,-712.5 1979.5,-706.5 1985.5,-706.5 1985.5,-706.5 2096.5,-706.5 2096.5,-706.5 2102.5,-706.5 2108.5,-712.5 2108.5,-718.5 2108.5,-718.5 2108.5,-762.5 2108.5,-762.5 2108.5,-768.5 2102.5,-774.5 2096.5,-774.5\"/>\n<text text-anchor=\"start\" x=\"2013\" y=\"-759.3\" font-family=\"Helvetica,sans-Serif\" font-size=\"14.00\">gini = 0.0</text>\n<text text-anchor=\"start\" x=\"2000\" y=\"-744.3\" font-family=\"Helvetica,sans-Serif\" font-size=\"14.00\">samples = 54</text>\n<text text-anchor=\"start\" x=\"1983\" y=\"-729.3\" font-family=\"Helvetica,sans-Serif\" font-size=\"14.00\">value = [0, 0, 54, 0]</text>\n<text text-anchor=\"start\" x=\"1981.5\" y=\"-714.3\" font-family=\"Helvetica,sans-Serif\" font-size=\"14.00\">class = Super Earth</text>\n</g>\n<!-- 55&#45;&gt;59 -->\n<g id=\"edge59\" class=\"edge\">\n<title>55&#45;&gt;59</title>\n<path fill=\"none\" stroke=\"black\" d=\"M2095.2,-817.91C2087.22,-806.65 2078.54,-794.42 2070.52,-783.11\"/>\n<polygon fill=\"black\" stroke=\"black\" points=\"2073.17,-780.8 2064.53,-774.67 2067.46,-784.85 2073.17,-780.8\"/>\n</g>\n<!-- 57 -->\n<g id=\"node58\" class=\"node\">\n<title>57</title>\n<path fill=\"#d739e5\" stroke=\"black\" d=\"M1846.5,-655.5C1846.5,-655.5 1745.5,-655.5 1745.5,-655.5 1739.5,-655.5 1733.5,-649.5 1733.5,-643.5 1733.5,-643.5 1733.5,-599.5 1733.5,-599.5 1733.5,-593.5 1739.5,-587.5 1745.5,-587.5 1745.5,-587.5 1846.5,-587.5 1846.5,-587.5 1852.5,-587.5 1858.5,-593.5 1858.5,-599.5 1858.5,-599.5 1858.5,-643.5 1858.5,-643.5 1858.5,-649.5 1852.5,-655.5 1846.5,-655.5\"/>\n<text text-anchor=\"start\" x=\"1768\" y=\"-640.3\" font-family=\"Helvetica,sans-Serif\" font-size=\"14.00\">gini = 0.0</text>\n<text text-anchor=\"start\" x=\"1758.5\" y=\"-625.3\" font-family=\"Helvetica,sans-Serif\" font-size=\"14.00\">samples = 1</text>\n<text text-anchor=\"start\" x=\"1741.5\" y=\"-610.3\" font-family=\"Helvetica,sans-Serif\" font-size=\"14.00\">value = [0, 0, 0, 1]</text>\n<text text-anchor=\"start\" x=\"1743\" y=\"-595.3\" font-family=\"Helvetica,sans-Serif\" font-size=\"14.00\">class = Terrestrial</text>\n</g>\n<!-- 56&#45;&gt;57 -->\n<g id=\"edge57\" class=\"edge\">\n<title>56&#45;&gt;57</title>\n<path fill=\"none\" stroke=\"black\" d=\"M1847.59,-698.91C1839.99,-687.65 1831.73,-675.42 1824.09,-664.11\"/>\n<polygon fill=\"black\" stroke=\"black\" points=\"1826.89,-662 1818.39,-655.67 1821.09,-665.91 1826.89,-662\"/>\n</g>\n<!-- 58 -->\n<g id=\"node59\" class=\"node\">\n<title>58</title>\n<path fill=\"#399de5\" stroke=\"black\" d=\"M1999.5,-655.5C1999.5,-655.5 1888.5,-655.5 1888.5,-655.5 1882.5,-655.5 1876.5,-649.5 1876.5,-643.5 1876.5,-643.5 1876.5,-599.5 1876.5,-599.5 1876.5,-593.5 1882.5,-587.5 1888.5,-587.5 1888.5,-587.5 1999.5,-587.5 1999.5,-587.5 2005.5,-587.5 2011.5,-593.5 2011.5,-599.5 2011.5,-599.5 2011.5,-643.5 2011.5,-643.5 2011.5,-649.5 2005.5,-655.5 1999.5,-655.5\"/>\n<text text-anchor=\"start\" x=\"1916\" y=\"-640.3\" font-family=\"Helvetica,sans-Serif\" font-size=\"14.00\">gini = 0.0</text>\n<text text-anchor=\"start\" x=\"1906.5\" y=\"-625.3\" font-family=\"Helvetica,sans-Serif\" font-size=\"14.00\">samples = 2</text>\n<text text-anchor=\"start\" x=\"1889.5\" y=\"-610.3\" font-family=\"Helvetica,sans-Serif\" font-size=\"14.00\">value = [0, 0, 2, 0]</text>\n<text text-anchor=\"start\" x=\"1884.5\" y=\"-595.3\" font-family=\"Helvetica,sans-Serif\" font-size=\"14.00\">class = Super Earth</text>\n</g>\n<!-- 56&#45;&gt;58 -->\n<g id=\"edge58\" class=\"edge\">\n<title>56&#45;&gt;58</title>\n<path fill=\"none\" stroke=\"black\" d=\"M1898.94,-698.91C1905.51,-687.76 1912.65,-675.66 1919.27,-664.44\"/>\n<polygon fill=\"black\" stroke=\"black\" points=\"1922.37,-666.06 1924.44,-655.67 1916.35,-662.5 1922.37,-666.06\"/>\n</g>\n<!-- 61 -->\n<g id=\"node62\" class=\"node\">\n<title>61</title>\n<path fill=\"#b5daf5\" stroke=\"black\" d=\"M2355,-901C2355,-901 2239,-901 2239,-901 2233,-901 2227,-895 2227,-889 2227,-889 2227,-830 2227,-830 2227,-824 2233,-818 2239,-818 2239,-818 2355,-818 2355,-818 2361,-818 2367,-824 2367,-830 2367,-830 2367,-889 2367,-889 2367,-895 2361,-901 2355,-901\"/>\n<text text-anchor=\"start\" x=\"2245\" y=\"-885.8\" font-family=\"Helvetica,sans-Serif\" font-size=\"14.00\">distance ≤ &#45;0.911</text>\n<text text-anchor=\"start\" x=\"2261.5\" y=\"-870.8\" font-family=\"Helvetica,sans-Serif\" font-size=\"14.00\">gini = 0.473</text>\n<text text-anchor=\"start\" x=\"2256\" y=\"-855.8\" font-family=\"Helvetica,sans-Serif\" font-size=\"14.00\">samples = 26</text>\n<text text-anchor=\"start\" x=\"2235\" y=\"-840.8\" font-family=\"Helvetica,sans-Serif\" font-size=\"14.00\">value = [0, 10, 16, 0]</text>\n<text text-anchor=\"start\" x=\"2237.5\" y=\"-825.8\" font-family=\"Helvetica,sans-Serif\" font-size=\"14.00\">class = Super Earth</text>\n</g>\n<!-- 60&#45;&gt;61 -->\n<g id=\"edge61\" class=\"edge\">\n<title>60&#45;&gt;61</title>\n<path fill=\"none\" stroke=\"black\" d=\"M2297,-936.91C2297,-928.65 2297,-919.86 2297,-911.3\"/>\n<polygon fill=\"black\" stroke=\"black\" points=\"2300.5,-911.02 2297,-901.02 2293.5,-911.02 2300.5,-911.02\"/>\n</g>\n<!-- 76 -->\n<g id=\"node77\" class=\"node\">\n<title>76</title>\n<path fill=\"#399de5\" stroke=\"black\" d=\"M2508.5,-893.5C2508.5,-893.5 2397.5,-893.5 2397.5,-893.5 2391.5,-893.5 2385.5,-887.5 2385.5,-881.5 2385.5,-881.5 2385.5,-837.5 2385.5,-837.5 2385.5,-831.5 2391.5,-825.5 2397.5,-825.5 2397.5,-825.5 2508.5,-825.5 2508.5,-825.5 2514.5,-825.5 2520.5,-831.5 2520.5,-837.5 2520.5,-837.5 2520.5,-881.5 2520.5,-881.5 2520.5,-887.5 2514.5,-893.5 2508.5,-893.5\"/>\n<text text-anchor=\"start\" x=\"2425\" y=\"-878.3\" font-family=\"Helvetica,sans-Serif\" font-size=\"14.00\">gini = 0.0</text>\n<text text-anchor=\"start\" x=\"2412\" y=\"-863.3\" font-family=\"Helvetica,sans-Serif\" font-size=\"14.00\">samples = 16</text>\n<text text-anchor=\"start\" x=\"2395\" y=\"-848.3\" font-family=\"Helvetica,sans-Serif\" font-size=\"14.00\">value = [0, 0, 16, 0]</text>\n<text text-anchor=\"start\" x=\"2393.5\" y=\"-833.3\" font-family=\"Helvetica,sans-Serif\" font-size=\"14.00\">class = Super Earth</text>\n</g>\n<!-- 60&#45;&gt;76 -->\n<g id=\"edge76\" class=\"edge\">\n<title>60&#45;&gt;76</title>\n<path fill=\"none\" stroke=\"black\" d=\"M2351.12,-936.91C2367.16,-924.88 2384.69,-911.73 2400.61,-899.79\"/>\n<polygon fill=\"black\" stroke=\"black\" points=\"2402.88,-902.47 2408.78,-893.67 2398.68,-896.87 2402.88,-902.47\"/>\n</g>\n<!-- 62 -->\n<g id=\"node63\" class=\"node\">\n<title>62</title>\n<path fill=\"#399de5\" stroke=\"black\" d=\"M2249.5,-774.5C2249.5,-774.5 2138.5,-774.5 2138.5,-774.5 2132.5,-774.5 2126.5,-768.5 2126.5,-762.5 2126.5,-762.5 2126.5,-718.5 2126.5,-718.5 2126.5,-712.5 2132.5,-706.5 2138.5,-706.5 2138.5,-706.5 2249.5,-706.5 2249.5,-706.5 2255.5,-706.5 2261.5,-712.5 2261.5,-718.5 2261.5,-718.5 2261.5,-762.5 2261.5,-762.5 2261.5,-768.5 2255.5,-774.5 2249.5,-774.5\"/>\n<text text-anchor=\"start\" x=\"2166\" y=\"-759.3\" font-family=\"Helvetica,sans-Serif\" font-size=\"14.00\">gini = 0.0</text>\n<text text-anchor=\"start\" x=\"2156.5\" y=\"-744.3\" font-family=\"Helvetica,sans-Serif\" font-size=\"14.00\">samples = 5</text>\n<text text-anchor=\"start\" x=\"2139.5\" y=\"-729.3\" font-family=\"Helvetica,sans-Serif\" font-size=\"14.00\">value = [0, 0, 5, 0]</text>\n<text text-anchor=\"start\" x=\"2134.5\" y=\"-714.3\" font-family=\"Helvetica,sans-Serif\" font-size=\"14.00\">class = Super Earth</text>\n</g>\n<!-- 61&#45;&gt;62 -->\n<g id=\"edge62\" class=\"edge\">\n<title>61&#45;&gt;62</title>\n<path fill=\"none\" stroke=\"black\" d=\"M2261.26,-817.91C2251.16,-806.43 2240.16,-793.94 2230.04,-782.44\"/>\n<polygon fill=\"black\" stroke=\"black\" points=\"2232.43,-779.86 2223.2,-774.67 2227.18,-784.49 2232.43,-779.86\"/>\n</g>\n<!-- 63 -->\n<g id=\"node64\" class=\"node\">\n<title>63</title>\n<path fill=\"#edf6fd\" stroke=\"black\" d=\"M2440.5,-782C2440.5,-782 2291.5,-782 2291.5,-782 2285.5,-782 2279.5,-776 2279.5,-770 2279.5,-770 2279.5,-711 2279.5,-711 2279.5,-705 2285.5,-699 2291.5,-699 2291.5,-699 2440.5,-699 2440.5,-699 2446.5,-699 2452.5,-705 2452.5,-711 2452.5,-711 2452.5,-770 2452.5,-770 2452.5,-776 2446.5,-782 2440.5,-782\"/>\n<text text-anchor=\"start\" x=\"2287.5\" y=\"-766.8\" font-family=\"Helvetica,sans-Serif\" font-size=\"14.00\">stellar_magnitude ≤ 0.772</text>\n<text text-anchor=\"start\" x=\"2330.5\" y=\"-751.8\" font-family=\"Helvetica,sans-Serif\" font-size=\"14.00\">gini = 0.499</text>\n<text text-anchor=\"start\" x=\"2325\" y=\"-736.8\" font-family=\"Helvetica,sans-Serif\" font-size=\"14.00\">samples = 21</text>\n<text text-anchor=\"start\" x=\"2304\" y=\"-721.8\" font-family=\"Helvetica,sans-Serif\" font-size=\"14.00\">value = [0, 10, 11, 0]</text>\n<text text-anchor=\"start\" x=\"2306.5\" y=\"-706.8\" font-family=\"Helvetica,sans-Serif\" font-size=\"14.00\">class = Super Earth</text>\n</g>\n<!-- 61&#45;&gt;63 -->\n<g id=\"edge63\" class=\"edge\">\n<title>61&#45;&gt;63</title>\n<path fill=\"none\" stroke=\"black\" d=\"M2320.94,-817.91C2326.08,-809.2 2331.56,-799.9 2336.87,-790.89\"/>\n<polygon fill=\"black\" stroke=\"black\" points=\"2340.04,-792.41 2342.1,-782.02 2334.01,-788.86 2340.04,-792.41\"/>\n</g>\n<!-- 64 -->\n<g id=\"node65\" class=\"node\">\n<title>64</title>\n<path fill=\"#c8f7c4\" stroke=\"black\" d=\"M2191,-663C2191,-663 2051,-663 2051,-663 2045,-663 2039,-657 2039,-651 2039,-651 2039,-592 2039,-592 2039,-586 2045,-580 2051,-580 2051,-580 2191,-580 2191,-580 2197,-580 2203,-586 2203,-592 2203,-592 2203,-651 2203,-651 2203,-657 2197,-663 2191,-663\"/>\n<text text-anchor=\"start\" x=\"2047\" y=\"-647.8\" font-family=\"Helvetica,sans-Serif\" font-size=\"14.00\">radius_multiplier ≤ 1.956</text>\n<text text-anchor=\"start\" x=\"2085.5\" y=\"-632.8\" font-family=\"Helvetica,sans-Serif\" font-size=\"14.00\">gini = 0.484</text>\n<text text-anchor=\"start\" x=\"2080\" y=\"-617.8\" font-family=\"Helvetica,sans-Serif\" font-size=\"14.00\">samples = 17</text>\n<text text-anchor=\"start\" x=\"2063\" y=\"-602.8\" font-family=\"Helvetica,sans-Serif\" font-size=\"14.00\">value = [0, 10, 7, 0]</text>\n<text text-anchor=\"start\" x=\"2066.5\" y=\"-587.8\" font-family=\"Helvetica,sans-Serif\" font-size=\"14.00\">class = Gas Giant</text>\n</g>\n<!-- 63&#45;&gt;64 -->\n<g id=\"edge64\" class=\"edge\">\n<title>63&#45;&gt;64</title>\n<path fill=\"none\" stroke=\"black\" d=\"M2281,-698.91C2258.89,-688.35 2234.98,-676.93 2212.55,-666.22\"/>\n<polygon fill=\"black\" stroke=\"black\" points=\"2213.9,-662.99 2203.37,-661.84 2210.89,-669.3 2213.9,-662.99\"/>\n</g>\n<!-- 75 -->\n<g id=\"node76\" class=\"node\">\n<title>75</title>\n<path fill=\"#399de5\" stroke=\"black\" d=\"M2344.5,-655.5C2344.5,-655.5 2233.5,-655.5 2233.5,-655.5 2227.5,-655.5 2221.5,-649.5 2221.5,-643.5 2221.5,-643.5 2221.5,-599.5 2221.5,-599.5 2221.5,-593.5 2227.5,-587.5 2233.5,-587.5 2233.5,-587.5 2344.5,-587.5 2344.5,-587.5 2350.5,-587.5 2356.5,-593.5 2356.5,-599.5 2356.5,-599.5 2356.5,-643.5 2356.5,-643.5 2356.5,-649.5 2350.5,-655.5 2344.5,-655.5\"/>\n<text text-anchor=\"start\" x=\"2261\" y=\"-640.3\" font-family=\"Helvetica,sans-Serif\" font-size=\"14.00\">gini = 0.0</text>\n<text text-anchor=\"start\" x=\"2251.5\" y=\"-625.3\" font-family=\"Helvetica,sans-Serif\" font-size=\"14.00\">samples = 4</text>\n<text text-anchor=\"start\" x=\"2234.5\" y=\"-610.3\" font-family=\"Helvetica,sans-Serif\" font-size=\"14.00\">value = [0, 0, 4, 0]</text>\n<text text-anchor=\"start\" x=\"2229.5\" y=\"-595.3\" font-family=\"Helvetica,sans-Serif\" font-size=\"14.00\">class = Super Earth</text>\n</g>\n<!-- 63&#45;&gt;75 -->\n<g id=\"edge75\" class=\"edge\">\n<title>63&#45;&gt;75</title>\n<path fill=\"none\" stroke=\"black\" d=\"M2339.29,-698.91C2331.88,-687.65 2323.83,-675.42 2316.38,-664.11\"/>\n<polygon fill=\"black\" stroke=\"black\" points=\"2319.25,-662.1 2310.83,-655.67 2313.4,-665.94 2319.25,-662.1\"/>\n</g>\n<!-- 65 -->\n<g id=\"node66\" class=\"node\">\n<title>65</title>\n<path fill=\"#91ef88\" stroke=\"black\" d=\"M2033.5,-544C2033.5,-544 1880.5,-544 1880.5,-544 1874.5,-544 1868.5,-538 1868.5,-532 1868.5,-532 1868.5,-473 1868.5,-473 1868.5,-467 1874.5,-461 1880.5,-461 1880.5,-461 2033.5,-461 2033.5,-461 2039.5,-461 2045.5,-467 2045.5,-473 2045.5,-473 2045.5,-532 2045.5,-532 2045.5,-538 2039.5,-544 2033.5,-544\"/>\n<text text-anchor=\"start\" x=\"1876.5\" y=\"-528.8\" font-family=\"Helvetica,sans-Serif\" font-size=\"14.00\">stellar_magnitude ≤ &#45;0.983</text>\n<text text-anchor=\"start\" x=\"1921.5\" y=\"-513.8\" font-family=\"Helvetica,sans-Serif\" font-size=\"14.00\">gini = 0.408</text>\n<text text-anchor=\"start\" x=\"1916\" y=\"-498.8\" font-family=\"Helvetica,sans-Serif\" font-size=\"14.00\">samples = 14</text>\n<text text-anchor=\"start\" x=\"1899\" y=\"-483.8\" font-family=\"Helvetica,sans-Serif\" font-size=\"14.00\">value = [0, 10, 4, 0]</text>\n<text text-anchor=\"start\" x=\"1902.5\" y=\"-468.8\" font-family=\"Helvetica,sans-Serif\" font-size=\"14.00\">class = Gas Giant</text>\n</g>\n<!-- 64&#45;&gt;65 -->\n<g id=\"edge65\" class=\"edge\">\n<title>64&#45;&gt;65</title>\n<path fill=\"none\" stroke=\"black\" d=\"M2064.1,-579.91C2050.62,-570.29 2036.13,-559.95 2022.31,-550.09\"/>\n<polygon fill=\"black\" stroke=\"black\" points=\"2023.97,-546.98 2013.8,-544.02 2019.91,-552.68 2023.97,-546.98\"/>\n</g>\n<!-- 74 -->\n<g id=\"node75\" class=\"node\">\n<title>74</title>\n<path fill=\"#399de5\" stroke=\"black\" d=\"M2186.5,-536.5C2186.5,-536.5 2075.5,-536.5 2075.5,-536.5 2069.5,-536.5 2063.5,-530.5 2063.5,-524.5 2063.5,-524.5 2063.5,-480.5 2063.5,-480.5 2063.5,-474.5 2069.5,-468.5 2075.5,-468.5 2075.5,-468.5 2186.5,-468.5 2186.5,-468.5 2192.5,-468.5 2198.5,-474.5 2198.5,-480.5 2198.5,-480.5 2198.5,-524.5 2198.5,-524.5 2198.5,-530.5 2192.5,-536.5 2186.5,-536.5\"/>\n<text text-anchor=\"start\" x=\"2103\" y=\"-521.3\" font-family=\"Helvetica,sans-Serif\" font-size=\"14.00\">gini = 0.0</text>\n<text text-anchor=\"start\" x=\"2093.5\" y=\"-506.3\" font-family=\"Helvetica,sans-Serif\" font-size=\"14.00\">samples = 3</text>\n<text text-anchor=\"start\" x=\"2076.5\" y=\"-491.3\" font-family=\"Helvetica,sans-Serif\" font-size=\"14.00\">value = [0, 0, 3, 0]</text>\n<text text-anchor=\"start\" x=\"2071.5\" y=\"-476.3\" font-family=\"Helvetica,sans-Serif\" font-size=\"14.00\">class = Super Earth</text>\n</g>\n<!-- 64&#45;&gt;74 -->\n<g id=\"edge74\" class=\"edge\">\n<title>64&#45;&gt;74</title>\n<path fill=\"none\" stroke=\"black\" d=\"M2124.47,-579.91C2125.38,-569.2 2126.37,-557.62 2127.3,-546.78\"/>\n<polygon fill=\"black\" stroke=\"black\" points=\"2130.8,-546.93 2128.17,-536.67 2123.83,-546.33 2130.8,-546.93\"/>\n</g>\n<!-- 66 -->\n<g id=\"node67\" class=\"node\">\n<title>66</title>\n<path fill=\"#399de5\" stroke=\"black\" d=\"M1930.5,-417.5C1930.5,-417.5 1819.5,-417.5 1819.5,-417.5 1813.5,-417.5 1807.5,-411.5 1807.5,-405.5 1807.5,-405.5 1807.5,-361.5 1807.5,-361.5 1807.5,-355.5 1813.5,-349.5 1819.5,-349.5 1819.5,-349.5 1930.5,-349.5 1930.5,-349.5 1936.5,-349.5 1942.5,-355.5 1942.5,-361.5 1942.5,-361.5 1942.5,-405.5 1942.5,-405.5 1942.5,-411.5 1936.5,-417.5 1930.5,-417.5\"/>\n<text text-anchor=\"start\" x=\"1847\" y=\"-402.3\" font-family=\"Helvetica,sans-Serif\" font-size=\"14.00\">gini = 0.0</text>\n<text text-anchor=\"start\" x=\"1837.5\" y=\"-387.3\" font-family=\"Helvetica,sans-Serif\" font-size=\"14.00\">samples = 2</text>\n<text text-anchor=\"start\" x=\"1820.5\" y=\"-372.3\" font-family=\"Helvetica,sans-Serif\" font-size=\"14.00\">value = [0, 0, 2, 0]</text>\n<text text-anchor=\"start\" x=\"1815.5\" y=\"-357.3\" font-family=\"Helvetica,sans-Serif\" font-size=\"14.00\">class = Super Earth</text>\n</g>\n<!-- 65&#45;&gt;66 -->\n<g id=\"edge66\" class=\"edge\">\n<title>65&#45;&gt;66</title>\n<path fill=\"none\" stroke=\"black\" d=\"M1928.55,-460.91C1920.66,-449.65 1912.09,-437.42 1904.16,-426.11\"/>\n<polygon fill=\"black\" stroke=\"black\" points=\"1906.85,-423.85 1898.25,-417.67 1901.12,-427.86 1906.85,-423.85\"/>\n</g>\n<!-- 67 -->\n<g id=\"node68\" class=\"node\">\n<title>67</title>\n<path fill=\"#6cea61\" stroke=\"black\" d=\"M2105.5,-425C2105.5,-425 1972.5,-425 1972.5,-425 1966.5,-425 1960.5,-419 1960.5,-413 1960.5,-413 1960.5,-354 1960.5,-354 1960.5,-348 1966.5,-342 1972.5,-342 1972.5,-342 2105.5,-342 2105.5,-342 2111.5,-342 2117.5,-348 2117.5,-354 2117.5,-354 2117.5,-413 2117.5,-413 2117.5,-419 2111.5,-425 2105.5,-425\"/>\n<text text-anchor=\"start\" x=\"1968.5\" y=\"-409.8\" font-family=\"Helvetica,sans-Serif\" font-size=\"14.00\">radius_multiplier ≤ 1.68</text>\n<text text-anchor=\"start\" x=\"2003.5\" y=\"-394.8\" font-family=\"Helvetica,sans-Serif\" font-size=\"14.00\">gini = 0.278</text>\n<text text-anchor=\"start\" x=\"1998\" y=\"-379.8\" font-family=\"Helvetica,sans-Serif\" font-size=\"14.00\">samples = 12</text>\n<text text-anchor=\"start\" x=\"1981\" y=\"-364.8\" font-family=\"Helvetica,sans-Serif\" font-size=\"14.00\">value = [0, 10, 2, 0]</text>\n<text text-anchor=\"start\" x=\"1984.5\" y=\"-349.8\" font-family=\"Helvetica,sans-Serif\" font-size=\"14.00\">class = Gas Giant</text>\n</g>\n<!-- 65&#45;&gt;67 -->\n<g id=\"edge67\" class=\"edge\">\n<title>65&#45;&gt;67</title>\n<path fill=\"none\" stroke=\"black\" d=\"M1985.45,-460.91C1991.68,-452.01 1998.34,-442.51 2004.78,-433.33\"/>\n<polygon fill=\"black\" stroke=\"black\" points=\"2007.73,-435.22 2010.6,-425.02 2002,-431.2 2007.73,-435.22\"/>\n</g>\n<!-- 68 -->\n<g id=\"node69\" class=\"node\">\n<title>68</title>\n<path fill=\"#a3f29c\" stroke=\"black\" d=\"M2024.5,-306C2024.5,-306 1897.5,-306 1897.5,-306 1891.5,-306 1885.5,-300 1885.5,-294 1885.5,-294 1885.5,-235 1885.5,-235 1885.5,-229 1891.5,-223 1897.5,-223 1897.5,-223 2024.5,-223 2024.5,-223 2030.5,-223 2036.5,-229 2036.5,-235 2036.5,-235 2036.5,-294 2036.5,-294 2036.5,-300 2030.5,-306 2024.5,-306\"/>\n<text text-anchor=\"start\" x=\"1893.5\" y=\"-290.8\" font-family=\"Helvetica,sans-Serif\" font-size=\"14.00\">orbital_radius ≤ &#45;0.046</text>\n<text text-anchor=\"start\" x=\"1925.5\" y=\"-275.8\" font-family=\"Helvetica,sans-Serif\" font-size=\"14.00\">gini = 0.444</text>\n<text text-anchor=\"start\" x=\"1923.5\" y=\"-260.8\" font-family=\"Helvetica,sans-Serif\" font-size=\"14.00\">samples = 6</text>\n<text text-anchor=\"start\" x=\"1906.5\" y=\"-245.8\" font-family=\"Helvetica,sans-Serif\" font-size=\"14.00\">value = [0, 4, 2, 0]</text>\n<text text-anchor=\"start\" x=\"1906.5\" y=\"-230.8\" font-family=\"Helvetica,sans-Serif\" font-size=\"14.00\">class = Gas Giant</text>\n</g>\n<!-- 67&#45;&gt;68 -->\n<g id=\"edge68\" class=\"edge\">\n<title>67&#45;&gt;68</title>\n<path fill=\"none\" stroke=\"black\" d=\"M2011.94,-341.91C2006.07,-333.1 1999.8,-323.7 1993.74,-314.61\"/>\n<polygon fill=\"black\" stroke=\"black\" points=\"1996.47,-312.4 1988.01,-306.02 1990.65,-316.28 1996.47,-312.4\"/>\n</g>\n<!-- 73 -->\n<g id=\"node74\" class=\"node\">\n<title>73</title>\n<path fill=\"#47e539\" stroke=\"black\" d=\"M2167.5,-298.5C2167.5,-298.5 2066.5,-298.5 2066.5,-298.5 2060.5,-298.5 2054.5,-292.5 2054.5,-286.5 2054.5,-286.5 2054.5,-242.5 2054.5,-242.5 2054.5,-236.5 2060.5,-230.5 2066.5,-230.5 2066.5,-230.5 2167.5,-230.5 2167.5,-230.5 2173.5,-230.5 2179.5,-236.5 2179.5,-242.5 2179.5,-242.5 2179.5,-286.5 2179.5,-286.5 2179.5,-292.5 2173.5,-298.5 2167.5,-298.5\"/>\n<text text-anchor=\"start\" x=\"2089\" y=\"-283.3\" font-family=\"Helvetica,sans-Serif\" font-size=\"14.00\">gini = 0.0</text>\n<text text-anchor=\"start\" x=\"2079.5\" y=\"-268.3\" font-family=\"Helvetica,sans-Serif\" font-size=\"14.00\">samples = 6</text>\n<text text-anchor=\"start\" x=\"2062.5\" y=\"-253.3\" font-family=\"Helvetica,sans-Serif\" font-size=\"14.00\">value = [0, 6, 0, 0]</text>\n<text text-anchor=\"start\" x=\"2062.5\" y=\"-238.3\" font-family=\"Helvetica,sans-Serif\" font-size=\"14.00\">class = Gas Giant</text>\n</g>\n<!-- 67&#45;&gt;73 -->\n<g id=\"edge73\" class=\"edge\">\n<title>67&#45;&gt;73</title>\n<path fill=\"none\" stroke=\"black\" d=\"M2066.06,-341.91C2073.57,-330.65 2081.72,-318.42 2089.26,-307.11\"/>\n<polygon fill=\"black\" stroke=\"black\" points=\"2092.25,-308.93 2094.89,-298.67 2086.43,-305.05 2092.25,-308.93\"/>\n</g>\n<!-- 69 -->\n<g id=\"node70\" class=\"node\">\n<title>69</title>\n<path fill=\"#9ccef2\" stroke=\"black\" d=\"M1947,-187C1947,-187 1819,-187 1819,-187 1813,-187 1807,-181 1807,-175 1807,-175 1807,-116 1807,-116 1807,-110 1813,-104 1819,-104 1819,-104 1947,-104 1947,-104 1953,-104 1959,-110 1959,-116 1959,-116 1959,-175 1959,-175 1959,-181 1953,-187 1947,-187\"/>\n<text text-anchor=\"start\" x=\"1815\" y=\"-171.8\" font-family=\"Helvetica,sans-Serif\" font-size=\"14.00\">orbital_period ≤ &#45;0.027</text>\n<text text-anchor=\"start\" x=\"1847.5\" y=\"-156.8\" font-family=\"Helvetica,sans-Serif\" font-size=\"14.00\">gini = 0.444</text>\n<text text-anchor=\"start\" x=\"1845.5\" y=\"-141.8\" font-family=\"Helvetica,sans-Serif\" font-size=\"14.00\">samples = 3</text>\n<text text-anchor=\"start\" x=\"1828.5\" y=\"-126.8\" font-family=\"Helvetica,sans-Serif\" font-size=\"14.00\">value = [0, 1, 2, 0]</text>\n<text text-anchor=\"start\" x=\"1823.5\" y=\"-111.8\" font-family=\"Helvetica,sans-Serif\" font-size=\"14.00\">class = Super Earth</text>\n</g>\n<!-- 68&#45;&gt;69 -->\n<g id=\"edge69\" class=\"edge\">\n<title>68&#45;&gt;69</title>\n<path fill=\"none\" stroke=\"black\" d=\"M1933.94,-222.91C1928.07,-214.1 1921.8,-204.7 1915.74,-195.61\"/>\n<polygon fill=\"black\" stroke=\"black\" points=\"1918.47,-193.4 1910.01,-187.02 1912.65,-197.28 1918.47,-193.4\"/>\n</g>\n<!-- 72 -->\n<g id=\"node73\" class=\"node\">\n<title>72</title>\n<path fill=\"#47e539\" stroke=\"black\" d=\"M2090.5,-179.5C2090.5,-179.5 1989.5,-179.5 1989.5,-179.5 1983.5,-179.5 1977.5,-173.5 1977.5,-167.5 1977.5,-167.5 1977.5,-123.5 1977.5,-123.5 1977.5,-117.5 1983.5,-111.5 1989.5,-111.5 1989.5,-111.5 2090.5,-111.5 2090.5,-111.5 2096.5,-111.5 2102.5,-117.5 2102.5,-123.5 2102.5,-123.5 2102.5,-167.5 2102.5,-167.5 2102.5,-173.5 2096.5,-179.5 2090.5,-179.5\"/>\n<text text-anchor=\"start\" x=\"2012\" y=\"-164.3\" font-family=\"Helvetica,sans-Serif\" font-size=\"14.00\">gini = 0.0</text>\n<text text-anchor=\"start\" x=\"2002.5\" y=\"-149.3\" font-family=\"Helvetica,sans-Serif\" font-size=\"14.00\">samples = 3</text>\n<text text-anchor=\"start\" x=\"1985.5\" y=\"-134.3\" font-family=\"Helvetica,sans-Serif\" font-size=\"14.00\">value = [0, 3, 0, 0]</text>\n<text text-anchor=\"start\" x=\"1985.5\" y=\"-119.3\" font-family=\"Helvetica,sans-Serif\" font-size=\"14.00\">class = Gas Giant</text>\n</g>\n<!-- 68&#45;&gt;72 -->\n<g id=\"edge72\" class=\"edge\">\n<title>68&#45;&gt;72</title>\n<path fill=\"none\" stroke=\"black\" d=\"M1988.41,-222.91C1996.01,-211.65 2004.27,-199.42 2011.91,-188.11\"/>\n<polygon fill=\"black\" stroke=\"black\" points=\"2014.91,-189.91 2017.61,-179.67 2009.11,-186 2014.91,-189.91\"/>\n</g>\n<!-- 70 -->\n<g id=\"node71\" class=\"node\">\n<title>70</title>\n<path fill=\"#47e539\" stroke=\"black\" d=\"M1859.5,-68C1859.5,-68 1758.5,-68 1758.5,-68 1752.5,-68 1746.5,-62 1746.5,-56 1746.5,-56 1746.5,-12 1746.5,-12 1746.5,-6 1752.5,0 1758.5,0 1758.5,0 1859.5,0 1859.5,0 1865.5,0 1871.5,-6 1871.5,-12 1871.5,-12 1871.5,-56 1871.5,-56 1871.5,-62 1865.5,-68 1859.5,-68\"/>\n<text text-anchor=\"start\" x=\"1781\" y=\"-52.8\" font-family=\"Helvetica,sans-Serif\" font-size=\"14.00\">gini = 0.0</text>\n<text text-anchor=\"start\" x=\"1771.5\" y=\"-37.8\" font-family=\"Helvetica,sans-Serif\" font-size=\"14.00\">samples = 1</text>\n<text text-anchor=\"start\" x=\"1754.5\" y=\"-22.8\" font-family=\"Helvetica,sans-Serif\" font-size=\"14.00\">value = [0, 1, 0, 0]</text>\n<text text-anchor=\"start\" x=\"1754.5\" y=\"-7.8\" font-family=\"Helvetica,sans-Serif\" font-size=\"14.00\">class = Gas Giant</text>\n</g>\n<!-- 69&#45;&gt;70 -->\n<g id=\"edge70\" class=\"edge\">\n<title>69&#45;&gt;70</title>\n<path fill=\"none\" stroke=\"black\" d=\"M1855.45,-103.73C1849.47,-94.88 1843.13,-85.51 1837.13,-76.63\"/>\n<polygon fill=\"black\" stroke=\"black\" points=\"1840,-74.63 1831.5,-68.3 1834.2,-78.54 1840,-74.63\"/>\n</g>\n<!-- 71 -->\n<g id=\"node72\" class=\"node\">\n<title>71</title>\n<path fill=\"#399de5\" stroke=\"black\" d=\"M2012.5,-68C2012.5,-68 1901.5,-68 1901.5,-68 1895.5,-68 1889.5,-62 1889.5,-56 1889.5,-56 1889.5,-12 1889.5,-12 1889.5,-6 1895.5,0 1901.5,0 1901.5,0 2012.5,0 2012.5,0 2018.5,0 2024.5,-6 2024.5,-12 2024.5,-12 2024.5,-56 2024.5,-56 2024.5,-62 2018.5,-68 2012.5,-68\"/>\n<text text-anchor=\"start\" x=\"1929\" y=\"-52.8\" font-family=\"Helvetica,sans-Serif\" font-size=\"14.00\">gini = 0.0</text>\n<text text-anchor=\"start\" x=\"1919.5\" y=\"-37.8\" font-family=\"Helvetica,sans-Serif\" font-size=\"14.00\">samples = 2</text>\n<text text-anchor=\"start\" x=\"1902.5\" y=\"-22.8\" font-family=\"Helvetica,sans-Serif\" font-size=\"14.00\">value = [0, 0, 2, 0]</text>\n<text text-anchor=\"start\" x=\"1897.5\" y=\"-7.8\" font-family=\"Helvetica,sans-Serif\" font-size=\"14.00\">class = Super Earth</text>\n</g>\n<!-- 69&#45;&gt;71 -->\n<g id=\"edge71\" class=\"edge\">\n<title>69&#45;&gt;71</title>\n<path fill=\"none\" stroke=\"black\" d=\"M1910.55,-103.73C1916.53,-94.88 1922.87,-85.51 1928.87,-76.63\"/>\n<polygon fill=\"black\" stroke=\"black\" points=\"1931.8,-78.54 1934.5,-68.3 1926,-74.63 1931.8,-78.54\"/>\n</g>\n<!-- 78 -->\n<g id=\"node79\" class=\"node\">\n<title>78</title>\n<path fill=\"#4ee641\" stroke=\"black\" d=\"M2964.5,-1139C2964.5,-1139 2819.5,-1139 2819.5,-1139 2813.5,-1139 2807.5,-1133 2807.5,-1127 2807.5,-1127 2807.5,-1068 2807.5,-1068 2807.5,-1062 2813.5,-1056 2819.5,-1056 2819.5,-1056 2964.5,-1056 2964.5,-1056 2970.5,-1056 2976.5,-1062 2976.5,-1068 2976.5,-1068 2976.5,-1127 2976.5,-1127 2976.5,-1133 2970.5,-1139 2964.5,-1139\"/>\n<text text-anchor=\"start\" x=\"2815.5\" y=\"-1123.8\" font-family=\"Helvetica,sans-Serif\" font-size=\"14.00\">radius_multiplier ≤ &#45;1.286</text>\n<text text-anchor=\"start\" x=\"2856.5\" y=\"-1108.8\" font-family=\"Helvetica,sans-Serif\" font-size=\"14.00\">gini = 0.075</text>\n<text text-anchor=\"start\" x=\"2843.5\" y=\"-1093.8\" font-family=\"Helvetica,sans-Serif\" font-size=\"14.00\">samples = 1513</text>\n<text text-anchor=\"start\" x=\"2822.5\" y=\"-1078.8\" font-family=\"Helvetica,sans-Serif\" font-size=\"14.00\">value = [0, 1454, 59, 0]</text>\n<text text-anchor=\"start\" x=\"2837.5\" y=\"-1063.8\" font-family=\"Helvetica,sans-Serif\" font-size=\"14.00\">class = Gas Giant</text>\n</g>\n<!-- 77&#45;&gt;78 -->\n<g id=\"edge78\" class=\"edge\">\n<title>77&#45;&gt;78</title>\n<path fill=\"none\" stroke=\"black\" d=\"M2892,-1174.91C2892,-1166.65 2892,-1157.86 2892,-1149.3\"/>\n<polygon fill=\"black\" stroke=\"black\" points=\"2895.5,-1149.02 2892,-1139.02 2888.5,-1149.02 2895.5,-1149.02\"/>\n</g>\n<!-- 133 -->\n<g id=\"node134\" class=\"node\">\n<title>133</title>\n<path fill=\"#e58139\" stroke=\"black\" d=\"M3121.5,-1131.5C3121.5,-1131.5 3006.5,-1131.5 3006.5,-1131.5 3000.5,-1131.5 2994.5,-1125.5 2994.5,-1119.5 2994.5,-1119.5 2994.5,-1075.5 2994.5,-1075.5 2994.5,-1069.5 3000.5,-1063.5 3006.5,-1063.5 3006.5,-1063.5 3121.5,-1063.5 3121.5,-1063.5 3127.5,-1063.5 3133.5,-1069.5 3133.5,-1075.5 3133.5,-1075.5 3133.5,-1119.5 3133.5,-1119.5 3133.5,-1125.5 3127.5,-1131.5 3121.5,-1131.5\"/>\n<text text-anchor=\"start\" x=\"3036\" y=\"-1116.3\" font-family=\"Helvetica,sans-Serif\" font-size=\"14.00\">gini = 0.0</text>\n<text text-anchor=\"start\" x=\"3026.5\" y=\"-1101.3\" font-family=\"Helvetica,sans-Serif\" font-size=\"14.00\">samples = 8</text>\n<text text-anchor=\"start\" x=\"3009.5\" y=\"-1086.3\" font-family=\"Helvetica,sans-Serif\" font-size=\"14.00\">value = [8, 0, 0, 0]</text>\n<text text-anchor=\"start\" x=\"3002.5\" y=\"-1071.3\" font-family=\"Helvetica,sans-Serif\" font-size=\"14.00\">class = Neptune&#45;like</text>\n</g>\n<!-- 77&#45;&gt;133 -->\n<g id=\"edge133\" class=\"edge\">\n<title>77&#45;&gt;133</title>\n<path fill=\"none\" stroke=\"black\" d=\"M2951.67,-1174.91C2969.52,-1162.77 2989.04,-1149.49 3006.72,-1137.46\"/>\n<polygon fill=\"black\" stroke=\"black\" points=\"3008.94,-1140.19 3015.24,-1131.67 3005,-1134.4 3008.94,-1140.19\"/>\n</g>\n<!-- 79 -->\n<g id=\"node80\" class=\"node\">\n<title>79</title>\n<path fill=\"#5be84f\" stroke=\"black\" d=\"M2960.5,-1020C2960.5,-1020 2823.5,-1020 2823.5,-1020 2817.5,-1020 2811.5,-1014 2811.5,-1008 2811.5,-1008 2811.5,-949 2811.5,-949 2811.5,-943 2817.5,-937 2823.5,-937 2823.5,-937 2960.5,-937 2960.5,-937 2966.5,-937 2972.5,-943 2972.5,-949 2972.5,-949 2972.5,-1008 2972.5,-1008 2972.5,-1014 2966.5,-1020 2960.5,-1020\"/>\n<text text-anchor=\"start\" x=\"2819.5\" y=\"-1004.8\" font-family=\"Helvetica,sans-Serif\" font-size=\"14.00\">mass_multiplier ≤ 0.094</text>\n<text text-anchor=\"start\" x=\"2856.5\" y=\"-989.8\" font-family=\"Helvetica,sans-Serif\" font-size=\"14.00\">gini = 0.179</text>\n<text text-anchor=\"start\" x=\"2847\" y=\"-974.8\" font-family=\"Helvetica,sans-Serif\" font-size=\"14.00\">samples = 442</text>\n<text text-anchor=\"start\" x=\"2826.5\" y=\"-959.8\" font-family=\"Helvetica,sans-Serif\" font-size=\"14.00\">value = [0, 398, 44, 0]</text>\n<text text-anchor=\"start\" x=\"2837.5\" y=\"-944.8\" font-family=\"Helvetica,sans-Serif\" font-size=\"14.00\">class = Gas Giant</text>\n</g>\n<!-- 78&#45;&gt;79 -->\n<g id=\"edge79\" class=\"edge\">\n<title>78&#45;&gt;79</title>\n<path fill=\"none\" stroke=\"black\" d=\"M2892,-1055.91C2892,-1047.65 2892,-1038.86 2892,-1030.3\"/>\n<polygon fill=\"black\" stroke=\"black\" points=\"2895.5,-1030.02 2892,-1020.02 2888.5,-1030.02 2895.5,-1030.02\"/>\n</g>\n<!-- 104 -->\n<g id=\"node105\" class=\"node\">\n<title>104</title>\n<path fill=\"#4ae53c\" stroke=\"black\" d=\"M3714.5,-1020C3714.5,-1020 3577.5,-1020 3577.5,-1020 3571.5,-1020 3565.5,-1014 3565.5,-1008 3565.5,-1008 3565.5,-949 3565.5,-949 3565.5,-943 3571.5,-937 3577.5,-937 3577.5,-937 3714.5,-937 3714.5,-937 3720.5,-937 3726.5,-943 3726.5,-949 3726.5,-949 3726.5,-1008 3726.5,-1008 3726.5,-1014 3720.5,-1020 3714.5,-1020\"/>\n<text text-anchor=\"start\" x=\"3573.5\" y=\"-1004.8\" font-family=\"Helvetica,sans-Serif\" font-size=\"14.00\">mass_multiplier ≤ 0.451</text>\n<text text-anchor=\"start\" x=\"3610.5\" y=\"-989.8\" font-family=\"Helvetica,sans-Serif\" font-size=\"14.00\">gini = 0.028</text>\n<text text-anchor=\"start\" x=\"3597.5\" y=\"-974.8\" font-family=\"Helvetica,sans-Serif\" font-size=\"14.00\">samples = 1071</text>\n<text text-anchor=\"start\" x=\"3576.5\" y=\"-959.8\" font-family=\"Helvetica,sans-Serif\" font-size=\"14.00\">value = [0, 1056, 15, 0]</text>\n<text text-anchor=\"start\" x=\"3591.5\" y=\"-944.8\" font-family=\"Helvetica,sans-Serif\" font-size=\"14.00\">class = Gas Giant</text>\n</g>\n<!-- 78&#45;&gt;104 -->\n<g id=\"edge104\" class=\"edge\">\n<title>78&#45;&gt;104</title>\n<path fill=\"none\" stroke=\"black\" d=\"M2976.52,-1058.47C2979.36,-1057.58 2982.19,-1056.76 2985,-1056 3183.89,-1002.46 3426.37,-986.39 3555.25,-981.57\"/>\n<polygon fill=\"black\" stroke=\"black\" points=\"3555.6,-985.06 3565.46,-981.2 3555.34,-978.06 3555.6,-985.06\"/>\n</g>\n<!-- 80 -->\n<g id=\"node81\" class=\"node\">\n<title>80</title>\n<path fill=\"#48e53b\" stroke=\"black\" d=\"M2868.5,-901C2868.5,-901 2731.5,-901 2731.5,-901 2725.5,-901 2719.5,-895 2719.5,-889 2719.5,-889 2719.5,-830 2719.5,-830 2719.5,-824 2725.5,-818 2731.5,-818 2731.5,-818 2868.5,-818 2868.5,-818 2874.5,-818 2880.5,-824 2880.5,-830 2880.5,-830 2880.5,-889 2880.5,-889 2880.5,-895 2874.5,-901 2868.5,-901\"/>\n<text text-anchor=\"start\" x=\"2727.5\" y=\"-885.8\" font-family=\"Helvetica,sans-Serif\" font-size=\"14.00\">mass_multiplier ≤ 0.068</text>\n<text text-anchor=\"start\" x=\"2764.5\" y=\"-870.8\" font-family=\"Helvetica,sans-Serif\" font-size=\"14.00\">gini = 0.015</text>\n<text text-anchor=\"start\" x=\"2755\" y=\"-855.8\" font-family=\"Helvetica,sans-Serif\" font-size=\"14.00\">samples = 395</text>\n<text text-anchor=\"start\" x=\"2738\" y=\"-840.8\" font-family=\"Helvetica,sans-Serif\" font-size=\"14.00\">value = [0, 392, 3, 0]</text>\n<text text-anchor=\"start\" x=\"2745.5\" y=\"-825.8\" font-family=\"Helvetica,sans-Serif\" font-size=\"14.00\">class = Gas Giant</text>\n</g>\n<!-- 79&#45;&gt;80 -->\n<g id=\"edge80\" class=\"edge\">\n<title>79&#45;&gt;80</title>\n<path fill=\"none\" stroke=\"black\" d=\"M2860.08,-936.91C2853.02,-927.92 2845.46,-918.32 2838.18,-909.05\"/>\n<polygon fill=\"black\" stroke=\"black\" points=\"2840.8,-906.72 2831.86,-901.02 2835.29,-911.05 2840.8,-906.72\"/>\n</g>\n<!-- 93 -->\n<g id=\"node94\" class=\"node\">\n<title>93</title>\n<path fill=\"#56abe9\" stroke=\"black\" d=\"M3057,-901C3057,-901 2911,-901 2911,-901 2905,-901 2899,-895 2899,-889 2899,-889 2899,-830 2899,-830 2899,-824 2905,-818 2911,-818 2911,-818 3057,-818 3057,-818 3063,-818 3069,-824 3069,-830 3069,-830 3069,-889 3069,-889 3069,-895 3063,-901 3057,-901\"/>\n<text text-anchor=\"start\" x=\"2907\" y=\"-885.8\" font-family=\"Helvetica,sans-Serif\" font-size=\"14.00\">stellar_magnitude ≤ &#45;1.44</text>\n<text text-anchor=\"start\" x=\"2948.5\" y=\"-870.8\" font-family=\"Helvetica,sans-Serif\" font-size=\"14.00\">gini = 0.223</text>\n<text text-anchor=\"start\" x=\"2943\" y=\"-855.8\" font-family=\"Helvetica,sans-Serif\" font-size=\"14.00\">samples = 47</text>\n<text text-anchor=\"start\" x=\"2926\" y=\"-840.8\" font-family=\"Helvetica,sans-Serif\" font-size=\"14.00\">value = [0, 6, 41, 0]</text>\n<text text-anchor=\"start\" x=\"2924.5\" y=\"-825.8\" font-family=\"Helvetica,sans-Serif\" font-size=\"14.00\">class = Super Earth</text>\n</g>\n<!-- 79&#45;&gt;93 -->\n<g id=\"edge93\" class=\"edge\">\n<title>79&#45;&gt;93</title>\n<path fill=\"none\" stroke=\"black\" d=\"M2923.92,-936.91C2930.98,-927.92 2938.54,-918.32 2945.82,-909.05\"/>\n<polygon fill=\"black\" stroke=\"black\" points=\"2948.71,-911.05 2952.14,-901.02 2943.2,-906.72 2948.71,-911.05\"/>\n</g>\n<!-- 81 -->\n<g id=\"node82\" class=\"node\">\n<title>81</title>\n<path fill=\"#48e53a\" stroke=\"black\" d=\"M2690,-782C2690,-782 2574,-782 2574,-782 2568,-782 2562,-776 2562,-770 2562,-770 2562,-711 2562,-711 2562,-705 2568,-699 2574,-699 2574,-699 2690,-699 2690,-699 2696,-699 2702,-705 2702,-711 2702,-711 2702,-770 2702,-770 2702,-776 2696,-782 2690,-782\"/>\n<text text-anchor=\"start\" x=\"2573.5\" y=\"-766.8\" font-family=\"Helvetica,sans-Serif\" font-size=\"14.00\">eccentricity ≤ 0.946</text>\n<text text-anchor=\"start\" x=\"2600\" y=\"-751.8\" font-family=\"Helvetica,sans-Serif\" font-size=\"14.00\">gini = 0.01</text>\n<text text-anchor=\"start\" x=\"2587\" y=\"-736.8\" font-family=\"Helvetica,sans-Serif\" font-size=\"14.00\">samples = 392</text>\n<text text-anchor=\"start\" x=\"2570\" y=\"-721.8\" font-family=\"Helvetica,sans-Serif\" font-size=\"14.00\">value = [0, 390, 2, 0]</text>\n<text text-anchor=\"start\" x=\"2577.5\" y=\"-706.8\" font-family=\"Helvetica,sans-Serif\" font-size=\"14.00\">class = Gas Giant</text>\n</g>\n<!-- 80&#45;&gt;81 -->\n<g id=\"edge81\" class=\"edge\">\n<title>80&#45;&gt;81</title>\n<path fill=\"none\" stroke=\"black\" d=\"M2741.71,-817.91C2727.77,-808.2 2712.78,-797.76 2698.5,-787.81\"/>\n<polygon fill=\"black\" stroke=\"black\" points=\"2700.39,-784.86 2690.18,-782.02 2696.39,-790.61 2700.39,-784.86\"/>\n</g>\n<!-- 90 -->\n<g id=\"node91\" class=\"node\">\n<title>90</title>\n<path fill=\"#a3f29c\" stroke=\"black\" d=\"M2874.5,-782C2874.5,-782 2737.5,-782 2737.5,-782 2731.5,-782 2725.5,-776 2725.5,-770 2725.5,-770 2725.5,-711 2725.5,-711 2725.5,-705 2731.5,-699 2737.5,-699 2737.5,-699 2874.5,-699 2874.5,-699 2880.5,-699 2886.5,-705 2886.5,-711 2886.5,-711 2886.5,-770 2886.5,-770 2886.5,-776 2880.5,-782 2874.5,-782\"/>\n<text text-anchor=\"start\" x=\"2733.5\" y=\"-766.8\" font-family=\"Helvetica,sans-Serif\" font-size=\"14.00\">mass_multiplier ≤ 0.073</text>\n<text text-anchor=\"start\" x=\"2770.5\" y=\"-751.8\" font-family=\"Helvetica,sans-Serif\" font-size=\"14.00\">gini = 0.444</text>\n<text text-anchor=\"start\" x=\"2768.5\" y=\"-736.8\" font-family=\"Helvetica,sans-Serif\" font-size=\"14.00\">samples = 3</text>\n<text text-anchor=\"start\" x=\"2751.5\" y=\"-721.8\" font-family=\"Helvetica,sans-Serif\" font-size=\"14.00\">value = [0, 2, 1, 0]</text>\n<text text-anchor=\"start\" x=\"2751.5\" y=\"-706.8\" font-family=\"Helvetica,sans-Serif\" font-size=\"14.00\">class = Gas Giant</text>\n</g>\n<!-- 80&#45;&gt;90 -->\n<g id=\"edge90\" class=\"edge\">\n<title>80&#45;&gt;90</title>\n<path fill=\"none\" stroke=\"black\" d=\"M2802.08,-817.91C2802.51,-809.56 2802.97,-800.67 2803.41,-792.02\"/>\n<polygon fill=\"black\" stroke=\"black\" points=\"2806.91,-792.19 2803.92,-782.02 2799.91,-791.83 2806.91,-792.19\"/>\n</g>\n<!-- 82 -->\n<g id=\"node83\" class=\"node\">\n<title>82</title>\n<path fill=\"#47e53a\" stroke=\"black\" d=\"M2513.5,-663C2513.5,-663 2386.5,-663 2386.5,-663 2380.5,-663 2374.5,-657 2374.5,-651 2374.5,-651 2374.5,-592 2374.5,-592 2374.5,-586 2380.5,-580 2386.5,-580 2386.5,-580 2513.5,-580 2513.5,-580 2519.5,-580 2525.5,-586 2525.5,-592 2525.5,-592 2525.5,-651 2525.5,-651 2525.5,-657 2519.5,-663 2513.5,-663\"/>\n<text text-anchor=\"start\" x=\"2382.5\" y=\"-647.8\" font-family=\"Helvetica,sans-Serif\" font-size=\"14.00\">orbital_radius ≤ &#45;0.044</text>\n<text text-anchor=\"start\" x=\"2414.5\" y=\"-632.8\" font-family=\"Helvetica,sans-Serif\" font-size=\"14.00\">gini = 0.005</text>\n<text text-anchor=\"start\" x=\"2405\" y=\"-617.8\" font-family=\"Helvetica,sans-Serif\" font-size=\"14.00\">samples = 380</text>\n<text text-anchor=\"start\" x=\"2388\" y=\"-602.8\" font-family=\"Helvetica,sans-Serif\" font-size=\"14.00\">value = [0, 379, 1, 0]</text>\n<text text-anchor=\"start\" x=\"2395.5\" y=\"-587.8\" font-family=\"Helvetica,sans-Serif\" font-size=\"14.00\">class = Gas Giant</text>\n</g>\n<!-- 81&#45;&gt;82 -->\n<g id=\"edge82\" class=\"edge\">\n<title>81&#45;&gt;82</title>\n<path fill=\"none\" stroke=\"black\" d=\"M2568.86,-698.91C2553.61,-689.11 2537.21,-678.56 2521.61,-668.53\"/>\n<polygon fill=\"black\" stroke=\"black\" points=\"2523.34,-665.48 2513.03,-663.02 2519.55,-671.37 2523.34,-665.48\"/>\n</g>\n<!-- 87 -->\n<g id=\"node88\" class=\"node\">\n<title>87</title>\n<path fill=\"#58e74b\" stroke=\"black\" d=\"M2708.5,-663C2708.5,-663 2555.5,-663 2555.5,-663 2549.5,-663 2543.5,-657 2543.5,-651 2543.5,-651 2543.5,-592 2543.5,-592 2543.5,-586 2549.5,-580 2555.5,-580 2555.5,-580 2708.5,-580 2708.5,-580 2714.5,-580 2720.5,-586 2720.5,-592 2720.5,-592 2720.5,-651 2720.5,-651 2720.5,-657 2714.5,-663 2708.5,-663\"/>\n<text text-anchor=\"start\" x=\"2551.5\" y=\"-647.8\" font-family=\"Helvetica,sans-Serif\" font-size=\"14.00\">stellar_magnitude ≤ &#45;0.022</text>\n<text text-anchor=\"start\" x=\"2596.5\" y=\"-632.8\" font-family=\"Helvetica,sans-Serif\" font-size=\"14.00\">gini = 0.153</text>\n<text text-anchor=\"start\" x=\"2591\" y=\"-617.8\" font-family=\"Helvetica,sans-Serif\" font-size=\"14.00\">samples = 12</text>\n<text text-anchor=\"start\" x=\"2574\" y=\"-602.8\" font-family=\"Helvetica,sans-Serif\" font-size=\"14.00\">value = [0, 11, 1, 0]</text>\n<text text-anchor=\"start\" x=\"2577.5\" y=\"-587.8\" font-family=\"Helvetica,sans-Serif\" font-size=\"14.00\">class = Gas Giant</text>\n</g>\n<!-- 81&#45;&gt;87 -->\n<g id=\"edge87\" class=\"edge\">\n<title>81&#45;&gt;87</title>\n<path fill=\"none\" stroke=\"black\" d=\"M2632,-698.91C2632,-690.65 2632,-681.86 2632,-673.3\"/>\n<polygon fill=\"black\" stroke=\"black\" points=\"2635.5,-673.02 2632,-663.02 2628.5,-673.02 2635.5,-673.02\"/>\n</g>\n<!-- 83 -->\n<g id=\"node84\" class=\"node\">\n<title>83</title>\n<path fill=\"#47e539\" stroke=\"black\" d=\"M2349,-536.5C2349,-536.5 2233,-536.5 2233,-536.5 2227,-536.5 2221,-530.5 2221,-524.5 2221,-524.5 2221,-480.5 2221,-480.5 2221,-474.5 2227,-468.5 2233,-468.5 2233,-468.5 2349,-468.5 2349,-468.5 2355,-468.5 2361,-474.5 2361,-480.5 2361,-480.5 2361,-524.5 2361,-524.5 2361,-530.5 2355,-536.5 2349,-536.5\"/>\n<text text-anchor=\"start\" x=\"2263\" y=\"-521.3\" font-family=\"Helvetica,sans-Serif\" font-size=\"14.00\">gini = 0.0</text>\n<text text-anchor=\"start\" x=\"2246\" y=\"-506.3\" font-family=\"Helvetica,sans-Serif\" font-size=\"14.00\">samples = 363</text>\n<text text-anchor=\"start\" x=\"2229\" y=\"-491.3\" font-family=\"Helvetica,sans-Serif\" font-size=\"14.00\">value = [0, 363, 0, 0]</text>\n<text text-anchor=\"start\" x=\"2236.5\" y=\"-476.3\" font-family=\"Helvetica,sans-Serif\" font-size=\"14.00\">class = Gas Giant</text>\n</g>\n<!-- 82&#45;&gt;83 -->\n<g id=\"edge83\" class=\"edge\">\n<title>82&#45;&gt;83</title>\n<path fill=\"none\" stroke=\"black\" d=\"M2394.84,-579.91C2378.49,-567.88 2360.63,-554.73 2344.4,-542.79\"/>\n<polygon fill=\"black\" stroke=\"black\" points=\"2346.2,-539.77 2336.07,-536.67 2342.05,-545.41 2346.2,-539.77\"/>\n</g>\n<!-- 84 -->\n<g id=\"node85\" class=\"node\">\n<title>84</title>\n<path fill=\"#52e745\" stroke=\"black\" d=\"M2518.5,-544C2518.5,-544 2391.5,-544 2391.5,-544 2385.5,-544 2379.5,-538 2379.5,-532 2379.5,-532 2379.5,-473 2379.5,-473 2379.5,-467 2385.5,-461 2391.5,-461 2391.5,-461 2518.5,-461 2518.5,-461 2524.5,-461 2530.5,-467 2530.5,-473 2530.5,-473 2530.5,-532 2530.5,-532 2530.5,-538 2524.5,-544 2518.5,-544\"/>\n<text text-anchor=\"start\" x=\"2387.5\" y=\"-528.8\" font-family=\"Helvetica,sans-Serif\" font-size=\"14.00\">orbital_radius ≤ &#45;0.044</text>\n<text text-anchor=\"start\" x=\"2419.5\" y=\"-513.8\" font-family=\"Helvetica,sans-Serif\" font-size=\"14.00\">gini = 0.111</text>\n<text text-anchor=\"start\" x=\"2414\" y=\"-498.8\" font-family=\"Helvetica,sans-Serif\" font-size=\"14.00\">samples = 17</text>\n<text text-anchor=\"start\" x=\"2397\" y=\"-483.8\" font-family=\"Helvetica,sans-Serif\" font-size=\"14.00\">value = [0, 16, 1, 0]</text>\n<text text-anchor=\"start\" x=\"2400.5\" y=\"-468.8\" font-family=\"Helvetica,sans-Serif\" font-size=\"14.00\">class = Gas Giant</text>\n</g>\n<!-- 82&#45;&gt;84 -->\n<g id=\"edge84\" class=\"edge\">\n<title>82&#45;&gt;84</title>\n<path fill=\"none\" stroke=\"black\" d=\"M2451.73,-579.91C2452.09,-571.56 2452.47,-562.67 2452.84,-554.02\"/>\n<polygon fill=\"black\" stroke=\"black\" points=\"2456.34,-554.16 2453.27,-544.02 2449.34,-553.86 2456.34,-554.16\"/>\n</g>\n<!-- 85 -->\n<g id=\"node86\" class=\"node\">\n<title>85</title>\n<path fill=\"#399de5\" stroke=\"black\" d=\"M2434.5,-417.5C2434.5,-417.5 2323.5,-417.5 2323.5,-417.5 2317.5,-417.5 2311.5,-411.5 2311.5,-405.5 2311.5,-405.5 2311.5,-361.5 2311.5,-361.5 2311.5,-355.5 2317.5,-349.5 2323.5,-349.5 2323.5,-349.5 2434.5,-349.5 2434.5,-349.5 2440.5,-349.5 2446.5,-355.5 2446.5,-361.5 2446.5,-361.5 2446.5,-405.5 2446.5,-405.5 2446.5,-411.5 2440.5,-417.5 2434.5,-417.5\"/>\n<text text-anchor=\"start\" x=\"2351\" y=\"-402.3\" font-family=\"Helvetica,sans-Serif\" font-size=\"14.00\">gini = 0.0</text>\n<text text-anchor=\"start\" x=\"2341.5\" y=\"-387.3\" font-family=\"Helvetica,sans-Serif\" font-size=\"14.00\">samples = 1</text>\n<text text-anchor=\"start\" x=\"2324.5\" y=\"-372.3\" font-family=\"Helvetica,sans-Serif\" font-size=\"14.00\">value = [0, 0, 1, 0]</text>\n<text text-anchor=\"start\" x=\"2319.5\" y=\"-357.3\" font-family=\"Helvetica,sans-Serif\" font-size=\"14.00\">class = Super Earth</text>\n</g>\n<!-- 84&#45;&gt;85 -->\n<g id=\"edge85\" class=\"edge\">\n<title>84&#45;&gt;85</title>\n<path fill=\"none\" stroke=\"black\" d=\"M2428.63,-460.91C2421.32,-449.65 2413.37,-437.42 2406.03,-426.11\"/>\n<polygon fill=\"black\" stroke=\"black\" points=\"2408.93,-424.15 2400.54,-417.67 2403.06,-427.96 2408.93,-424.15\"/>\n</g>\n<!-- 86 -->\n<g id=\"node87\" class=\"node\">\n<title>86</title>\n<path fill=\"#47e539\" stroke=\"black\" d=\"M2585,-417.5C2585,-417.5 2477,-417.5 2477,-417.5 2471,-417.5 2465,-411.5 2465,-405.5 2465,-405.5 2465,-361.5 2465,-361.5 2465,-355.5 2471,-349.5 2477,-349.5 2477,-349.5 2585,-349.5 2585,-349.5 2591,-349.5 2597,-355.5 2597,-361.5 2597,-361.5 2597,-405.5 2597,-405.5 2597,-411.5 2591,-417.5 2585,-417.5\"/>\n<text text-anchor=\"start\" x=\"2503\" y=\"-402.3\" font-family=\"Helvetica,sans-Serif\" font-size=\"14.00\">gini = 0.0</text>\n<text text-anchor=\"start\" x=\"2490\" y=\"-387.3\" font-family=\"Helvetica,sans-Serif\" font-size=\"14.00\">samples = 16</text>\n<text text-anchor=\"start\" x=\"2473\" y=\"-372.3\" font-family=\"Helvetica,sans-Serif\" font-size=\"14.00\">value = [0, 16, 0, 0]</text>\n<text text-anchor=\"start\" x=\"2476.5\" y=\"-357.3\" font-family=\"Helvetica,sans-Serif\" font-size=\"14.00\">class = Gas Giant</text>\n</g>\n<!-- 84&#45;&gt;86 -->\n<g id=\"edge86\" class=\"edge\">\n<title>84&#45;&gt;86</title>\n<path fill=\"none\" stroke=\"black\" d=\"M2481.37,-460.91C2488.68,-449.65 2496.63,-437.42 2503.97,-426.11\"/>\n<polygon fill=\"black\" stroke=\"black\" points=\"2506.94,-427.96 2509.46,-417.67 2501.07,-424.15 2506.94,-427.96\"/>\n</g>\n<!-- 88 -->\n<g id=\"node89\" class=\"node\">\n<title>88</title>\n<path fill=\"#47e539\" stroke=\"black\" d=\"M2675,-536.5C2675,-536.5 2567,-536.5 2567,-536.5 2561,-536.5 2555,-530.5 2555,-524.5 2555,-524.5 2555,-480.5 2555,-480.5 2555,-474.5 2561,-468.5 2567,-468.5 2567,-468.5 2675,-468.5 2675,-468.5 2681,-468.5 2687,-474.5 2687,-480.5 2687,-480.5 2687,-524.5 2687,-524.5 2687,-530.5 2681,-536.5 2675,-536.5\"/>\n<text text-anchor=\"start\" x=\"2593\" y=\"-521.3\" font-family=\"Helvetica,sans-Serif\" font-size=\"14.00\">gini = 0.0</text>\n<text text-anchor=\"start\" x=\"2580\" y=\"-506.3\" font-family=\"Helvetica,sans-Serif\" font-size=\"14.00\">samples = 11</text>\n<text text-anchor=\"start\" x=\"2563\" y=\"-491.3\" font-family=\"Helvetica,sans-Serif\" font-size=\"14.00\">value = [0, 11, 0, 0]</text>\n<text text-anchor=\"start\" x=\"2566.5\" y=\"-476.3\" font-family=\"Helvetica,sans-Serif\" font-size=\"14.00\">class = Gas Giant</text>\n</g>\n<!-- 87&#45;&gt;88 -->\n<g id=\"edge88\" class=\"edge\">\n<title>87&#45;&gt;88</title>\n<path fill=\"none\" stroke=\"black\" d=\"M2628.18,-579.91C2627.18,-569.2 2626.09,-557.62 2625.07,-546.78\"/>\n<polygon fill=\"black\" stroke=\"black\" points=\"2628.54,-546.3 2624.12,-536.67 2621.57,-546.95 2628.54,-546.3\"/>\n</g>\n<!-- 89 -->\n<g id=\"node90\" class=\"node\">\n<title>89</title>\n<path fill=\"#399de5\" stroke=\"black\" d=\"M2828.5,-536.5C2828.5,-536.5 2717.5,-536.5 2717.5,-536.5 2711.5,-536.5 2705.5,-530.5 2705.5,-524.5 2705.5,-524.5 2705.5,-480.5 2705.5,-480.5 2705.5,-474.5 2711.5,-468.5 2717.5,-468.5 2717.5,-468.5 2828.5,-468.5 2828.5,-468.5 2834.5,-468.5 2840.5,-474.5 2840.5,-480.5 2840.5,-480.5 2840.5,-524.5 2840.5,-524.5 2840.5,-530.5 2834.5,-536.5 2828.5,-536.5\"/>\n<text text-anchor=\"start\" x=\"2745\" y=\"-521.3\" font-family=\"Helvetica,sans-Serif\" font-size=\"14.00\">gini = 0.0</text>\n<text text-anchor=\"start\" x=\"2735.5\" y=\"-506.3\" font-family=\"Helvetica,sans-Serif\" font-size=\"14.00\">samples = 1</text>\n<text text-anchor=\"start\" x=\"2718.5\" y=\"-491.3\" font-family=\"Helvetica,sans-Serif\" font-size=\"14.00\">value = [0, 0, 1, 0]</text>\n<text text-anchor=\"start\" x=\"2713.5\" y=\"-476.3\" font-family=\"Helvetica,sans-Serif\" font-size=\"14.00\">class = Super Earth</text>\n</g>\n<!-- 87&#45;&gt;89 -->\n<g id=\"edge89\" class=\"edge\">\n<title>87&#45;&gt;89</title>\n<path fill=\"none\" stroke=\"black\" d=\"M2680.92,-579.91C2695.28,-567.99 2710.97,-554.98 2725.25,-543.12\"/>\n<polygon fill=\"black\" stroke=\"black\" points=\"2727.57,-545.75 2733.03,-536.67 2723.1,-540.36 2727.57,-545.75\"/>\n</g>\n<!-- 91 -->\n<g id=\"node92\" class=\"node\">\n<title>91</title>\n<path fill=\"#399de5\" stroke=\"black\" d=\"M2861.5,-655.5C2861.5,-655.5 2750.5,-655.5 2750.5,-655.5 2744.5,-655.5 2738.5,-649.5 2738.5,-643.5 2738.5,-643.5 2738.5,-599.5 2738.5,-599.5 2738.5,-593.5 2744.5,-587.5 2750.5,-587.5 2750.5,-587.5 2861.5,-587.5 2861.5,-587.5 2867.5,-587.5 2873.5,-593.5 2873.5,-599.5 2873.5,-599.5 2873.5,-643.5 2873.5,-643.5 2873.5,-649.5 2867.5,-655.5 2861.5,-655.5\"/>\n<text text-anchor=\"start\" x=\"2778\" y=\"-640.3\" font-family=\"Helvetica,sans-Serif\" font-size=\"14.00\">gini = 0.0</text>\n<text text-anchor=\"start\" x=\"2768.5\" y=\"-625.3\" font-family=\"Helvetica,sans-Serif\" font-size=\"14.00\">samples = 1</text>\n<text text-anchor=\"start\" x=\"2751.5\" y=\"-610.3\" font-family=\"Helvetica,sans-Serif\" font-size=\"14.00\">value = [0, 0, 1, 0]</text>\n<text text-anchor=\"start\" x=\"2746.5\" y=\"-595.3\" font-family=\"Helvetica,sans-Serif\" font-size=\"14.00\">class = Super Earth</text>\n</g>\n<!-- 90&#45;&gt;91 -->\n<g id=\"edge91\" class=\"edge\">\n<title>90&#45;&gt;91</title>\n<path fill=\"none\" stroke=\"black\" d=\"M2806,-698.91C2806,-688.2 2806,-676.62 2806,-665.78\"/>\n<polygon fill=\"black\" stroke=\"black\" points=\"2809.5,-665.67 2806,-655.67 2802.5,-665.67 2809.5,-665.67\"/>\n</g>\n<!-- 92 -->\n<g id=\"node93\" class=\"node\">\n<title>92</title>\n<path fill=\"#47e539\" stroke=\"black\" d=\"M3004.5,-655.5C3004.5,-655.5 2903.5,-655.5 2903.5,-655.5 2897.5,-655.5 2891.5,-649.5 2891.5,-643.5 2891.5,-643.5 2891.5,-599.5 2891.5,-599.5 2891.5,-593.5 2897.5,-587.5 2903.5,-587.5 2903.5,-587.5 3004.5,-587.5 3004.5,-587.5 3010.5,-587.5 3016.5,-593.5 3016.5,-599.5 3016.5,-599.5 3016.5,-643.5 3016.5,-643.5 3016.5,-649.5 3010.5,-655.5 3004.5,-655.5\"/>\n<text text-anchor=\"start\" x=\"2926\" y=\"-640.3\" font-family=\"Helvetica,sans-Serif\" font-size=\"14.00\">gini = 0.0</text>\n<text text-anchor=\"start\" x=\"2916.5\" y=\"-625.3\" font-family=\"Helvetica,sans-Serif\" font-size=\"14.00\">samples = 2</text>\n<text text-anchor=\"start\" x=\"2899.5\" y=\"-610.3\" font-family=\"Helvetica,sans-Serif\" font-size=\"14.00\">value = [0, 2, 0, 0]</text>\n<text text-anchor=\"start\" x=\"2899.5\" y=\"-595.3\" font-family=\"Helvetica,sans-Serif\" font-size=\"14.00\">class = Gas Giant</text>\n</g>\n<!-- 90&#45;&gt;92 -->\n<g id=\"edge92\" class=\"edge\">\n<title>90&#45;&gt;92</title>\n<path fill=\"none\" stroke=\"black\" d=\"M2857.35,-698.91C2872.42,-686.99 2888.89,-673.98 2903.88,-662.12\"/>\n<polygon fill=\"black\" stroke=\"black\" points=\"2906.37,-664.61 2912.05,-655.67 2902.03,-659.12 2906.37,-664.61\"/>\n</g>\n<!-- 94 -->\n<g id=\"node95\" class=\"node\">\n<title>94</title>\n<path fill=\"#47e539\" stroke=\"black\" d=\"M3028.5,-774.5C3028.5,-774.5 2927.5,-774.5 2927.5,-774.5 2921.5,-774.5 2915.5,-768.5 2915.5,-762.5 2915.5,-762.5 2915.5,-718.5 2915.5,-718.5 2915.5,-712.5 2921.5,-706.5 2927.5,-706.5 2927.5,-706.5 3028.5,-706.5 3028.5,-706.5 3034.5,-706.5 3040.5,-712.5 3040.5,-718.5 3040.5,-718.5 3040.5,-762.5 3040.5,-762.5 3040.5,-768.5 3034.5,-774.5 3028.5,-774.5\"/>\n<text text-anchor=\"start\" x=\"2950\" y=\"-759.3\" font-family=\"Helvetica,sans-Serif\" font-size=\"14.00\">gini = 0.0</text>\n<text text-anchor=\"start\" x=\"2940.5\" y=\"-744.3\" font-family=\"Helvetica,sans-Serif\" font-size=\"14.00\">samples = 2</text>\n<text text-anchor=\"start\" x=\"2923.5\" y=\"-729.3\" font-family=\"Helvetica,sans-Serif\" font-size=\"14.00\">value = [0, 2, 0, 0]</text>\n<text text-anchor=\"start\" x=\"2923.5\" y=\"-714.3\" font-family=\"Helvetica,sans-Serif\" font-size=\"14.00\">class = Gas Giant</text>\n</g>\n<!-- 93&#45;&gt;94 -->\n<g id=\"edge94\" class=\"edge\">\n<title>93&#45;&gt;94</title>\n<path fill=\"none\" stroke=\"black\" d=\"M2981.92,-817.91C2981.37,-807.2 2980.78,-795.62 2980.22,-784.78\"/>\n<polygon fill=\"black\" stroke=\"black\" points=\"2983.71,-784.47 2979.7,-774.67 2976.72,-784.83 2983.71,-784.47\"/>\n</g>\n<!-- 95 -->\n<g id=\"node96\" class=\"node\">\n<title>95</title>\n<path fill=\"#4ca7e8\" stroke=\"black\" d=\"M3215.5,-782C3215.5,-782 3070.5,-782 3070.5,-782 3064.5,-782 3058.5,-776 3058.5,-770 3058.5,-770 3058.5,-711 3058.5,-711 3058.5,-705 3064.5,-699 3070.5,-699 3070.5,-699 3215.5,-699 3215.5,-699 3221.5,-699 3227.5,-705 3227.5,-711 3227.5,-711 3227.5,-770 3227.5,-770 3227.5,-776 3221.5,-782 3215.5,-782\"/>\n<text text-anchor=\"start\" x=\"3066.5\" y=\"-766.8\" font-family=\"Helvetica,sans-Serif\" font-size=\"14.00\">radius_multiplier ≤ &#45;1.297</text>\n<text text-anchor=\"start\" x=\"3107.5\" y=\"-751.8\" font-family=\"Helvetica,sans-Serif\" font-size=\"14.00\">gini = 0.162</text>\n<text text-anchor=\"start\" x=\"3102\" y=\"-736.8\" font-family=\"Helvetica,sans-Serif\" font-size=\"14.00\">samples = 45</text>\n<text text-anchor=\"start\" x=\"3085\" y=\"-721.8\" font-family=\"Helvetica,sans-Serif\" font-size=\"14.00\">value = [0, 4, 41, 0]</text>\n<text text-anchor=\"start\" x=\"3083.5\" y=\"-706.8\" font-family=\"Helvetica,sans-Serif\" font-size=\"14.00\">class = Super Earth</text>\n</g>\n<!-- 93&#45;&gt;95 -->\n<g id=\"edge95\" class=\"edge\">\n<title>93&#45;&gt;95</title>\n<path fill=\"none\" stroke=\"black\" d=\"M3039.16,-817.91C3052.24,-808.29 3066.28,-797.95 3079.68,-788.09\"/>\n<polygon fill=\"black\" stroke=\"black\" points=\"3081.95,-790.77 3087.93,-782.02 3077.8,-785.13 3081.95,-790.77\"/>\n</g>\n<!-- 96 -->\n<g id=\"node97\" class=\"node\">\n<title>96</title>\n<path fill=\"#399de5\" stroke=\"black\" d=\"M3157.5,-655.5C3157.5,-655.5 3046.5,-655.5 3046.5,-655.5 3040.5,-655.5 3034.5,-649.5 3034.5,-643.5 3034.5,-643.5 3034.5,-599.5 3034.5,-599.5 3034.5,-593.5 3040.5,-587.5 3046.5,-587.5 3046.5,-587.5 3157.5,-587.5 3157.5,-587.5 3163.5,-587.5 3169.5,-593.5 3169.5,-599.5 3169.5,-599.5 3169.5,-643.5 3169.5,-643.5 3169.5,-649.5 3163.5,-655.5 3157.5,-655.5\"/>\n<text text-anchor=\"start\" x=\"3074\" y=\"-640.3\" font-family=\"Helvetica,sans-Serif\" font-size=\"14.00\">gini = 0.0</text>\n<text text-anchor=\"start\" x=\"3061\" y=\"-625.3\" font-family=\"Helvetica,sans-Serif\" font-size=\"14.00\">samples = 34</text>\n<text text-anchor=\"start\" x=\"3044\" y=\"-610.3\" font-family=\"Helvetica,sans-Serif\" font-size=\"14.00\">value = [0, 0, 34, 0]</text>\n<text text-anchor=\"start\" x=\"3042.5\" y=\"-595.3\" font-family=\"Helvetica,sans-Serif\" font-size=\"14.00\">class = Super Earth</text>\n</g>\n<!-- 95&#45;&gt;96 -->\n<g id=\"edge96\" class=\"edge\">\n<title>95&#45;&gt;96</title>\n<path fill=\"none\" stroke=\"black\" d=\"M3128.78,-698.91C3124.95,-687.98 3120.8,-676.14 3116.93,-665.11\"/>\n<polygon fill=\"black\" stroke=\"black\" points=\"3120.23,-663.95 3113.62,-655.67 3113.63,-666.26 3120.23,-663.95\"/>\n</g>\n<!-- 97 -->\n<g id=\"node98\" class=\"node\">\n<title>97</title>\n<path fill=\"#aad5f4\" stroke=\"black\" d=\"M3336.5,-663C3336.5,-663 3199.5,-663 3199.5,-663 3193.5,-663 3187.5,-657 3187.5,-651 3187.5,-651 3187.5,-592 3187.5,-592 3187.5,-586 3193.5,-580 3199.5,-580 3199.5,-580 3336.5,-580 3336.5,-580 3342.5,-580 3348.5,-586 3348.5,-592 3348.5,-592 3348.5,-651 3348.5,-651 3348.5,-657 3342.5,-663 3336.5,-663\"/>\n<text text-anchor=\"start\" x=\"3195.5\" y=\"-647.8\" font-family=\"Helvetica,sans-Serif\" font-size=\"14.00\">mass_multiplier ≤ 0.958</text>\n<text text-anchor=\"start\" x=\"3232.5\" y=\"-632.8\" font-family=\"Helvetica,sans-Serif\" font-size=\"14.00\">gini = 0.463</text>\n<text text-anchor=\"start\" x=\"3227\" y=\"-617.8\" font-family=\"Helvetica,sans-Serif\" font-size=\"14.00\">samples = 11</text>\n<text text-anchor=\"start\" x=\"3213.5\" y=\"-602.8\" font-family=\"Helvetica,sans-Serif\" font-size=\"14.00\">value = [0, 4, 7, 0]</text>\n<text text-anchor=\"start\" x=\"3208.5\" y=\"-587.8\" font-family=\"Helvetica,sans-Serif\" font-size=\"14.00\">class = Super Earth</text>\n</g>\n<!-- 95&#45;&gt;97 -->\n<g id=\"edge97\" class=\"edge\">\n<title>95&#45;&gt;97</title>\n<path fill=\"none\" stroke=\"black\" d=\"M3186.37,-698.91C3196.35,-689.56 3207.06,-679.54 3217.33,-669.93\"/>\n<polygon fill=\"black\" stroke=\"black\" points=\"3219.8,-672.41 3224.71,-663.02 3215.02,-667.3 3219.8,-672.41\"/>\n</g>\n<!-- 98 -->\n<g id=\"node99\" class=\"node\">\n<title>98</title>\n<path fill=\"#72b9ec\" stroke=\"black\" d=\"M3113.5,-544C3113.5,-544 2964.5,-544 2964.5,-544 2958.5,-544 2952.5,-538 2952.5,-532 2952.5,-532 2952.5,-473 2952.5,-473 2952.5,-467 2958.5,-461 2964.5,-461 2964.5,-461 3113.5,-461 3113.5,-461 3119.5,-461 3125.5,-467 3125.5,-473 3125.5,-473 3125.5,-532 3125.5,-532 3125.5,-538 3119.5,-544 3113.5,-544\"/>\n<text text-anchor=\"start\" x=\"2960.5\" y=\"-528.8\" font-family=\"Helvetica,sans-Serif\" font-size=\"14.00\">stellar_magnitude ≤ 0.222</text>\n<text text-anchor=\"start\" x=\"3003.5\" y=\"-513.8\" font-family=\"Helvetica,sans-Serif\" font-size=\"14.00\">gini = 0.346</text>\n<text text-anchor=\"start\" x=\"3001.5\" y=\"-498.8\" font-family=\"Helvetica,sans-Serif\" font-size=\"14.00\">samples = 9</text>\n<text text-anchor=\"start\" x=\"2984.5\" y=\"-483.8\" font-family=\"Helvetica,sans-Serif\" font-size=\"14.00\">value = [0, 2, 7, 0]</text>\n<text text-anchor=\"start\" x=\"2979.5\" y=\"-468.8\" font-family=\"Helvetica,sans-Serif\" font-size=\"14.00\">class = Super Earth</text>\n</g>\n<!-- 97&#45;&gt;98 -->\n<g id=\"edge98\" class=\"edge\">\n<title>97&#45;&gt;98</title>\n<path fill=\"none\" stroke=\"black\" d=\"M3188.55,-579.91C3168.83,-569.83 3147.58,-558.98 3127.46,-548.7\"/>\n<polygon fill=\"black\" stroke=\"black\" points=\"3128.81,-545.45 3118.31,-544.02 3125.62,-551.69 3128.81,-545.45\"/>\n</g>\n<!-- 103 -->\n<g id=\"node104\" class=\"node\">\n<title>103</title>\n<path fill=\"#47e539\" stroke=\"black\" d=\"M3256.5,-536.5C3256.5,-536.5 3155.5,-536.5 3155.5,-536.5 3149.5,-536.5 3143.5,-530.5 3143.5,-524.5 3143.5,-524.5 3143.5,-480.5 3143.5,-480.5 3143.5,-474.5 3149.5,-468.5 3155.5,-468.5 3155.5,-468.5 3256.5,-468.5 3256.5,-468.5 3262.5,-468.5 3268.5,-474.5 3268.5,-480.5 3268.5,-480.5 3268.5,-524.5 3268.5,-524.5 3268.5,-530.5 3262.5,-536.5 3256.5,-536.5\"/>\n<text text-anchor=\"start\" x=\"3178\" y=\"-521.3\" font-family=\"Helvetica,sans-Serif\" font-size=\"14.00\">gini = 0.0</text>\n<text text-anchor=\"start\" x=\"3168.5\" y=\"-506.3\" font-family=\"Helvetica,sans-Serif\" font-size=\"14.00\">samples = 2</text>\n<text text-anchor=\"start\" x=\"3151.5\" y=\"-491.3\" font-family=\"Helvetica,sans-Serif\" font-size=\"14.00\">value = [0, 2, 0, 0]</text>\n<text text-anchor=\"start\" x=\"3151.5\" y=\"-476.3\" font-family=\"Helvetica,sans-Serif\" font-size=\"14.00\">class = Gas Giant</text>\n</g>\n<!-- 97&#45;&gt;103 -->\n<g id=\"edge103\" class=\"edge\">\n<title>97&#45;&gt;103</title>\n<path fill=\"none\" stroke=\"black\" d=\"M3246.49,-579.91C3240.64,-568.87 3234.3,-556.9 3228.4,-545.77\"/>\n<polygon fill=\"black\" stroke=\"black\" points=\"3231.35,-543.86 3223.58,-536.67 3225.17,-547.14 3231.35,-543.86\"/>\n</g>\n<!-- 99 -->\n<g id=\"node100\" class=\"node\">\n<title>99</title>\n<path fill=\"#399de5\" stroke=\"black\" d=\"M3056.5,-417.5C3056.5,-417.5 2945.5,-417.5 2945.5,-417.5 2939.5,-417.5 2933.5,-411.5 2933.5,-405.5 2933.5,-405.5 2933.5,-361.5 2933.5,-361.5 2933.5,-355.5 2939.5,-349.5 2945.5,-349.5 2945.5,-349.5 3056.5,-349.5 3056.5,-349.5 3062.5,-349.5 3068.5,-355.5 3068.5,-361.5 3068.5,-361.5 3068.5,-405.5 3068.5,-405.5 3068.5,-411.5 3062.5,-417.5 3056.5,-417.5\"/>\n<text text-anchor=\"start\" x=\"2973\" y=\"-402.3\" font-family=\"Helvetica,sans-Serif\" font-size=\"14.00\">gini = 0.0</text>\n<text text-anchor=\"start\" x=\"2963.5\" y=\"-387.3\" font-family=\"Helvetica,sans-Serif\" font-size=\"14.00\">samples = 6</text>\n<text text-anchor=\"start\" x=\"2946.5\" y=\"-372.3\" font-family=\"Helvetica,sans-Serif\" font-size=\"14.00\">value = [0, 0, 6, 0]</text>\n<text text-anchor=\"start\" x=\"2941.5\" y=\"-357.3\" font-family=\"Helvetica,sans-Serif\" font-size=\"14.00\">class = Super Earth</text>\n</g>\n<!-- 98&#45;&gt;99 -->\n<g id=\"edge99\" class=\"edge\">\n<title>98&#45;&gt;99</title>\n<path fill=\"none\" stroke=\"black\" d=\"M3025.82,-460.91C3022.3,-450.09 3018.5,-438.38 3014.95,-427.44\"/>\n<polygon fill=\"black\" stroke=\"black\" points=\"3018.19,-426.1 3011.77,-417.67 3011.53,-428.26 3018.19,-426.1\"/>\n</g>\n<!-- 100 -->\n<g id=\"node101\" class=\"node\">\n<title>100</title>\n<path fill=\"#a3f29c\" stroke=\"black\" d=\"M3225.5,-425C3225.5,-425 3098.5,-425 3098.5,-425 3092.5,-425 3086.5,-419 3086.5,-413 3086.5,-413 3086.5,-354 3086.5,-354 3086.5,-348 3092.5,-342 3098.5,-342 3098.5,-342 3225.5,-342 3225.5,-342 3231.5,-342 3237.5,-348 3237.5,-354 3237.5,-354 3237.5,-413 3237.5,-413 3237.5,-419 3231.5,-425 3225.5,-425\"/>\n<text text-anchor=\"start\" x=\"3094.5\" y=\"-409.8\" font-family=\"Helvetica,sans-Serif\" font-size=\"14.00\">orbital_radius ≤ &#45;0.047</text>\n<text text-anchor=\"start\" x=\"3126.5\" y=\"-394.8\" font-family=\"Helvetica,sans-Serif\" font-size=\"14.00\">gini = 0.444</text>\n<text text-anchor=\"start\" x=\"3124.5\" y=\"-379.8\" font-family=\"Helvetica,sans-Serif\" font-size=\"14.00\">samples = 3</text>\n<text text-anchor=\"start\" x=\"3107.5\" y=\"-364.8\" font-family=\"Helvetica,sans-Serif\" font-size=\"14.00\">value = [0, 2, 1, 0]</text>\n<text text-anchor=\"start\" x=\"3107.5\" y=\"-349.8\" font-family=\"Helvetica,sans-Serif\" font-size=\"14.00\">class = Gas Giant</text>\n</g>\n<!-- 98&#45;&gt;100 -->\n<g id=\"edge100\" class=\"edge\">\n<title>98&#45;&gt;100</title>\n<path fill=\"none\" stroke=\"black\" d=\"M3081.67,-460.91C3091.5,-451.56 3102.04,-441.54 3112.14,-431.93\"/>\n<polygon fill=\"black\" stroke=\"black\" points=\"3114.57,-434.45 3119.4,-425.02 3109.74,-429.38 3114.57,-434.45\"/>\n</g>\n<!-- 101 -->\n<g id=\"node102\" class=\"node\">\n<title>101</title>\n<path fill=\"#399de5\" stroke=\"black\" d=\"M3143.5,-298.5C3143.5,-298.5 3032.5,-298.5 3032.5,-298.5 3026.5,-298.5 3020.5,-292.5 3020.5,-286.5 3020.5,-286.5 3020.5,-242.5 3020.5,-242.5 3020.5,-236.5 3026.5,-230.5 3032.5,-230.5 3032.5,-230.5 3143.5,-230.5 3143.5,-230.5 3149.5,-230.5 3155.5,-236.5 3155.5,-242.5 3155.5,-242.5 3155.5,-286.5 3155.5,-286.5 3155.5,-292.5 3149.5,-298.5 3143.5,-298.5\"/>\n<text text-anchor=\"start\" x=\"3060\" y=\"-283.3\" font-family=\"Helvetica,sans-Serif\" font-size=\"14.00\">gini = 0.0</text>\n<text text-anchor=\"start\" x=\"3050.5\" y=\"-268.3\" font-family=\"Helvetica,sans-Serif\" font-size=\"14.00\">samples = 1</text>\n<text text-anchor=\"start\" x=\"3033.5\" y=\"-253.3\" font-family=\"Helvetica,sans-Serif\" font-size=\"14.00\">value = [0, 0, 1, 0]</text>\n<text text-anchor=\"start\" x=\"3028.5\" y=\"-238.3\" font-family=\"Helvetica,sans-Serif\" font-size=\"14.00\">class = Super Earth</text>\n</g>\n<!-- 100&#45;&gt;101 -->\n<g id=\"edge101\" class=\"edge\">\n<title>100&#45;&gt;101</title>\n<path fill=\"none\" stroke=\"black\" d=\"M3136.33,-341.91C3129.28,-330.76 3121.62,-318.66 3114.53,-307.44\"/>\n<polygon fill=\"black\" stroke=\"black\" points=\"3117.28,-305.25 3108.98,-298.67 3111.36,-308.99 3117.28,-305.25\"/>\n</g>\n<!-- 102 -->\n<g id=\"node103\" class=\"node\">\n<title>102</title>\n<path fill=\"#47e539\" stroke=\"black\" d=\"M3286.5,-298.5C3286.5,-298.5 3185.5,-298.5 3185.5,-298.5 3179.5,-298.5 3173.5,-292.5 3173.5,-286.5 3173.5,-286.5 3173.5,-242.5 3173.5,-242.5 3173.5,-236.5 3179.5,-230.5 3185.5,-230.5 3185.5,-230.5 3286.5,-230.5 3286.5,-230.5 3292.5,-230.5 3298.5,-236.5 3298.5,-242.5 3298.5,-242.5 3298.5,-286.5 3298.5,-286.5 3298.5,-292.5 3292.5,-298.5 3286.5,-298.5\"/>\n<text text-anchor=\"start\" x=\"3208\" y=\"-283.3\" font-family=\"Helvetica,sans-Serif\" font-size=\"14.00\">gini = 0.0</text>\n<text text-anchor=\"start\" x=\"3198.5\" y=\"-268.3\" font-family=\"Helvetica,sans-Serif\" font-size=\"14.00\">samples = 2</text>\n<text text-anchor=\"start\" x=\"3181.5\" y=\"-253.3\" font-family=\"Helvetica,sans-Serif\" font-size=\"14.00\">value = [0, 2, 0, 0]</text>\n<text text-anchor=\"start\" x=\"3181.5\" y=\"-238.3\" font-family=\"Helvetica,sans-Serif\" font-size=\"14.00\">class = Gas Giant</text>\n</g>\n<!-- 100&#45;&gt;102 -->\n<g id=\"edge102\" class=\"edge\">\n<title>100&#45;&gt;102</title>\n<path fill=\"none\" stroke=\"black\" d=\"M3187.67,-341.91C3194.72,-330.76 3202.38,-318.66 3209.47,-307.44\"/>\n<polygon fill=\"black\" stroke=\"black\" points=\"3212.64,-308.99 3215.02,-298.67 3206.72,-305.25 3212.64,-308.99\"/>\n</g>\n<!-- 105 -->\n<g id=\"node106\" class=\"node\">\n<title>105</title>\n<path fill=\"#48e53a\" stroke=\"black\" d=\"M3704,-901C3704,-901 3588,-901 3588,-901 3582,-901 3576,-895 3576,-889 3576,-889 3576,-830 3576,-830 3576,-824 3582,-818 3588,-818 3588,-818 3704,-818 3704,-818 3710,-818 3716,-824 3716,-830 3716,-830 3716,-889 3716,-889 3716,-895 3710,-901 3704,-901\"/>\n<text text-anchor=\"start\" x=\"3594\" y=\"-885.8\" font-family=\"Helvetica,sans-Serif\" font-size=\"14.00\">distance ≤ &#45;0.427</text>\n<text text-anchor=\"start\" x=\"3610.5\" y=\"-870.8\" font-family=\"Helvetica,sans-Serif\" font-size=\"14.00\">gini = 0.006</text>\n<text text-anchor=\"start\" x=\"3601\" y=\"-855.8\" font-family=\"Helvetica,sans-Serif\" font-size=\"14.00\">samples = 683</text>\n<text text-anchor=\"start\" x=\"3584\" y=\"-840.8\" font-family=\"Helvetica,sans-Serif\" font-size=\"14.00\">value = [0, 681, 2, 0]</text>\n<text text-anchor=\"start\" x=\"3591.5\" y=\"-825.8\" font-family=\"Helvetica,sans-Serif\" font-size=\"14.00\">class = Gas Giant</text>\n</g>\n<!-- 104&#45;&gt;105 -->\n<g id=\"edge105\" class=\"edge\">\n<title>104&#45;&gt;105</title>\n<path fill=\"none\" stroke=\"black\" d=\"M3646,-936.91C3646,-928.65 3646,-919.86 3646,-911.3\"/>\n<polygon fill=\"black\" stroke=\"black\" points=\"3649.5,-911.02 3646,-901.02 3642.5,-911.02 3649.5,-911.02\"/>\n</g>\n<!-- 116 -->\n<g id=\"node117\" class=\"node\">\n<title>116</title>\n<path fill=\"#4de640\" stroke=\"black\" d=\"M4083.5,-901C4083.5,-901 3938.5,-901 3938.5,-901 3932.5,-901 3926.5,-895 3926.5,-889 3926.5,-889 3926.5,-830 3926.5,-830 3926.5,-824 3932.5,-818 3938.5,-818 3938.5,-818 4083.5,-818 4083.5,-818 4089.5,-818 4095.5,-824 4095.5,-830 4095.5,-830 4095.5,-889 4095.5,-889 4095.5,-895 4089.5,-901 4083.5,-901\"/>\n<text text-anchor=\"start\" x=\"3934.5\" y=\"-885.8\" font-family=\"Helvetica,sans-Serif\" font-size=\"14.00\">radius_multiplier ≤ &#45;1.231</text>\n<text text-anchor=\"start\" x=\"3975.5\" y=\"-870.8\" font-family=\"Helvetica,sans-Serif\" font-size=\"14.00\">gini = 0.065</text>\n<text text-anchor=\"start\" x=\"3966\" y=\"-855.8\" font-family=\"Helvetica,sans-Serif\" font-size=\"14.00\">samples = 388</text>\n<text text-anchor=\"start\" x=\"3945.5\" y=\"-840.8\" font-family=\"Helvetica,sans-Serif\" font-size=\"14.00\">value = [0, 375, 13, 0]</text>\n<text text-anchor=\"start\" x=\"3956.5\" y=\"-825.8\" font-family=\"Helvetica,sans-Serif\" font-size=\"14.00\">class = Gas Giant</text>\n</g>\n<!-- 104&#45;&gt;116 -->\n<g id=\"edge116\" class=\"edge\">\n<title>104&#45;&gt;116</title>\n<path fill=\"none\" stroke=\"black\" d=\"M3726.55,-951.68C3782.63,-933.7 3857.62,-909.66 3916.53,-890.78\"/>\n<polygon fill=\"black\" stroke=\"black\" points=\"3917.76,-894.06 3926.21,-887.68 3915.62,-887.4 3917.76,-894.06\"/>\n</g>\n<!-- 106 -->\n<g id=\"node107\" class=\"node\">\n<title>106</title>\n<path fill=\"#49e53c\" stroke=\"black\" d=\"M3625,-782C3625,-782 3509,-782 3509,-782 3503,-782 3497,-776 3497,-770 3497,-770 3497,-711 3497,-711 3497,-705 3503,-699 3509,-699 3509,-699 3625,-699 3625,-699 3631,-699 3637,-705 3637,-711 3637,-711 3637,-770 3637,-770 3637,-776 3631,-782 3625,-782\"/>\n<text text-anchor=\"start\" x=\"3515\" y=\"-766.8\" font-family=\"Helvetica,sans-Serif\" font-size=\"14.00\">distance ≤ &#45;0.434</text>\n<text text-anchor=\"start\" x=\"3531.5\" y=\"-751.8\" font-family=\"Helvetica,sans-Serif\" font-size=\"14.00\">gini = 0.025</text>\n<text text-anchor=\"start\" x=\"3522\" y=\"-736.8\" font-family=\"Helvetica,sans-Serif\" font-size=\"14.00\">samples = 157</text>\n<text text-anchor=\"start\" x=\"3505\" y=\"-721.8\" font-family=\"Helvetica,sans-Serif\" font-size=\"14.00\">value = [0, 155, 2, 0]</text>\n<text text-anchor=\"start\" x=\"3512.5\" y=\"-706.8\" font-family=\"Helvetica,sans-Serif\" font-size=\"14.00\">class = Gas Giant</text>\n</g>\n<!-- 105&#45;&gt;106 -->\n<g id=\"edge106\" class=\"edge\">\n<title>105&#45;&gt;106</title>\n<path fill=\"none\" stroke=\"black\" d=\"M3618.59,-817.91C3612.59,-809.01 3606.17,-799.51 3599.97,-790.33\"/>\n<polygon fill=\"black\" stroke=\"black\" points=\"3602.86,-788.35 3594.36,-782.02 3597.06,-792.27 3602.86,-788.35\"/>\n</g>\n<!-- 115 -->\n<g id=\"node116\" class=\"node\">\n<title>115</title>\n<path fill=\"#47e539\" stroke=\"black\" d=\"M3783,-774.5C3783,-774.5 3667,-774.5 3667,-774.5 3661,-774.5 3655,-768.5 3655,-762.5 3655,-762.5 3655,-718.5 3655,-718.5 3655,-712.5 3661,-706.5 3667,-706.5 3667,-706.5 3783,-706.5 3783,-706.5 3789,-706.5 3795,-712.5 3795,-718.5 3795,-718.5 3795,-762.5 3795,-762.5 3795,-768.5 3789,-774.5 3783,-774.5\"/>\n<text text-anchor=\"start\" x=\"3697\" y=\"-759.3\" font-family=\"Helvetica,sans-Serif\" font-size=\"14.00\">gini = 0.0</text>\n<text text-anchor=\"start\" x=\"3680\" y=\"-744.3\" font-family=\"Helvetica,sans-Serif\" font-size=\"14.00\">samples = 526</text>\n<text text-anchor=\"start\" x=\"3663\" y=\"-729.3\" font-family=\"Helvetica,sans-Serif\" font-size=\"14.00\">value = [0, 526, 0, 0]</text>\n<text text-anchor=\"start\" x=\"3670.5\" y=\"-714.3\" font-family=\"Helvetica,sans-Serif\" font-size=\"14.00\">class = Gas Giant</text>\n</g>\n<!-- 105&#45;&gt;115 -->\n<g id=\"edge115\" class=\"edge\">\n<title>105&#45;&gt;115</title>\n<path fill=\"none\" stroke=\"black\" d=\"M3673.41,-817.91C3681.01,-806.65 3689.27,-794.42 3696.91,-783.11\"/>\n<polygon fill=\"black\" stroke=\"black\" points=\"3699.91,-784.91 3702.61,-774.67 3694.11,-781 3699.91,-784.91\"/>\n</g>\n<!-- 107 -->\n<g id=\"node108\" class=\"node\">\n<title>107</title>\n<path fill=\"#48e53a\" stroke=\"black\" d=\"M3563,-663C3563,-663 3447,-663 3447,-663 3441,-663 3435,-657 3435,-651 3435,-651 3435,-592 3435,-592 3435,-586 3441,-580 3447,-580 3447,-580 3563,-580 3563,-580 3569,-580 3575,-586 3575,-592 3575,-592 3575,-651 3575,-651 3575,-657 3569,-663 3563,-663\"/>\n<text text-anchor=\"start\" x=\"3453\" y=\"-647.8\" font-family=\"Helvetica,sans-Serif\" font-size=\"14.00\">distance ≤ &#45;0.504</text>\n<text text-anchor=\"start\" x=\"3469.5\" y=\"-632.8\" font-family=\"Helvetica,sans-Serif\" font-size=\"14.00\">gini = 0.013</text>\n<text text-anchor=\"start\" x=\"3460\" y=\"-617.8\" font-family=\"Helvetica,sans-Serif\" font-size=\"14.00\">samples = 155</text>\n<text text-anchor=\"start\" x=\"3443\" y=\"-602.8\" font-family=\"Helvetica,sans-Serif\" font-size=\"14.00\">value = [0, 154, 1, 0]</text>\n<text text-anchor=\"start\" x=\"3450.5\" y=\"-587.8\" font-family=\"Helvetica,sans-Serif\" font-size=\"14.00\">class = Gas Giant</text>\n</g>\n<!-- 106&#45;&gt;107 -->\n<g id=\"edge107\" class=\"edge\">\n<title>106&#45;&gt;107</title>\n<path fill=\"none\" stroke=\"black\" d=\"M3545.49,-698.91C3540.87,-690.2 3535.95,-680.9 3531.17,-671.89\"/>\n<polygon fill=\"black\" stroke=\"black\" points=\"3534.25,-670.22 3526.47,-663.02 3528.06,-673.5 3534.25,-670.22\"/>\n</g>\n<!-- 112 -->\n<g id=\"node113\" class=\"node\">\n<title>112</title>\n<path fill=\"#ffffff\" stroke=\"black\" d=\"M3733,-663C3733,-663 3605,-663 3605,-663 3599,-663 3593,-657 3593,-651 3593,-651 3593,-592 3593,-592 3593,-586 3599,-580 3605,-580 3605,-580 3733,-580 3733,-580 3739,-580 3745,-586 3745,-592 3745,-592 3745,-651 3745,-651 3745,-657 3739,-663 3733,-663\"/>\n<text text-anchor=\"start\" x=\"3601\" y=\"-647.8\" font-family=\"Helvetica,sans-Serif\" font-size=\"14.00\">orbital_period ≤ &#45;0.027</text>\n<text text-anchor=\"start\" x=\"3641\" y=\"-632.8\" font-family=\"Helvetica,sans-Serif\" font-size=\"14.00\">gini = 0.5</text>\n<text text-anchor=\"start\" x=\"3631.5\" y=\"-617.8\" font-family=\"Helvetica,sans-Serif\" font-size=\"14.00\">samples = 2</text>\n<text text-anchor=\"start\" x=\"3614.5\" y=\"-602.8\" font-family=\"Helvetica,sans-Serif\" font-size=\"14.00\">value = [0, 1, 1, 0]</text>\n<text text-anchor=\"start\" x=\"3614.5\" y=\"-587.8\" font-family=\"Helvetica,sans-Serif\" font-size=\"14.00\">class = Gas Giant</text>\n</g>\n<!-- 106&#45;&gt;112 -->\n<g id=\"edge112\" class=\"edge\">\n<title>106&#45;&gt;112</title>\n<path fill=\"none\" stroke=\"black\" d=\"M3602.39,-698.91C3610.3,-689.83 3618.77,-680.12 3626.92,-670.77\"/>\n<polygon fill=\"black\" stroke=\"black\" points=\"3629.74,-672.86 3633.67,-663.02 3624.46,-668.26 3629.74,-672.86\"/>\n</g>\n<!-- 108 -->\n<g id=\"node109\" class=\"node\">\n<title>108</title>\n<path fill=\"#47e539\" stroke=\"black\" d=\"M3415,-536.5C3415,-536.5 3299,-536.5 3299,-536.5 3293,-536.5 3287,-530.5 3287,-524.5 3287,-524.5 3287,-480.5 3287,-480.5 3287,-474.5 3293,-468.5 3299,-468.5 3299,-468.5 3415,-468.5 3415,-468.5 3421,-468.5 3427,-474.5 3427,-480.5 3427,-480.5 3427,-524.5 3427,-524.5 3427,-530.5 3421,-536.5 3415,-536.5\"/>\n<text text-anchor=\"start\" x=\"3329\" y=\"-521.3\" font-family=\"Helvetica,sans-Serif\" font-size=\"14.00\">gini = 0.0</text>\n<text text-anchor=\"start\" x=\"3312\" y=\"-506.3\" font-family=\"Helvetica,sans-Serif\" font-size=\"14.00\">samples = 142</text>\n<text text-anchor=\"start\" x=\"3295\" y=\"-491.3\" font-family=\"Helvetica,sans-Serif\" font-size=\"14.00\">value = [0, 142, 0, 0]</text>\n<text text-anchor=\"start\" x=\"3302.5\" y=\"-476.3\" font-family=\"Helvetica,sans-Serif\" font-size=\"14.00\">class = Gas Giant</text>\n</g>\n<!-- 107&#45;&gt;108 -->\n<g id=\"edge108\" class=\"edge\">\n<title>107&#45;&gt;108</title>\n<path fill=\"none\" stroke=\"black\" d=\"M3453.65,-579.91C3438.58,-567.99 3422.11,-554.98 3407.12,-543.12\"/>\n<polygon fill=\"black\" stroke=\"black\" points=\"3408.97,-540.12 3398.95,-536.67 3404.63,-545.61 3408.97,-540.12\"/>\n</g>\n<!-- 109 -->\n<g id=\"node110\" class=\"node\">\n<title>109</title>\n<path fill=\"#56e749\" stroke=\"black\" d=\"M3565,-544C3565,-544 3457,-544 3457,-544 3451,-544 3445,-538 3445,-532 3445,-532 3445,-473 3445,-473 3445,-467 3451,-461 3457,-461 3457,-461 3565,-461 3565,-461 3571,-461 3577,-467 3577,-473 3577,-473 3577,-532 3577,-532 3577,-538 3571,-544 3565,-544\"/>\n<text text-anchor=\"start\" x=\"3459\" y=\"-528.8\" font-family=\"Helvetica,sans-Serif\" font-size=\"14.00\">distance ≤ &#45;0.499</text>\n<text text-anchor=\"start\" x=\"3475.5\" y=\"-513.8\" font-family=\"Helvetica,sans-Serif\" font-size=\"14.00\">gini = 0.142</text>\n<text text-anchor=\"start\" x=\"3470\" y=\"-498.8\" font-family=\"Helvetica,sans-Serif\" font-size=\"14.00\">samples = 13</text>\n<text text-anchor=\"start\" x=\"3453\" y=\"-483.8\" font-family=\"Helvetica,sans-Serif\" font-size=\"14.00\">value = [0, 12, 1, 0]</text>\n<text text-anchor=\"start\" x=\"3456.5\" y=\"-468.8\" font-family=\"Helvetica,sans-Serif\" font-size=\"14.00\">class = Gas Giant</text>\n</g>\n<!-- 107&#45;&gt;109 -->\n<g id=\"edge109\" class=\"edge\">\n<title>107&#45;&gt;109</title>\n<path fill=\"none\" stroke=\"black\" d=\"M3507.08,-579.91C3507.51,-571.56 3507.97,-562.67 3508.41,-554.02\"/>\n<polygon fill=\"black\" stroke=\"black\" points=\"3511.91,-554.19 3508.92,-544.02 3504.91,-553.83 3511.91,-554.19\"/>\n</g>\n<!-- 110 -->\n<g id=\"node111\" class=\"node\">\n<title>110</title>\n<path fill=\"#399de5\" stroke=\"black\" d=\"M3453.5,-417.5C3453.5,-417.5 3342.5,-417.5 3342.5,-417.5 3336.5,-417.5 3330.5,-411.5 3330.5,-405.5 3330.5,-405.5 3330.5,-361.5 3330.5,-361.5 3330.5,-355.5 3336.5,-349.5 3342.5,-349.5 3342.5,-349.5 3453.5,-349.5 3453.5,-349.5 3459.5,-349.5 3465.5,-355.5 3465.5,-361.5 3465.5,-361.5 3465.5,-405.5 3465.5,-405.5 3465.5,-411.5 3459.5,-417.5 3453.5,-417.5\"/>\n<text text-anchor=\"start\" x=\"3370\" y=\"-402.3\" font-family=\"Helvetica,sans-Serif\" font-size=\"14.00\">gini = 0.0</text>\n<text text-anchor=\"start\" x=\"3360.5\" y=\"-387.3\" font-family=\"Helvetica,sans-Serif\" font-size=\"14.00\">samples = 1</text>\n<text text-anchor=\"start\" x=\"3343.5\" y=\"-372.3\" font-family=\"Helvetica,sans-Serif\" font-size=\"14.00\">value = [0, 0, 1, 0]</text>\n<text text-anchor=\"start\" x=\"3338.5\" y=\"-357.3\" font-family=\"Helvetica,sans-Serif\" font-size=\"14.00\">class = Super Earth</text>\n</g>\n<!-- 109&#45;&gt;110 -->\n<g id=\"edge110\" class=\"edge\">\n<title>109&#45;&gt;110</title>\n<path fill=\"none\" stroke=\"black\" d=\"M3471.8,-460.91C3460.61,-449.32 3448.41,-436.7 3437.22,-425.11\"/>\n<polygon fill=\"black\" stroke=\"black\" points=\"3439.5,-422.43 3430.03,-417.67 3434.46,-427.29 3439.5,-422.43\"/>\n</g>\n<!-- 111 -->\n<g id=\"node112\" class=\"node\">\n<title>111</title>\n<path fill=\"#47e539\" stroke=\"black\" d=\"M3604,-417.5C3604,-417.5 3496,-417.5 3496,-417.5 3490,-417.5 3484,-411.5 3484,-405.5 3484,-405.5 3484,-361.5 3484,-361.5 3484,-355.5 3490,-349.5 3496,-349.5 3496,-349.5 3604,-349.5 3604,-349.5 3610,-349.5 3616,-355.5 3616,-361.5 3616,-361.5 3616,-405.5 3616,-405.5 3616,-411.5 3610,-417.5 3604,-417.5\"/>\n<text text-anchor=\"start\" x=\"3522\" y=\"-402.3\" font-family=\"Helvetica,sans-Serif\" font-size=\"14.00\">gini = 0.0</text>\n<text text-anchor=\"start\" x=\"3509\" y=\"-387.3\" font-family=\"Helvetica,sans-Serif\" font-size=\"14.00\">samples = 12</text>\n<text text-anchor=\"start\" x=\"3492\" y=\"-372.3\" font-family=\"Helvetica,sans-Serif\" font-size=\"14.00\">value = [0, 12, 0, 0]</text>\n<text text-anchor=\"start\" x=\"3495.5\" y=\"-357.3\" font-family=\"Helvetica,sans-Serif\" font-size=\"14.00\">class = Gas Giant</text>\n</g>\n<!-- 109&#45;&gt;111 -->\n<g id=\"edge111\" class=\"edge\">\n<title>109&#45;&gt;111</title>\n<path fill=\"none\" stroke=\"black\" d=\"M3524.53,-460.91C3528.14,-450.09 3532.04,-438.38 3535.69,-427.44\"/>\n<polygon fill=\"black\" stroke=\"black\" points=\"3539.1,-428.26 3538.94,-417.67 3532.46,-426.05 3539.1,-428.26\"/>\n</g>\n<!-- 113 -->\n<g id=\"node114\" class=\"node\">\n<title>113</title>\n<path fill=\"#399de5\" stroke=\"black\" d=\"M3718.5,-536.5C3718.5,-536.5 3607.5,-536.5 3607.5,-536.5 3601.5,-536.5 3595.5,-530.5 3595.5,-524.5 3595.5,-524.5 3595.5,-480.5 3595.5,-480.5 3595.5,-474.5 3601.5,-468.5 3607.5,-468.5 3607.5,-468.5 3718.5,-468.5 3718.5,-468.5 3724.5,-468.5 3730.5,-474.5 3730.5,-480.5 3730.5,-480.5 3730.5,-524.5 3730.5,-524.5 3730.5,-530.5 3724.5,-536.5 3718.5,-536.5\"/>\n<text text-anchor=\"start\" x=\"3635\" y=\"-521.3\" font-family=\"Helvetica,sans-Serif\" font-size=\"14.00\">gini = 0.0</text>\n<text text-anchor=\"start\" x=\"3625.5\" y=\"-506.3\" font-family=\"Helvetica,sans-Serif\" font-size=\"14.00\">samples = 1</text>\n<text text-anchor=\"start\" x=\"3608.5\" y=\"-491.3\" font-family=\"Helvetica,sans-Serif\" font-size=\"14.00\">value = [0, 0, 1, 0]</text>\n<text text-anchor=\"start\" x=\"3603.5\" y=\"-476.3\" font-family=\"Helvetica,sans-Serif\" font-size=\"14.00\">class = Super Earth</text>\n</g>\n<!-- 112&#45;&gt;113 -->\n<g id=\"edge113\" class=\"edge\">\n<title>112&#45;&gt;113</title>\n<path fill=\"none\" stroke=\"black\" d=\"M3666.92,-579.91C3666.37,-569.2 3665.78,-557.62 3665.22,-546.78\"/>\n<polygon fill=\"black\" stroke=\"black\" points=\"3668.71,-546.47 3664.7,-536.67 3661.72,-546.83 3668.71,-546.47\"/>\n</g>\n<!-- 114 -->\n<g id=\"node115\" class=\"node\">\n<title>114</title>\n<path fill=\"#47e539\" stroke=\"black\" d=\"M3861.5,-536.5C3861.5,-536.5 3760.5,-536.5 3760.5,-536.5 3754.5,-536.5 3748.5,-530.5 3748.5,-524.5 3748.5,-524.5 3748.5,-480.5 3748.5,-480.5 3748.5,-474.5 3754.5,-468.5 3760.5,-468.5 3760.5,-468.5 3861.5,-468.5 3861.5,-468.5 3867.5,-468.5 3873.5,-474.5 3873.5,-480.5 3873.5,-480.5 3873.5,-524.5 3873.5,-524.5 3873.5,-530.5 3867.5,-536.5 3861.5,-536.5\"/>\n<text text-anchor=\"start\" x=\"3783\" y=\"-521.3\" font-family=\"Helvetica,sans-Serif\" font-size=\"14.00\">gini = 0.0</text>\n<text text-anchor=\"start\" x=\"3773.5\" y=\"-506.3\" font-family=\"Helvetica,sans-Serif\" font-size=\"14.00\">samples = 1</text>\n<text text-anchor=\"start\" x=\"3756.5\" y=\"-491.3\" font-family=\"Helvetica,sans-Serif\" font-size=\"14.00\">value = [0, 1, 0, 0]</text>\n<text text-anchor=\"start\" x=\"3756.5\" y=\"-476.3\" font-family=\"Helvetica,sans-Serif\" font-size=\"14.00\">class = Gas Giant</text>\n</g>\n<!-- 112&#45;&gt;114 -->\n<g id=\"edge114\" class=\"edge\">\n<title>112&#45;&gt;114</title>\n<path fill=\"none\" stroke=\"black\" d=\"M3718.27,-579.91C3732.73,-567.99 3748.53,-554.98 3762.91,-543.12\"/>\n<polygon fill=\"black\" stroke=\"black\" points=\"3765.25,-545.73 3770.75,-536.67 3760.8,-540.32 3765.25,-545.73\"/>\n</g>\n<!-- 117 -->\n<g id=\"node118\" class=\"node\">\n<title>117</title>\n<path fill=\"#ffffff\" stroke=\"black\" d=\"M4075.5,-782C4075.5,-782 3946.5,-782 3946.5,-782 3940.5,-782 3934.5,-776 3934.5,-770 3934.5,-770 3934.5,-711 3934.5,-711 3934.5,-705 3940.5,-699 3946.5,-699 3946.5,-699 4075.5,-699 4075.5,-699 4081.5,-699 4087.5,-705 4087.5,-711 4087.5,-711 4087.5,-770 4087.5,-770 4087.5,-776 4081.5,-782 4075.5,-782\"/>\n<text text-anchor=\"start\" x=\"3942.5\" y=\"-766.8\" font-family=\"Helvetica,sans-Serif\" font-size=\"14.00\">mass_multiplier ≤ 0.98</text>\n<text text-anchor=\"start\" x=\"3983\" y=\"-751.8\" font-family=\"Helvetica,sans-Serif\" font-size=\"14.00\">gini = 0.5</text>\n<text text-anchor=\"start\" x=\"3970\" y=\"-736.8\" font-family=\"Helvetica,sans-Serif\" font-size=\"14.00\">samples = 22</text>\n<text text-anchor=\"start\" x=\"3949\" y=\"-721.8\" font-family=\"Helvetica,sans-Serif\" font-size=\"14.00\">value = [0, 11, 11, 0]</text>\n<text text-anchor=\"start\" x=\"3956.5\" y=\"-706.8\" font-family=\"Helvetica,sans-Serif\" font-size=\"14.00\">class = Gas Giant</text>\n</g>\n<!-- 116&#45;&gt;117 -->\n<g id=\"edge117\" class=\"edge\">\n<title>116&#45;&gt;117</title>\n<path fill=\"none\" stroke=\"black\" d=\"M4011,-817.91C4011,-809.65 4011,-800.86 4011,-792.3\"/>\n<polygon fill=\"black\" stroke=\"black\" points=\"4014.5,-792.02 4011,-782.02 4007.5,-792.02 4014.5,-792.02\"/>\n</g>\n<!-- 124 -->\n<g id=\"node125\" class=\"node\">\n<title>124</title>\n<path fill=\"#48e53a\" stroke=\"black\" d=\"M4334.5,-782C4334.5,-782 4189.5,-782 4189.5,-782 4183.5,-782 4177.5,-776 4177.5,-770 4177.5,-770 4177.5,-711 4177.5,-711 4177.5,-705 4183.5,-699 4189.5,-699 4189.5,-699 4334.5,-699 4334.5,-699 4340.5,-699 4346.5,-705 4346.5,-711 4346.5,-711 4346.5,-770 4346.5,-770 4346.5,-776 4340.5,-782 4334.5,-782\"/>\n<text text-anchor=\"start\" x=\"4185.5\" y=\"-766.8\" font-family=\"Helvetica,sans-Serif\" font-size=\"14.00\">radius_multiplier ≤ &#45;1.186</text>\n<text text-anchor=\"start\" x=\"4226.5\" y=\"-751.8\" font-family=\"Helvetica,sans-Serif\" font-size=\"14.00\">gini = 0.011</text>\n<text text-anchor=\"start\" x=\"4217\" y=\"-736.8\" font-family=\"Helvetica,sans-Serif\" font-size=\"14.00\">samples = 366</text>\n<text text-anchor=\"start\" x=\"4200\" y=\"-721.8\" font-family=\"Helvetica,sans-Serif\" font-size=\"14.00\">value = [0, 364, 2, 0]</text>\n<text text-anchor=\"start\" x=\"4207.5\" y=\"-706.8\" font-family=\"Helvetica,sans-Serif\" font-size=\"14.00\">class = Gas Giant</text>\n</g>\n<!-- 116&#45;&gt;124 -->\n<g id=\"edge124\" class=\"edge\">\n<title>116&#45;&gt;124</title>\n<path fill=\"none\" stroke=\"black\" d=\"M4095.63,-819.05C4118.87,-808.22 4144.21,-796.4 4167.95,-785.34\"/>\n<polygon fill=\"black\" stroke=\"black\" points=\"4169.73,-788.37 4177.31,-780.98 4166.77,-782.03 4169.73,-788.37\"/>\n</g>\n<!-- 118 -->\n<g id=\"node119\" class=\"node\">\n<title>118</title>\n<path fill=\"#5dafea\" stroke=\"black\" d=\"M4031.5,-663C4031.5,-663 3918.5,-663 3918.5,-663 3912.5,-663 3906.5,-657 3906.5,-651 3906.5,-651 3906.5,-592 3906.5,-592 3906.5,-586 3912.5,-580 3918.5,-580 3918.5,-580 4031.5,-580 4031.5,-580 4037.5,-580 4043.5,-586 4043.5,-592 4043.5,-592 4043.5,-651 4043.5,-651 4043.5,-657 4037.5,-663 4031.5,-663\"/>\n<text text-anchor=\"start\" x=\"3914.5\" y=\"-647.8\" font-family=\"Helvetica,sans-Serif\" font-size=\"14.00\">eccentricity ≤ &#45;0.259</text>\n<text text-anchor=\"start\" x=\"3943\" y=\"-632.8\" font-family=\"Helvetica,sans-Serif\" font-size=\"14.00\">gini = 0.26</text>\n<text text-anchor=\"start\" x=\"3934\" y=\"-617.8\" font-family=\"Helvetica,sans-Serif\" font-size=\"14.00\">samples = 13</text>\n<text text-anchor=\"start\" x=\"3917\" y=\"-602.8\" font-family=\"Helvetica,sans-Serif\" font-size=\"14.00\">value = [0, 2, 11, 0]</text>\n<text text-anchor=\"start\" x=\"3915.5\" y=\"-587.8\" font-family=\"Helvetica,sans-Serif\" font-size=\"14.00\">class = Super Earth</text>\n</g>\n<!-- 117&#45;&gt;118 -->\n<g id=\"edge118\" class=\"edge\">\n<title>117&#45;&gt;118</title>\n<path fill=\"none\" stroke=\"black\" d=\"M3998.51,-698.91C3995.91,-690.47 3993.15,-681.48 3990.46,-672.74\"/>\n<polygon fill=\"black\" stroke=\"black\" points=\"3993.75,-671.55 3987.47,-663.02 3987.06,-673.61 3993.75,-671.55\"/>\n</g>\n<!-- 123 -->\n<g id=\"node124\" class=\"node\">\n<title>123</title>\n<path fill=\"#47e539\" stroke=\"black\" d=\"M4174.5,-655.5C4174.5,-655.5 4073.5,-655.5 4073.5,-655.5 4067.5,-655.5 4061.5,-649.5 4061.5,-643.5 4061.5,-643.5 4061.5,-599.5 4061.5,-599.5 4061.5,-593.5 4067.5,-587.5 4073.5,-587.5 4073.5,-587.5 4174.5,-587.5 4174.5,-587.5 4180.5,-587.5 4186.5,-593.5 4186.5,-599.5 4186.5,-599.5 4186.5,-643.5 4186.5,-643.5 4186.5,-649.5 4180.5,-655.5 4174.5,-655.5\"/>\n<text text-anchor=\"start\" x=\"4096\" y=\"-640.3\" font-family=\"Helvetica,sans-Serif\" font-size=\"14.00\">gini = 0.0</text>\n<text text-anchor=\"start\" x=\"4086.5\" y=\"-625.3\" font-family=\"Helvetica,sans-Serif\" font-size=\"14.00\">samples = 9</text>\n<text text-anchor=\"start\" x=\"4069.5\" y=\"-610.3\" font-family=\"Helvetica,sans-Serif\" font-size=\"14.00\">value = [0, 9, 0, 0]</text>\n<text text-anchor=\"start\" x=\"4069.5\" y=\"-595.3\" font-family=\"Helvetica,sans-Serif\" font-size=\"14.00\">class = Gas Giant</text>\n</g>\n<!-- 117&#45;&gt;123 -->\n<g id=\"edge123\" class=\"edge\">\n<title>117&#45;&gt;123</title>\n<path fill=\"none\" stroke=\"black\" d=\"M4050.2,-698.91C4061.39,-687.32 4073.59,-674.7 4084.78,-663.11\"/>\n<polygon fill=\"black\" stroke=\"black\" points=\"4087.54,-665.29 4091.97,-655.67 4082.5,-660.43 4087.54,-665.29\"/>\n</g>\n<!-- 119 -->\n<g id=\"node120\" class=\"node\">\n<title>119</title>\n<path fill=\"#399de5\" stroke=\"black\" d=\"M4014.5,-536.5C4014.5,-536.5 3903.5,-536.5 3903.5,-536.5 3897.5,-536.5 3891.5,-530.5 3891.5,-524.5 3891.5,-524.5 3891.5,-480.5 3891.5,-480.5 3891.5,-474.5 3897.5,-468.5 3903.5,-468.5 3903.5,-468.5 4014.5,-468.5 4014.5,-468.5 4020.5,-468.5 4026.5,-474.5 4026.5,-480.5 4026.5,-480.5 4026.5,-524.5 4026.5,-524.5 4026.5,-530.5 4020.5,-536.5 4014.5,-536.5\"/>\n<text text-anchor=\"start\" x=\"3931\" y=\"-521.3\" font-family=\"Helvetica,sans-Serif\" font-size=\"14.00\">gini = 0.0</text>\n<text text-anchor=\"start\" x=\"3918\" y=\"-506.3\" font-family=\"Helvetica,sans-Serif\" font-size=\"14.00\">samples = 10</text>\n<text text-anchor=\"start\" x=\"3901\" y=\"-491.3\" font-family=\"Helvetica,sans-Serif\" font-size=\"14.00\">value = [0, 0, 10, 0]</text>\n<text text-anchor=\"start\" x=\"3899.5\" y=\"-476.3\" font-family=\"Helvetica,sans-Serif\" font-size=\"14.00\">class = Super Earth</text>\n</g>\n<!-- 118&#45;&gt;119 -->\n<g id=\"edge119\" class=\"edge\">\n<title>118&#45;&gt;119</title>\n<path fill=\"none\" stroke=\"black\" d=\"M3969.45,-579.91C3967.99,-569.2 3966.4,-557.62 3964.92,-546.78\"/>\n<polygon fill=\"black\" stroke=\"black\" points=\"3968.36,-546.1 3963.54,-536.67 3961.42,-547.05 3968.36,-546.1\"/>\n</g>\n<!-- 120 -->\n<g id=\"node121\" class=\"node\">\n<title>120</title>\n<path fill=\"#a3f29c\" stroke=\"black\" d=\"M4185,-544C4185,-544 4057,-544 4057,-544 4051,-544 4045,-538 4045,-532 4045,-532 4045,-473 4045,-473 4045,-467 4051,-461 4057,-461 4057,-461 4185,-461 4185,-461 4191,-461 4197,-467 4197,-473 4197,-473 4197,-532 4197,-532 4197,-538 4191,-544 4185,-544\"/>\n<text text-anchor=\"start\" x=\"4053\" y=\"-528.8\" font-family=\"Helvetica,sans-Serif\" font-size=\"14.00\">orbital_period ≤ &#45;0.027</text>\n<text text-anchor=\"start\" x=\"4085.5\" y=\"-513.8\" font-family=\"Helvetica,sans-Serif\" font-size=\"14.00\">gini = 0.444</text>\n<text text-anchor=\"start\" x=\"4083.5\" y=\"-498.8\" font-family=\"Helvetica,sans-Serif\" font-size=\"14.00\">samples = 3</text>\n<text text-anchor=\"start\" x=\"4066.5\" y=\"-483.8\" font-family=\"Helvetica,sans-Serif\" font-size=\"14.00\">value = [0, 2, 1, 0]</text>\n<text text-anchor=\"start\" x=\"4066.5\" y=\"-468.8\" font-family=\"Helvetica,sans-Serif\" font-size=\"14.00\">class = Gas Giant</text>\n</g>\n<!-- 118&#45;&gt;120 -->\n<g id=\"edge120\" class=\"edge\">\n<title>118&#45;&gt;120</title>\n<path fill=\"none\" stroke=\"black\" d=\"M4025.65,-579.91C4037.54,-570.38 4050.31,-560.15 4062.51,-550.37\"/>\n<polygon fill=\"black\" stroke=\"black\" points=\"4064.82,-553.01 4070.44,-544.02 4060.44,-547.54 4064.82,-553.01\"/>\n</g>\n<!-- 121 -->\n<g id=\"node122\" class=\"node\">\n<title>121</title>\n<path fill=\"#47e539\" stroke=\"black\" d=\"M4063.5,-417.5C4063.5,-417.5 3962.5,-417.5 3962.5,-417.5 3956.5,-417.5 3950.5,-411.5 3950.5,-405.5 3950.5,-405.5 3950.5,-361.5 3950.5,-361.5 3950.5,-355.5 3956.5,-349.5 3962.5,-349.5 3962.5,-349.5 4063.5,-349.5 4063.5,-349.5 4069.5,-349.5 4075.5,-355.5 4075.5,-361.5 4075.5,-361.5 4075.5,-405.5 4075.5,-405.5 4075.5,-411.5 4069.5,-417.5 4063.5,-417.5\"/>\n<text text-anchor=\"start\" x=\"3985\" y=\"-402.3\" font-family=\"Helvetica,sans-Serif\" font-size=\"14.00\">gini = 0.0</text>\n<text text-anchor=\"start\" x=\"3975.5\" y=\"-387.3\" font-family=\"Helvetica,sans-Serif\" font-size=\"14.00\">samples = 2</text>\n<text text-anchor=\"start\" x=\"3958.5\" y=\"-372.3\" font-family=\"Helvetica,sans-Serif\" font-size=\"14.00\">value = [0, 2, 0, 0]</text>\n<text text-anchor=\"start\" x=\"3958.5\" y=\"-357.3\" font-family=\"Helvetica,sans-Serif\" font-size=\"14.00\">class = Gas Giant</text>\n</g>\n<!-- 120&#45;&gt;121 -->\n<g id=\"edge121\" class=\"edge\">\n<title>120&#45;&gt;121</title>\n<path fill=\"none\" stroke=\"black\" d=\"M4083.53,-460.91C4072.83,-449.32 4061.18,-436.7 4050.49,-425.11\"/>\n<polygon fill=\"black\" stroke=\"black\" points=\"4052.97,-422.64 4043.62,-417.67 4047.83,-427.39 4052.97,-422.64\"/>\n</g>\n<!-- 122 -->\n<g id=\"node123\" class=\"node\">\n<title>122</title>\n<path fill=\"#399de5\" stroke=\"black\" d=\"M4216.5,-417.5C4216.5,-417.5 4105.5,-417.5 4105.5,-417.5 4099.5,-417.5 4093.5,-411.5 4093.5,-405.5 4093.5,-405.5 4093.5,-361.5 4093.5,-361.5 4093.5,-355.5 4099.5,-349.5 4105.5,-349.5 4105.5,-349.5 4216.5,-349.5 4216.5,-349.5 4222.5,-349.5 4228.5,-355.5 4228.5,-361.5 4228.5,-361.5 4228.5,-405.5 4228.5,-405.5 4228.5,-411.5 4222.5,-417.5 4216.5,-417.5\"/>\n<text text-anchor=\"start\" x=\"4133\" y=\"-402.3\" font-family=\"Helvetica,sans-Serif\" font-size=\"14.00\">gini = 0.0</text>\n<text text-anchor=\"start\" x=\"4123.5\" y=\"-387.3\" font-family=\"Helvetica,sans-Serif\" font-size=\"14.00\">samples = 1</text>\n<text text-anchor=\"start\" x=\"4106.5\" y=\"-372.3\" font-family=\"Helvetica,sans-Serif\" font-size=\"14.00\">value = [0, 0, 1, 0]</text>\n<text text-anchor=\"start\" x=\"4101.5\" y=\"-357.3\" font-family=\"Helvetica,sans-Serif\" font-size=\"14.00\">class = Super Earth</text>\n</g>\n<!-- 120&#45;&gt;122 -->\n<g id=\"edge122\" class=\"edge\">\n<title>120&#45;&gt;122</title>\n<path fill=\"none\" stroke=\"black\" d=\"M4134.88,-460.91C4138.57,-450.09 4142.58,-438.38 4146.32,-427.44\"/>\n<polygon fill=\"black\" stroke=\"black\" points=\"4149.74,-428.26 4149.66,-417.67 4143.11,-426 4149.74,-428.26\"/>\n</g>\n<!-- 125 -->\n<g id=\"node126\" class=\"node\">\n<title>125</title>\n<path fill=\"#75ec6a\" stroke=\"black\" d=\"M4325.5,-663C4325.5,-663 4224.5,-663 4224.5,-663 4218.5,-663 4212.5,-657 4212.5,-651 4212.5,-651 4212.5,-592 4212.5,-592 4212.5,-586 4218.5,-580 4224.5,-580 4224.5,-580 4325.5,-580 4325.5,-580 4331.5,-580 4337.5,-586 4337.5,-592 4337.5,-592 4337.5,-651 4337.5,-651 4337.5,-657 4331.5,-663 4325.5,-663\"/>\n<text text-anchor=\"start\" x=\"4223\" y=\"-647.8\" font-family=\"Helvetica,sans-Serif\" font-size=\"14.00\">distance ≤ &#45;0.835</text>\n<text text-anchor=\"start\" x=\"4243\" y=\"-632.8\" font-family=\"Helvetica,sans-Serif\" font-size=\"14.00\">gini = 0.32</text>\n<text text-anchor=\"start\" x=\"4234\" y=\"-617.8\" font-family=\"Helvetica,sans-Serif\" font-size=\"14.00\">samples = 10</text>\n<text text-anchor=\"start\" x=\"4220.5\" y=\"-602.8\" font-family=\"Helvetica,sans-Serif\" font-size=\"14.00\">value = [0, 8, 2, 0]</text>\n<text text-anchor=\"start\" x=\"4220.5\" y=\"-587.8\" font-family=\"Helvetica,sans-Serif\" font-size=\"14.00\">class = Gas Giant</text>\n</g>\n<!-- 124&#45;&gt;125 -->\n<g id=\"edge125\" class=\"edge\">\n<title>124&#45;&gt;125</title>\n<path fill=\"none\" stroke=\"black\" d=\"M4266.51,-698.91C4267.44,-690.56 4268.43,-681.67 4269.39,-673.02\"/>\n<polygon fill=\"black\" stroke=\"black\" points=\"4272.87,-673.35 4270.5,-663.02 4265.91,-672.57 4272.87,-673.35\"/>\n</g>\n<!-- 132 -->\n<g id=\"node133\" class=\"node\">\n<title>132</title>\n<path fill=\"#47e539\" stroke=\"black\" d=\"M4484,-655.5C4484,-655.5 4368,-655.5 4368,-655.5 4362,-655.5 4356,-649.5 4356,-643.5 4356,-643.5 4356,-599.5 4356,-599.5 4356,-593.5 4362,-587.5 4368,-587.5 4368,-587.5 4484,-587.5 4484,-587.5 4490,-587.5 4496,-593.5 4496,-599.5 4496,-599.5 4496,-643.5 4496,-643.5 4496,-649.5 4490,-655.5 4484,-655.5\"/>\n<text text-anchor=\"start\" x=\"4398\" y=\"-640.3\" font-family=\"Helvetica,sans-Serif\" font-size=\"14.00\">gini = 0.0</text>\n<text text-anchor=\"start\" x=\"4381\" y=\"-625.3\" font-family=\"Helvetica,sans-Serif\" font-size=\"14.00\">samples = 356</text>\n<text text-anchor=\"start\" x=\"4364\" y=\"-610.3\" font-family=\"Helvetica,sans-Serif\" font-size=\"14.00\">value = [0, 356, 0, 0]</text>\n<text text-anchor=\"start\" x=\"4371.5\" y=\"-595.3\" font-family=\"Helvetica,sans-Serif\" font-size=\"14.00\">class = Gas Giant</text>\n</g>\n<!-- 124&#45;&gt;132 -->\n<g id=\"edge132\" class=\"edge\">\n<title>124&#45;&gt;132</title>\n<path fill=\"none\" stroke=\"black\" d=\"M4318.9,-698.91C4335.76,-686.88 4354.18,-673.73 4370.93,-661.79\"/>\n<polygon fill=\"black\" stroke=\"black\" points=\"4373.4,-664.32 4379.51,-655.67 4369.34,-658.63 4373.4,-664.32\"/>\n</g>\n<!-- 126 -->\n<g id=\"node127\" class=\"node\">\n<title>126</title>\n<path fill=\"#399de5\" stroke=\"black\" d=\"M4338.5,-536.5C4338.5,-536.5 4227.5,-536.5 4227.5,-536.5 4221.5,-536.5 4215.5,-530.5 4215.5,-524.5 4215.5,-524.5 4215.5,-480.5 4215.5,-480.5 4215.5,-474.5 4221.5,-468.5 4227.5,-468.5 4227.5,-468.5 4338.5,-468.5 4338.5,-468.5 4344.5,-468.5 4350.5,-474.5 4350.5,-480.5 4350.5,-480.5 4350.5,-524.5 4350.5,-524.5 4350.5,-530.5 4344.5,-536.5 4338.5,-536.5\"/>\n<text text-anchor=\"start\" x=\"4255\" y=\"-521.3\" font-family=\"Helvetica,sans-Serif\" font-size=\"14.00\">gini = 0.0</text>\n<text text-anchor=\"start\" x=\"4245.5\" y=\"-506.3\" font-family=\"Helvetica,sans-Serif\" font-size=\"14.00\">samples = 1</text>\n<text text-anchor=\"start\" x=\"4228.5\" y=\"-491.3\" font-family=\"Helvetica,sans-Serif\" font-size=\"14.00\">value = [0, 0, 1, 0]</text>\n<text text-anchor=\"start\" x=\"4223.5\" y=\"-476.3\" font-family=\"Helvetica,sans-Serif\" font-size=\"14.00\">class = Super Earth</text>\n</g>\n<!-- 125&#45;&gt;126 -->\n<g id=\"edge126\" class=\"edge\">\n<title>125&#45;&gt;126</title>\n<path fill=\"none\" stroke=\"black\" d=\"M4277.78,-579.91C4278.51,-569.2 4279.3,-557.62 4280.04,-546.78\"/>\n<polygon fill=\"black\" stroke=\"black\" points=\"4283.54,-546.88 4280.73,-536.67 4276.56,-546.4 4283.54,-546.88\"/>\n</g>\n<!-- 127 -->\n<g id=\"node128\" class=\"node\">\n<title>127</title>\n<path fill=\"#5ee852\" stroke=\"black\" d=\"M4529.5,-544C4529.5,-544 4380.5,-544 4380.5,-544 4374.5,-544 4368.5,-538 4368.5,-532 4368.5,-532 4368.5,-473 4368.5,-473 4368.5,-467 4374.5,-461 4380.5,-461 4380.5,-461 4529.5,-461 4529.5,-461 4535.5,-461 4541.5,-467 4541.5,-473 4541.5,-473 4541.5,-532 4541.5,-532 4541.5,-538 4535.5,-544 4529.5,-544\"/>\n<text text-anchor=\"start\" x=\"4376.5\" y=\"-528.8\" font-family=\"Helvetica,sans-Serif\" font-size=\"14.00\">stellar_magnitude ≤ 0.071</text>\n<text text-anchor=\"start\" x=\"4419.5\" y=\"-513.8\" font-family=\"Helvetica,sans-Serif\" font-size=\"14.00\">gini = 0.198</text>\n<text text-anchor=\"start\" x=\"4417.5\" y=\"-498.8\" font-family=\"Helvetica,sans-Serif\" font-size=\"14.00\">samples = 9</text>\n<text text-anchor=\"start\" x=\"4400.5\" y=\"-483.8\" font-family=\"Helvetica,sans-Serif\" font-size=\"14.00\">value = [0, 8, 1, 0]</text>\n<text text-anchor=\"start\" x=\"4400.5\" y=\"-468.8\" font-family=\"Helvetica,sans-Serif\" font-size=\"14.00\">class = Gas Giant</text>\n</g>\n<!-- 125&#45;&gt;127 -->\n<g id=\"edge127\" class=\"edge\">\n<title>125&#45;&gt;127</title>\n<path fill=\"none\" stroke=\"black\" d=\"M4337.45,-579.91C4352.53,-570.11 4368.75,-559.56 4384.18,-549.53\"/>\n<polygon fill=\"black\" stroke=\"black\" points=\"4386.18,-552.41 4392.66,-544.02 4382.37,-546.54 4386.18,-552.41\"/>\n</g>\n<!-- 128 -->\n<g id=\"node129\" class=\"node\">\n<title>128</title>\n<path fill=\"#a3f29c\" stroke=\"black\" d=\"M4491.5,-425C4491.5,-425 4338.5,-425 4338.5,-425 4332.5,-425 4326.5,-419 4326.5,-413 4326.5,-413 4326.5,-354 4326.5,-354 4326.5,-348 4332.5,-342 4338.5,-342 4338.5,-342 4491.5,-342 4491.5,-342 4497.5,-342 4503.5,-348 4503.5,-354 4503.5,-354 4503.5,-413 4503.5,-413 4503.5,-419 4497.5,-425 4491.5,-425\"/>\n<text text-anchor=\"start\" x=\"4334.5\" y=\"-409.8\" font-family=\"Helvetica,sans-Serif\" font-size=\"14.00\">stellar_magnitude ≤ &#45;0.012</text>\n<text text-anchor=\"start\" x=\"4379.5\" y=\"-394.8\" font-family=\"Helvetica,sans-Serif\" font-size=\"14.00\">gini = 0.444</text>\n<text text-anchor=\"start\" x=\"4377.5\" y=\"-379.8\" font-family=\"Helvetica,sans-Serif\" font-size=\"14.00\">samples = 3</text>\n<text text-anchor=\"start\" x=\"4360.5\" y=\"-364.8\" font-family=\"Helvetica,sans-Serif\" font-size=\"14.00\">value = [0, 2, 1, 0]</text>\n<text text-anchor=\"start\" x=\"4360.5\" y=\"-349.8\" font-family=\"Helvetica,sans-Serif\" font-size=\"14.00\">class = Gas Giant</text>\n</g>\n<!-- 127&#45;&gt;128 -->\n<g id=\"edge128\" class=\"edge\">\n<title>127&#45;&gt;128</title>\n<path fill=\"none\" stroke=\"black\" d=\"M4441.12,-460.91C4438.24,-452.47 4435.16,-443.48 4432.18,-434.74\"/>\n<polygon fill=\"black\" stroke=\"black\" points=\"4435.4,-433.35 4428.85,-425.02 4428.78,-435.62 4435.4,-433.35\"/>\n</g>\n<!-- 131 -->\n<g id=\"node132\" class=\"node\">\n<title>131</title>\n<path fill=\"#47e539\" stroke=\"black\" d=\"M4634.5,-417.5C4634.5,-417.5 4533.5,-417.5 4533.5,-417.5 4527.5,-417.5 4521.5,-411.5 4521.5,-405.5 4521.5,-405.5 4521.5,-361.5 4521.5,-361.5 4521.5,-355.5 4527.5,-349.5 4533.5,-349.5 4533.5,-349.5 4634.5,-349.5 4634.5,-349.5 4640.5,-349.5 4646.5,-355.5 4646.5,-361.5 4646.5,-361.5 4646.5,-405.5 4646.5,-405.5 4646.5,-411.5 4640.5,-417.5 4634.5,-417.5\"/>\n<text text-anchor=\"start\" x=\"4556\" y=\"-402.3\" font-family=\"Helvetica,sans-Serif\" font-size=\"14.00\">gini = 0.0</text>\n<text text-anchor=\"start\" x=\"4546.5\" y=\"-387.3\" font-family=\"Helvetica,sans-Serif\" font-size=\"14.00\">samples = 6</text>\n<text text-anchor=\"start\" x=\"4529.5\" y=\"-372.3\" font-family=\"Helvetica,sans-Serif\" font-size=\"14.00\">value = [0, 6, 0, 0]</text>\n<text text-anchor=\"start\" x=\"4529.5\" y=\"-357.3\" font-family=\"Helvetica,sans-Serif\" font-size=\"14.00\">class = Gas Giant</text>\n</g>\n<!-- 127&#45;&gt;131 -->\n<g id=\"edge131\" class=\"edge\">\n<title>127&#45;&gt;131</title>\n<path fill=\"none\" stroke=\"black\" d=\"M4499.76,-460.91C4512.77,-449.1 4526.98,-436.22 4539.95,-424.45\"/>\n<polygon fill=\"black\" stroke=\"black\" points=\"4542.38,-426.98 4547.43,-417.67 4537.67,-421.79 4542.38,-426.98\"/>\n</g>\n<!-- 129 -->\n<g id=\"node130\" class=\"node\">\n<title>129</title>\n<path fill=\"#47e539\" stroke=\"black\" d=\"M4391.5,-298.5C4391.5,-298.5 4290.5,-298.5 4290.5,-298.5 4284.5,-298.5 4278.5,-292.5 4278.5,-286.5 4278.5,-286.5 4278.5,-242.5 4278.5,-242.5 4278.5,-236.5 4284.5,-230.5 4290.5,-230.5 4290.5,-230.5 4391.5,-230.5 4391.5,-230.5 4397.5,-230.5 4403.5,-236.5 4403.5,-242.5 4403.5,-242.5 4403.5,-286.5 4403.5,-286.5 4403.5,-292.5 4397.5,-298.5 4391.5,-298.5\"/>\n<text text-anchor=\"start\" x=\"4313\" y=\"-283.3\" font-family=\"Helvetica,sans-Serif\" font-size=\"14.00\">gini = 0.0</text>\n<text text-anchor=\"start\" x=\"4303.5\" y=\"-268.3\" font-family=\"Helvetica,sans-Serif\" font-size=\"14.00\">samples = 2</text>\n<text text-anchor=\"start\" x=\"4286.5\" y=\"-253.3\" font-family=\"Helvetica,sans-Serif\" font-size=\"14.00\">value = [0, 2, 0, 0]</text>\n<text text-anchor=\"start\" x=\"4286.5\" y=\"-238.3\" font-family=\"Helvetica,sans-Serif\" font-size=\"14.00\">class = Gas Giant</text>\n</g>\n<!-- 128&#45;&gt;129 -->\n<g id=\"edge129\" class=\"edge\">\n<title>128&#45;&gt;129</title>\n<path fill=\"none\" stroke=\"black\" d=\"M4389.33,-341.91C4382.28,-330.76 4374.62,-318.66 4367.53,-307.44\"/>\n<polygon fill=\"black\" stroke=\"black\" points=\"4370.28,-305.25 4361.98,-298.67 4364.36,-308.99 4370.28,-305.25\"/>\n</g>\n<!-- 130 -->\n<g id=\"node131\" class=\"node\">\n<title>130</title>\n<path fill=\"#399de5\" stroke=\"black\" d=\"M4544.5,-298.5C4544.5,-298.5 4433.5,-298.5 4433.5,-298.5 4427.5,-298.5 4421.5,-292.5 4421.5,-286.5 4421.5,-286.5 4421.5,-242.5 4421.5,-242.5 4421.5,-236.5 4427.5,-230.5 4433.5,-230.5 4433.5,-230.5 4544.5,-230.5 4544.5,-230.5 4550.5,-230.5 4556.5,-236.5 4556.5,-242.5 4556.5,-242.5 4556.5,-286.5 4556.5,-286.5 4556.5,-292.5 4550.5,-298.5 4544.5,-298.5\"/>\n<text text-anchor=\"start\" x=\"4461\" y=\"-283.3\" font-family=\"Helvetica,sans-Serif\" font-size=\"14.00\">gini = 0.0</text>\n<text text-anchor=\"start\" x=\"4451.5\" y=\"-268.3\" font-family=\"Helvetica,sans-Serif\" font-size=\"14.00\">samples = 1</text>\n<text text-anchor=\"start\" x=\"4434.5\" y=\"-253.3\" font-family=\"Helvetica,sans-Serif\" font-size=\"14.00\">value = [0, 0, 1, 0]</text>\n<text text-anchor=\"start\" x=\"4429.5\" y=\"-238.3\" font-family=\"Helvetica,sans-Serif\" font-size=\"14.00\">class = Super Earth</text>\n</g>\n<!-- 128&#45;&gt;130 -->\n<g id=\"edge130\" class=\"edge\">\n<title>128&#45;&gt;130</title>\n<path fill=\"none\" stroke=\"black\" d=\"M4440.67,-341.91C4447.72,-330.76 4455.38,-318.66 4462.47,-307.44\"/>\n<polygon fill=\"black\" stroke=\"black\" points=\"4465.64,-308.99 4468.02,-298.67 4459.72,-305.25 4465.64,-308.99\"/>\n</g>\n<!-- 135 -->\n<g id=\"node136\" class=\"node\">\n<title>135</title>\n<path fill=\"#91c9f1\" stroke=\"black\" d=\"M4401.5,-1377C4401.5,-1377 4290.5,-1377 4290.5,-1377 4284.5,-1377 4278.5,-1371 4278.5,-1365 4278.5,-1365 4278.5,-1306 4278.5,-1306 4278.5,-1300 4284.5,-1294 4290.5,-1294 4290.5,-1294 4401.5,-1294 4401.5,-1294 4407.5,-1294 4413.5,-1300 4413.5,-1306 4413.5,-1306 4413.5,-1365 4413.5,-1365 4413.5,-1371 4407.5,-1377 4401.5,-1377\"/>\n<text text-anchor=\"start\" x=\"4297.5\" y=\"-1361.8\" font-family=\"Helvetica,sans-Serif\" font-size=\"14.00\">distance ≤ &#45;0.29</text>\n<text text-anchor=\"start\" x=\"4310.5\" y=\"-1346.8\" font-family=\"Helvetica,sans-Serif\" font-size=\"14.00\">gini = 0.541</text>\n<text text-anchor=\"start\" x=\"4305\" y=\"-1331.8\" font-family=\"Helvetica,sans-Serif\" font-size=\"14.00\">samples = 22</text>\n<text text-anchor=\"start\" x=\"4288\" y=\"-1316.8\" font-family=\"Helvetica,sans-Serif\" font-size=\"14.00\">value = [4, 3, 14, 1]</text>\n<text text-anchor=\"start\" x=\"4286.5\" y=\"-1301.8\" font-family=\"Helvetica,sans-Serif\" font-size=\"14.00\">class = Super Earth</text>\n</g>\n<!-- 134&#45;&gt;135 -->\n<g id=\"edge135\" class=\"edge\">\n<title>134&#45;&gt;135</title>\n<path fill=\"none\" stroke=\"black\" d=\"M4346,-1412.91C4346,-1404.65 4346,-1395.86 4346,-1387.3\"/>\n<polygon fill=\"black\" stroke=\"black\" points=\"4349.5,-1387.02 4346,-1377.02 4342.5,-1387.02 4349.5,-1387.02\"/>\n</g>\n<!-- 152 -->\n<g id=\"node153\" class=\"node\">\n<title>152</title>\n<path fill=\"#e5833c\" stroke=\"black\" d=\"M5054.5,-1377C5054.5,-1377 4909.5,-1377 4909.5,-1377 4903.5,-1377 4897.5,-1371 4897.5,-1365 4897.5,-1365 4897.5,-1306 4897.5,-1306 4897.5,-1300 4903.5,-1294 4909.5,-1294 4909.5,-1294 5054.5,-1294 5054.5,-1294 5060.5,-1294 5066.5,-1300 5066.5,-1306 5066.5,-1306 5066.5,-1365 5066.5,-1365 5066.5,-1371 5060.5,-1377 5054.5,-1377\"/>\n<text text-anchor=\"start\" x=\"4905.5\" y=\"-1361.8\" font-family=\"Helvetica,sans-Serif\" font-size=\"14.00\">radius_multiplier ≤ &#45;1.254</text>\n<text text-anchor=\"start\" x=\"4946.5\" y=\"-1346.8\" font-family=\"Helvetica,sans-Serif\" font-size=\"14.00\">gini = 0.026</text>\n<text text-anchor=\"start\" x=\"4933.5\" y=\"-1331.8\" font-family=\"Helvetica,sans-Serif\" font-size=\"14.00\">samples = 1442</text>\n<text text-anchor=\"start\" x=\"4912.5\" y=\"-1316.8\" font-family=\"Helvetica,sans-Serif\" font-size=\"14.00\">value = [1423, 14, 5, 0]</text>\n<text text-anchor=\"start\" x=\"4920.5\" y=\"-1301.8\" font-family=\"Helvetica,sans-Serif\" font-size=\"14.00\">class = Neptune&#45;like</text>\n</g>\n<!-- 134&#45;&gt;152 -->\n<g id=\"edge152\" class=\"edge\">\n<title>134&#45;&gt;152</title>\n<path fill=\"none\" stroke=\"black\" d=\"M4427.2,-1438.56C4544.98,-1416.9 4762.76,-1376.83 4887.56,-1353.87\"/>\n<polygon fill=\"black\" stroke=\"black\" points=\"4888.29,-1357.3 4897.5,-1352.05 4887.03,-1350.41 4888.29,-1357.3\"/>\n</g>\n<!-- 136 -->\n<g id=\"node137\" class=\"node\">\n<title>136</title>\n<path fill=\"#fbeade\" stroke=\"black\" d=\"M4334.5,-1258C4334.5,-1258 4185.5,-1258 4185.5,-1258 4179.5,-1258 4173.5,-1252 4173.5,-1246 4173.5,-1246 4173.5,-1187 4173.5,-1187 4173.5,-1181 4179.5,-1175 4185.5,-1175 4185.5,-1175 4334.5,-1175 4334.5,-1175 4340.5,-1175 4346.5,-1181 4346.5,-1187 4346.5,-1187 4346.5,-1246 4346.5,-1246 4346.5,-1252 4340.5,-1258 4334.5,-1258\"/>\n<text text-anchor=\"start\" x=\"4181.5\" y=\"-1242.8\" font-family=\"Helvetica,sans-Serif\" font-size=\"14.00\">stellar_magnitude ≤ 0.633</text>\n<text text-anchor=\"start\" x=\"4224.5\" y=\"-1227.8\" font-family=\"Helvetica,sans-Serif\" font-size=\"14.00\">gini = 0.719</text>\n<text text-anchor=\"start\" x=\"4222.5\" y=\"-1212.8\" font-family=\"Helvetica,sans-Serif\" font-size=\"14.00\">samples = 8</text>\n<text text-anchor=\"start\" x=\"4205.5\" y=\"-1197.8\" font-family=\"Helvetica,sans-Serif\" font-size=\"14.00\">value = [3, 2, 2, 1]</text>\n<text text-anchor=\"start\" x=\"4198.5\" y=\"-1182.8\" font-family=\"Helvetica,sans-Serif\" font-size=\"14.00\">class = Neptune&#45;like</text>\n</g>\n<!-- 135&#45;&gt;136 -->\n<g id=\"edge136\" class=\"edge\">\n<title>135&#45;&gt;136</title>\n<path fill=\"none\" stroke=\"black\" d=\"M4316.16,-1293.91C4309.63,-1285.01 4302.64,-1275.51 4295.89,-1266.33\"/>\n<polygon fill=\"black\" stroke=\"black\" points=\"4298.53,-1264.01 4289.78,-1258.02 4292.89,-1268.15 4298.53,-1264.01\"/>\n</g>\n<!-- 145 -->\n<g id=\"node146\" class=\"node\">\n<title>145</title>\n<path fill=\"#57ace9\" stroke=\"black\" d=\"M4489.5,-1258C4489.5,-1258 4376.5,-1258 4376.5,-1258 4370.5,-1258 4364.5,-1252 4364.5,-1246 4364.5,-1246 4364.5,-1187 4364.5,-1187 4364.5,-1181 4370.5,-1175 4376.5,-1175 4376.5,-1175 4489.5,-1175 4489.5,-1175 4495.5,-1175 4501.5,-1181 4501.5,-1187 4501.5,-1187 4501.5,-1246 4501.5,-1246 4501.5,-1252 4495.5,-1258 4489.5,-1258\"/>\n<text text-anchor=\"start\" x=\"4372.5\" y=\"-1242.8\" font-family=\"Helvetica,sans-Serif\" font-size=\"14.00\">eccentricity ≤ &#45;0.259</text>\n<text text-anchor=\"start\" x=\"4397.5\" y=\"-1227.8\" font-family=\"Helvetica,sans-Serif\" font-size=\"14.00\">gini = 0.255</text>\n<text text-anchor=\"start\" x=\"4392\" y=\"-1212.8\" font-family=\"Helvetica,sans-Serif\" font-size=\"14.00\">samples = 14</text>\n<text text-anchor=\"start\" x=\"4375\" y=\"-1197.8\" font-family=\"Helvetica,sans-Serif\" font-size=\"14.00\">value = [1, 1, 12, 0]</text>\n<text text-anchor=\"start\" x=\"4373.5\" y=\"-1182.8\" font-family=\"Helvetica,sans-Serif\" font-size=\"14.00\">class = Super Earth</text>\n</g>\n<!-- 135&#45;&gt;145 -->\n<g id=\"edge145\" class=\"edge\">\n<title>135&#45;&gt;145</title>\n<path fill=\"none\" stroke=\"black\" d=\"M4376.18,-1293.91C4382.86,-1284.92 4390.01,-1275.32 4396.9,-1266.05\"/>\n<polygon fill=\"black\" stroke=\"black\" points=\"4399.71,-1268.13 4402.87,-1258.02 4394.09,-1263.96 4399.71,-1268.13\"/>\n</g>\n<!-- 137 -->\n<g id=\"node138\" class=\"node\">\n<title>137</title>\n<path fill=\"#399de5\" stroke=\"black\" d=\"M4161.5,-1131.5C4161.5,-1131.5 4050.5,-1131.5 4050.5,-1131.5 4044.5,-1131.5 4038.5,-1125.5 4038.5,-1119.5 4038.5,-1119.5 4038.5,-1075.5 4038.5,-1075.5 4038.5,-1069.5 4044.5,-1063.5 4050.5,-1063.5 4050.5,-1063.5 4161.5,-1063.5 4161.5,-1063.5 4167.5,-1063.5 4173.5,-1069.5 4173.5,-1075.5 4173.5,-1075.5 4173.5,-1119.5 4173.5,-1119.5 4173.5,-1125.5 4167.5,-1131.5 4161.5,-1131.5\"/>\n<text text-anchor=\"start\" x=\"4078\" y=\"-1116.3\" font-family=\"Helvetica,sans-Serif\" font-size=\"14.00\">gini = 0.0</text>\n<text text-anchor=\"start\" x=\"4068.5\" y=\"-1101.3\" font-family=\"Helvetica,sans-Serif\" font-size=\"14.00\">samples = 2</text>\n<text text-anchor=\"start\" x=\"4051.5\" y=\"-1086.3\" font-family=\"Helvetica,sans-Serif\" font-size=\"14.00\">value = [0, 0, 2, 0]</text>\n<text text-anchor=\"start\" x=\"4046.5\" y=\"-1071.3\" font-family=\"Helvetica,sans-Serif\" font-size=\"14.00\">class = Super Earth</text>\n</g>\n<!-- 136&#45;&gt;137 -->\n<g id=\"edge137\" class=\"edge\">\n<title>136&#45;&gt;137</title>\n<path fill=\"none\" stroke=\"black\" d=\"M4206.57,-1174.91C4190.74,-1162.88 4173.44,-1149.73 4157.72,-1137.79\"/>\n<polygon fill=\"black\" stroke=\"black\" points=\"4159.74,-1134.93 4149.66,-1131.67 4155.5,-1140.5 4159.74,-1134.93\"/>\n</g>\n<!-- 138 -->\n<g id=\"node139\" class=\"node\">\n<title>138</title>\n<path fill=\"#f8e0ce\" stroke=\"black\" d=\"M4318.5,-1139C4318.5,-1139 4203.5,-1139 4203.5,-1139 4197.5,-1139 4191.5,-1133 4191.5,-1127 4191.5,-1127 4191.5,-1068 4191.5,-1068 4191.5,-1062 4197.5,-1056 4203.5,-1056 4203.5,-1056 4318.5,-1056 4318.5,-1056 4324.5,-1056 4330.5,-1062 4330.5,-1068 4330.5,-1068 4330.5,-1127 4330.5,-1127 4330.5,-1133 4324.5,-1139 4318.5,-1139\"/>\n<text text-anchor=\"start\" x=\"4209\" y=\"-1123.8\" font-family=\"Helvetica,sans-Serif\" font-size=\"14.00\">distance ≤ &#45;0.747</text>\n<text text-anchor=\"start\" x=\"4225.5\" y=\"-1108.8\" font-family=\"Helvetica,sans-Serif\" font-size=\"14.00\">gini = 0.611</text>\n<text text-anchor=\"start\" x=\"4223.5\" y=\"-1093.8\" font-family=\"Helvetica,sans-Serif\" font-size=\"14.00\">samples = 6</text>\n<text text-anchor=\"start\" x=\"4206.5\" y=\"-1078.8\" font-family=\"Helvetica,sans-Serif\" font-size=\"14.00\">value = [3, 2, 0, 1]</text>\n<text text-anchor=\"start\" x=\"4199.5\" y=\"-1063.8\" font-family=\"Helvetica,sans-Serif\" font-size=\"14.00\">class = Neptune&#45;like</text>\n</g>\n<!-- 136&#45;&gt;138 -->\n<g id=\"edge138\" class=\"edge\">\n<title>136&#45;&gt;138</title>\n<path fill=\"none\" stroke=\"black\" d=\"M4260.35,-1174.91C4260.42,-1166.65 4260.49,-1157.86 4260.57,-1149.3\"/>\n<polygon fill=\"black\" stroke=\"black\" points=\"4264.07,-1149.05 4260.65,-1139.02 4257.07,-1148.99 4264.07,-1149.05\"/>\n</g>\n<!-- 139 -->\n<g id=\"node140\" class=\"node\">\n<title>139</title>\n<path fill=\"#d739e5\" stroke=\"black\" d=\"M4159.5,-1012.5C4159.5,-1012.5 4058.5,-1012.5 4058.5,-1012.5 4052.5,-1012.5 4046.5,-1006.5 4046.5,-1000.5 4046.5,-1000.5 4046.5,-956.5 4046.5,-956.5 4046.5,-950.5 4052.5,-944.5 4058.5,-944.5 4058.5,-944.5 4159.5,-944.5 4159.5,-944.5 4165.5,-944.5 4171.5,-950.5 4171.5,-956.5 4171.5,-956.5 4171.5,-1000.5 4171.5,-1000.5 4171.5,-1006.5 4165.5,-1012.5 4159.5,-1012.5\"/>\n<text text-anchor=\"start\" x=\"4081\" y=\"-997.3\" font-family=\"Helvetica,sans-Serif\" font-size=\"14.00\">gini = 0.0</text>\n<text text-anchor=\"start\" x=\"4071.5\" y=\"-982.3\" font-family=\"Helvetica,sans-Serif\" font-size=\"14.00\">samples = 1</text>\n<text text-anchor=\"start\" x=\"4054.5\" y=\"-967.3\" font-family=\"Helvetica,sans-Serif\" font-size=\"14.00\">value = [0, 0, 0, 1]</text>\n<text text-anchor=\"start\" x=\"4056\" y=\"-952.3\" font-family=\"Helvetica,sans-Serif\" font-size=\"14.00\">class = Terrestrial</text>\n</g>\n<!-- 138&#45;&gt;139 -->\n<g id=\"edge139\" class=\"edge\">\n<title>138&#45;&gt;139</title>\n<path fill=\"none\" stroke=\"black\" d=\"M4208.26,-1055.91C4192.64,-1043.88 4175.56,-1030.73 4160.04,-1018.79\"/>\n<polygon fill=\"black\" stroke=\"black\" points=\"4162.15,-1015.99 4152.09,-1012.67 4157.88,-1021.54 4162.15,-1015.99\"/>\n</g>\n<!-- 140 -->\n<g id=\"node141\" class=\"node\">\n<title>140</title>\n<path fill=\"#f6d5bd\" stroke=\"black\" d=\"M4328.5,-1020C4328.5,-1020 4201.5,-1020 4201.5,-1020 4195.5,-1020 4189.5,-1014 4189.5,-1008 4189.5,-1008 4189.5,-949 4189.5,-949 4189.5,-943 4195.5,-937 4201.5,-937 4201.5,-937 4328.5,-937 4328.5,-937 4334.5,-937 4340.5,-943 4340.5,-949 4340.5,-949 4340.5,-1008 4340.5,-1008 4340.5,-1014 4334.5,-1020 4328.5,-1020\"/>\n<text text-anchor=\"start\" x=\"4197.5\" y=\"-1004.8\" font-family=\"Helvetica,sans-Serif\" font-size=\"14.00\">orbital_radius ≤ &#45;0.047</text>\n<text text-anchor=\"start\" x=\"4233\" y=\"-989.8\" font-family=\"Helvetica,sans-Serif\" font-size=\"14.00\">gini = 0.48</text>\n<text text-anchor=\"start\" x=\"4227.5\" y=\"-974.8\" font-family=\"Helvetica,sans-Serif\" font-size=\"14.00\">samples = 5</text>\n<text text-anchor=\"start\" x=\"4210.5\" y=\"-959.8\" font-family=\"Helvetica,sans-Serif\" font-size=\"14.00\">value = [3, 2, 0, 0]</text>\n<text text-anchor=\"start\" x=\"4203.5\" y=\"-944.8\" font-family=\"Helvetica,sans-Serif\" font-size=\"14.00\">class = Neptune&#45;like</text>\n</g>\n<!-- 138&#45;&gt;140 -->\n<g id=\"edge140\" class=\"edge\">\n<title>138&#45;&gt;140</title>\n<path fill=\"none\" stroke=\"black\" d=\"M4262.39,-1055.91C4262.67,-1047.56 4262.98,-1038.67 4263.27,-1030.02\"/>\n<polygon fill=\"black\" stroke=\"black\" points=\"4266.77,-1030.13 4263.61,-1020.02 4259.77,-1029.9 4266.77,-1030.13\"/>\n</g>\n<!-- 141 -->\n<g id=\"node142\" class=\"node\">\n<title>141</title>\n<path fill=\"#e58139\" stroke=\"black\" d=\"M4321.5,-893.5C4321.5,-893.5 4206.5,-893.5 4206.5,-893.5 4200.5,-893.5 4194.5,-887.5 4194.5,-881.5 4194.5,-881.5 4194.5,-837.5 4194.5,-837.5 4194.5,-831.5 4200.5,-825.5 4206.5,-825.5 4206.5,-825.5 4321.5,-825.5 4321.5,-825.5 4327.5,-825.5 4333.5,-831.5 4333.5,-837.5 4333.5,-837.5 4333.5,-881.5 4333.5,-881.5 4333.5,-887.5 4327.5,-893.5 4321.5,-893.5\"/>\n<text text-anchor=\"start\" x=\"4236\" y=\"-878.3\" font-family=\"Helvetica,sans-Serif\" font-size=\"14.00\">gini = 0.0</text>\n<text text-anchor=\"start\" x=\"4226.5\" y=\"-863.3\" font-family=\"Helvetica,sans-Serif\" font-size=\"14.00\">samples = 2</text>\n<text text-anchor=\"start\" x=\"4209.5\" y=\"-848.3\" font-family=\"Helvetica,sans-Serif\" font-size=\"14.00\">value = [2, 0, 0, 0]</text>\n<text text-anchor=\"start\" x=\"4202.5\" y=\"-833.3\" font-family=\"Helvetica,sans-Serif\" font-size=\"14.00\">class = Neptune&#45;like</text>\n</g>\n<!-- 140&#45;&gt;141 -->\n<g id=\"edge141\" class=\"edge\">\n<title>140&#45;&gt;141</title>\n<path fill=\"none\" stroke=\"black\" d=\"M4264.65,-936.91C4264.56,-926.2 4264.46,-914.62 4264.37,-903.78\"/>\n<polygon fill=\"black\" stroke=\"black\" points=\"4267.87,-903.64 4264.28,-893.67 4260.87,-903.7 4267.87,-903.64\"/>\n</g>\n<!-- 142 -->\n<g id=\"node143\" class=\"node\">\n<title>142</title>\n<path fill=\"#a3f29c\" stroke=\"black\" d=\"M4490.5,-901C4490.5,-901 4363.5,-901 4363.5,-901 4357.5,-901 4351.5,-895 4351.5,-889 4351.5,-889 4351.5,-830 4351.5,-830 4351.5,-824 4357.5,-818 4363.5,-818 4363.5,-818 4490.5,-818 4490.5,-818 4496.5,-818 4502.5,-824 4502.5,-830 4502.5,-830 4502.5,-889 4502.5,-889 4502.5,-895 4496.5,-901 4490.5,-901\"/>\n<text text-anchor=\"start\" x=\"4359.5\" y=\"-885.8\" font-family=\"Helvetica,sans-Serif\" font-size=\"14.00\">orbital_radius ≤ &#45;0.046</text>\n<text text-anchor=\"start\" x=\"4391.5\" y=\"-870.8\" font-family=\"Helvetica,sans-Serif\" font-size=\"14.00\">gini = 0.444</text>\n<text text-anchor=\"start\" x=\"4389.5\" y=\"-855.8\" font-family=\"Helvetica,sans-Serif\" font-size=\"14.00\">samples = 3</text>\n<text text-anchor=\"start\" x=\"4372.5\" y=\"-840.8\" font-family=\"Helvetica,sans-Serif\" font-size=\"14.00\">value = [1, 2, 0, 0]</text>\n<text text-anchor=\"start\" x=\"4372.5\" y=\"-825.8\" font-family=\"Helvetica,sans-Serif\" font-size=\"14.00\">class = Gas Giant</text>\n</g>\n<!-- 140&#45;&gt;142 -->\n<g id=\"edge142\" class=\"edge\">\n<title>140&#45;&gt;142</title>\n<path fill=\"none\" stroke=\"black\" d=\"M4321.21,-936.91C4334.52,-927.29 4348.83,-916.95 4362.49,-907.09\"/>\n<polygon fill=\"black\" stroke=\"black\" points=\"4364.84,-909.71 4370.89,-901.02 4360.74,-904.04 4364.84,-909.71\"/>\n</g>\n<!-- 143 -->\n<g id=\"node144\" class=\"node\">\n<title>143</title>\n<path fill=\"#47e539\" stroke=\"black\" d=\"M4477.5,-774.5C4477.5,-774.5 4376.5,-774.5 4376.5,-774.5 4370.5,-774.5 4364.5,-768.5 4364.5,-762.5 4364.5,-762.5 4364.5,-718.5 4364.5,-718.5 4364.5,-712.5 4370.5,-706.5 4376.5,-706.5 4376.5,-706.5 4477.5,-706.5 4477.5,-706.5 4483.5,-706.5 4489.5,-712.5 4489.5,-718.5 4489.5,-718.5 4489.5,-762.5 4489.5,-762.5 4489.5,-768.5 4483.5,-774.5 4477.5,-774.5\"/>\n<text text-anchor=\"start\" x=\"4399\" y=\"-759.3\" font-family=\"Helvetica,sans-Serif\" font-size=\"14.00\">gini = 0.0</text>\n<text text-anchor=\"start\" x=\"4389.5\" y=\"-744.3\" font-family=\"Helvetica,sans-Serif\" font-size=\"14.00\">samples = 2</text>\n<text text-anchor=\"start\" x=\"4372.5\" y=\"-729.3\" font-family=\"Helvetica,sans-Serif\" font-size=\"14.00\">value = [0, 2, 0, 0]</text>\n<text text-anchor=\"start\" x=\"4372.5\" y=\"-714.3\" font-family=\"Helvetica,sans-Serif\" font-size=\"14.00\">class = Gas Giant</text>\n</g>\n<!-- 142&#45;&gt;143 -->\n<g id=\"edge143\" class=\"edge\">\n<title>142&#45;&gt;143</title>\n<path fill=\"none\" stroke=\"black\" d=\"M4427,-817.91C4427,-807.2 4427,-795.62 4427,-784.78\"/>\n<polygon fill=\"black\" stroke=\"black\" points=\"4430.5,-784.67 4427,-774.67 4423.5,-784.67 4430.5,-784.67\"/>\n</g>\n<!-- 144 -->\n<g id=\"node145\" class=\"node\">\n<title>144</title>\n<path fill=\"#e58139\" stroke=\"black\" d=\"M4634.5,-774.5C4634.5,-774.5 4519.5,-774.5 4519.5,-774.5 4513.5,-774.5 4507.5,-768.5 4507.5,-762.5 4507.5,-762.5 4507.5,-718.5 4507.5,-718.5 4507.5,-712.5 4513.5,-706.5 4519.5,-706.5 4519.5,-706.5 4634.5,-706.5 4634.5,-706.5 4640.5,-706.5 4646.5,-712.5 4646.5,-718.5 4646.5,-718.5 4646.5,-762.5 4646.5,-762.5 4646.5,-768.5 4640.5,-774.5 4634.5,-774.5\"/>\n<text text-anchor=\"start\" x=\"4549\" y=\"-759.3\" font-family=\"Helvetica,sans-Serif\" font-size=\"14.00\">gini = 0.0</text>\n<text text-anchor=\"start\" x=\"4539.5\" y=\"-744.3\" font-family=\"Helvetica,sans-Serif\" font-size=\"14.00\">samples = 1</text>\n<text text-anchor=\"start\" x=\"4522.5\" y=\"-729.3\" font-family=\"Helvetica,sans-Serif\" font-size=\"14.00\">value = [1, 0, 0, 0]</text>\n<text text-anchor=\"start\" x=\"4515.5\" y=\"-714.3\" font-family=\"Helvetica,sans-Serif\" font-size=\"14.00\">class = Neptune&#45;like</text>\n</g>\n<!-- 142&#45;&gt;144 -->\n<g id=\"edge144\" class=\"edge\">\n<title>142&#45;&gt;144</title>\n<path fill=\"none\" stroke=\"black\" d=\"M4479.04,-817.91C4494.32,-805.99 4511.01,-792.98 4526.21,-781.12\"/>\n<polygon fill=\"black\" stroke=\"black\" points=\"4528.75,-783.58 4534.48,-774.67 4524.44,-778.06 4528.75,-783.58\"/>\n</g>\n<!-- 146 -->\n<g id=\"node147\" class=\"node\">\n<title>146</title>\n<path fill=\"#49a5e7\" stroke=\"black\" d=\"M4502,-1139C4502,-1139 4362,-1139 4362,-1139 4356,-1139 4350,-1133 4350,-1127 4350,-1127 4350,-1068 4350,-1068 4350,-1062 4356,-1056 4362,-1056 4362,-1056 4502,-1056 4502,-1056 4508,-1056 4514,-1062 4514,-1068 4514,-1068 4514,-1127 4514,-1127 4514,-1133 4508,-1139 4502,-1139\"/>\n<text text-anchor=\"start\" x=\"4358\" y=\"-1123.8\" font-family=\"Helvetica,sans-Serif\" font-size=\"14.00\">radius_multiplier ≤ 1.924</text>\n<text text-anchor=\"start\" x=\"4396.5\" y=\"-1108.8\" font-family=\"Helvetica,sans-Serif\" font-size=\"14.00\">gini = 0.142</text>\n<text text-anchor=\"start\" x=\"4391\" y=\"-1093.8\" font-family=\"Helvetica,sans-Serif\" font-size=\"14.00\">samples = 13</text>\n<text text-anchor=\"start\" x=\"4374\" y=\"-1078.8\" font-family=\"Helvetica,sans-Serif\" font-size=\"14.00\">value = [1, 0, 12, 0]</text>\n<text text-anchor=\"start\" x=\"4372.5\" y=\"-1063.8\" font-family=\"Helvetica,sans-Serif\" font-size=\"14.00\">class = Super Earth</text>\n</g>\n<!-- 145&#45;&gt;146 -->\n<g id=\"edge146\" class=\"edge\">\n<title>145&#45;&gt;146</title>\n<path fill=\"none\" stroke=\"black\" d=\"M4432.65,-1174.91C4432.58,-1166.65 4432.51,-1157.86 4432.43,-1149.3\"/>\n<polygon fill=\"black\" stroke=\"black\" points=\"4435.93,-1148.99 4432.35,-1139.02 4428.93,-1149.05 4435.93,-1148.99\"/>\n</g>\n<!-- 151 -->\n<g id=\"node152\" class=\"node\">\n<title>151</title>\n<path fill=\"#47e539\" stroke=\"black\" d=\"M4645.5,-1131.5C4645.5,-1131.5 4544.5,-1131.5 4544.5,-1131.5 4538.5,-1131.5 4532.5,-1125.5 4532.5,-1119.5 4532.5,-1119.5 4532.5,-1075.5 4532.5,-1075.5 4532.5,-1069.5 4538.5,-1063.5 4544.5,-1063.5 4544.5,-1063.5 4645.5,-1063.5 4645.5,-1063.5 4651.5,-1063.5 4657.5,-1069.5 4657.5,-1075.5 4657.5,-1075.5 4657.5,-1119.5 4657.5,-1119.5 4657.5,-1125.5 4651.5,-1131.5 4645.5,-1131.5\"/>\n<text text-anchor=\"start\" x=\"4567\" y=\"-1116.3\" font-family=\"Helvetica,sans-Serif\" font-size=\"14.00\">gini = 0.0</text>\n<text text-anchor=\"start\" x=\"4557.5\" y=\"-1101.3\" font-family=\"Helvetica,sans-Serif\" font-size=\"14.00\">samples = 1</text>\n<text text-anchor=\"start\" x=\"4540.5\" y=\"-1086.3\" font-family=\"Helvetica,sans-Serif\" font-size=\"14.00\">value = [0, 1, 0, 0]</text>\n<text text-anchor=\"start\" x=\"4540.5\" y=\"-1071.3\" font-family=\"Helvetica,sans-Serif\" font-size=\"14.00\">class = Gas Giant</text>\n</g>\n<!-- 145&#45;&gt;151 -->\n<g id=\"edge151\" class=\"edge\">\n<title>145&#45;&gt;151</title>\n<path fill=\"none\" stroke=\"black\" d=\"M4489.21,-1174.91C4505.86,-1162.88 4524.06,-1149.73 4540.6,-1137.79\"/>\n<polygon fill=\"black\" stroke=\"black\" points=\"4543.02,-1140.36 4549.08,-1131.67 4538.92,-1134.68 4543.02,-1140.36\"/>\n</g>\n<!-- 147 -->\n<g id=\"node148\" class=\"node\">\n<title>147</title>\n<path fill=\"#399de5\" stroke=\"black\" d=\"M4483.5,-1012.5C4483.5,-1012.5 4372.5,-1012.5 4372.5,-1012.5 4366.5,-1012.5 4360.5,-1006.5 4360.5,-1000.5 4360.5,-1000.5 4360.5,-956.5 4360.5,-956.5 4360.5,-950.5 4366.5,-944.5 4372.5,-944.5 4372.5,-944.5 4483.5,-944.5 4483.5,-944.5 4489.5,-944.5 4495.5,-950.5 4495.5,-956.5 4495.5,-956.5 4495.5,-1000.5 4495.5,-1000.5 4495.5,-1006.5 4489.5,-1012.5 4483.5,-1012.5\"/>\n<text text-anchor=\"start\" x=\"4400\" y=\"-997.3\" font-family=\"Helvetica,sans-Serif\" font-size=\"14.00\">gini = 0.0</text>\n<text text-anchor=\"start\" x=\"4387\" y=\"-982.3\" font-family=\"Helvetica,sans-Serif\" font-size=\"14.00\">samples = 10</text>\n<text text-anchor=\"start\" x=\"4370\" y=\"-967.3\" font-family=\"Helvetica,sans-Serif\" font-size=\"14.00\">value = [0, 0, 10, 0]</text>\n<text text-anchor=\"start\" x=\"4368.5\" y=\"-952.3\" font-family=\"Helvetica,sans-Serif\" font-size=\"14.00\">class = Super Earth</text>\n</g>\n<!-- 146&#45;&gt;147 -->\n<g id=\"edge147\" class=\"edge\">\n<title>146&#45;&gt;147</title>\n<path fill=\"none\" stroke=\"black\" d=\"M4430.61,-1055.91C4430.25,-1045.2 4429.85,-1033.62 4429.48,-1022.78\"/>\n<polygon fill=\"black\" stroke=\"black\" points=\"4432.97,-1022.54 4429.13,-1012.67 4425.98,-1022.78 4432.97,-1022.54\"/>\n</g>\n<!-- 148 -->\n<g id=\"node149\" class=\"node\">\n<title>148</title>\n<path fill=\"#9ccef2\" stroke=\"black\" d=\"M4654,-1020C4654,-1020 4526,-1020 4526,-1020 4520,-1020 4514,-1014 4514,-1008 4514,-1008 4514,-949 4514,-949 4514,-943 4520,-937 4526,-937 4526,-937 4654,-937 4654,-937 4660,-937 4666,-943 4666,-949 4666,-949 4666,-1008 4666,-1008 4666,-1014 4660,-1020 4654,-1020\"/>\n<text text-anchor=\"start\" x=\"4522\" y=\"-1004.8\" font-family=\"Helvetica,sans-Serif\" font-size=\"14.00\">orbital_period ≤ &#45;0.027</text>\n<text text-anchor=\"start\" x=\"4554.5\" y=\"-989.8\" font-family=\"Helvetica,sans-Serif\" font-size=\"14.00\">gini = 0.444</text>\n<text text-anchor=\"start\" x=\"4552.5\" y=\"-974.8\" font-family=\"Helvetica,sans-Serif\" font-size=\"14.00\">samples = 3</text>\n<text text-anchor=\"start\" x=\"4535.5\" y=\"-959.8\" font-family=\"Helvetica,sans-Serif\" font-size=\"14.00\">value = [1, 0, 2, 0]</text>\n<text text-anchor=\"start\" x=\"4530.5\" y=\"-944.8\" font-family=\"Helvetica,sans-Serif\" font-size=\"14.00\">class = Super Earth</text>\n</g>\n<!-- 146&#45;&gt;148 -->\n<g id=\"edge148\" class=\"edge\">\n<title>146&#45;&gt;148</title>\n<path fill=\"none\" stroke=\"black\" d=\"M4486.82,-1055.91C4499.81,-1046.29 4513.76,-1035.95 4527.08,-1026.09\"/>\n<polygon fill=\"black\" stroke=\"black\" points=\"4529.33,-1028.78 4535.28,-1020.02 4525.16,-1023.16 4529.33,-1028.78\"/>\n</g>\n<!-- 149 -->\n<g id=\"node150\" class=\"node\">\n<title>149</title>\n<path fill=\"#e58139\" stroke=\"black\" d=\"M4647.5,-893.5C4647.5,-893.5 4532.5,-893.5 4532.5,-893.5 4526.5,-893.5 4520.5,-887.5 4520.5,-881.5 4520.5,-881.5 4520.5,-837.5 4520.5,-837.5 4520.5,-831.5 4526.5,-825.5 4532.5,-825.5 4532.5,-825.5 4647.5,-825.5 4647.5,-825.5 4653.5,-825.5 4659.5,-831.5 4659.5,-837.5 4659.5,-837.5 4659.5,-881.5 4659.5,-881.5 4659.5,-887.5 4653.5,-893.5 4647.5,-893.5\"/>\n<text text-anchor=\"start\" x=\"4562\" y=\"-878.3\" font-family=\"Helvetica,sans-Serif\" font-size=\"14.00\">gini = 0.0</text>\n<text text-anchor=\"start\" x=\"4552.5\" y=\"-863.3\" font-family=\"Helvetica,sans-Serif\" font-size=\"14.00\">samples = 1</text>\n<text text-anchor=\"start\" x=\"4535.5\" y=\"-848.3\" font-family=\"Helvetica,sans-Serif\" font-size=\"14.00\">value = [1, 0, 0, 0]</text>\n<text text-anchor=\"start\" x=\"4528.5\" y=\"-833.3\" font-family=\"Helvetica,sans-Serif\" font-size=\"14.00\">class = Neptune&#45;like</text>\n</g>\n<!-- 148&#45;&gt;149 -->\n<g id=\"edge149\" class=\"edge\">\n<title>148&#45;&gt;149</title>\n<path fill=\"none\" stroke=\"black\" d=\"M4590,-936.91C4590,-926.2 4590,-914.62 4590,-903.78\"/>\n<polygon fill=\"black\" stroke=\"black\" points=\"4593.5,-903.67 4590,-893.67 4586.5,-903.67 4593.5,-903.67\"/>\n</g>\n<!-- 150 -->\n<g id=\"node151\" class=\"node\">\n<title>150</title>\n<path fill=\"#399de5\" stroke=\"black\" d=\"M4800.5,-893.5C4800.5,-893.5 4689.5,-893.5 4689.5,-893.5 4683.5,-893.5 4677.5,-887.5 4677.5,-881.5 4677.5,-881.5 4677.5,-837.5 4677.5,-837.5 4677.5,-831.5 4683.5,-825.5 4689.5,-825.5 4689.5,-825.5 4800.5,-825.5 4800.5,-825.5 4806.5,-825.5 4812.5,-831.5 4812.5,-837.5 4812.5,-837.5 4812.5,-881.5 4812.5,-881.5 4812.5,-887.5 4806.5,-893.5 4800.5,-893.5\"/>\n<text text-anchor=\"start\" x=\"4717\" y=\"-878.3\" font-family=\"Helvetica,sans-Serif\" font-size=\"14.00\">gini = 0.0</text>\n<text text-anchor=\"start\" x=\"4707.5\" y=\"-863.3\" font-family=\"Helvetica,sans-Serif\" font-size=\"14.00\">samples = 2</text>\n<text text-anchor=\"start\" x=\"4690.5\" y=\"-848.3\" font-family=\"Helvetica,sans-Serif\" font-size=\"14.00\">value = [0, 0, 2, 0]</text>\n<text text-anchor=\"start\" x=\"4685.5\" y=\"-833.3\" font-family=\"Helvetica,sans-Serif\" font-size=\"14.00\">class = Super Earth</text>\n</g>\n<!-- 148&#45;&gt;150 -->\n<g id=\"edge150\" class=\"edge\">\n<title>148&#45;&gt;150</title>\n<path fill=\"none\" stroke=\"black\" d=\"M4643.78,-936.91C4659.71,-924.88 4677.13,-911.73 4692.95,-899.79\"/>\n<polygon fill=\"black\" stroke=\"black\" points=\"4695.19,-902.49 4701.06,-893.67 4690.97,-896.9 4695.19,-902.49\"/>\n</g>\n<!-- 153 -->\n<g id=\"node154\" class=\"node\">\n<title>153</title>\n<path fill=\"#ffffff\" stroke=\"black\" d=\"M5052.5,-1258C5052.5,-1258 4911.5,-1258 4911.5,-1258 4905.5,-1258 4899.5,-1252 4899.5,-1246 4899.5,-1246 4899.5,-1187 4899.5,-1187 4899.5,-1181 4905.5,-1175 4911.5,-1175 4911.5,-1175 5052.5,-1175 5052.5,-1175 5058.5,-1175 5064.5,-1181 5064.5,-1187 5064.5,-1187 5064.5,-1246 5064.5,-1246 5064.5,-1252 5058.5,-1258 5052.5,-1258\"/>\n<text text-anchor=\"start\" x=\"4907.5\" y=\"-1242.8\" font-family=\"Helvetica,sans-Serif\" font-size=\"14.00\">mass_multiplier ≤ &#45;0.435</text>\n<text text-anchor=\"start\" x=\"4946.5\" y=\"-1227.8\" font-family=\"Helvetica,sans-Serif\" font-size=\"14.00\">gini = 0.579</text>\n<text text-anchor=\"start\" x=\"4941\" y=\"-1212.8\" font-family=\"Helvetica,sans-Serif\" font-size=\"14.00\">samples = 11</text>\n<text text-anchor=\"start\" x=\"4927.5\" y=\"-1197.8\" font-family=\"Helvetica,sans-Serif\" font-size=\"14.00\">value = [1, 5, 5, 0]</text>\n<text text-anchor=\"start\" x=\"4927.5\" y=\"-1182.8\" font-family=\"Helvetica,sans-Serif\" font-size=\"14.00\">class = Gas Giant</text>\n</g>\n<!-- 152&#45;&gt;153 -->\n<g id=\"edge153\" class=\"edge\">\n<title>152&#45;&gt;153</title>\n<path fill=\"none\" stroke=\"black\" d=\"M4982,-1293.91C4982,-1285.65 4982,-1276.86 4982,-1268.3\"/>\n<polygon fill=\"black\" stroke=\"black\" points=\"4985.5,-1268.02 4982,-1258.02 4978.5,-1268.02 4985.5,-1268.02\"/>\n</g>\n<!-- 160 -->\n<g id=\"node161\" class=\"node\">\n<title>160</title>\n<path fill=\"#e5823a\" stroke=\"black\" d=\"M5432.5,-1258C5432.5,-1258 5287.5,-1258 5287.5,-1258 5281.5,-1258 5275.5,-1252 5275.5,-1246 5275.5,-1246 5275.5,-1187 5275.5,-1187 5275.5,-1181 5281.5,-1175 5287.5,-1175 5287.5,-1175 5432.5,-1175 5432.5,-1175 5438.5,-1175 5444.5,-1181 5444.5,-1187 5444.5,-1187 5444.5,-1246 5444.5,-1246 5444.5,-1252 5438.5,-1258 5432.5,-1258\"/>\n<text text-anchor=\"start\" x=\"5283.5\" y=\"-1242.8\" font-family=\"Helvetica,sans-Serif\" font-size=\"14.00\">radius_multiplier ≤ &#45;0.745</text>\n<text text-anchor=\"start\" x=\"5324.5\" y=\"-1227.8\" font-family=\"Helvetica,sans-Serif\" font-size=\"14.00\">gini = 0.012</text>\n<text text-anchor=\"start\" x=\"5311.5\" y=\"-1212.8\" font-family=\"Helvetica,sans-Serif\" font-size=\"14.00\">samples = 1431</text>\n<text text-anchor=\"start\" x=\"5294.5\" y=\"-1197.8\" font-family=\"Helvetica,sans-Serif\" font-size=\"14.00\">value = [1422, 9, 0, 0]</text>\n<text text-anchor=\"start\" x=\"5298.5\" y=\"-1182.8\" font-family=\"Helvetica,sans-Serif\" font-size=\"14.00\">class = Neptune&#45;like</text>\n</g>\n<!-- 152&#45;&gt;160 -->\n<g id=\"edge160\" class=\"edge\">\n<title>152&#45;&gt;160</title>\n<path fill=\"none\" stroke=\"black\" d=\"M5066.83,-1308.24C5125.92,-1289.95 5204.77,-1265.55 5265.81,-1246.65\"/>\n<polygon fill=\"black\" stroke=\"black\" points=\"5266.93,-1249.97 5275.45,-1243.67 5264.86,-1243.28 5266.93,-1249.97\"/>\n</g>\n<!-- 154 -->\n<g id=\"node155\" class=\"node\">\n<title>154</title>\n<path fill=\"#6ab6ec\" stroke=\"black\" d=\"M4957.5,-1139C4957.5,-1139 4830.5,-1139 4830.5,-1139 4824.5,-1139 4818.5,-1133 4818.5,-1127 4818.5,-1127 4818.5,-1068 4818.5,-1068 4818.5,-1062 4824.5,-1056 4830.5,-1056 4830.5,-1056 4957.5,-1056 4957.5,-1056 4963.5,-1056 4969.5,-1062 4969.5,-1068 4969.5,-1068 4969.5,-1127 4969.5,-1127 4969.5,-1133 4963.5,-1139 4957.5,-1139\"/>\n<text text-anchor=\"start\" x=\"4826.5\" y=\"-1123.8\" font-family=\"Helvetica,sans-Serif\" font-size=\"14.00\">orbital_radius ≤ &#45;0.045</text>\n<text text-anchor=\"start\" x=\"4862\" y=\"-1108.8\" font-family=\"Helvetica,sans-Serif\" font-size=\"14.00\">gini = 0.32</text>\n<text text-anchor=\"start\" x=\"4856.5\" y=\"-1093.8\" font-family=\"Helvetica,sans-Serif\" font-size=\"14.00\">samples = 5</text>\n<text text-anchor=\"start\" x=\"4839.5\" y=\"-1078.8\" font-family=\"Helvetica,sans-Serif\" font-size=\"14.00\">value = [1, 0, 4, 0]</text>\n<text text-anchor=\"start\" x=\"4834.5\" y=\"-1063.8\" font-family=\"Helvetica,sans-Serif\" font-size=\"14.00\">class = Super Earth</text>\n</g>\n<!-- 153&#45;&gt;154 -->\n<g id=\"edge154\" class=\"edge\">\n<title>153&#45;&gt;154</title>\n<path fill=\"none\" stroke=\"black\" d=\"M4951.47,-1174.91C4944.71,-1165.92 4937.48,-1156.32 4930.52,-1147.05\"/>\n<polygon fill=\"black\" stroke=\"black\" points=\"4933.29,-1144.91 4924.48,-1139.02 4927.69,-1149.12 4933.29,-1144.91\"/>\n</g>\n<!-- 157 -->\n<g id=\"node158\" class=\"node\">\n<title>157</title>\n<path fill=\"#6cea61\" stroke=\"black\" d=\"M5140.5,-1139C5140.5,-1139 4999.5,-1139 4999.5,-1139 4993.5,-1139 4987.5,-1133 4987.5,-1127 4987.5,-1127 4987.5,-1068 4987.5,-1068 4987.5,-1062 4993.5,-1056 4999.5,-1056 4999.5,-1056 5140.5,-1056 5140.5,-1056 5146.5,-1056 5152.5,-1062 5152.5,-1068 5152.5,-1068 5152.5,-1127 5152.5,-1127 5152.5,-1133 5146.5,-1139 5140.5,-1139\"/>\n<text text-anchor=\"start\" x=\"4995.5\" y=\"-1123.8\" font-family=\"Helvetica,sans-Serif\" font-size=\"14.00\">mass_multiplier ≤ &#45;0.321</text>\n<text text-anchor=\"start\" x=\"5034.5\" y=\"-1108.8\" font-family=\"Helvetica,sans-Serif\" font-size=\"14.00\">gini = 0.278</text>\n<text text-anchor=\"start\" x=\"5032.5\" y=\"-1093.8\" font-family=\"Helvetica,sans-Serif\" font-size=\"14.00\">samples = 6</text>\n<text text-anchor=\"start\" x=\"5015.5\" y=\"-1078.8\" font-family=\"Helvetica,sans-Serif\" font-size=\"14.00\">value = [0, 5, 1, 0]</text>\n<text text-anchor=\"start\" x=\"5015.5\" y=\"-1063.8\" font-family=\"Helvetica,sans-Serif\" font-size=\"14.00\">class = Gas Giant</text>\n</g>\n<!-- 153&#45;&gt;157 -->\n<g id=\"edge157\" class=\"edge\">\n<title>153&#45;&gt;157</title>\n<path fill=\"none\" stroke=\"black\" d=\"M5012.53,-1174.91C5019.29,-1165.92 5026.52,-1156.32 5033.48,-1147.05\"/>\n<polygon fill=\"black\" stroke=\"black\" points=\"5036.31,-1149.12 5039.52,-1139.02 5030.71,-1144.91 5036.31,-1149.12\"/>\n</g>\n<!-- 155 -->\n<g id=\"node156\" class=\"node\">\n<title>155</title>\n<path fill=\"#399de5\" stroke=\"black\" d=\"M4807.5,-1012.5C4807.5,-1012.5 4696.5,-1012.5 4696.5,-1012.5 4690.5,-1012.5 4684.5,-1006.5 4684.5,-1000.5 4684.5,-1000.5 4684.5,-956.5 4684.5,-956.5 4684.5,-950.5 4690.5,-944.5 4696.5,-944.5 4696.5,-944.5 4807.5,-944.5 4807.5,-944.5 4813.5,-944.5 4819.5,-950.5 4819.5,-956.5 4819.5,-956.5 4819.5,-1000.5 4819.5,-1000.5 4819.5,-1006.5 4813.5,-1012.5 4807.5,-1012.5\"/>\n<text text-anchor=\"start\" x=\"4724\" y=\"-997.3\" font-family=\"Helvetica,sans-Serif\" font-size=\"14.00\">gini = 0.0</text>\n<text text-anchor=\"start\" x=\"4714.5\" y=\"-982.3\" font-family=\"Helvetica,sans-Serif\" font-size=\"14.00\">samples = 4</text>\n<text text-anchor=\"start\" x=\"4697.5\" y=\"-967.3\" font-family=\"Helvetica,sans-Serif\" font-size=\"14.00\">value = [0, 0, 4, 0]</text>\n<text text-anchor=\"start\" x=\"4692.5\" y=\"-952.3\" font-family=\"Helvetica,sans-Serif\" font-size=\"14.00\">class = Super Earth</text>\n</g>\n<!-- 154&#45;&gt;155 -->\n<g id=\"edge155\" class=\"edge\">\n<title>154&#45;&gt;155</title>\n<path fill=\"none\" stroke=\"black\" d=\"M4844.73,-1055.91C4830.27,-1043.99 4814.47,-1030.98 4800.09,-1019.12\"/>\n<polygon fill=\"black\" stroke=\"black\" points=\"4802.2,-1016.32 4792.25,-1012.67 4797.75,-1021.73 4802.2,-1016.32\"/>\n</g>\n<!-- 156 -->\n<g id=\"node157\" class=\"node\">\n<title>156</title>\n<path fill=\"#e58139\" stroke=\"black\" d=\"M4964.5,-1012.5C4964.5,-1012.5 4849.5,-1012.5 4849.5,-1012.5 4843.5,-1012.5 4837.5,-1006.5 4837.5,-1000.5 4837.5,-1000.5 4837.5,-956.5 4837.5,-956.5 4837.5,-950.5 4843.5,-944.5 4849.5,-944.5 4849.5,-944.5 4964.5,-944.5 4964.5,-944.5 4970.5,-944.5 4976.5,-950.5 4976.5,-956.5 4976.5,-956.5 4976.5,-1000.5 4976.5,-1000.5 4976.5,-1006.5 4970.5,-1012.5 4964.5,-1012.5\"/>\n<text text-anchor=\"start\" x=\"4879\" y=\"-997.3\" font-family=\"Helvetica,sans-Serif\" font-size=\"14.00\">gini = 0.0</text>\n<text text-anchor=\"start\" x=\"4869.5\" y=\"-982.3\" font-family=\"Helvetica,sans-Serif\" font-size=\"14.00\">samples = 1</text>\n<text text-anchor=\"start\" x=\"4852.5\" y=\"-967.3\" font-family=\"Helvetica,sans-Serif\" font-size=\"14.00\">value = [1, 0, 0, 0]</text>\n<text text-anchor=\"start\" x=\"4845.5\" y=\"-952.3\" font-family=\"Helvetica,sans-Serif\" font-size=\"14.00\">class = Neptune&#45;like</text>\n</g>\n<!-- 154&#45;&gt;156 -->\n<g id=\"edge156\" class=\"edge\">\n<title>154&#45;&gt;156</title>\n<path fill=\"none\" stroke=\"black\" d=\"M4898.51,-1055.91C4899.7,-1045.2 4900.99,-1033.62 4902.19,-1022.78\"/>\n<polygon fill=\"black\" stroke=\"black\" points=\"4905.69,-1022.99 4903.31,-1012.67 4898.73,-1022.22 4905.69,-1022.99\"/>\n</g>\n<!-- 158 -->\n<g id=\"node159\" class=\"node\">\n<title>158</title>\n<path fill=\"#47e539\" stroke=\"black\" d=\"M5107.5,-1012.5C5107.5,-1012.5 5006.5,-1012.5 5006.5,-1012.5 5000.5,-1012.5 4994.5,-1006.5 4994.5,-1000.5 4994.5,-1000.5 4994.5,-956.5 4994.5,-956.5 4994.5,-950.5 5000.5,-944.5 5006.5,-944.5 5006.5,-944.5 5107.5,-944.5 5107.5,-944.5 5113.5,-944.5 5119.5,-950.5 5119.5,-956.5 5119.5,-956.5 5119.5,-1000.5 5119.5,-1000.5 5119.5,-1006.5 5113.5,-1012.5 5107.5,-1012.5\"/>\n<text text-anchor=\"start\" x=\"5029\" y=\"-997.3\" font-family=\"Helvetica,sans-Serif\" font-size=\"14.00\">gini = 0.0</text>\n<text text-anchor=\"start\" x=\"5019.5\" y=\"-982.3\" font-family=\"Helvetica,sans-Serif\" font-size=\"14.00\">samples = 5</text>\n<text text-anchor=\"start\" x=\"5002.5\" y=\"-967.3\" font-family=\"Helvetica,sans-Serif\" font-size=\"14.00\">value = [0, 5, 0, 0]</text>\n<text text-anchor=\"start\" x=\"5002.5\" y=\"-952.3\" font-family=\"Helvetica,sans-Serif\" font-size=\"14.00\">class = Gas Giant</text>\n</g>\n<!-- 157&#45;&gt;158 -->\n<g id=\"edge158\" class=\"edge\">\n<title>157&#45;&gt;158</title>\n<path fill=\"none\" stroke=\"black\" d=\"M5065.49,-1055.91C5064.3,-1045.2 5063.01,-1033.62 5061.81,-1022.78\"/>\n<polygon fill=\"black\" stroke=\"black\" points=\"5065.27,-1022.22 5060.69,-1012.67 5058.31,-1022.99 5065.27,-1022.22\"/>\n</g>\n<!-- 159 -->\n<g id=\"node160\" class=\"node\">\n<title>159</title>\n<path fill=\"#399de5\" stroke=\"black\" d=\"M5260.5,-1012.5C5260.5,-1012.5 5149.5,-1012.5 5149.5,-1012.5 5143.5,-1012.5 5137.5,-1006.5 5137.5,-1000.5 5137.5,-1000.5 5137.5,-956.5 5137.5,-956.5 5137.5,-950.5 5143.5,-944.5 5149.5,-944.5 5149.5,-944.5 5260.5,-944.5 5260.5,-944.5 5266.5,-944.5 5272.5,-950.5 5272.5,-956.5 5272.5,-956.5 5272.5,-1000.5 5272.5,-1000.5 5272.5,-1006.5 5266.5,-1012.5 5260.5,-1012.5\"/>\n<text text-anchor=\"start\" x=\"5177\" y=\"-997.3\" font-family=\"Helvetica,sans-Serif\" font-size=\"14.00\">gini = 0.0</text>\n<text text-anchor=\"start\" x=\"5167.5\" y=\"-982.3\" font-family=\"Helvetica,sans-Serif\" font-size=\"14.00\">samples = 1</text>\n<text text-anchor=\"start\" x=\"5150.5\" y=\"-967.3\" font-family=\"Helvetica,sans-Serif\" font-size=\"14.00\">value = [0, 0, 1, 0]</text>\n<text text-anchor=\"start\" x=\"5145.5\" y=\"-952.3\" font-family=\"Helvetica,sans-Serif\" font-size=\"14.00\">class = Super Earth</text>\n</g>\n<!-- 157&#45;&gt;159 -->\n<g id=\"edge159\" class=\"edge\">\n<title>157&#45;&gt;159</title>\n<path fill=\"none\" stroke=\"black\" d=\"M5116.84,-1055.91C5130.46,-1044.1 5145.33,-1031.22 5158.9,-1019.45\"/>\n<polygon fill=\"black\" stroke=\"black\" points=\"5161.47,-1021.86 5166.73,-1012.67 5156.88,-1016.57 5161.47,-1021.86\"/>\n</g>\n<!-- 161 -->\n<g id=\"node162\" class=\"node\">\n<title>161</title>\n<path fill=\"#eda876\" stroke=\"black\" d=\"M5430.5,-1139C5430.5,-1139 5289.5,-1139 5289.5,-1139 5283.5,-1139 5277.5,-1133 5277.5,-1127 5277.5,-1127 5277.5,-1068 5277.5,-1068 5277.5,-1062 5283.5,-1056 5289.5,-1056 5289.5,-1056 5430.5,-1056 5430.5,-1056 5436.5,-1056 5442.5,-1062 5442.5,-1068 5442.5,-1068 5442.5,-1127 5442.5,-1127 5442.5,-1133 5436.5,-1139 5430.5,-1139\"/>\n<text text-anchor=\"start\" x=\"5285.5\" y=\"-1123.8\" font-family=\"Helvetica,sans-Serif\" font-size=\"14.00\">mass_multiplier ≤ &#45;0.446</text>\n<text text-anchor=\"start\" x=\"5324.5\" y=\"-1108.8\" font-family=\"Helvetica,sans-Serif\" font-size=\"14.00\">gini = 0.361</text>\n<text text-anchor=\"start\" x=\"5319\" y=\"-1093.8\" font-family=\"Helvetica,sans-Serif\" font-size=\"14.00\">samples = 38</text>\n<text text-anchor=\"start\" x=\"5302\" y=\"-1078.8\" font-family=\"Helvetica,sans-Serif\" font-size=\"14.00\">value = [29, 9, 0, 0]</text>\n<text text-anchor=\"start\" x=\"5298.5\" y=\"-1063.8\" font-family=\"Helvetica,sans-Serif\" font-size=\"14.00\">class = Neptune&#45;like</text>\n</g>\n<!-- 160&#45;&gt;161 -->\n<g id=\"edge161\" class=\"edge\">\n<title>160&#45;&gt;161</title>\n<path fill=\"none\" stroke=\"black\" d=\"M5360,-1174.91C5360,-1166.65 5360,-1157.86 5360,-1149.3\"/>\n<polygon fill=\"black\" stroke=\"black\" points=\"5363.5,-1149.02 5360,-1139.02 5356.5,-1149.02 5363.5,-1149.02\"/>\n</g>\n<!-- 166 -->\n<g id=\"node167\" class=\"node\">\n<title>166</title>\n<path fill=\"#e58139\" stroke=\"black\" d=\"M5595.5,-1131.5C5595.5,-1131.5 5472.5,-1131.5 5472.5,-1131.5 5466.5,-1131.5 5460.5,-1125.5 5460.5,-1119.5 5460.5,-1119.5 5460.5,-1075.5 5460.5,-1075.5 5460.5,-1069.5 5466.5,-1063.5 5472.5,-1063.5 5472.5,-1063.5 5595.5,-1063.5 5595.5,-1063.5 5601.5,-1063.5 5607.5,-1069.5 5607.5,-1075.5 5607.5,-1075.5 5607.5,-1119.5 5607.5,-1119.5 5607.5,-1125.5 5601.5,-1131.5 5595.5,-1131.5\"/>\n<text text-anchor=\"start\" x=\"5506\" y=\"-1116.3\" font-family=\"Helvetica,sans-Serif\" font-size=\"14.00\">gini = 0.0</text>\n<text text-anchor=\"start\" x=\"5485.5\" y=\"-1101.3\" font-family=\"Helvetica,sans-Serif\" font-size=\"14.00\">samples = 1393</text>\n<text text-anchor=\"start\" x=\"5468.5\" y=\"-1086.3\" font-family=\"Helvetica,sans-Serif\" font-size=\"14.00\">value = [1393, 0, 0, 0]</text>\n<text text-anchor=\"start\" x=\"5472.5\" y=\"-1071.3\" font-family=\"Helvetica,sans-Serif\" font-size=\"14.00\">class = Neptune&#45;like</text>\n</g>\n<!-- 160&#45;&gt;166 -->\n<g id=\"edge166\" class=\"edge\">\n<title>160&#45;&gt;166</title>\n<path fill=\"none\" stroke=\"black\" d=\"M5420.37,-1174.91C5438.42,-1162.77 5458.16,-1149.49 5476.06,-1137.46\"/>\n<polygon fill=\"black\" stroke=\"black\" points=\"5478.33,-1140.15 5484.67,-1131.67 5474.42,-1134.34 5478.33,-1140.15\"/>\n</g>\n<!-- 162 -->\n<g id=\"node163\" class=\"node\">\n<title>162</title>\n<path fill=\"#e58139\" stroke=\"black\" d=\"M5417.5,-1012.5C5417.5,-1012.5 5302.5,-1012.5 5302.5,-1012.5 5296.5,-1012.5 5290.5,-1006.5 5290.5,-1000.5 5290.5,-1000.5 5290.5,-956.5 5290.5,-956.5 5290.5,-950.5 5296.5,-944.5 5302.5,-944.5 5302.5,-944.5 5417.5,-944.5 5417.5,-944.5 5423.5,-944.5 5429.5,-950.5 5429.5,-956.5 5429.5,-956.5 5429.5,-1000.5 5429.5,-1000.5 5429.5,-1006.5 5423.5,-1012.5 5417.5,-1012.5\"/>\n<text text-anchor=\"start\" x=\"5332\" y=\"-997.3\" font-family=\"Helvetica,sans-Serif\" font-size=\"14.00\">gini = 0.0</text>\n<text text-anchor=\"start\" x=\"5319\" y=\"-982.3\" font-family=\"Helvetica,sans-Serif\" font-size=\"14.00\">samples = 25</text>\n<text text-anchor=\"start\" x=\"5302\" y=\"-967.3\" font-family=\"Helvetica,sans-Serif\" font-size=\"14.00\">value = [25, 0, 0, 0]</text>\n<text text-anchor=\"start\" x=\"5298.5\" y=\"-952.3\" font-family=\"Helvetica,sans-Serif\" font-size=\"14.00\">class = Neptune&#45;like</text>\n</g>\n<!-- 161&#45;&gt;162 -->\n<g id=\"edge162\" class=\"edge\">\n<title>161&#45;&gt;162</title>\n<path fill=\"none\" stroke=\"black\" d=\"M5360,-1055.91C5360,-1045.2 5360,-1033.62 5360,-1022.78\"/>\n<polygon fill=\"black\" stroke=\"black\" points=\"5363.5,-1022.67 5360,-1012.67 5356.5,-1022.67 5363.5,-1022.67\"/>\n</g>\n<!-- 163 -->\n<g id=\"node164\" class=\"node\">\n<title>163</title>\n<path fill=\"#99f191\" stroke=\"black\" d=\"M5600.5,-1020C5600.5,-1020 5459.5,-1020 5459.5,-1020 5453.5,-1020 5447.5,-1014 5447.5,-1008 5447.5,-1008 5447.5,-949 5447.5,-949 5447.5,-943 5453.5,-937 5459.5,-937 5459.5,-937 5600.5,-937 5600.5,-937 5606.5,-937 5612.5,-943 5612.5,-949 5612.5,-949 5612.5,-1008 5612.5,-1008 5612.5,-1014 5606.5,-1020 5600.5,-1020\"/>\n<text text-anchor=\"start\" x=\"5455.5\" y=\"-1004.8\" font-family=\"Helvetica,sans-Serif\" font-size=\"14.00\">mass_multiplier ≤ &#45;0.166</text>\n<text text-anchor=\"start\" x=\"5494.5\" y=\"-989.8\" font-family=\"Helvetica,sans-Serif\" font-size=\"14.00\">gini = 0.426</text>\n<text text-anchor=\"start\" x=\"5489\" y=\"-974.8\" font-family=\"Helvetica,sans-Serif\" font-size=\"14.00\">samples = 13</text>\n<text text-anchor=\"start\" x=\"5475.5\" y=\"-959.8\" font-family=\"Helvetica,sans-Serif\" font-size=\"14.00\">value = [4, 9, 0, 0]</text>\n<text text-anchor=\"start\" x=\"5475.5\" y=\"-944.8\" font-family=\"Helvetica,sans-Serif\" font-size=\"14.00\">class = Gas Giant</text>\n</g>\n<!-- 161&#45;&gt;163 -->\n<g id=\"edge163\" class=\"edge\">\n<title>161&#45;&gt;163</title>\n<path fill=\"none\" stroke=\"black\" d=\"M5418.98,-1055.91C5433.09,-1046.2 5448.26,-1035.76 5462.71,-1025.81\"/>\n<polygon fill=\"black\" stroke=\"black\" points=\"5464.87,-1028.57 5471.12,-1020.02 5460.9,-1022.81 5464.87,-1028.57\"/>\n</g>\n<!-- 164 -->\n<g id=\"node165\" class=\"node\">\n<title>164</title>\n<path fill=\"#47e539\" stroke=\"black\" d=\"M5505.5,-893.5C5505.5,-893.5 5404.5,-893.5 5404.5,-893.5 5398.5,-893.5 5392.5,-887.5 5392.5,-881.5 5392.5,-881.5 5392.5,-837.5 5392.5,-837.5 5392.5,-831.5 5398.5,-825.5 5404.5,-825.5 5404.5,-825.5 5505.5,-825.5 5505.5,-825.5 5511.5,-825.5 5517.5,-831.5 5517.5,-837.5 5517.5,-837.5 5517.5,-881.5 5517.5,-881.5 5517.5,-887.5 5511.5,-893.5 5505.5,-893.5\"/>\n<text text-anchor=\"start\" x=\"5427\" y=\"-878.3\" font-family=\"Helvetica,sans-Serif\" font-size=\"14.00\">gini = 0.0</text>\n<text text-anchor=\"start\" x=\"5417.5\" y=\"-863.3\" font-family=\"Helvetica,sans-Serif\" font-size=\"14.00\">samples = 9</text>\n<text text-anchor=\"start\" x=\"5400.5\" y=\"-848.3\" font-family=\"Helvetica,sans-Serif\" font-size=\"14.00\">value = [0, 9, 0, 0]</text>\n<text text-anchor=\"start\" x=\"5400.5\" y=\"-833.3\" font-family=\"Helvetica,sans-Serif\" font-size=\"14.00\">class = Gas Giant</text>\n</g>\n<!-- 163&#45;&gt;164 -->\n<g id=\"edge164\" class=\"edge\">\n<title>163&#45;&gt;164</title>\n<path fill=\"none\" stroke=\"black\" d=\"M5503.98,-936.91C5496.76,-925.65 5488.92,-913.42 5481.67,-902.11\"/>\n<polygon fill=\"black\" stroke=\"black\" points=\"5484.6,-900.2 5476.26,-893.67 5478.71,-903.97 5484.6,-900.2\"/>\n</g>\n<!-- 165 -->\n<g id=\"node166\" class=\"node\">\n<title>165</title>\n<path fill=\"#e58139\" stroke=\"black\" d=\"M5662.5,-893.5C5662.5,-893.5 5547.5,-893.5 5547.5,-893.5 5541.5,-893.5 5535.5,-887.5 5535.5,-881.5 5535.5,-881.5 5535.5,-837.5 5535.5,-837.5 5535.5,-831.5 5541.5,-825.5 5547.5,-825.5 5547.5,-825.5 5662.5,-825.5 5662.5,-825.5 5668.5,-825.5 5674.5,-831.5 5674.5,-837.5 5674.5,-837.5 5674.5,-881.5 5674.5,-881.5 5674.5,-887.5 5668.5,-893.5 5662.5,-893.5\"/>\n<text text-anchor=\"start\" x=\"5577\" y=\"-878.3\" font-family=\"Helvetica,sans-Serif\" font-size=\"14.00\">gini = 0.0</text>\n<text text-anchor=\"start\" x=\"5567.5\" y=\"-863.3\" font-family=\"Helvetica,sans-Serif\" font-size=\"14.00\">samples = 4</text>\n<text text-anchor=\"start\" x=\"5550.5\" y=\"-848.3\" font-family=\"Helvetica,sans-Serif\" font-size=\"14.00\">value = [4, 0, 0, 0]</text>\n<text text-anchor=\"start\" x=\"5543.5\" y=\"-833.3\" font-family=\"Helvetica,sans-Serif\" font-size=\"14.00\">class = Neptune&#45;like</text>\n</g>\n<!-- 163&#45;&gt;165 -->\n<g id=\"edge165\" class=\"edge\">\n<title>163&#45;&gt;165</title>\n<path fill=\"none\" stroke=\"black\" d=\"M5556.02,-936.91C5563.24,-925.65 5571.08,-913.42 5578.33,-902.11\"/>\n<polygon fill=\"black\" stroke=\"black\" points=\"5581.29,-903.97 5583.74,-893.67 5575.4,-900.2 5581.29,-903.97\"/>\n</g>\n</g>\n</svg>\n"
          },
          "metadata": {},
          "execution_count": 74
        }
      ]
    },
    {
      "cell_type": "code",
      "source": [
        "from sklearn.neighbors import KNeighborsClassifier\n",
        "from sklearn.naive_bayes import GaussianNB\n",
        "from sklearn.tree import DecisionTreeClassifier\n",
        "from sklearn.linear_model import LogisticRegression\n",
        "import datetime\n",
        "from sklearn.model_selection import cross_val_score"
      ],
      "metadata": {
        "id": "-HzjKvVaOMxN"
      },
      "execution_count": null,
      "outputs": []
    },
    {
      "cell_type": "code",
      "source": [
        "models = [\n",
        "    LogisticRegression(max_iter=200),\n",
        "    KNeighborsClassifier(),\n",
        "    GaussianNB(),\n",
        "    DecisionTreeClassifier()\n",
        "]\n",
        "CV = 20\n",
        "entries = []\n",
        "i=0\n",
        "for model in models:\n",
        "    scores_train = []\n",
        "    scores_test = []\n",
        "    times = []\n",
        "    abs_scores = []\n",
        "    for j in range(CV):\n",
        "        t1 = datetime.datetime.now()\n",
        "        model_name = model.__class__.__name__\n",
        "        model.fit(X_train,y_train)\n",
        "        t2 = datetime.datetime.now()\n",
        "        d = round((t2 - t1).microseconds/1000,1)\n",
        "        score_train = model.score(X_train,y_train)\n",
        "        score_test = model.score(X_test,y_test)\n",
        "        abs_score = abs(score_train - score_test)\n",
        "\n",
        "        scores_train.append(score_train)\n",
        "        scores_test.append(score_test)\n",
        "        abs_scores.append(abs_score)\n",
        "        times.append(d)\n",
        "\n",
        "    print(model.__class__.__name__, scores_test)\n",
        "    entries.append([model_name, np.array(scores_train).mean(),\n",
        "                    np.array(scores_test).mean(), np.array(abs_scores).mean(),\n",
        "                    np.array(times).mean()])\n",
        "    i += 1\n",
        "cv_df = pd.DataFrame(entries,\n",
        "                     columns=['model_name', 'score_train_mean',\n",
        "                              'score_test_mean', 'abs|score|', 'time_mean'])"
      ],
      "metadata": {
        "colab": {
          "base_uri": "https://localhost:8080/"
        },
        "id": "XVa_uu0ZOMt8",
        "outputId": "6011cfb5-f7d7-4a2a-d869-1ba2be7021a3"
      },
      "execution_count": null,
      "outputs": [
        {
          "output_type": "stream",
          "name": "stdout",
          "text": [
            "LogisticRegression [0.9552447552447553, 0.9552447552447553, 0.9552447552447553, 0.9552447552447553, 0.9552447552447553, 0.9552447552447553, 0.9552447552447553, 0.9552447552447553, 0.9552447552447553, 0.9552447552447553, 0.9552447552447553, 0.9552447552447553, 0.9552447552447553, 0.9552447552447553, 0.9552447552447553, 0.9552447552447553, 0.9552447552447553, 0.9552447552447553, 0.9552447552447553, 0.9552447552447553]\n",
            "KNeighborsClassifier [0.9447552447552447, 0.9447552447552447, 0.9447552447552447, 0.9447552447552447, 0.9447552447552447, 0.9447552447552447, 0.9447552447552447, 0.9447552447552447, 0.9447552447552447, 0.9447552447552447, 0.9447552447552447, 0.9447552447552447, 0.9447552447552447, 0.9447552447552447, 0.9447552447552447, 0.9447552447552447, 0.9447552447552447, 0.9447552447552447, 0.9447552447552447, 0.9447552447552447]\n",
            "GaussianNB [0.8902097902097902, 0.8902097902097902, 0.8902097902097902, 0.8902097902097902, 0.8902097902097902, 0.8902097902097902, 0.8902097902097902, 0.8902097902097902, 0.8902097902097902, 0.8902097902097902, 0.8902097902097902, 0.8902097902097902, 0.8902097902097902, 0.8902097902097902, 0.8902097902097902, 0.8902097902097902, 0.8902097902097902, 0.8902097902097902, 0.8902097902097902, 0.8902097902097902]\n",
            "DecisionTreeClassifier [0.9734265734265735, 0.9748251748251748, 0.9748251748251748, 0.9755244755244755, 0.9769230769230769, 0.9741258741258741, 0.9769230769230769, 0.9748251748251748, 0.9769230769230769, 0.9755244755244755, 0.9734265734265735, 0.9734265734265735, 0.9755244755244755, 0.9748251748251748, 0.9762237762237762, 0.9755244755244755, 0.9741258741258741, 0.9762237762237762, 0.9748251748251748, 0.9748251748251748]\n"
          ]
        }
      ]
    },
    {
      "cell_type": "code",
      "source": [
        "cv_df"
      ],
      "metadata": {
        "colab": {
          "base_uri": "https://localhost:8080/",
          "height": 175
        },
        "id": "8dKqvYh6z_jk",
        "outputId": "a1687788-ae17-4495-eac1-a2464f7ba888"
      },
      "execution_count": null,
      "outputs": [
        {
          "output_type": "execute_result",
          "data": {
            "text/plain": [
              "               model_name  score_train_mean  score_test_mean  abs|score|  \\\n",
              "0      LogisticRegression          0.958021         0.955245    0.002776   \n",
              "1    KNeighborsClassifier          0.967316         0.944755    0.022561   \n",
              "2              GaussianNB          0.884858         0.890210    0.005352   \n",
              "3  DecisionTreeClassifier          1.000000         0.975140    0.024860   \n",
              "\n",
              "   time_mean  \n",
              "0    396.940  \n",
              "1     22.425  \n",
              "2      6.175  \n",
              "3     16.200  "
            ],
            "text/html": [
              "\n",
              "  <div id=\"df-e3a8e8c1-6193-4af9-ad40-81048a4dedcb\">\n",
              "    <div class=\"colab-df-container\">\n",
              "      <div>\n",
              "<style scoped>\n",
              "    .dataframe tbody tr th:only-of-type {\n",
              "        vertical-align: middle;\n",
              "    }\n",
              "\n",
              "    .dataframe tbody tr th {\n",
              "        vertical-align: top;\n",
              "    }\n",
              "\n",
              "    .dataframe thead th {\n",
              "        text-align: right;\n",
              "    }\n",
              "</style>\n",
              "<table border=\"1\" class=\"dataframe\">\n",
              "  <thead>\n",
              "    <tr style=\"text-align: right;\">\n",
              "      <th></th>\n",
              "      <th>model_name</th>\n",
              "      <th>score_train_mean</th>\n",
              "      <th>score_test_mean</th>\n",
              "      <th>abs|score|</th>\n",
              "      <th>time_mean</th>\n",
              "    </tr>\n",
              "  </thead>\n",
              "  <tbody>\n",
              "    <tr>\n",
              "      <th>0</th>\n",
              "      <td>LogisticRegression</td>\n",
              "      <td>0.958021</td>\n",
              "      <td>0.955245</td>\n",
              "      <td>0.002776</td>\n",
              "      <td>396.940</td>\n",
              "    </tr>\n",
              "    <tr>\n",
              "      <th>1</th>\n",
              "      <td>KNeighborsClassifier</td>\n",
              "      <td>0.967316</td>\n",
              "      <td>0.944755</td>\n",
              "      <td>0.022561</td>\n",
              "      <td>22.425</td>\n",
              "    </tr>\n",
              "    <tr>\n",
              "      <th>2</th>\n",
              "      <td>GaussianNB</td>\n",
              "      <td>0.884858</td>\n",
              "      <td>0.890210</td>\n",
              "      <td>0.005352</td>\n",
              "      <td>6.175</td>\n",
              "    </tr>\n",
              "    <tr>\n",
              "      <th>3</th>\n",
              "      <td>DecisionTreeClassifier</td>\n",
              "      <td>1.000000</td>\n",
              "      <td>0.975140</td>\n",
              "      <td>0.024860</td>\n",
              "      <td>16.200</td>\n",
              "    </tr>\n",
              "  </tbody>\n",
              "</table>\n",
              "</div>\n",
              "      <button class=\"colab-df-convert\" onclick=\"convertToInteractive('df-e3a8e8c1-6193-4af9-ad40-81048a4dedcb')\"\n",
              "              title=\"Convert this dataframe to an interactive table.\"\n",
              "              style=\"display:none;\">\n",
              "        \n",
              "  <svg xmlns=\"http://www.w3.org/2000/svg\" height=\"24px\"viewBox=\"0 0 24 24\"\n",
              "       width=\"24px\">\n",
              "    <path d=\"M0 0h24v24H0V0z\" fill=\"none\"/>\n",
              "    <path d=\"M18.56 5.44l.94 2.06.94-2.06 2.06-.94-2.06-.94-.94-2.06-.94 2.06-2.06.94zm-11 1L8.5 8.5l.94-2.06 2.06-.94-2.06-.94L8.5 2.5l-.94 2.06-2.06.94zm10 10l.94 2.06.94-2.06 2.06-.94-2.06-.94-.94-2.06-.94 2.06-2.06.94z\"/><path d=\"M17.41 7.96l-1.37-1.37c-.4-.4-.92-.59-1.43-.59-.52 0-1.04.2-1.43.59L10.3 9.45l-7.72 7.72c-.78.78-.78 2.05 0 2.83L4 21.41c.39.39.9.59 1.41.59.51 0 1.02-.2 1.41-.59l7.78-7.78 2.81-2.81c.8-.78.8-2.07 0-2.86zM5.41 20L4 18.59l7.72-7.72 1.47 1.35L5.41 20z\"/>\n",
              "  </svg>\n",
              "      </button>\n",
              "      \n",
              "  <style>\n",
              "    .colab-df-container {\n",
              "      display:flex;\n",
              "      flex-wrap:wrap;\n",
              "      gap: 12px;\n",
              "    }\n",
              "\n",
              "    .colab-df-convert {\n",
              "      background-color: #E8F0FE;\n",
              "      border: none;\n",
              "      border-radius: 50%;\n",
              "      cursor: pointer;\n",
              "      display: none;\n",
              "      fill: #1967D2;\n",
              "      height: 32px;\n",
              "      padding: 0 0 0 0;\n",
              "      width: 32px;\n",
              "    }\n",
              "\n",
              "    .colab-df-convert:hover {\n",
              "      background-color: #E2EBFA;\n",
              "      box-shadow: 0px 1px 2px rgba(60, 64, 67, 0.3), 0px 1px 3px 1px rgba(60, 64, 67, 0.15);\n",
              "      fill: #174EA6;\n",
              "    }\n",
              "\n",
              "    [theme=dark] .colab-df-convert {\n",
              "      background-color: #3B4455;\n",
              "      fill: #D2E3FC;\n",
              "    }\n",
              "\n",
              "    [theme=dark] .colab-df-convert:hover {\n",
              "      background-color: #434B5C;\n",
              "      box-shadow: 0px 1px 3px 1px rgba(0, 0, 0, 0.15);\n",
              "      filter: drop-shadow(0px 1px 2px rgba(0, 0, 0, 0.3));\n",
              "      fill: #FFFFFF;\n",
              "    }\n",
              "  </style>\n",
              "\n",
              "      <script>\n",
              "        const buttonEl =\n",
              "          document.querySelector('#df-e3a8e8c1-6193-4af9-ad40-81048a4dedcb button.colab-df-convert');\n",
              "        buttonEl.style.display =\n",
              "          google.colab.kernel.accessAllowed ? 'block' : 'none';\n",
              "\n",
              "        async function convertToInteractive(key) {\n",
              "          const element = document.querySelector('#df-e3a8e8c1-6193-4af9-ad40-81048a4dedcb');\n",
              "          const dataTable =\n",
              "            await google.colab.kernel.invokeFunction('convertToInteractive',\n",
              "                                                     [key], {});\n",
              "          if (!dataTable) return;\n",
              "\n",
              "          const docLinkHtml = 'Like what you see? Visit the ' +\n",
              "            '<a target=\"_blank\" href=https://colab.research.google.com/notebooks/data_table.ipynb>data table notebook</a>'\n",
              "            + ' to learn more about interactive tables.';\n",
              "          element.innerHTML = '';\n",
              "          dataTable['output_type'] = 'display_data';\n",
              "          await google.colab.output.renderOutput(dataTable, element);\n",
              "          const docLink = document.createElement('div');\n",
              "          docLink.innerHTML = docLinkHtml;\n",
              "          element.appendChild(docLink);\n",
              "        }\n",
              "      </script>\n",
              "    </div>\n",
              "  </div>\n",
              "  "
            ]
          },
          "metadata": {},
          "execution_count": 77
        }
      ]
    },
    {
      "cell_type": "markdown",
      "source": [
        "**Cross-validation:**\n",
        "- Dùng mô hình GNB sẽ đỡ tốn thời gian hơn nhưng điểm xác thực thấp nhất.\n",
        "- LR thì quá mất thời gian.\n",
        "- KNN và Decision có điểm xác thực asb|score| xấp xỉ, nhưng Decision Tree nhanh hơn.\n"
      ],
      "metadata": {
        "id": "vE0H8fvgPdBh"
      }
    },
    {
      "cell_type": "markdown",
      "source": [
        "**Conclusion:**\n",
        "- Trong việc phân loại các loại hành tinh trong tương lai, việc sử dụng mô hình Decision Tree sẽ cho ra kết quả gần đúng nhất và hiệu quả nhất.\n",
        "- Và việc sử dụng Decision Tree thì dễ dàng phân loại đúng ra loại hành tinh Gas Giants và Terrestrial.\n",
        "- Để có thể phân loại đúng loại hành tinh Neptune-like và Super Earth thì nên có thêm nhiều các data khác về đặc điểm điển hình của các loại hành tinh này."
      ],
      "metadata": {
        "id": "CvMTJ3JkPX2N"
      }
    }
  ]
}